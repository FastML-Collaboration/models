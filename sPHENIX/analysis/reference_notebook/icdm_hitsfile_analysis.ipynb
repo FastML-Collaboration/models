{
    "cells": [
     {
      "cell_type": "code",
      "execution_count": 1,
      "metadata": {},
      "outputs": [],
      "source": [
       "import numpy as np\n",
       "import os\n",
       "import matplotlib.pyplot as plt\n",
       "from matplotlib.pyplot import figure"
      ]
     },
     {
      "cell_type": "code",
      "execution_count": 70,
      "metadata": {},
      "outputs": [],
      "source": [
       "# hit-file loader\n",
       "def load_hit_graph(file):\n",
       "    with np.load(file, allow_pickle=True) as f:\n",
       "        # print(list(f.keys()))\n",
       "        hits = f['hits']\n",
       "        scaled_hits = f['scaled_hits']\n",
       "        hits_xyz = f['hits_xyz']\n",
       "        noise_label = f['noise_label']\n",
       "        layer_id = f['layer_id']\n",
       "        edge_index = f['edge_index']\n",
       "        pid = f['pid']\n",
       "        n_hits = f['n_hits']\n",
       "        n_tracks =f ['n_tracks']\n",
       "        trigger_flag = f['trigger']\n",
       "        ip = f['ip']\n",
       "        psv = f['psv'] # secondary vertex\n",
       "        p_momentum = f['p_momentum']\n",
       "        e = f['e']\n",
       "    return hits, scaled_hits, hits_xyz, noise_label, layer_id, edge_index, pid, n_hits, n_tracks, trigger_flag, ip, psv, p_momentum, e\n"
      ]
     },
     {
      "cell_type": "code",
      "execution_count": 3,
      "metadata": {},
      "outputs": [],
      "source": [
       "def get_distance(x, y):\n",
       "    return np.sqrt(np.sum((x - y) ** 2))\n",
       "    \n",
       "def rule_always_true(track, ip):\n",
       "    return track['TrackID'] != -1\n",
       "\n",
       "def rule1(track, ip):\n",
       "    return track['TrackID'] > 0\n",
       "\n",
       "def rule2(track, ip):\n",
       "    momentum = track['TrackMomentum']\n",
       "    return track['TrackID'] > 0 and momentum[0] ** 2 + momentum[1] ** 2 >= 0.04\n",
       "\n",
       "def rule3(track, ip):\n",
       "    momentum = track['TrackMomentum']\n",
       "    track_origin = track['OriginVertexPoint']\n",
       "    d = get_distance(track_origin, ip)\n",
       "    return track['TrackID'] > 0 and momentum[0] ** 2 + momentum[1] ** 2 >= 0.04 and d > 0.00001 and d < 1"
      ]
     },
     {
      "cell_type": "code",
      "execution_count": 39,
      "metadata": {},
      "outputs": [],
      "source": [
       "type = '/trigger'\n",
       "n_files = 100\n",
       "\n",
       "hits_input_dir = '/home1/tingtingxuan/Data/tracking_inference_INTTclustered' + type\n",
       "filenames = sorted([os.path.join(hits_input_dir, f) for f in os.listdir(hits_input_dir) if f.startswith('event')])[:n_files]"
      ]
     },
     {
      "cell_type": "code",
      "execution_count": 5,
      "metadata": {},
      "outputs": [],
      "source": [
       "file_index = 0\n",
       "filename = filenames[file_index]"
      ]
     },
     {
      "cell_type": "code",
      "execution_count": 6,
      "metadata": {},
      "outputs": [
       {
        "name": "stdout",
        "output_type": "stream",
        "text": [
         "['hits', 'scaled_hits', 'hits_xyz', 'noise_label', 'layer_id', 'edge_index', 'pid', 'n_hits', 'n_tracks', 'trigger', 'ip', 'psv', 'p_momentum', 'e']\n"
        ]
       }
      ],
      "source": [
       "hits, scaled_hits, hits_xyz, noise_label, layer_id, edge_index, pid, n_hits, n_tracks, trigger_flag, ip, psv, p_momentum, e = load_hit_graph(filename)"
      ]
     },
     {
      "cell_type": "code",
      "execution_count": 8,
      "metadata": {},
      "outputs": [
       {
        "name": "stdout",
        "output_type": "stream",
        "text": [
         "{35, 36, 37, 6, 4, 8, 9, 42, 11, 10, 47, 48, 30, -902, -1, 31}\n"
        ]
       }
      ],
      "source": [
       "pid_set = set(pid)\n",
       "print(pid_set)"
      ]
     },
     {
      "cell_type": "code",
      "execution_count": 20,
      "metadata": {},
      "outputs": [],
      "source": [
       "def calc_dphi(phi1, phi2):\n",
       "    \"\"\"Computes phi2-phi1 given in range [-pi,pi]\"\"\"\n",
       "    dphi = phi2 - phi1\n",
       "    dphi[dphi > np.pi] -= 2*np.pi\n",
       "    dphi[dphi < -np.pi] += 2*np.pi\n",
       "    return dphi\n",
       "def select_segments(hits1, hits2, phi_slope_max, z0_max, all=False):\n",
       "    \"\"\"\n",
       "    Construct a list of selected segments from the pairings\n",
       "    between hits1 and hits2, filtered with the specified\n",
       "    phi slope and z0 criteria.\n",
       "\n",
       "    Returns: pd DataFrame of (index_1, index_2), corresponding to the\n",
       "    DataFrame hit label-indices in hits1 and hits2, respectively.\n",
       "    \"\"\"\n",
       "    # Start with all possible pairs of hits\n",
       "    keys = ['evtid', 'r', 'phi', 'z']\n",
       "    hit_pairs = hits1[keys].reset_index().merge(\n",
       "        hits2[keys].reset_index(), on='evtid', suffixes=('_1', '_2'))\n",
       "    if all:\n",
       "        return hit_pairs[['index_1', 'index_2']]\n",
       "    # Compute line through the points\n",
       "    dphi = calc_dphi(hit_pairs.phi_1, hit_pairs.phi_2)\n",
       "    dz = hit_pairs.z_2 - hit_pairs.z_1\n",
       "    dr = hit_pairs.r_2 - hit_pairs.r_1\n",
       "    phi_slope = dphi / dr\n",
       "    z0 = hit_pairs.z_1 - hit_pairs.r_1 * dz / dr\n",
       "    # Filter segments according to criteria\n",
       "    good_seg_mask = (phi_slope.abs() < phi_slope_max) & (z0.abs() < z0_max)\n",
       "    return hit_pairs[['index_1', 'index_2']][good_seg_mask]"
      ]
     },
     {
      "cell_type": "code",
      "execution_count": 29,
      "metadata": {},
      "outputs": [],
      "source": [
       "import pandas as pd\n",
       "from icecream import ic"
      ]
     },
     {
      "cell_type": "code",
      "execution_count": 15,
      "metadata": {},
      "outputs": [],
      "source": [
       "hits_list = []\n",
       "for i in range(hits_xyz.shape[0]):\n",
       "    hit = {}\n",
       "    hit['x'], hit['y'], hit['z'] = hits_xyz[i, :]\n",
       "    hit['pid'] = pid[i]\n",
       "    hit['layer_id'] = layer_id[i]\n",
       "    hit['evtid'] = 0\n",
       "    hits_list.append(hit)\n",
       "hits_df=pd.DataFrame(hits_list)\n"
      ]
     },
     {
      "cell_type": "code",
      "execution_count": 18,
      "metadata": {},
      "outputs": [],
      "source": [
       "r = np.sqrt(hits_df.x**2 + hits_df.y**2)\n",
       "phi = np.arctan2(hits_df.y, hits_df.x)\n",
       "hits_df = hits_df.assign(r=r, phi=phi)\n",
       "\n",
       "layer_pairs = np.array([(0,1), (1,2), (2,3), (4,5), (2,4), (3,5), (3,6), (4,6)])\n",
       "layer_groups = hits_df.groupby('layer_id')\n",
       "segments = []\n",
       "for (layer1, layer2) in layer_pairs:\n",
       "    # Find and join all hit pairs\n",
       "    try:\n",
       "        hits1 = layer_groups.get_group(layer1)\n",
       "        hits2 = layer_groups.get_group(layer2)\n",
       "    # If an event has no hits on a layer, we get a KeyError.\n",
       "    # In that case we just skip to the next layer pair\n",
       "    except KeyError as e:\n",
       "        print('skipping empty layer: %s' % e)\n",
       "        continue\n",
       "    # Construct the segments\n",
       "    segments.append(select_segments(hits1, hits2, phi_slope_max=0.03, z0_max=200))\n",
       "# Combine segments from all layer pairs\n",
       "try:\n",
       "    segments = pd.concat(segments)\n",
       "except:\n",
       "    print(\"can't do concatenate!\", filename)\n",
       "\n",
       "edge_index = np.transpose(np.array(segments))\n"
      ]
     },
     {
      "cell_type": "code",
      "execution_count": 26,
      "metadata": {},
      "outputs": [],
      "source": [
       "def get_edge_index(hits_df, threshold):\n",
       "    layer_pairs = np.array([(0,1), (1,2), (2,3), (4,5), (2,4), (3,5), (3,6), (4,6)])\n",
       "    layer_groups = hits_df.groupby('layer_id')\n",
       "    segments = []\n",
       "    for (layer1, layer2) in layer_pairs:\n",
       "        # Find and join all hit pairs\n",
       "        try:\n",
       "            hits1 = layer_groups.get_group(layer1)\n",
       "            hits2 = layer_groups.get_group(layer2)\n",
       "        # If an event has no hits on a layer, we get a KeyError.\n",
       "        # In that case we just skip to the next layer pair\n",
       "        except KeyError as e:\n",
       "            print('skipping empty layer: %s' % e)\n",
       "            continue\n",
       "        # Construct the segments\n",
       "        segments.append(select_segments(hits1, hits2, phi_slope_max=threshold, z0_max=200))\n",
       "    # Combine segments from all layer pairs\n",
       "    try:\n",
       "        segments = pd.concat(segments)\n",
       "    except:\n",
       "        print(\"can't do concatenate!\", filename)\n",
       "\n",
       "    edge_index = np.transpose(np.array(segments))\n",
       "    return edge_index"
      ]
     },
     {
      "cell_type": "code",
      "execution_count": 86,
      "metadata": {},
      "outputs": [],
      "source": [
       "def get_confusion_matrix_for_one_event_with_threshold(filename, threshold):\n",
       "    hits, scaled_hits, hits_xyz, noise_label, layer_id, edge_index, pid, n_hits, n_tracks, trigger_flag, ip, psv, p_momentum, e = load_hit_graph(filename)\n",
       "    hits_list = []\n",
       "    for i in range(hits_xyz.shape[0]):\n",
       "        hit = {}\n",
       "        hit['x'], hit['y'], hit['z'] = hits_xyz[i, :]\n",
       "        hit['pid'] = pid[i]\n",
       "        hit['layer_id'] = layer_id[i]\n",
       "        hit['evtid'] = 0\n",
       "        hits_list.append(hit)\n",
       "    hits_df=pd.DataFrame(hits_list)\n",
       "    r = np.sqrt(hits_df.x**2 + hits_df.y**2)\n",
       "    phi = np.arctan2(hits_df.y, hits_df.x)\n",
       "    hits_df = hits_df.assign(r=r, phi=phi)\n",
       "\n",
       "    # for id in set(hits_df['pid']):\n",
       "    #     print(id, hits_df[hits_df['pid'] == id].shape)\n",
       "    \n",
       "    edge_index = get_edge_index(hits_df, threshold)\n",
       "    \n",
       "    start, end = edge_index\n",
       "    n_edge = edge_index.shape[1]\n",
       "    momentum_mask = [m is not None and m[0] ** 2 + m[1] ** 2 > 0.04 for m in p_momentum[start]]\n",
       "    tp = np.sum(np.logical_and(np.logical_and(pid[start]>0, pid[start] == pid[end]), momentum_mask))\n",
       "\n",
       "    all_edge_index = get_edge_index(hits_df, threshold=10)\n",
       "    start, end = all_edge_index\n",
       "    momentum_mask = [m is not None and m[0] ** 2 + m[1] ** 2 > 0.04 for m in p_momentum[start]]\n",
       "    ap = np.sum(np.logical_and(np.logical_and(pid[start]>0, pid[start] == pid[end]), momentum_mask))\n",
       "\n",
       "    return tp, ap, n_edge\n",
       "\n"
      ]
     },
     {
      "cell_type": "code",
      "execution_count": 87,
      "metadata": {},
      "outputs": [
       {
        "name": "stderr",
        "output_type": "stream",
        "text": [
         "ic| tp: 17, ap: 17, n_edge: 19\n"
        ]
       },
       {
        "data": {
         "text/plain": [
          "(17, 17, 19)"
         ]
        },
        "execution_count": 87,
        "metadata": {},
        "output_type": "execute_result"
       }
      ],
      "source": [
       "tp, ap, n_edge = get_confusion_matrix_for_one_event_with_threshold(filenames[8], 0.03)\n",
       "ic(tp, ap, n_edge)"
      ]
     },
     {
      "cell_type": "code",
      "execution_count": 89,
      "metadata": {},
      "outputs": [],
      "source": [
       "def get_recall_precision_of_edges(threshold):\n",
       "    recall = []\n",
       "    precision = []\n",
       "    for file in filenames:\n",
       "        tp, ap, n_edge = get_confusion_matrix_for_one_event_with_threshold(file, threshold)\n",
       "        recall.append(tp/ap)\n",
       "        precision.append(tp/n_edge)\n",
       "    return np.mean(recall), np.mean(precision)"
      ]
     },
     {
      "cell_type": "code",
      "execution_count": 96,
      "metadata": {},
      "outputs": [
       {
        "name": "stdout",
        "output_type": "stream",
        "text": [
         "skipping empty layer: 4\n",
         "skipping empty layer: 4\n",
         "skipping empty layer: 4\n",
         "skipping empty layer: 4\n",
         "skipping empty layer: 4\n",
         "skipping empty layer: 4\n",
         "skipping empty layer: 4\n",
         "skipping empty layer: 4\n",
         "skipping empty layer: 4\n",
         "skipping empty layer: 4\n",
         "skipping empty layer: 4\n",
         "skipping empty layer: 4\n",
         "skipping empty layer: 4\n",
         "skipping empty layer: 4\n",
         "skipping empty layer: 4\n",
         "skipping empty layer: 4\n",
         "skipping empty layer: 4\n",
         "skipping empty layer: 4\n",
         "skipping empty layer: 4\n",
         "skipping empty layer: 4\n",
         "skipping empty layer: 4\n",
         "skipping empty layer: 4\n",
         "skipping empty layer: 4\n",
         "skipping empty layer: 4\n",
         "skipping empty layer: 4\n",
         "skipping empty layer: 4\n",
         "skipping empty layer: 4\n",
         "skipping empty layer: 4\n",
         "skipping empty layer: 4\n",
         "skipping empty layer: 4\n",
         "skipping empty layer: 4\n",
         "skipping empty layer: 4\n",
         "skipping empty layer: 4\n",
         "skipping empty layer: 4\n",
         "skipping empty layer: 4\n",
         "skipping empty layer: 4\n",
         "skipping empty layer: 4\n",
         "skipping empty layer: 4\n",
         "skipping empty layer: 4\n",
         "skipping empty layer: 4\n",
         "skipping empty layer: 4\n",
         "skipping empty layer: 4\n",
         "skipping empty layer: 4\n",
         "skipping empty layer: 4\n",
         "skipping empty layer: 4\n",
         "skipping empty layer: 4\n",
         "skipping empty layer: 4\n",
         "skipping empty layer: 4\n",
         "skipping empty layer: 4\n",
         "skipping empty layer: 4\n",
         "skipping empty layer: 4\n",
         "skipping empty layer: 4\n",
         "skipping empty layer: 4\n",
         "skipping empty layer: 4\n",
         "skipping empty layer: 4\n",
         "skipping empty layer: 4\n",
         "skipping empty layer: 4\n",
         "skipping empty layer: 4\n",
         "skipping empty layer: 4\n",
         "skipping empty layer: 4\n"
        ]
       }
      ],
      "source": [
       "recalls = []\n",
       "precisions = []\n",
       "for threshold in np.arange(0.01, 0.11, 0.01):\n",
       "    recall, precision = get_recall_precision_of_edges(threshold)\n",
       "    recalls.append(recall)\n",
       "    precisions.append(precision)"
      ]
     },
     {
      "cell_type": "code",
      "execution_count": 116,
      "metadata": {},
      "outputs": [
       {
        "data": {
         "image/png": "[encoded data removed]",
         "text/plain": [
          "<Figure size 432x288 with 1 Axes>"
         ]
        },
        "metadata": {
         "needs_background": "light"
        },
        "output_type": "display_data"
       }
      ],
      "source": [
       "# fig, axs = plt.subplots(1, 2, figsize=(16,4))\n",
       "thresholds = list(np.arange(0.01, 0.11, 0.01))\n",
       "plt.plot(thresholds, precisions, label='precision')\n",
       "plt.plot(thresholds, recalls, label='recall')\n",
       "plt.axvline(x=0.03, c='r', linestyle='--')\n",
       "plt.xlabel('Threshold')\n",
       "plt.ylabel('Rate')\n",
       "plt.legend()\n",
       "plt.savefig('/home1/tingtingxuan/physics-trigger-graph-level-prediction/analysis/plots/threshold')"
      ]
     },
     {
      "cell_type": "code",
      "execution_count": null,
      "metadata": {},
      "outputs": [],
      "source": []
     }
    ],
    "metadata": {
     "interpreter": {
      "hash": "03ca6a50b752edba9a34d5783ddc5b2d6b7cf0ebaad7b34aec90b5ffba5acaaf"
     },
     "kernelspec": {
      "display_name": "Python 3.8.12 ('pytorch-cuda')",
      "language": "python",
      "name": "python3"
     },
     "language_info": {
      "codemirror_mode": {
       "name": "ipython",
       "version": 3
      },
      "file_extension": ".py",
      "mimetype": "text/x-python",
      "name": "python",
      "nbconvert_exporter": "python",
      "pygments_lexer": "ipython3",
      "version": "3.8.12"
     },
     "orig_nbformat": 4
    },
    "nbformat": 4,
    "nbformat_minor": 2
   }
   