{
 "cells": [
  {
   "cell_type": "code",
   "execution_count": 1,
   "id": "e5e07f95",
   "metadata": {},
   "outputs": [
    {
     "name": "stdout",
     "output_type": "stream",
     "text": [
      "/home1/giorgian/projects/trigger-detection-pipeline/sPHENIX/trigger-detection/BGN-ST\n"
     ]
    },
    {
     "name": "stderr",
     "output_type": "stream",
     "text": [
      "/home1/giorgian/anaconda3/envs/jupyter/lib/python3.12/site-packages/IPython/core/magics/osm.py:417: UserWarning: This is now an optional IPython functionality, setting dhist requires you to install the `pickleshare` library.\n",
      "  self.shell.db['dhist'] = compress_dhist(dhist)[-100:]\n"
     ]
    }
   ],
   "source": [
    "%cd /home1/giorgian/projects/trigger-detection-pipeline/sPHENIX/trigger-detection/BGN-ST"
   ]
  },
  {
   "cell_type": "code",
   "execution_count": 2,
   "id": "ac12ae7b",
   "metadata": {},
   "outputs": [],
   "source": [
    "import torch\n",
    "import pickle\n",
    "import dataloaders\n",
    "import matplotlib.pyplot as plt\n",
    "from utils.log import load_checkpoint\n",
    "from collections import defaultdict\n",
    "from itertools import islice\n",
    "from tqdm.notebook import tqdm\n",
    "from models.Bipartite_Attention_Old import Bipartite_Attention as Model\n",
    "import matplotlib as mpl\n",
    "import torch.nn as nn\n",
    "import numpy as np\n",
    "import random\n",
    "import torch.nn.functional as F\n",
    "from sklearn.metrics import roc_curve, roc_auc_score\n",
    "plt.style.use('ggplot')"
   ]
  },
  {
   "cell_type": "code",
   "execution_count": 3,
   "id": "2db4181a",
   "metadata": {},
   "outputs": [],
   "source": [
    "from importlib import reload"
   ]
  },
  {
   "cell_type": "code",
   "execution_count": 4,
   "id": "8f3d0ff6",
   "metadata": {},
   "outputs": [],
   "source": [
    "#config_file_path = 'train_results/biatt-augment-adj/experiment_2024-11-11_07:20:02/config.pkl'\n",
    "#config_file_path = '/disks/disk1/giorgian/old-trainings/biatt-augment-adj/experiment_2023-06-13_10:12:01/config.pkl'\n",
    "#config_file_path = '/disks/disk1/giorgian/old-trainings/biatt-augment-adj/experiment_2023-08-03_21:42:12/config.pkl'\n",
    "#config_file_path = '/disks/disk1/giorgian/old-trainings/train_results/biatt-augment-adj/experiment_2025-05-02_07:27:14/config.pkl'\n",
    "#config_file_path = '/disks/disk1/giorgian/old-trainings/train_results/biatt-augment-adj/experiment_2025-05-16_05:52:22/config.pkl'\n",
    "config_file_path = '/disks/disk1/giorgian/old-trainings/train_results/biatt-augment-adj/experiment_2025-05-19_14:23:56/config.pkl'\n",
    "with open(config_file_path, 'rb') as f:\n",
    "    config = pickle.load(f)"
   ]
  },
  {
   "cell_type": "code",
   "execution_count": 25,
   "id": "c36a857c-6510-4870-a347-0f71645cd0c9",
   "metadata": {},
   "outputs": [],
   "source": [
    "config_file_path = '/disks/disk1/giorgian/old-trainings/train_results/biatt-augment-adj/experiment_2025-05-19_14:23:56/config.pkl'\n",
    "with open(config_file_path, 'rb') as f:\n",
    "    config = pickle.load(f)\n",
    "dconfig = {k:v for k, v in config['data'].items()}\n",
    "\n",
    "dconfig['name'] = 'tracks'\n",
    "dconfig['n_train'] = 72//2\n",
    "dconfig['n_valid'] = 72//2\n",
    "dconfig['n_test'] = 0\n",
    "dconfig['trigger_input_dir'] =  '/home1/giorgian/real-data/parsed-tracks/trigger/events/'\n",
    "dconfig['nontrigger_input_dir'] =  '/home1/giorgian/real-data/parsed-tracks/nontrigger/events/'\n",
    "dconfig['batch_size'] = 1\n",
    "#dconfig['load_complete_graph'] = False\n",
    "dconfig['drop_nontrigger_percentage'] = 0\n",
    "#del dconfig['add_geo_features'], dconfig['load_complete_graph'], dconfig['use_physics_pred']\n",
    "#\n",
    "train_data, val_data, test_data = dataloaders.get_data_loaders(**dconfig)\n"
   ]
  },
  {
   "cell_type": "code",
   "execution_count": 6,
   "id": "dec12a55-5184-495e-9944-729c62fade9b",
   "metadata": {},
   "outputs": [
    {
     "data": {
      "text/plain": [
       "{'aggregator_activation': 'softmax',\n",
       " 'bn': False,\n",
       " 'hidden_activation': 'PReLU',\n",
       " 'ln': True,\n",
       " 'num_classes': 2,\n",
       " 'num_features': 37,\n",
       " 'recalculate_hits_mean': True,\n",
       " 'self_split': False,\n",
       " 'layers_spec': [[64, 16], [64, 16], [64, 16]]}"
      ]
     },
     "execution_count": 6,
     "metadata": {},
     "output_type": "execute_result"
    }
   ],
   "source": [
    "config['model']"
   ]
  },
  {
   "cell_type": "code",
   "execution_count": 45,
   "id": "a46c9954",
   "metadata": {
    "scrolled": true
   },
   "outputs": [
    {
     "name": "stderr",
     "output_type": "stream",
     "text": [
      "/home1/giorgian/projects/trigger-detection-pipeline/sPHENIX/trigger-detection/BGN-ST/utils/log.py:28: FutureWarning: You are using `torch.load` with `weights_only=False` (the current default value), which uses the default pickle module implicitly. It is possible to construct malicious pickle data which will execute arbitrary code during unpickling (See https://github.com/pytorch/pytorch/blob/main/SECURITY.md#untrusted-models for more details). In a future release, the default value for `weights_only` will be flipped to `True`. This limits the functions that could be executed during unpickling. Arbitrary objects will no longer be allowed to be loaded via this mode unless they are explicitly allowlisted by the user via `torch.serialization.add_safe_globals`. We recommend you start setting `weights_only=True` for any use case where you don't have full control of the loaded file. Please open an issue on GitHub for any issues related to this experimental feature.\n",
      "  checkpoint = torch.load(checkpoint_file)\n"
     ]
    }
   ],
   "source": [
    "DEVICE = 'cuda:0'\n",
    "#config_file_path = 'train_results/biatt-augment-adj/experiment_2024-11-11_07:20:02/config.pkl'\n",
    "#config_file_path = '/disks/disk1/giorgian/old-trainings/biatt-augment-adj/experiment_2023-06-13_10:12:01/config.pkl'\n",
    "#config_file_path = '/disks/disk1/giorgian/old-trainings/biatt-augment-adj/experiment_2023-08-03_21:42:12/config.pkl'\n",
    "#config_file_path = '/disks/disk1/giorgian/old-trainings/train_results/biatt-augment-adj/experiment_2025-05-02_07:27:14/config.pkl'\n",
    "config_file_path = '/disks/disk1/giorgian/old-trainings/train_results/biatt-augment-adj/experiment_2025-05-16_05:52:22/config.pkl'\n",
    "#config_file_path = '/disks/disk1/giorgian/old-trainings/train_results/biatt-augment-adj/experiment_2025-05-19_14:23:56/config.pkl'\n",
    "with open(config_file_path, 'rb') as f:\n",
    "    config = pickle.load(f)\n",
    "# α=0.7\n",
    "#checkpoint_file = 'train_results/biatt-augment-adj/experiment_2024-11-11_07:20:02/checkpoints/model_checkpoint_016.pth.tar'\n",
    "#checkpoint_file = '/disks/disk1/giorgian/old-trainings/biatt-augment-adj/experiment_2023-08-03_21:42:12/checkpoints/model_checkpoint_016.pth.tar'\n",
    "#checkpoint_file= '/disks/disk1/giorgian/old-trainings/biatt-augment-adj/experiment_2023-06-13_10:12:01/checkpoints/model_checkpoint_016.pth.tar'\n",
    "#checkpoint_file = '/disks/disk1/giorgian/old-trainings/train_results/biatt-augment-adj/experiment_2025-05-02_07:27:14/checkpoints/model_checkpoint_016.pth.tar'\n",
    "checkpoint_file = '/disks/disk1/giorgian/old-trainings/train_results/biatt-augment-adj/experiment_2025-05-16_05:52:22/checkpoints/model_checkpoint_016.pth.tar'\n",
    "#checkpoint_file = '/disks/disk1/giorgian/old-trainings/train_results/biatt-augment-adj/experiment_2025-05-19_14:23:56/checkpoints/model_checkpoint_016.pth.tar'\n",
    "\n",
    "mconfig = config['model']\n",
    "model = Model(**mconfig)\n",
    "oconfig = config['optimizer']\n",
    "params = model.parameters()\n",
    "if config['optimizer']['type'] == 'Adam':\n",
    "    optimizer = torch.optim.Adam(params=params,\n",
    "            lr=oconfig['learning_rate'],\n",
    "            weight_decay=oconfig['weight_decay'],\n",
    "            betas=[oconfig['beta_1'], oconfig['beta_2']],\n",
    "            eps=oconfig['eps']\n",
    "    )\n",
    "elif oconfig['type'] == 'SGD':\n",
    "    optimizer = torch.optim.SGD(params=params, lr=oconfig['learning_rate'], momentum=oconfig['momentum'], weight_decay=oconfig['weight_decay'])\n",
    "model, optimizer = load_checkpoint(checkpoint_file, model, optimizer=optimizer)\n",
    "model = model.to(DEVICE)\n",
    "model.eval()\n",
    "for p_state in optimizer.state.values():\n",
    "    for k, v in p_state.items():\n",
    "        if isinstance(v, torch.Tensor):\n",
    "            p_state[k] = v.to(DEVICE)"
   ]
  },
  {
   "cell_type": "code",
   "execution_count": 46,
   "id": "c8f4f4d7-11ca-4854-8d35-e68eaf4ccf98",
   "metadata": {},
   "outputs": [
    {
     "data": {
      "application/vnd.jupyter.widget-view+json": {
       "model_id": "698280170a40474e855adcbeddc60691",
       "version_major": 2,
       "version_minor": 0
      },
      "text/plain": [
       "  0%|          | 0/72 [00:00<?, ?it/s]"
      ]
     },
     "metadata": {},
     "output_type": "display_data"
    }
   ],
   "source": [
    "trigger_preds = []\n",
    "track_vectors = []\n",
    "trigger_labels = []\n",
    "labels = []\n",
    "TOTAL = len(val_data)\n",
    "model.eval()\n",
    "for batch, mask in tqdm(islice(val_data, 0, TOTAL), total=TOTAL):\n",
    "    tracks = batch.track_vector.to(DEVICE)\n",
    "    if tracks.shape[1] == 0:\n",
    "        continue\n",
    "        \n",
    "    mask = mask.to(DEVICE)\n",
    "    trigger_preds.extend(model(tracks, mask)[:, -1].detach().cpu().numpy())\n",
    "    track_vectors.extend(batch.track_vector.cpu().numpy())\n",
    "    trigger_labels.append(batch.trigger)\n",
    "    #print(f'{batch.trigger_node=} {batch.track_vector.shape=} {batch.trigger=}')\n",
    "trigger_preds = np.array(trigger_preds)\n",
    "trigger_labels = np.array(trigger_labels)"
   ]
  },
  {
   "cell_type": "code",
   "execution_count": 23,
   "id": "8fc55469-3217-4e59-a9ef-7b89ff31ead6",
   "metadata": {},
   "outputs": [
    {
     "data": {
      "text/plain": [
       "Text(0, 0.5, 'accuracy')"
      ]
     },
     "execution_count": 23,
     "metadata": {},
     "output_type": "execute_result"
    },
    {
     "data": {
      "image/png": "[encoded data removed]",
      "text/plain": [
       "<Figure size 640x480 with 1 Axes>"
      ]
     },
     "metadata": {},
     "output_type": "display_data"
    }
   ],
   "source": [
    "accs = []\n",
    "ts = []\n",
    "for threshold in np.unique(trigger_preds):\n",
    "    ts.append(threshold)\n",
    "    accs.append(np.mean(trigger_labels*(trigger_preds > threshold)))\n",
    "plt.plot(ts, accs)\n",
    "plt.xlabel('threshold')\n",
    "plt.ylabel('accuracy')"
   ]
  },
  {
   "cell_type": "code",
   "execution_count": 47,
   "id": "e17e34e1-d40a-49f8-8d1a-547fe4acd107",
   "metadata": {},
   "outputs": [
    {
     "name": "stdout",
     "output_type": "stream",
     "text": [
      "22.28\n"
     ]
    },
    {
     "data": {
      "image/png": "[encoded data removed]",
      "text/plain": [
       "<Figure size 640x480 with 1 Axes>"
      ]
     },
     "metadata": {},
     "output_type": "display_data"
    }
   ],
   "source": [
    "fpr, tpr, thresholds = roc_curve(trigger_labels, trigger_preds)\n",
    "plt.plot(fpr, tpr)\n",
    "plt.xlabel('FPR')\n",
    "plt.ylabel('TPR')\n",
    "plt.title(f'ROC Curve (AUC={roc_auc_score(trigger_labels, trigger_preds)*100:.2f})')\n",
    "plt.plot([0, 1], [0, 1])\n",
    "print(f'{np.mean((trigger_labels)*(trigger_preds > 0))*100:.2f}')"
   ]
  },
  {
   "cell_type": "code",
   "execution_count": 12,
   "id": "cc1c943b-3081-4414-979c-45df4e541482",
   "metadata": {},
   "outputs": [
    {
     "data": {
      "text/plain": [
       "np.float64(0.5070422535211268)"
      ]
     },
     "execution_count": 12,
     "metadata": {},
     "output_type": "execute_result"
    }
   ],
   "source": [
    "np.mean(trigger_labels)"
   ]
  },
  {
   "cell_type": "code",
   "execution_count": 15,
   "id": "56615201-9f0d-4c88-b525-9d5912663adb",
   "metadata": {},
   "outputs": [
    {
     "data": {
      "text/plain": [
       "np.float64(0.21781392580837136)"
      ]
     },
     "execution_count": 15,
     "metadata": {},
     "output_type": "execute_result"
    }
   ],
   "source": [
    "np.mean(trigger_labels*(trigger_preds > 0))"
   ]
  },
  {
   "cell_type": "code",
   "execution_count": 16,
   "id": "3a8ea49e-8133-497d-a0bb-ca7fec2e47fe",
   "metadata": {},
   "outputs": [
    {
     "data": {
      "text/plain": [
       "np.float64(0.21781392580837136)"
      ]
     },
     "execution_count": 16,
     "metadata": {},
     "output_type": "execute_result"
    }
   ],
   "source": [
    "np.mean(trigger_labels*(trigger_preds > 0))"
   ]
  },
  {
   "cell_type": "code",
   "execution_count": 14,
   "id": "5c13c131-99ae-4713-b710-3353b4870fa2",
   "metadata": {},
   "outputs": [
    {
     "data": {
      "text/plain": [
       "np.float64(0.2892283277127554)"
      ]
     },
     "execution_count": 14,
     "metadata": {},
     "output_type": "execute_result"
    }
   ],
   "source": [
    "np.mean(trigger_labels*(trigger_preds < 0))"
   ]
  },
  {
   "cell_type": "code",
   "execution_count": 111,
   "id": "8aeb5bb2-7c9a-4cf5-a040-a7a8d86c02eb",
   "metadata": {},
   "outputs": [
    {
     "data": {
      "text/plain": [
       "array([ True,  True, False, False, False,  True,  True,  True, False,\n",
       "        True,  True, False,  True, False,  True,  True, False, False,\n",
       "       False, False,  True, False, False,  True, False, False, False,\n",
       "        True,  True,  True, False, False, False,  True, False,  True,\n",
       "        True, False, False, False,  True, False, False, False, False,\n",
       "       False,  True, False,  True,  True,  True, False,  True,  True,\n",
       "       False,  True,  True, False, False,  True,  True,  True,  True,\n",
       "        True, False,  True, False, False, False, False,  True, False,\n",
       "        True,  True,  True,  True, False,  True, False, False, False,\n",
       "        True, False, False, False, False, False,  True,  True, False,\n",
       "        True, False, False,  True,  True, False,  True, False, False,\n",
       "        True,  True,  True,  True, False,  True,  True,  True,  True,\n",
       "        True,  True,  True, False, False, False,  True,  True,  True,\n",
       "        True, False, False, False, False,  True,  True, False, False,\n",
       "        True,  True,  True, False,  True, False,  True,  True,  True,\n",
       "       False,  True, False, False, False, False, False])"
      ]
     },
     "execution_count": 111,
     "metadata": {},
     "output_type": "execute_result"
    }
   ],
   "source": [
    "trigger_preds < 0"
   ]
  },
  {
   "cell_type": "code",
   "execution_count": 11,
   "id": "1f9e496f-6a37-4cc1-a1d9-3f89de7d324e",
   "metadata": {},
   "outputs": [
    {
     "data": {
      "text/plain": [
       "np.float64(6.52112676056338)"
      ]
     },
     "execution_count": 11,
     "metadata": {},
     "output_type": "execute_result"
    }
   ],
   "source": [
    "np.mean([len(tv) for tv in track_vectors])"
   ]
  },
  {
   "cell_type": "code",
   "execution_count": 74,
   "id": "ec52c2a1-f467-4465-af2e-3e3206f92c50",
   "metadata": {},
   "outputs": [
    {
     "data": {
      "text/plain": [
       "60.56338028169014"
      ]
     },
     "execution_count": 74,
     "metadata": {},
     "output_type": "execute_result"
    }
   ],
   "source": [
    "np.mean(np.array(trigger_preds) > 0).item()*100"
   ]
  },
  {
   "cell_type": "code",
   "execution_count": 46,
   "id": "5d8a6a17-9da8-4ec1-9db0-8a8c00b0694c",
   "metadata": {
    "scrolled": true
   },
   "outputs": [
    {
     "data": {
      "text/plain": [
       "(tensor([0., 1., 1., 0., 0.]), torch.Size([1, 5, 37]))"
      ]
     },
     "execution_count": 46,
     "metadata": {},
     "output_type": "execute_result"
    }
   ],
   "source": [
    "batch.trigger_node, batch.track_vector.shape"
   ]
  },
  {
   "cell_type": "code",
   "execution_count": null,
   "id": "364a2cfb-1a99-4017-9896-43a65339e77b",
   "metadata": {},
   "outputs": [],
   "source": []
  },
  {
   "cell_type": "code",
   "execution_count": 17,
   "id": "ada7da8c-646d-4650-b266-aa30330bdb76",
   "metadata": {},
   "outputs": [
    {
     "data": {
      "application/vnd.jupyter.widget-view+json": {
       "model_id": "0b5e3e60f04942838bae666dbde681f1",
       "version_major": 2,
       "version_minor": 0
      },
      "text/plain": [
       "  0%|          | 0/10000 [00:00<?, ?it/s]"
      ]
     },
     "metadata": {},
     "output_type": "display_data"
    },
    {
     "ename": "RuntimeError",
     "evalue": "shape '[1, 2, 5, 3]' is invalid for input of size 60",
     "output_type": "error",
     "traceback": [
      "\u001b[0;31m---------------------------------------------------------------------------\u001b[0m",
      "\u001b[0;31mRuntimeError\u001b[0m                              Traceback (most recent call last)",
      "Cell \u001b[0;32mIn[17], line 11\u001b[0m\n\u001b[1;32m      8\u001b[0m         \u001b[38;5;28;01mcontinue\u001b[39;00m\n\u001b[1;32m     10\u001b[0m     mask \u001b[38;5;241m=\u001b[39m (mask \u001b[38;5;241m*\u001b[39m (\u001b[38;5;241m~\u001b[39mbatch\u001b[38;5;241m.\u001b[39mtrigger_node\u001b[38;5;241m.\u001b[39mto(torch\u001b[38;5;241m.\u001b[39mbool)))\u001b[38;5;241m.\u001b[39mto(DEVICE) \n\u001b[0;32m---> 11\u001b[0m     nontrigger_preds\u001b[38;5;241m.\u001b[39mextend(model(tracks, mask)[:, \u001b[38;5;241m-\u001b[39m\u001b[38;5;241m1\u001b[39m]\u001b[38;5;241m.\u001b[39mdetach()\u001b[38;5;241m.\u001b[39mcpu()\u001b[38;5;241m.\u001b[39mnumpy())\n\u001b[1;32m     12\u001b[0m     track_vectors\u001b[38;5;241m.\u001b[39mextend(batch\u001b[38;5;241m.\u001b[39mtrack_vector\u001b[38;5;241m.\u001b[39mcpu()\u001b[38;5;241m.\u001b[39mnumpy())\n\u001b[1;32m     14\u001b[0m nontrigger_preds \u001b[38;5;241m=\u001b[39m np\u001b[38;5;241m.\u001b[39marray(nontrigger_preds)\n",
      "File \u001b[0;32m~/anaconda3/envs/jupyter/lib/python3.12/site-packages/torch/nn/modules/module.py:1553\u001b[0m, in \u001b[0;36mModule._wrapped_call_impl\u001b[0;34m(self, *args, **kwargs)\u001b[0m\n\u001b[1;32m   1551\u001b[0m     \u001b[38;5;28;01mreturn\u001b[39;00m \u001b[38;5;28mself\u001b[39m\u001b[38;5;241m.\u001b[39m_compiled_call_impl(\u001b[38;5;241m*\u001b[39margs, \u001b[38;5;241m*\u001b[39m\u001b[38;5;241m*\u001b[39mkwargs)  \u001b[38;5;66;03m# type: ignore[misc]\u001b[39;00m\n\u001b[1;32m   1552\u001b[0m \u001b[38;5;28;01melse\u001b[39;00m:\n\u001b[0;32m-> 1553\u001b[0m     \u001b[38;5;28;01mreturn\u001b[39;00m \u001b[38;5;28mself\u001b[39m\u001b[38;5;241m.\u001b[39m_call_impl(\u001b[38;5;241m*\u001b[39margs, \u001b[38;5;241m*\u001b[39m\u001b[38;5;241m*\u001b[39mkwargs)\n",
      "File \u001b[0;32m~/anaconda3/envs/jupyter/lib/python3.12/site-packages/torch/nn/modules/module.py:1562\u001b[0m, in \u001b[0;36mModule._call_impl\u001b[0;34m(self, *args, **kwargs)\u001b[0m\n\u001b[1;32m   1557\u001b[0m \u001b[38;5;66;03m# If we don't have any hooks, we want to skip the rest of the logic in\u001b[39;00m\n\u001b[1;32m   1558\u001b[0m \u001b[38;5;66;03m# this function, and just call forward.\u001b[39;00m\n\u001b[1;32m   1559\u001b[0m \u001b[38;5;28;01mif\u001b[39;00m \u001b[38;5;129;01mnot\u001b[39;00m (\u001b[38;5;28mself\u001b[39m\u001b[38;5;241m.\u001b[39m_backward_hooks \u001b[38;5;129;01mor\u001b[39;00m \u001b[38;5;28mself\u001b[39m\u001b[38;5;241m.\u001b[39m_backward_pre_hooks \u001b[38;5;129;01mor\u001b[39;00m \u001b[38;5;28mself\u001b[39m\u001b[38;5;241m.\u001b[39m_forward_hooks \u001b[38;5;129;01mor\u001b[39;00m \u001b[38;5;28mself\u001b[39m\u001b[38;5;241m.\u001b[39m_forward_pre_hooks\n\u001b[1;32m   1560\u001b[0m         \u001b[38;5;129;01mor\u001b[39;00m _global_backward_pre_hooks \u001b[38;5;129;01mor\u001b[39;00m _global_backward_hooks\n\u001b[1;32m   1561\u001b[0m         \u001b[38;5;129;01mor\u001b[39;00m _global_forward_hooks \u001b[38;5;129;01mor\u001b[39;00m _global_forward_pre_hooks):\n\u001b[0;32m-> 1562\u001b[0m     \u001b[38;5;28;01mreturn\u001b[39;00m forward_call(\u001b[38;5;241m*\u001b[39margs, \u001b[38;5;241m*\u001b[39m\u001b[38;5;241m*\u001b[39mkwargs)\n\u001b[1;32m   1564\u001b[0m \u001b[38;5;28;01mtry\u001b[39;00m:\n\u001b[1;32m   1565\u001b[0m     result \u001b[38;5;241m=\u001b[39m \u001b[38;5;28;01mNone\u001b[39;00m\n",
      "File \u001b[0;32m~/projects/trigger-detection-pipeline/sPHENIX/trigger-detection/BGN-ST/models/Bipartite_Attention_Masked.py:189\u001b[0m, in \u001b[0;36mBipartite_Attention.forward\u001b[0;34m(self, X, mask)\u001b[0m\n\u001b[1;32m    187\u001b[0m \u001b[38;5;28;01melse\u001b[39;00m:\n\u001b[1;32m    188\u001b[0m     \u001b[38;5;28;01mif\u001b[39;00m \u001b[38;5;28mself\u001b[39m\u001b[38;5;241m.\u001b[39mrecalculate_hits_mean:\n\u001b[0;32m--> 189\u001b[0m         Xp \u001b[38;5;241m=\u001b[39m \u001b[38;5;28mself\u001b[39m\u001b[38;5;241m.\u001b[39m_recalculate_hits_mean(X, mask)\n\u001b[1;32m    190\u001b[0m     \u001b[38;5;28;01melse\u001b[39;00m:\n\u001b[1;32m    191\u001b[0m         Xp \u001b[38;5;241m=\u001b[39m X\n",
      "File \u001b[0;32m~/projects/trigger-detection-pipeline/sPHENIX/trigger-detection/BGN-ST/models/Bipartite_Attention_Masked.py:383\u001b[0m, in \u001b[0;36mBipartite_Attention._recalculate_hits_mean\u001b[0;34m(X, mask)\u001b[0m\n\u001b[1;32m    380\u001b[0m hits \u001b[38;5;241m=\u001b[39m X[:, :, :\u001b[38;5;241m15\u001b[39m] \u001b[38;5;241m*\u001b[39m mask\u001b[38;5;241m.\u001b[39munsqueeze(\u001b[38;5;241m-\u001b[39m\u001b[38;5;241m1\u001b[39m)\n\u001b[1;32m    382\u001b[0m \u001b[38;5;66;03m# (minibatch, track, layer, coords)\u001b[39;00m\n\u001b[0;32m--> 383\u001b[0m hits \u001b[38;5;241m=\u001b[39m hits\u001b[38;5;241m.\u001b[39mreshape((X\u001b[38;5;241m.\u001b[39mshape[\u001b[38;5;241m0\u001b[39m], X\u001b[38;5;241m.\u001b[39mshape[\u001b[38;5;241m1\u001b[39m], \u001b[38;5;241m5\u001b[39m, \u001b[38;5;241m3\u001b[39m))\n\u001b[1;32m    385\u001b[0m \u001b[38;5;66;03m# (minibatch, coords)\u001b[39;00m\n\u001b[1;32m    386\u001b[0m total \u001b[38;5;241m=\u001b[39m torch\u001b[38;5;241m.\u001b[39msum(hits, dim\u001b[38;5;241m=\u001b[39m(\u001b[38;5;241m1\u001b[39m, \u001b[38;5;241m2\u001b[39m))\n",
      "\u001b[0;31mRuntimeError\u001b[0m: shape '[1, 2, 5, 3]' is invalid for input of size 60"
     ]
    }
   ],
   "source": [
    "nontrigger_preds = []\n",
    "track_vectors = []\n",
    "TOTAL = int(10e3)\n",
    "model.eval()\n",
    "for batch, mask in tqdm(islice(val_data, 0, TOTAL), total=TOTAL):\n",
    "    tracks = batch.track_vector.to(DEVICE)\n",
    "    if tracks.shape[1] == 0:\n",
    "        continue\n",
    "        \n",
    "    mask = (mask * (~batch.trigger_node.to(torch.bool))).to(DEVICE) \n",
    "    nontrigger_preds.extend(model(tracks, mask)[:, -1].detach().cpu().numpy())\n",
    "    track_vectors.extend(batch.track_vector.cpu().numpy())\n",
    "\n",
    "nontrigger_preds = np.array(nontrigger_preds)"
   ]
  },
  {
   "cell_type": "code",
   "execution_count": 76,
   "id": "d12ff15e-f3f7-4fd8-a45e-0d2b42b7f677",
   "metadata": {},
   "outputs": [
    {
     "data": {
      "text/plain": [
       "42.25352112676056"
      ]
     },
     "execution_count": 76,
     "metadata": {},
     "output_type": "execute_result"
    }
   ],
   "source": [
    "np.mean(np.array(nontrigger_preds) > 0).item()*100"
   ]
  },
  {
   "cell_type": "code",
   "execution_count": 16,
   "id": "ccd3054d-1aa7-485a-99f4-cc88dbcfce58",
   "metadata": {},
   "outputs": [],
   "source": [
    "thresholds = np.unique(np.concatenate([trigger_preds, nontrigger_preds]))"
   ]
  },
  {
   "cell_type": "code",
   "execution_count": 17,
   "id": "70a90390-5cba-4dd3-a528-1f80601a4a67",
   "metadata": {},
   "outputs": [
    {
     "data": {
      "text/plain": [
       "array([-4.7622595 , -2.7164977 , -2.173026  , -2.125841  , -2.1195264 ,\n",
       "       -2.0709488 , -2.0481584 , -1.9852026 , -1.8839657 , -1.8368502 ,\n",
       "       -1.7471566 , -1.5634375 , -1.5062262 , -1.4949632 , -1.4527297 ,\n",
       "       -1.1789963 , -1.1730459 , -1.1691802 , -1.1573035 , -1.0537739 ,\n",
       "       -1.0494274 , -1.0108399 , -0.9739859 , -0.9715971 , -0.92208475,\n",
       "       -0.83643764, -0.7676793 , -0.7454579 , -0.7058319 , -0.6715111 ,\n",
       "       -0.64513636, -0.63520724, -0.5823704 , -0.56846464, -0.52894443,\n",
       "       -0.4966774 , -0.48514706, -0.47812164, -0.4553821 , -0.44850096,\n",
       "       -0.41570878, -0.38589898, -0.35988122, -0.35139257, -0.34597346,\n",
       "       -0.30291763, -0.30286533, -0.30278993, -0.25042564, -0.23979583,\n",
       "       -0.23372358, -0.20058882, -0.18753439, -0.16307348, -0.16124687,\n",
       "       -0.15405959, -0.09879181, -0.09598788, -0.09419899, -0.08904812,\n",
       "       -0.08097337, -0.05807906, -0.05441467, -0.04420199, -0.04038484,\n",
       "       -0.03822196, -0.00808918,  0.04274103,  0.05325871,  0.05659888,\n",
       "        0.05822501,  0.07554748,  0.08975939,  0.10646668,  0.11462462,\n",
       "        0.13800682,  0.1421406 ,  0.14664337,  0.14769264,  0.1556288 ,\n",
       "        0.23733997,  0.2389228 ,  0.2487365 ,  0.2538307 ,  0.27789482,\n",
       "        0.2871688 ,  0.3170324 ,  0.32690445,  0.36377272,  0.44805592,\n",
       "        0.47494233,  0.48141408,  0.50348467,  0.5046139 ,  0.5116189 ,\n",
       "        0.5275494 ,  0.52846986,  0.5370884 ,  0.5793375 ,  0.591674  ,\n",
       "        0.60633945,  0.6108277 ,  0.6135605 ,  0.6218716 ,  0.62904346,\n",
       "        0.6517141 ,  0.6559439 ,  0.67457247,  0.7100215 ,  0.8065615 ,\n",
       "        0.86304647,  0.8890479 ,  0.92631227,  0.9400865 ,  0.96002156,\n",
       "        0.9624773 ,  0.9835662 ,  0.9890101 ,  0.9956958 ,  1.006199  ,\n",
       "        1.0124327 ,  1.0290395 ,  1.0553284 ,  1.0664701 ,  1.0742456 ,\n",
       "        1.1100662 ,  1.1144676 ,  1.1442235 ,  1.150269  ,  1.1506248 ,\n",
       "        1.1641483 ,  1.210028  ,  1.2208467 ,  1.2687147 ,  1.2747879 ,\n",
       "        1.2932479 ,  1.3048632 ,  1.4308565 ], dtype=float32)"
      ]
     },
     "execution_count": 17,
     "metadata": {},
     "output_type": "execute_result"
    }
   ],
   "source": [
    "thresholds"
   ]
  },
  {
   "cell_type": "code",
   "execution_count": 18,
   "id": "79e1a458-e9b4-40dc-8612-1bfaf6c9ceef",
   "metadata": {},
   "outputs": [
    {
     "data": {
      "text/plain": [
       "<matplotlib.legend.Legend at 0x7f6fad8447d0>"
      ]
     },
     "execution_count": 18,
     "metadata": {},
     "output_type": "execute_result"
    },
    {
     "data": {
      "image/png": "[encoded data removed]",
      "text/plain": [
       "<Figure size 640x480 with 1 Axes>"
      ]
     },
     "metadata": {},
     "output_type": "display_data"
    }
   ],
   "source": [
    "plt.style.use('ggplot')\n",
    "tpr = [np.mean(trigger_preds > threshold) for threshold in thresholds]\n",
    "fpr = [np.mean(nontrigger_preds > threshold) for threshold in thresholds]\n",
    "tnr = [np.mean(nontrigger_preds <= threshold) for threshold in thresholds]\n",
    "fnr = [np.mean(trigger_preds <= threshold) for threshold in thresholds]\n",
    "\n",
    "\n",
    "plt.plot(thresholds, tpr, label='TPR')\n",
    "plt.plot(thresholds, fpr, label='FPR')\n",
    "plt.plot(thresholds, tnr, label='TNR')\n",
    "plt.plot(thresholds, fnr, label='FNR')\n",
    "\n",
    "plt.xlabel('Threshold')\n",
    "plt.legend()"
   ]
  },
  {
   "cell_type": "code",
   "execution_count": 19,
   "id": "3747ef2c-761c-4d58-a7d1-5e1e7dc0cc26",
   "metadata": {},
   "outputs": [
    {
     "data": {
      "text/plain": [
       "[<matplotlib.lines.Line2D at 0x7f6fd05056a0>]"
      ]
     },
     "execution_count": 19,
     "metadata": {},
     "output_type": "execute_result"
    },
    {
     "data": {
      "image/png": "[encoded data removed]",
      "text/plain": [
       "<Figure size 640x480 with 1 Axes>"
      ]
     },
     "metadata": {},
     "output_type": "display_data"
    }
   ],
   "source": [
    "plt.style.use('ggplot')\n",
    "tpr = [np.mean(trigger_preds > threshold) for threshold in thresholds]\n",
    "fpr = [np.mean(nontrigger_preds > threshold) for threshold in thresholds]\n",
    "tnr = [np.mean(nontrigger_preds <= threshold) for threshold in thresholds]\n",
    "fnr = [np.mean(trigger_preds <= threshold) for threshold in thresholds]\n",
    "\n",
    "\n",
    "plt.plot(fpr, tpr)\n",
    "\n",
    "\n",
    "plt.xlabel('FPR')\n",
    "plt.ylabel('TPR')\n",
    "plt.plot(np.linspace(0, 1), np.linspace(0, 1))\n"
   ]
  },
  {
   "cell_type": "code",
   "execution_count": 20,
   "id": "1ae4c17c-2d36-4075-835f-ca034af43320",
   "metadata": {},
   "outputs": [
    {
     "data": {
      "text/plain": [
       "(array([3., 0., 0., 0., 1., 0., 0., 0., 0., 1., 1., 2., 0., 1., 1., 0., 2.,\n",
       "        0., 2., 0., 1., 2., 1., 1., 2., 2., 3., 1., 0., 3., 4., 0., 5., 1.,\n",
       "        1., 1., 1., 2., 6., 1., 1., 1., 2., 1., 4., 3., 5., 0., 1., 1.]),\n",
       " array([0.1072134 , 0.12120983, 0.13520625, 0.14920267, 0.16319911,\n",
       "        0.17719553, 0.19119197, 0.20518839, 0.21918482, 0.23318124,\n",
       "        0.24717766, 0.26117408, 0.27517053, 0.28916696, 0.30316338,\n",
       "        0.3171598 , 0.33115622, 0.34515265, 0.3591491 , 0.37314552,\n",
       "        0.38714194, 0.40113837, 0.41513479, 0.42913124, 0.44312766,\n",
       "        0.45712408, 0.47112051, 0.48511693, 0.49911335, 0.5131098 ,\n",
       "        0.52710623, 0.54110265, 0.55509907, 0.56909549, 0.58309191,\n",
       "        0.59708834, 0.61108476, 0.62508118, 0.6390776 , 0.65307403,\n",
       "        0.66707045, 0.68106687, 0.69506329, 0.70905972, 0.72305614,\n",
       "        0.73705262, 0.75104904, 0.76504546, 0.77904189, 0.79303831,\n",
       "        0.80703473]),\n",
       " <BarContainer object of 50 artists>)"
      ]
     },
     "execution_count": 20,
     "metadata": {},
     "output_type": "execute_result"
    },
    {
     "data": {
      "image/png": "[encoded data removed]",
      "text/plain": [
       "<Figure size 640x480 with 1 Axes>"
      ]
     },
     "metadata": {},
     "output_type": "display_data"
    }
   ],
   "source": [
    "plt.hist(1/(1 + np.exp(-trigger_preds)), bins=50)"
   ]
  },
  {
   "cell_type": "code",
   "execution_count": 21,
   "id": "577ece3c-f9e7-4a0c-8d32-85a5524948ea",
   "metadata": {},
   "outputs": [
    {
     "data": {
      "text/plain": [
       "(array([5., 0., 0., 1., 0., 0., 3., 1., 2., 0., 0., 3., 0., 0., 3., 0., 1.,\n",
       "        2., 0., 0., 2., 1., 1., 2., 3., 2., 2., 2., 1., 0., 6., 1., 4., 1.,\n",
       "        1., 0., 2., 0., 0., 4., 1., 3., 0., 0., 0., 2., 3., 1., 1., 4.]),\n",
       " array([0.00847386, 0.02403743, 0.03960099, 0.05516456, 0.07072813,\n",
       "        0.0862917 , 0.10185527, 0.11741884, 0.1329824 , 0.14854598,\n",
       "        0.16410954, 0.17967312, 0.19523668, 0.21080026, 0.22636382,\n",
       "        0.2419274 , 0.25749096, 0.27305451, 0.28861809, 0.30418167,\n",
       "        0.31974521, 0.33530879, 0.35087237, 0.36643595, 0.38199949,\n",
       "        0.39756307, 0.41312665, 0.4286902 , 0.44425377, 0.45981735,\n",
       "        0.47538093, 0.49094447, 0.50650805, 0.52207166, 0.53763521,\n",
       "        0.55319881, 0.56876236, 0.58432591, 0.59988952, 0.61545306,\n",
       "        0.63101661, 0.64658022, 0.66214377, 0.67770731, 0.69327092,\n",
       "        0.70883447, 0.72439808, 0.73996162, 0.75552517, 0.77108878,\n",
       "        0.78665233]),\n",
       " <BarContainer object of 50 artists>)"
      ]
     },
     "execution_count": 21,
     "metadata": {},
     "output_type": "execute_result"
    },
    {
     "data": {
      "image/png": "[encoded data removed]",
      "text/plain": [
       "<Figure size 640x480 with 1 Axes>"
      ]
     },
     "metadata": {},
     "output_type": "display_data"
    }
   ],
   "source": [
    "plt.hist(1/(1 + np.exp(-nontrigger_preds)), bins=50)"
   ]
  },
  {
   "cell_type": "markdown",
   "id": "bbc2b895-bc3b-4700-82bc-55119e5fde08",
   "metadata": {},
   "source": [
    "# Fine-Tune"
   ]
  },
  {
   "cell_type": "code",
   "execution_count": 12,
   "id": "726745d1-2755-41ac-a5ef-9748a95b9308",
   "metadata": {},
   "outputs": [
    {
     "data": {
      "application/vnd.jupyter.widget-view+json": {
       "model_id": "b77d5f40e7e948c38a01309e45be57d4",
       "version_major": 2,
       "version_minor": 0
      },
      "text/plain": [
       "  0%|          | 0/72 [00:00<?, ?it/s]"
      ]
     },
     "metadata": {},
     "output_type": "display_data"
    },
    {
     "data": {
      "application/vnd.jupyter.widget-view+json": {
       "model_id": "27241132280245ac829ddb0723ccae21",
       "version_major": 2,
       "version_minor": 0
      },
      "text/plain": [
       "  0%|          | 0/72 [00:00<?, ?it/s]"
      ]
     },
     "metadata": {},
     "output_type": "display_data"
    },
    {
     "data": {
      "application/vnd.jupyter.widget-view+json": {
       "model_id": "22432c408ccd434ea35690c088d6d29d",
       "version_major": 2,
       "version_minor": 0
      },
      "text/plain": [
       "  0%|          | 0/72 [00:00<?, ?it/s]"
      ]
     },
     "metadata": {},
     "output_type": "display_data"
    },
    {
     "data": {
      "application/vnd.jupyter.widget-view+json": {
       "model_id": "e4ae68e1a2164b6abb37a7840c7befe1",
       "version_major": 2,
       "version_minor": 0
      },
      "text/plain": [
       "  0%|          | 0/72 [00:00<?, ?it/s]"
      ]
     },
     "metadata": {},
     "output_type": "display_data"
    },
    {
     "data": {
      "application/vnd.jupyter.widget-view+json": {
       "model_id": "47c904b228444f34b9159c67c1bde1f2",
       "version_major": 2,
       "version_minor": 0
      },
      "text/plain": [
       "  0%|          | 0/72 [00:00<?, ?it/s]"
      ]
     },
     "metadata": {},
     "output_type": "display_data"
    },
    {
     "data": {
      "application/vnd.jupyter.widget-view+json": {
       "model_id": "1fcfa6eaba1d4dcaa19b3ed97ba70fa9",
       "version_major": 2,
       "version_minor": 0
      },
      "text/plain": [
       "  0%|          | 0/72 [00:00<?, ?it/s]"
      ]
     },
     "metadata": {},
     "output_type": "display_data"
    },
    {
     "data": {
      "application/vnd.jupyter.widget-view+json": {
       "model_id": "258fa16188ee4f4c89263776280379b5",
       "version_major": 2,
       "version_minor": 0
      },
      "text/plain": [
       "  0%|          | 0/72 [00:00<?, ?it/s]"
      ]
     },
     "metadata": {},
     "output_type": "display_data"
    },
    {
     "data": {
      "application/vnd.jupyter.widget-view+json": {
       "model_id": "219883cbb7034d1ba0a1341e1b271967",
       "version_major": 2,
       "version_minor": 0
      },
      "text/plain": [
       "  0%|          | 0/72 [00:00<?, ?it/s]"
      ]
     },
     "metadata": {},
     "output_type": "display_data"
    },
    {
     "data": {
      "application/vnd.jupyter.widget-view+json": {
       "model_id": "e2ad573eb47c44b9aa2a817f2528c6cd",
       "version_major": 2,
       "version_minor": 0
      },
      "text/plain": [
       "  0%|          | 0/72 [00:00<?, ?it/s]"
      ]
     },
     "metadata": {},
     "output_type": "display_data"
    },
    {
     "data": {
      "application/vnd.jupyter.widget-view+json": {
       "model_id": "64189651a62a4d53b3285bde323684e0",
       "version_major": 2,
       "version_minor": 0
      },
      "text/plain": [
       "  0%|          | 0/72 [00:00<?, ?it/s]"
      ]
     },
     "metadata": {},
     "output_type": "display_data"
    }
   ],
   "source": [
    "trigger_preds = []\n",
    "track_vectors = []\n",
    "TOTAL = len(val_data)\n",
    "model = model.to(DEVICE)\n",
    "model.train()\n",
    "for i in range(10):\n",
    "    for batch, mask in tqdm(islice(train_data, 0, TOTAL), total=TOTAL):\n",
    "        tracks = batch.track_vector.to(DEVICE)\n",
    "        trigger = batch.trigger.to(DEVICE).to(torch.long)\n",
    "        if tracks.shape[1] == 0:\n",
    "            continue\n",
    "        loss = 0\n",
    "        mask = mask.to(DEVICE)\n",
    "        pred_labels = model(tracks, mask)\n",
    "        ce_loss = F.cross_entropy(pred_labels, trigger)\n",
    "        loss += ce_loss\n",
    "    \n",
    "        if optimizer is not None:\n",
    "            optimizer.zero_grad()\n",
    "            loss.backward()\n",
    "            optimizer.step()\n",
    "    "
   ]
  },
  {
   "cell_type": "code",
   "execution_count": 13,
   "id": "2f952541-0ba2-426c-a8d9-bdd504bce90a",
   "metadata": {},
   "outputs": [
    {
     "data": {
      "application/vnd.jupyter.widget-view+json": {
       "model_id": "bce5bec413f247b5b49824bfc3eaa0bc",
       "version_major": 2,
       "version_minor": 0
      },
      "text/plain": [
       "  0%|          | 0/72 [00:00<?, ?it/s]"
      ]
     },
     "metadata": {},
     "output_type": "display_data"
    },
    {
     "name": "stdout",
     "output_type": "stream",
     "text": [
      "31.73\n"
     ]
    },
    {
     "data": {
      "image/png": "[encoded data removed]",
      "text/plain": [
       "<Figure size 640x480 with 1 Axes>"
      ]
     },
     "metadata": {},
     "output_type": "display_data"
    }
   ],
   "source": [
    "trigger_preds = []\n",
    "track_vectors = []\n",
    "trigger_labels = []\n",
    "labels = []\n",
    "TOTAL = len(val_data)\n",
    "model.eval()\n",
    "for batch, mask in tqdm(islice(val_data, 0, TOTAL), total=TOTAL):\n",
    "    tracks = batch.track_vector.to(DEVICE)\n",
    "    if tracks.shape[1] == 0:\n",
    "        continue\n",
    "        \n",
    "    mask = mask.to(DEVICE)\n",
    "    trigger_preds.extend(model(tracks, mask)[:, -1].detach().cpu().numpy())\n",
    "    track_vectors.extend(batch.track_vector.cpu().numpy())\n",
    "    trigger_labels.append(batch.trigger)\n",
    "    #print(f'{batch.trigger_node=} {batch.track_vector.shape=} {batch.trigger=}')\n",
    "trigger_preds = np.array(trigger_preds)\n",
    "trigger_labels = np.array(trigger_labels)\n",
    "\n",
    "fpr, tpr, thresholds = roc_curve(trigger_labels, trigger_preds)\n",
    "plt.plot(fpr, tpr)\n",
    "plt.xlabel('FPR')\n",
    "plt.ylabel('TPR')\n",
    "plt.title(f'ROC Curve (AUC={roc_auc_score(trigger_labels, trigger_preds)*100:.2f})')\n",
    "plt.plot([0, 1], [0, 1])\n",
    "print(f'{np.mean((trigger_labels)*(trigger_preds > 0))*100:.2f}')"
   ]
  },
  {
   "cell_type": "code",
   "execution_count": 84,
   "id": "2b04dccb-c823-4f96-b397-f550a2436763",
   "metadata": {},
   "outputs": [
    {
     "data": {
      "application/vnd.jupyter.widget-view+json": {
       "model_id": "620c56ede9b842f48e588eb3b55a7954",
       "version_major": 2,
       "version_minor": 0
      },
      "text/plain": [
       "  0%|          | 0/40 [00:00<?, ?it/s]"
      ]
     },
     "metadata": {},
     "output_type": "display_data"
    }
   ],
   "source": [
    "trigger_preds = []\n",
    "track_vectors = []\n",
    "TOTAL = 40\n",
    "model.train()\n",
    "for batch, mask in tqdm(islice(val_data, 0, TOTAL), total=TOTAL):\n",
    "    tracks = batch.track_vector.to(DEVICE)\n",
    "    if tracks.shape[1] == 0:\n",
    "        continue\n",
    "    loss = 0\n",
    "    mask = mask.to(DEVICE)\n",
    "    pred_labels = model(tracks, mask)\n",
    "    ce_loss = F.cross_entropy(pred_labels, torch.ones(tracks.shape[0], device=DEVICE, dtype=torch.long))\n",
    "    loss += ce_loss\n",
    "\n",
    "\n",
    "    mask = mask * (~batch.trigger_node.to(torch.bool).to(DEVICE))\n",
    "    pred_labels = model(tracks, mask)\n",
    "    ce_loss = F.cross_entropy(pred_labels, torch.zeros(tracks.shape[0], device=DEVICE, dtype=torch.long))\n",
    "    loss += ce_loss\n",
    "\n",
    "    if optimizer is not None:\n",
    "        optimizer.zero_grad()\n",
    "        loss.backward()\n",
    "        optimizer.step()\n",
    "    "
   ]
  },
  {
   "cell_type": "code",
   "execution_count": 14,
   "id": "231ca99b-677c-481c-8a1a-3e81cf99f063",
   "metadata": {},
   "outputs": [
    {
     "data": {
      "application/vnd.jupyter.widget-view+json": {
       "model_id": "3d339b0ce4ba4b23b695b38a5d4f0bd9",
       "version_major": 2,
       "version_minor": 0
      },
      "text/plain": [
       "  0%|          | 0/10000 [00:00<?, ?it/s]"
      ]
     },
     "metadata": {},
     "output_type": "display_data"
    }
   ],
   "source": [
    "trigger_preds = []\n",
    "track_vectors = []\n",
    "trigger_labels = []\n",
    "TOTAL = int(10e3)\n",
    "model.eval()\n",
    "for batch, mask in tqdm(islice(val_data, 40, TOTAL), total=TOTAL):\n",
    "    tracks = batch.track_vector.to(DEVICE)\n",
    "    if tracks.shape[1] == 0:\n",
    "        continue\n",
    "        \n",
    "    mask = mask.to(DEVICE)\n",
    "    trigger_preds.extend(model(tracks, mask)[:, -1].detach().cpu().numpy())\n",
    "    track_vectors.extend(batch.track_vector.cpu().numpy())\n",
    "    trigger_labels.append(batch.trigger)\n",
    "\n",
    "trigger_preds = np.array(trigger_preds)\n",
    "trigger_labels = np.array(trigger_labels)"
   ]
  },
  {
   "cell_type": "code",
   "execution_count": 17,
   "id": "b53873b2-c7eb-4b2b-a652-decada370dc2",
   "metadata": {},
   "outputs": [
    {
     "data": {
      "text/plain": [
       "11.7603550295858"
      ]
     },
     "execution_count": 17,
     "metadata": {},
     "output_type": "execute_result"
    }
   ],
   "source": [
    "np.mean((np.array(trigger_preds) > 0)*trigger_labels).item()*100"
   ]
  },
  {
   "cell_type": "code",
   "execution_count": 87,
   "id": "bb4d5db3-08c6-4412-85dd-81fbcc5b9bc5",
   "metadata": {},
   "outputs": [
    {
     "data": {
      "application/vnd.jupyter.widget-view+json": {
       "model_id": "a4a6df56fef747519774c23d287da682",
       "version_major": 2,
       "version_minor": 0
      },
      "text/plain": [
       "  0%|          | 0/10000 [00:00<?, ?it/s]"
      ]
     },
     "metadata": {},
     "output_type": "display_data"
    }
   ],
   "source": [
    "nontrigger_preds = []\n",
    "track_vectors = []\n",
    "TOTAL = int(10e3)\n",
    "model.eval()\n",
    "for batch, mask in tqdm(islice(val_data, 40, TOTAL), total=TOTAL):\n",
    "    tracks = batch.track_vector.to(DEVICE)\n",
    "    if tracks.shape[1] == 0:\n",
    "        continue\n",
    "        \n",
    "    mask = (mask * (~batch.trigger_node.to(torch.bool))).to(DEVICE) \n",
    "    nontrigger_preds.extend(model(tracks, mask)[:, -1].detach().cpu().numpy())\n",
    "    track_vectors.extend(batch.track_vector.cpu().numpy())\n",
    "\n",
    "nontrigger_preds = np.array(nontrigger_preds)"
   ]
  },
  {
   "cell_type": "code",
   "execution_count": 88,
   "id": "f44e459a-31d1-4ec1-842a-0ad2ac47c53e",
   "metadata": {},
   "outputs": [
    {
     "data": {
      "text/plain": [
       "45.16129032258064"
      ]
     },
     "execution_count": 88,
     "metadata": {},
     "output_type": "execute_result"
    }
   ],
   "source": [
    "np.mean(np.array(nontrigger_preds) > 0).item()*100"
   ]
  },
  {
   "cell_type": "code",
   "execution_count": null,
   "id": "e1a7db0d-9ecd-452a-b2d1-bd7f59ce9c38",
   "metadata": {},
   "outputs": [],
   "source": [
    "Model"
   ]
  },
  {
   "cell_type": "code",
   "execution_count": 51,
   "id": "3b8f4030-5687-45b3-b4d7-7acd420ce8cd",
   "metadata": {},
   "outputs": [
    {
     "name": "stderr",
     "output_type": "stream",
     "text": [
      "/home1/giorgian/projects/trigger-detection-pipeline/sPHENIX/trigger-detection/BGN-ST/utils/log.py:28: FutureWarning: You are using `torch.load` with `weights_only=False` (the current default value), which uses the default pickle module implicitly. It is possible to construct malicious pickle data which will execute arbitrary code during unpickling (See https://github.com/pytorch/pytorch/blob/main/SECURITY.md#untrusted-models for more details). In a future release, the default value for `weights_only` will be flipped to `True`. This limits the functions that could be executed during unpickling. Arbitrary objects will no longer be allowed to be loaded via this mode unless they are explicitly allowlisted by the user via `torch.serialization.add_safe_globals`. We recommend you start setting `weights_only=True` for any use case where you don't have full control of the loaded file. Please open an issue on GitHub for any issues related to this experimental feature.\n",
      "  checkpoint = torch.load(checkpoint_file)\n"
     ]
    }
   ],
   "source": [
    "import torch\n",
    "from models.Bipartite_Attention_Old import Bipartite_Attention as Model\n",
    "\n",
    "DEVICE = 'cuda:0'\n",
    "with open(config_file_path, 'rb') as f:\n",
    "    config = pickle.load(f)\n",
    "\n",
    "\n",
    "mconfig = config[\"model\"]\n",
    "oconfig = config[\"optimizer\"]\n",
    "\n",
    "model = Model(**mconfig)\n",
    "\n",
    "# load the checkpoint *weights only* and keep the Adam moments fresh\n",
    "model = load_checkpoint(checkpoint_file, model, optimizer=None)\n",
    "\n",
    "for p in model.parameters():                # freeze everything …\n",
    "    p.requires_grad = False\n",
    "\n",
    "for p in model._pred_layers[2].parameters():  # … except the last block\n",
    "    p.requires_grad = True\n",
    "\n",
    "params = model._pred_layers[2].parameters()\n",
    "\n",
    "if oconfig[\"type\"] == \"Adam\":\n",
    "    optimizer = torch.optim.Adam(\n",
    "        params=params,\n",
    "        lr=oconfig[\"learning_rate\"],\n",
    "        weight_decay=oconfig[\"weight_decay\"],\n",
    "        betas=[oconfig[\"beta_1\"], oconfig[\"beta_2\"]],\n",
    "        eps=oconfig[\"eps\"],\n",
    "    )\n",
    "elif oconfig[\"type\"] == \"SGD\":\n",
    "    optimizer = torch.optim.SGD(\n",
    "        params=params,\n",
    "        lr=oconfig[\"learning_rate\"],\n",
    "        momentum=oconfig[\"momentum\"],\n",
    "        weight_decay=oconfig[\"weight_decay\"],\n",
    "    )\n",
    "else:\n",
    "    raise ValueError(f\"Unsupported optimizer {oconfig['type']}\")\n",
    "\n",
    "# ─────────────────────────── device placement ────────────────────────────────\n",
    "model = model.to(DEVICE)\n",
    "model.eval()                                # keep the call to match original style\n",
    "\n",
    "# the optimiser has no state yet, but move anything that appears later\n",
    "for p_state in optimizer.state.values():\n",
    "    for k, v in p_state.items():\n",
    "        if isinstance(v, torch.Tensor):\n",
    "            p_state[k] = v.to(DEVICE)\n"
   ]
  },
  {
   "cell_type": "code",
   "execution_count": 49,
   "id": "fdfd7aa6-4fb7-4132-b73b-93092e2b8766",
   "metadata": {},
   "outputs": [
    {
     "data": {
      "application/vnd.jupyter.widget-view+json": {
       "model_id": "54fc8446623641f1906f68d875f55956",
       "version_major": 2,
       "version_minor": 0
      },
      "text/plain": [
       "  0%|          | 0/72 [00:00<?, ?it/s]"
      ]
     },
     "metadata": {},
     "output_type": "display_data"
    },
    {
     "data": {
      "application/vnd.jupyter.widget-view+json": {
       "model_id": "3ce3c09db9024a5ea1a38c3c895691d6",
       "version_major": 2,
       "version_minor": 0
      },
      "text/plain": [
       "  0%|          | 0/72 [00:00<?, ?it/s]"
      ]
     },
     "metadata": {},
     "output_type": "display_data"
    }
   ],
   "source": [
    "trigger_preds = []\n",
    "track_vectors = []\n",
    "TOTAL = len(val_data)\n",
    "model = model.to(DEVICE)\n",
    "model.train()\n",
    "for i in range(2):\n",
    "    for batch, mask in tqdm(islice(train_data, 0, TOTAL), total=TOTAL):\n",
    "        tracks = batch.track_vector.to(DEVICE)\n",
    "        trigger = batch.trigger.to(DEVICE).to(torch.long)\n",
    "        if tracks.shape[1] == 0:\n",
    "            continue\n",
    "        loss = 0\n",
    "        mask = mask.to(DEVICE)\n",
    "        pred_labels = model(tracks, mask)\n",
    "        ce_loss = F.cross_entropy(pred_labels, trigger)\n",
    "        loss += ce_loss\n",
    "    \n",
    "        if optimizer is not None:\n",
    "            optimizer.zero_grad()\n",
    "            loss.backward()\n",
    "            optimizer.step()\n",
    "    "
   ]
  },
  {
   "cell_type": "code",
   "execution_count": 52,
   "id": "427aea94-b576-4950-85c6-82918f55b394",
   "metadata": {},
   "outputs": [
    {
     "data": {
      "application/vnd.jupyter.widget-view+json": {
       "model_id": "bddc7d8c03914ed392ae5ed099d9a1fe",
       "version_major": 2,
       "version_minor": 0
      },
      "text/plain": [
       "  0%|          | 0/72 [00:00<?, ?it/s]"
      ]
     },
     "metadata": {},
     "output_type": "display_data"
    },
    {
     "name": "stdout",
     "output_type": "stream",
     "text": [
      "22.28\n"
     ]
    },
    {
     "data": {
      "image/png": "[encoded data removed]",
      "text/plain": [
       "<Figure size 640x480 with 1 Axes>"
      ]
     },
     "metadata": {},
     "output_type": "display_data"
    }
   ],
   "source": [
    "trigger_preds = []\n",
    "track_vectors = []\n",
    "trigger_labels = []\n",
    "labels = []\n",
    "TOTAL = len(val_data)\n",
    "model.eval()\n",
    "for batch, mask in tqdm(islice(val_data, 0, TOTAL), total=TOTAL):\n",
    "    tracks = batch.track_vector.to(DEVICE)\n",
    "    if tracks.shape[1] == 0:\n",
    "        continue\n",
    "        \n",
    "    mask = mask.to(DEVICE)\n",
    "    trigger_preds.extend(model(tracks, mask)[:, -1].detach().cpu().numpy())\n",
    "    track_vectors.extend(batch.track_vector.cpu().numpy())\n",
    "    trigger_labels.append(batch.trigger)\n",
    "    #print(f'{batch.trigger_node=} {batch.track_vector.shape=} {batch.trigger=}')\n",
    "trigger_preds = np.array(trigger_preds)\n",
    "trigger_labels = np.array(trigger_labels)\n",
    "\n",
    "fpr, tpr, thresholds = roc_curve(trigger_labels, trigger_preds)\n",
    "plt.plot(fpr, tpr)\n",
    "plt.xlabel('FPR')\n",
    "plt.ylabel('TPR')\n",
    "plt.title(f'ROC Curve (AUC={roc_auc_score(trigger_labels, trigger_preds)*100:.2f})')\n",
    "plt.plot([0, 1], [0, 1])\n",
    "print(f'{np.mean((trigger_labels)*(trigger_preds > 0))*100:.2f}')"
   ]
  },
  {
   "cell_type": "code",
   "execution_count": 69,
   "id": "ec2935f4-1a72-480a-b152-724e01c0c6b1",
   "metadata": {},
   "outputs": [
    {
     "data": {
      "application/vnd.jupyter.widget-view+json": {
       "model_id": "06f58174bd994c98807697a173ff626c",
       "version_major": 2,
       "version_minor": 0
      },
      "text/plain": [
       "  0%|          | 0/10000 [00:00<?, ?it/s]"
      ]
     },
     "metadata": {},
     "output_type": "display_data"
    },
    {
     "data": {
      "text/plain": [
       "100.0"
      ]
     },
     "execution_count": 69,
     "metadata": {},
     "output_type": "execute_result"
    }
   ],
   "source": [
    "trigger_preds = []\n",
    "track_vectors = []\n",
    "TOTAL = int(10e3)\n",
    "model.eval()\n",
    "for batch, mask in tqdm(islice(val_data, 40, TOTAL), total=TOTAL):\n",
    "    tracks = batch.track_vector.to(DEVICE)\n",
    "    if tracks.shape[1] == 0:\n",
    "        continue\n",
    "        \n",
    "    mask = mask.to(DEVICE)\n",
    "    trigger_preds.extend(model(tracks, mask)[:, -1].detach().cpu().numpy())\n",
    "    track_vectors.extend(batch.track_vector.cpu().numpy())\n",
    "trigger_preds = np.array(trigger_preds)\n",
    "np.mean(np.array(trigger_preds) > 0).item()*100"
   ]
  },
  {
   "cell_type": "code",
   "execution_count": 59,
   "id": "cc0c18eb-cb67-4f9b-b7d6-ad5fefd7bc18",
   "metadata": {},
   "outputs": [
    {
     "data": {
      "application/vnd.jupyter.widget-view+json": {
       "model_id": "293305274d3144dba4f4e9980050197a",
       "version_major": 2,
       "version_minor": 0
      },
      "text/plain": [
       "  0%|          | 0/10000 [00:00<?, ?it/s]"
      ]
     },
     "metadata": {},
     "output_type": "display_data"
    },
    {
     "data": {
      "text/plain": [
       "54.83870967741935"
      ]
     },
     "execution_count": 59,
     "metadata": {},
     "output_type": "execute_result"
    }
   ],
   "source": [
    "nontrigger_preds = []\n",
    "track_vectors = []\n",
    "TOTAL = int(10e3)\n",
    "model.eval()\n",
    "for batch, mask in tqdm(islice(val_data, 40, TOTAL), total=TOTAL):\n",
    "    tracks = batch.track_vector.to(DEVICE)\n",
    "    if tracks.shape[1] == 0:\n",
    "        continue\n",
    "        \n",
    "    mask = (mask * (~batch.trigger_node.to(torch.bool))).to(DEVICE) \n",
    "    nontrigger_preds.extend(model(tracks, mask)[:, -1].detach().cpu().numpy())\n",
    "    track_vectors.extend(batch.track_vector.cpu().numpy())\n",
    "\n",
    "nontrigger_preds = np.array(nontrigger_preds)\n",
    "np.mean(np.array(nontrigger_preds) > 0).item()*100"
   ]
  },
  {
   "cell_type": "code",
   "execution_count": null,
   "id": "088d5380-92bc-4273-96e1-6d8ce23d2bde",
   "metadata": {},
   "outputs": [],
   "source": []
  }
 ],
 "metadata": {
  "kernelspec": {
   "display_name": "Python 3 (ipykernel)",
   "language": "python",
   "name": "python3"
  },
  "language_info": {
   "codemirror_mode": {
    "name": "ipython",
    "version": 3
   },
   "file_extension": ".py",
   "mimetype": "text/x-python",
   "name": "python",
   "nbconvert_exporter": "python",
   "pygments_lexer": "ipython3",
   "version": "3.12.4"
  }
 },
 "nbformat": 4,
 "nbformat_minor": 5
}
