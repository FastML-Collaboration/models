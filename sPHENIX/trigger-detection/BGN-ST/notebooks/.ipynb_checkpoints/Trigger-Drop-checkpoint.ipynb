{
 "cells": [
  {
   "cell_type": "code",
   "execution_count": 1,
   "id": "e5e07f95",
   "metadata": {},
   "outputs": [
    {
     "name": "stdout",
     "output_type": "stream",
     "text": [
      "/home1/giorgian/projects/trigger-detection-pipeline/sPHENIX/trigger-detection/BGN-ST\n"
     ]
    },
    {
     "name": "stderr",
     "output_type": "stream",
     "text": [
      "/home1/giorgian/anaconda3/envs/jupyter/lib/python3.12/site-packages/IPython/core/magics/osm.py:417: UserWarning: This is now an optional IPython functionality, setting dhist requires you to install the `pickleshare` library.\n",
      "  self.shell.db['dhist'] = compress_dhist(dhist)[-100:]\n"
     ]
    }
   ],
   "source": [
    "%cd /home1/giorgian/projects/trigger-detection-pipeline/sPHENIX/trigger-detection/BGN-ST"
   ]
  },
  {
   "cell_type": "code",
   "execution_count": 2,
   "id": "ac12ae7b",
   "metadata": {},
   "outputs": [],
   "source": [
    "import torch\n",
    "import pickle\n",
    "import dataloaders\n",
    "import matplotlib.pyplot as plt\n",
    "from utils.log import load_checkpoint\n",
    "from collections import defaultdict\n",
    "from itertools import islice\n",
    "from tqdm.notebook import tqdm\n",
    "from models.Bipartite_Attention_Masked import Bipartite_Attention as Model\n",
    "import matplotlib as mpl\n",
    "import torch.nn as nn\n",
    "import numpy as np\n",
    "import random\n",
    "import torch.nn.functional as F"
   ]
  },
  {
   "cell_type": "code",
   "execution_count": 3,
   "id": "2db4181a",
   "metadata": {},
   "outputs": [],
   "source": [
    "from importlib import reload"
   ]
  },
  {
   "cell_type": "code",
   "execution_count": 4,
   "id": "8f3d0ff6",
   "metadata": {},
   "outputs": [],
   "source": [
    "#config_file_path = 'train_results/biatt-augment-adj/experiment_2024-11-11_07:20:02/config.pkl'\n",
    "#config_file_path = '/disks/disk1/giorgian/old-trainings/biatt-augment-adj/experiment_2023-06-13_10:12:01/config.pkl'\n",
    "#config_file_path = '/disks/disk1/giorgian/old-trainings/biatt-augment-adj/experiment_2023-08-03_21:42:12/config.pkl'\n",
    "config_file_path = '/disks/disk1/giorgian/old-trainings/train_results/biatt-augment-adj/experiment_2025-05-02_07:27:14/config.pkl'\n",
    "with open(config_file_path, 'rb') as f:\n",
    "    config = pickle.load(f)"
   ]
  },
  {
   "cell_type": "code",
   "execution_count": 5,
   "id": "46a3c7dc-0202-460d-adb5-9477964fe641",
   "metadata": {},
   "outputs": [
    {
     "data": {
      "text/plain": [
       "{'batch_size': 128,\n",
       " 'drop_nontrigger_percentage': 0.5,\n",
       " 'n_test': 10000,\n",
       " 'n_train': 40000,\n",
       " 'n_valid': 10000,\n",
       " 'n_workers': 16,\n",
       " 'name': 'tracks',\n",
       " 'nontrigger_input_dir': '/ssd3/giorgian/tracks-data-august-2022/nontrigger/0/',\n",
       " 'rescale_by_percentile': -1,\n",
       " 'trigger_input_dir': '/ssd3/giorgian/tracks-data-august-2022/trigger/1/',\n",
       " 'use_center': True,\n",
       " 'use_energy': False,\n",
       " 'use_geometric_features': True,\n",
       " 'use_momentum': False,\n",
       " 'use_n_hits': True,\n",
       " 'use_n_pixels': False,\n",
       " 'use_parallel_momentum': False,\n",
       " 'use_predicted_pz': True,\n",
       " 'use_radius': True,\n",
       " 'use_transverse_momentum': False}"
      ]
     },
     "execution_count": 5,
     "metadata": {},
     "output_type": "execute_result"
    }
   ],
   "source": [
    "config['data']"
   ]
  },
  {
   "cell_type": "code",
   "execution_count": 6,
   "id": "7441ba4a-ff64-42d0-8966-c40c6f51f15c",
   "metadata": {},
   "outputs": [
    {
     "data": {
      "text/plain": [
       "{'aggregator_activation': 'softmax',\n",
       " 'bn': False,\n",
       " 'hidden_activation': 'PReLU',\n",
       " 'ln': True,\n",
       " 'num_classes': 2,\n",
       " 'num_features': 37,\n",
       " 'recalculate_hits_mean': True,\n",
       " 'self_split': False,\n",
       " 'layers_spec': [[64, 8], [32, 8], [32, 8], [32, 8]]}"
      ]
     },
     "execution_count": 6,
     "metadata": {},
     "output_type": "execute_result"
    }
   ],
   "source": [
    "config['model']"
   ]
  },
  {
   "cell_type": "code",
   "execution_count": 7,
   "id": "0133614e-0805-4773-80e4-0b132b666c56",
   "metadata": {},
   "outputs": [
    {
     "data": {
      "text/plain": [
       "{'beta_1': 0.357795610748483,\n",
       " 'beta_2': 0.999,\n",
       " 'eps': 1.959728114064178e-05,\n",
       " 'finetune_factor': 1.2951903539593265e-12,\n",
       " 'learning_rate': 0.002363866368371426,\n",
       " 'learning_rate_decay_rate': 0.8457176501338245,\n",
       " 'type': 'Adam',\n",
       " 'weight_decay': 4.705576138740057e-05}"
      ]
     },
     "execution_count": 7,
     "metadata": {},
     "output_type": "execute_result"
    }
   ],
   "source": [
    "config['optimizer']"
   ]
  },
  {
   "cell_type": "code",
   "execution_count": 8,
   "id": "c36a857c-6510-4870-a347-0f71645cd0c9",
   "metadata": {},
   "outputs": [],
   "source": [
    "dconfig = {k:v for k, v in config['data'].items()}\n",
    "\n",
    "dconfig['name'] = 'tracks'\n",
    "dconfig['n_train'] = 1\n",
    "dconfig['n_valid'] = 71\n",
    "dconfig['n_test'] = 1\n",
    "dconfig['trigger_input_dir'] =  '/home1/giorgian/real-data-parser-tracks/events/'\n",
    "dconfig['nontrigger_input_dir'] =  None\n",
    "dconfig['batch_size'] = 1\n",
    "#dconfig['load_complete_graph'] = False\n",
    "dconfig['drop_nontrigger_percentage'] = 0\n",
    "#del dconfig['add_geo_features'], dconfig['load_complete_graph'], dconfig['use_physics_pred']\n",
    "\n",
    "train_data, val_data, test_data = dataloaders.get_data_loaders(**dconfig)\n"
   ]
  },
  {
   "cell_type": "code",
   "execution_count": 9,
   "id": "a46c9954",
   "metadata": {
    "scrolled": true
   },
   "outputs": [
    {
     "name": "stderr",
     "output_type": "stream",
     "text": [
      "/home1/giorgian/projects/trigger-detection-pipeline/sPHENIX/trigger-detection/BGN-ST/utils/log.py:28: FutureWarning: You are using `torch.load` with `weights_only=False` (the current default value), which uses the default pickle module implicitly. It is possible to construct malicious pickle data which will execute arbitrary code during unpickling (See https://github.com/pytorch/pytorch/blob/main/SECURITY.md#untrusted-models for more details). In a future release, the default value for `weights_only` will be flipped to `True`. This limits the functions that could be executed during unpickling. Arbitrary objects will no longer be allowed to be loaded via this mode unless they are explicitly allowlisted by the user via `torch.serialization.add_safe_globals`. We recommend you start setting `weights_only=True` for any use case where you don't have full control of the loaded file. Please open an issue on GitHub for any issues related to this experimental feature.\n",
      "  checkpoint = torch.load(checkpoint_file)\n"
     ]
    }
   ],
   "source": [
    "DEVICE = 'cuda:0'\n",
    "# α=0.7\n",
    "#checkpoint_file = 'train_results/biatt-augment-adj/experiment_2024-11-11_07:20:02/checkpoints/model_checkpoint_016.pth.tar'\n",
    "#checkpoint_file = '/disks/disk1/giorgian/old-trainings/biatt-augment-adj/experiment_2023-08-03_21:42:12/checkpoints/model_checkpoint_016.pth.tar'\n",
    "#checkpoint_file= '/disks/disk1/giorgian/old-trainings/biatt-augment-adj/experiment_2023-06-13_10:12:01/checkpoints/model_checkpoint_016.pth.tar'\n",
    "checkpoint_file = '/disks/disk1/giorgian/old-trainings/train_results/biatt-augment-adj/experiment_2025-05-02_07:27:14/checkpoints/model_checkpoint_016.pth.tar'\n",
    "mconfig = config['model']\n",
    "model = Model(**mconfig)\n",
    "oconfig = config['optimizer']\n",
    "params = model.parameters()\n",
    "if config['optimizer']['type'] == 'Adam':\n",
    "    optimizer = torch.optim.Adam(params=params,\n",
    "            lr=oconfig['learning_rate'],\n",
    "            weight_decay=oconfig['weight_decay'],\n",
    "            betas=[oconfig['beta_1'], oconfig['beta_2']],\n",
    "            eps=oconfig['eps']\n",
    "    )\n",
    "elif oconfig['type'] == 'SGD':\n",
    "    optimizer = torch.optim.SGD(params=params, lr=oconfig['learning_rate'], momentum=oconfig['momentum'], weight_decay=oconfig['weight_decay'])\n",
    "model, optimizer = load_checkpoint(checkpoint_file, model, optimizer=optimizer)\n",
    "model = model.to(DEVICE)\n",
    "model.eval()\n",
    "for p_state in optimizer.state.values():\n",
    "    for k, v in p_state.items():\n",
    "        if isinstance(v, torch.Tensor):\n",
    "            p_state[k] = v.to(DEVICE)"
   ]
  },
  {
   "cell_type": "code",
   "execution_count": 10,
   "id": "a2293a00",
   "metadata": {},
   "outputs": [
    {
     "data": {
      "application/vnd.jupyter.widget-view+json": {
       "model_id": "49d6c85ab1e3467991e8860cb79b6ee6",
       "version_major": 2,
       "version_minor": 0
      },
      "text/plain": [
       "  0%|          | 0/10000 [00:00<?, ?it/s]"
      ]
     },
     "metadata": {},
     "output_type": "display_data"
    }
   ],
   "source": [
    "trigger_preds = []\n",
    "track_vectors = []\n",
    "TOTAL = int(10e3)\n",
    "model.eval()\n",
    "for batch, mask in tqdm(islice(val_data, 0, TOTAL), total=TOTAL):\n",
    "    tracks = batch.track_vector.to(DEVICE)\n",
    "    if tracks.shape[1] == 0:\n",
    "        continue\n",
    "        \n",
    "    mask = mask.to(DEVICE)\n",
    "    trigger_preds.extend(model(tracks, mask)[:, -1].detach().cpu().numpy())\n",
    "    track_vectors.extend(batch.track_vector.cpu().numpy())\n",
    "trigger_preds = np.array(trigger_preds)"
   ]
  },
  {
   "cell_type": "code",
   "execution_count": 11,
   "id": "1f9e496f-6a37-4cc1-a1d9-3f89de7d324e",
   "metadata": {},
   "outputs": [
    {
     "data": {
      "text/plain": [
       "np.float64(6.52112676056338)"
      ]
     },
     "execution_count": 11,
     "metadata": {},
     "output_type": "execute_result"
    }
   ],
   "source": [
    "np.mean([len(tv) for tv in track_vectors])"
   ]
  },
  {
   "cell_type": "code",
   "execution_count": 12,
   "id": "ec52c2a1-f467-4465-af2e-3e3206f92c50",
   "metadata": {},
   "outputs": [
    {
     "data": {
      "text/plain": [
       "61.97183098591549"
      ]
     },
     "execution_count": 12,
     "metadata": {},
     "output_type": "execute_result"
    }
   ],
   "source": [
    "np.mean(np.array(trigger_preds) > 0).item()*100"
   ]
  },
  {
   "cell_type": "code",
   "execution_count": 13,
   "id": "5d8a6a17-9da8-4ec1-9db0-8a8c00b0694c",
   "metadata": {
    "scrolled": true
   },
   "outputs": [
    {
     "data": {
      "text/plain": [
       "tensor([0., 1., 1., 0., 0.])"
      ]
     },
     "execution_count": 13,
     "metadata": {},
     "output_type": "execute_result"
    }
   ],
   "source": [
    "batch.trigger_node"
   ]
  },
  {
   "cell_type": "code",
   "execution_count": 14,
   "id": "ada7da8c-646d-4650-b266-aa30330bdb76",
   "metadata": {},
   "outputs": [
    {
     "data": {
      "application/vnd.jupyter.widget-view+json": {
       "model_id": "922ced3bacbc4d79b8f6c0ec5d8a16a6",
       "version_major": 2,
       "version_minor": 0
      },
      "text/plain": [
       "  0%|          | 0/10000 [00:00<?, ?it/s]"
      ]
     },
     "metadata": {},
     "output_type": "display_data"
    }
   ],
   "source": [
    "nontrigger_preds = []\n",
    "track_vectors = []\n",
    "TOTAL = int(10e3)\n",
    "model.eval()\n",
    "for batch, mask in tqdm(islice(val_data, 0, TOTAL), total=TOTAL):\n",
    "    tracks = batch.track_vector.to(DEVICE)\n",
    "    if tracks.shape[1] == 0:\n",
    "        continue\n",
    "        \n",
    "    mask = (mask * (~batch.trigger_node.to(torch.bool))).to(DEVICE) \n",
    "    nontrigger_preds.extend(model(tracks, mask)[:, -1].detach().cpu().numpy())\n",
    "    track_vectors.extend(batch.track_vector.cpu().numpy())\n",
    "\n",
    "nontrigger_preds = np.array(nontrigger_preds)"
   ]
  },
  {
   "cell_type": "code",
   "execution_count": 15,
   "id": "d12ff15e-f3f7-4fd8-a45e-0d2b42b7f677",
   "metadata": {},
   "outputs": [
    {
     "data": {
      "text/plain": [
       "38.028169014084504"
      ]
     },
     "execution_count": 15,
     "metadata": {},
     "output_type": "execute_result"
    }
   ],
   "source": [
    "np.mean(np.array(nontrigger_preds) > 0).item()*100"
   ]
  },
  {
   "cell_type": "code",
   "execution_count": 16,
   "id": "ccd3054d-1aa7-485a-99f4-cc88dbcfce58",
   "metadata": {},
   "outputs": [],
   "source": [
    "thresholds = np.unique(np.concatenate([trigger_preds, nontrigger_preds]))"
   ]
  },
  {
   "cell_type": "code",
   "execution_count": 17,
   "id": "70a90390-5cba-4dd3-a528-1f80601a4a67",
   "metadata": {},
   "outputs": [
    {
     "data": {
      "text/plain": [
       "array([-4.7622595 , -2.7164977 , -2.173026  , -2.125841  , -2.1195264 ,\n",
       "       -2.0709488 , -2.0481584 , -1.9852026 , -1.8839657 , -1.8368502 ,\n",
       "       -1.7471566 , -1.5634375 , -1.5062262 , -1.4949632 , -1.4527297 ,\n",
       "       -1.1789963 , -1.1730459 , -1.1691802 , -1.1573035 , -1.0537739 ,\n",
       "       -1.0494274 , -1.0108399 , -0.9739859 , -0.9715971 , -0.92208475,\n",
       "       -0.83643764, -0.7676793 , -0.7454579 , -0.7058319 , -0.6715111 ,\n",
       "       -0.64513636, -0.63520724, -0.5823704 , -0.56846464, -0.52894443,\n",
       "       -0.4966774 , -0.48514706, -0.47812164, -0.4553821 , -0.44850096,\n",
       "       -0.41570878, -0.38589898, -0.35988122, -0.35139257, -0.34597346,\n",
       "       -0.30291763, -0.30286533, -0.30278993, -0.25042564, -0.23979583,\n",
       "       -0.23372358, -0.20058882, -0.18753439, -0.16307348, -0.16124687,\n",
       "       -0.15405959, -0.09879181, -0.09598788, -0.09419899, -0.08904812,\n",
       "       -0.08097337, -0.05807906, -0.05441467, -0.04420199, -0.04038484,\n",
       "       -0.03822196, -0.00808918,  0.04274103,  0.05325871,  0.05659888,\n",
       "        0.05822501,  0.07554748,  0.08975939,  0.10646668,  0.11462462,\n",
       "        0.13800682,  0.1421406 ,  0.14664337,  0.14769264,  0.1556288 ,\n",
       "        0.23733997,  0.2389228 ,  0.2487365 ,  0.2538307 ,  0.27789482,\n",
       "        0.2871688 ,  0.3170324 ,  0.32690445,  0.36377272,  0.44805592,\n",
       "        0.47494233,  0.48141408,  0.50348467,  0.5046139 ,  0.5116189 ,\n",
       "        0.5275494 ,  0.52846986,  0.5370884 ,  0.5793375 ,  0.591674  ,\n",
       "        0.60633945,  0.6108277 ,  0.6135605 ,  0.6218716 ,  0.62904346,\n",
       "        0.6517141 ,  0.6559439 ,  0.67457247,  0.7100215 ,  0.8065615 ,\n",
       "        0.86304647,  0.8890479 ,  0.92631227,  0.9400865 ,  0.96002156,\n",
       "        0.9624773 ,  0.9835662 ,  0.9890101 ,  0.9956958 ,  1.006199  ,\n",
       "        1.0124327 ,  1.0290395 ,  1.0553284 ,  1.0664701 ,  1.0742456 ,\n",
       "        1.1100662 ,  1.1144676 ,  1.1442235 ,  1.150269  ,  1.1506248 ,\n",
       "        1.1641483 ,  1.210028  ,  1.2208467 ,  1.2687147 ,  1.2747879 ,\n",
       "        1.2932479 ,  1.3048632 ,  1.4308565 ], dtype=float32)"
      ]
     },
     "execution_count": 17,
     "metadata": {},
     "output_type": "execute_result"
    }
   ],
   "source": [
    "thresholds"
   ]
  },
  {
   "cell_type": "code",
   "execution_count": 18,
   "id": "79e1a458-e9b4-40dc-8612-1bfaf6c9ceef",
   "metadata": {},
   "outputs": [
    {
     "data": {
      "text/plain": [
       "<matplotlib.legend.Legend at 0x7f6fad8447d0>"
      ]
     },
     "execution_count": 18,
     "metadata": {},
     "output_type": "execute_result"
    },
    {
     "data": {
      "image/png": "[encoded data removed]",
      "text/plain": [
       "<Figure size 640x480 with 1 Axes>"
      ]
     },
     "metadata": {},
     "output_type": "display_data"
    }
   ],
   "source": [
    "plt.style.use('ggplot')\n",
    "tpr = [np.mean(trigger_preds > threshold) for threshold in thresholds]\n",
    "fpr = [np.mean(nontrigger_preds > threshold) for threshold in thresholds]\n",
    "tnr = [np.mean(nontrigger_preds <= threshold) for threshold in thresholds]\n",
    "fnr = [np.mean(trigger_preds <= threshold) for threshold in thresholds]\n",
    "\n",
    "\n",
    "plt.plot(thresholds, tpr, label='TPR')\n",
    "plt.plot(thresholds, fpr, label='FPR')\n",
    "plt.plot(thresholds, tnr, label='TNR')\n",
    "plt.plot(thresholds, fnr, label='FNR')\n",
    "\n",
    "plt.xlabel('Threshold')\n",
    "plt.legend()"
   ]
  },
  {
   "cell_type": "code",
   "execution_count": 19,
   "id": "3747ef2c-761c-4d58-a7d1-5e1e7dc0cc26",
   "metadata": {},
   "outputs": [
    {
     "data": {
      "text/plain": [
       "[<matplotlib.lines.Line2D at 0x7f6fd05056a0>]"
      ]
     },
     "execution_count": 19,
     "metadata": {},
     "output_type": "execute_result"
    },
    {
     "data": {
      "image/png": "[encoded data removed]",
      "text/plain": [
       "<Figure size 640x480 with 1 Axes>"
      ]
     },
     "metadata": {},
     "output_type": "display_data"
    }
   ],
   "source": [
    "plt.style.use('ggplot')\n",
    "tpr = [np.mean(trigger_preds > threshold) for threshold in thresholds]\n",
    "fpr = [np.mean(nontrigger_preds > threshold) for threshold in thresholds]\n",
    "tnr = [np.mean(nontrigger_preds <= threshold) for threshold in thresholds]\n",
    "fnr = [np.mean(trigger_preds <= threshold) for threshold in thresholds]\n",
    "\n",
    "\n",
    "plt.plot(fpr, tpr)\n",
    "\n",
    "\n",
    "plt.xlabel('FPR')\n",
    "plt.ylabel('TPR')\n",
    "plt.plot(np.linspace(0, 1), np.linspace(0, 1))\n"
   ]
  },
  {
   "cell_type": "code",
   "execution_count": 20,
   "id": "1ae4c17c-2d36-4075-835f-ca034af43320",
   "metadata": {},
   "outputs": [
    {
     "data": {
      "text/plain": [
       "(array([3., 0., 0., 0., 1., 0., 0., 0., 0., 1., 1., 2., 0., 1., 1., 0., 2.,\n",
       "        0., 2., 0., 1., 2., 1., 1., 2., 2., 3., 1., 0., 3., 4., 0., 5., 1.,\n",
       "        1., 1., 1., 2., 6., 1., 1., 1., 2., 1., 4., 3., 5., 0., 1., 1.]),\n",
       " array([0.1072134 , 0.12120983, 0.13520625, 0.14920267, 0.16319911,\n",
       "        0.17719553, 0.19119197, 0.20518839, 0.21918482, 0.23318124,\n",
       "        0.24717766, 0.26117408, 0.27517053, 0.28916696, 0.30316338,\n",
       "        0.3171598 , 0.33115622, 0.34515265, 0.3591491 , 0.37314552,\n",
       "        0.38714194, 0.40113837, 0.41513479, 0.42913124, 0.44312766,\n",
       "        0.45712408, 0.47112051, 0.48511693, 0.49911335, 0.5131098 ,\n",
       "        0.52710623, 0.54110265, 0.55509907, 0.56909549, 0.58309191,\n",
       "        0.59708834, 0.61108476, 0.62508118, 0.6390776 , 0.65307403,\n",
       "        0.66707045, 0.68106687, 0.69506329, 0.70905972, 0.72305614,\n",
       "        0.73705262, 0.75104904, 0.76504546, 0.77904189, 0.79303831,\n",
       "        0.80703473]),\n",
       " <BarContainer object of 50 artists>)"
      ]
     },
     "execution_count": 20,
     "metadata": {},
     "output_type": "execute_result"
    },
    {
     "data": {
      "image/png": "[encoded data removed]",
      "text/plain": [
       "<Figure size 640x480 with 1 Axes>"
      ]
     },
     "metadata": {},
     "output_type": "display_data"
    }
   ],
   "source": [
    "plt.hist(1/(1 + np.exp(-trigger_preds)), bins=50)"
   ]
  },
  {
   "cell_type": "code",
   "execution_count": 21,
   "id": "577ece3c-f9e7-4a0c-8d32-85a5524948ea",
   "metadata": {},
   "outputs": [
    {
     "data": {
      "text/plain": [
       "(array([5., 0., 0., 1., 0., 0., 3., 1., 2., 0., 0., 3., 0., 0., 3., 0., 1.,\n",
       "        2., 0., 0., 2., 1., 1., 2., 3., 2., 2., 2., 1., 0., 6., 1., 4., 1.,\n",
       "        1., 0., 2., 0., 0., 4., 1., 3., 0., 0., 0., 2., 3., 1., 1., 4.]),\n",
       " array([0.00847386, 0.02403743, 0.03960099, 0.05516456, 0.07072813,\n",
       "        0.0862917 , 0.10185527, 0.11741884, 0.1329824 , 0.14854598,\n",
       "        0.16410954, 0.17967312, 0.19523668, 0.21080026, 0.22636382,\n",
       "        0.2419274 , 0.25749096, 0.27305451, 0.28861809, 0.30418167,\n",
       "        0.31974521, 0.33530879, 0.35087237, 0.36643595, 0.38199949,\n",
       "        0.39756307, 0.41312665, 0.4286902 , 0.44425377, 0.45981735,\n",
       "        0.47538093, 0.49094447, 0.50650805, 0.52207166, 0.53763521,\n",
       "        0.55319881, 0.56876236, 0.58432591, 0.59988952, 0.61545306,\n",
       "        0.63101661, 0.64658022, 0.66214377, 0.67770731, 0.69327092,\n",
       "        0.70883447, 0.72439808, 0.73996162, 0.75552517, 0.77108878,\n",
       "        0.78665233]),\n",
       " <BarContainer object of 50 artists>)"
      ]
     },
     "execution_count": 21,
     "metadata": {},
     "output_type": "execute_result"
    },
    {
     "data": {
      "image/png": "[encoded data removed]",
      "text/plain": [
       "<Figure size 640x480 with 1 Axes>"
      ]
     },
     "metadata": {},
     "output_type": "display_data"
    }
   ],
   "source": [
    "plt.hist(1/(1 + np.exp(-nontrigger_preds)), bins=50)"
   ]
  },
  {
   "cell_type": "markdown",
   "id": "bbc2b895-bc3b-4700-82bc-55119e5fde08",
   "metadata": {},
   "source": [
    "# Fine-Tune"
   ]
  },
  {
   "cell_type": "code",
   "execution_count": 22,
   "id": "2b04dccb-c823-4f96-b397-f550a2436763",
   "metadata": {},
   "outputs": [
    {
     "data": {
      "application/vnd.jupyter.widget-view+json": {
       "model_id": "7c37e7ea7f194cb8ad428239e57208de",
       "version_major": 2,
       "version_minor": 0
      },
      "text/plain": [
       "  0%|          | 0/40 [00:00<?, ?it/s]"
      ]
     },
     "metadata": {},
     "output_type": "display_data"
    }
   ],
   "source": [
    "trigger_preds = []\n",
    "track_vectors = []\n",
    "TOTAL = 40\n",
    "model.train()\n",
    "for batch, mask in tqdm(islice(val_data, 0, TOTAL), total=TOTAL):\n",
    "    tracks = batch.track_vector.to(DEVICE)\n",
    "    if tracks.shape[1] == 0:\n",
    "        continue\n",
    "    loss = 0\n",
    "    mask = mask.to(DEVICE)\n",
    "    pred_labels = model(tracks, mask)\n",
    "    ce_loss = F.cross_entropy(pred_labels, torch.ones(tracks.shape[0], device=DEVICE, dtype=torch.long))\n",
    "    loss += ce_loss\n",
    "\n",
    "\n",
    "    mask = mask * (~batch.trigger_node.to(torch.bool).to(DEVICE))\n",
    "    pred_labels = model(tracks, mask)\n",
    "    ce_loss = F.cross_entropy(pred_labels, torch.zeros(tracks.shape[0], device=DEVICE, dtype=torch.long))\n",
    "    loss += ce_loss\n",
    "\n",
    "    if optimizer is not None:\n",
    "        optimizer.zero_grad()\n",
    "        loss.backward()\n",
    "        optimizer.step()\n",
    "    "
   ]
  },
  {
   "cell_type": "code",
   "execution_count": 23,
   "id": "231ca99b-677c-481c-8a1a-3e81cf99f063",
   "metadata": {},
   "outputs": [
    {
     "data": {
      "application/vnd.jupyter.widget-view+json": {
       "model_id": "d11b02c0b172426687e3c191e2f2641b",
       "version_major": 2,
       "version_minor": 0
      },
      "text/plain": [
       "  0%|          | 0/10000 [00:00<?, ?it/s]"
      ]
     },
     "metadata": {},
     "output_type": "display_data"
    }
   ],
   "source": [
    "trigger_preds = []\n",
    "track_vectors = []\n",
    "TOTAL = int(10e3)\n",
    "model.eval()\n",
    "for batch, mask in tqdm(islice(val_data, 40, TOTAL), total=TOTAL):\n",
    "    tracks = batch.track_vector.to(DEVICE)\n",
    "    if tracks.shape[1] == 0:\n",
    "        continue\n",
    "        \n",
    "    mask = mask.to(DEVICE)\n",
    "    trigger_preds.extend(model(tracks, mask)[:, -1].detach().cpu().numpy())\n",
    "    track_vectors.extend(batch.track_vector.cpu().numpy())\n",
    "trigger_preds = np.array(trigger_preds)"
   ]
  },
  {
   "cell_type": "code",
   "execution_count": 24,
   "id": "b53873b2-c7eb-4b2b-a652-decada370dc2",
   "metadata": {},
   "outputs": [
    {
     "data": {
      "text/plain": [
       "74.19354838709677"
      ]
     },
     "execution_count": 24,
     "metadata": {},
     "output_type": "execute_result"
    }
   ],
   "source": [
    "np.mean(np.array(trigger_preds) > 0).item()*100"
   ]
  },
  {
   "cell_type": "code",
   "execution_count": 25,
   "id": "bb4d5db3-08c6-4412-85dd-81fbcc5b9bc5",
   "metadata": {},
   "outputs": [
    {
     "data": {
      "application/vnd.jupyter.widget-view+json": {
       "model_id": "61913ee411754638bfa8d90696d3fed4",
       "version_major": 2,
       "version_minor": 0
      },
      "text/plain": [
       "  0%|          | 0/10000 [00:00<?, ?it/s]"
      ]
     },
     "metadata": {},
     "output_type": "display_data"
    }
   ],
   "source": [
    "nontrigger_preds = []\n",
    "track_vectors = []\n",
    "TOTAL = int(10e3)\n",
    "model.eval()\n",
    "for batch, mask in tqdm(islice(val_data, 40, TOTAL), total=TOTAL):\n",
    "    tracks = batch.track_vector.to(DEVICE)\n",
    "    if tracks.shape[1] == 0:\n",
    "        continue\n",
    "        \n",
    "    mask = (mask * (~batch.trigger_node.to(torch.bool))).to(DEVICE) \n",
    "    nontrigger_preds.extend(model(tracks, mask)[:, -1].detach().cpu().numpy())\n",
    "    track_vectors.extend(batch.track_vector.cpu().numpy())\n",
    "\n",
    "nontrigger_preds = np.array(nontrigger_preds)"
   ]
  },
  {
   "cell_type": "code",
   "execution_count": 26,
   "id": "f44e459a-31d1-4ec1-842a-0ad2ac47c53e",
   "metadata": {},
   "outputs": [
    {
     "data": {
      "text/plain": [
       "45.16129032258064"
      ]
     },
     "execution_count": 26,
     "metadata": {},
     "output_type": "execute_result"
    }
   ],
   "source": [
    "np.mean(np.array(nontrigger_preds) > 0).item()*100"
   ]
  },
  {
   "cell_type": "code",
   "execution_count": 27,
   "id": "3b8f4030-5687-45b3-b4d7-7acd420ce8cd",
   "metadata": {},
   "outputs": [
    {
     "name": "stderr",
     "output_type": "stream",
     "text": [
      "/home1/giorgian/projects/trigger-detection-pipeline/sPHENIX/trigger-detection/BGN-ST/utils/log.py:28: FutureWarning: You are using `torch.load` with `weights_only=False` (the current default value), which uses the default pickle module implicitly. It is possible to construct malicious pickle data which will execute arbitrary code during unpickling (See https://github.com/pytorch/pytorch/blob/main/SECURITY.md#untrusted-models for more details). In a future release, the default value for `weights_only` will be flipped to `True`. This limits the functions that could be executed during unpickling. Arbitrary objects will no longer be allowed to be loaded via this mode unless they are explicitly allowlisted by the user via `torch.serialization.add_safe_globals`. We recommend you start setting `weights_only=True` for any use case where you don't have full control of the loaded file. Please open an issue on GitHub for any issues related to this experimental feature.\n",
      "  checkpoint = torch.load(checkpoint_file)\n"
     ]
    }
   ],
   "source": [
    "import torch\n",
    "\n",
    "DEVICE = \"cuda:0\"\n",
    "\n",
    "checkpoint_file = (\n",
    "    \"/disks/disk1/giorgian/old-trainings/train_results/biatt-augment-adj/\"\n",
    "    \"experiment_2025-05-02_07:27:14/checkpoints/model_checkpoint_016.pth.tar\"\n",
    ")\n",
    "\n",
    "mconfig = config[\"model\"]\n",
    "oconfig = config[\"optimizer\"]\n",
    "\n",
    "model = Model(**mconfig)\n",
    "\n",
    "# load the checkpoint *weights only* and keep the Adam moments fresh\n",
    "model = load_checkpoint(checkpoint_file, model, optimizer=None)\n",
    "\n",
    "for p in model.parameters():                # freeze everything …\n",
    "    p.requires_grad = False\n",
    "\n",
    "for p in model._pred_layers[2].parameters():  # … except the last block\n",
    "    p.requires_grad = True\n",
    "\n",
    "params = model._pred_layers[2].parameters()\n",
    "\n",
    "if oconfig[\"type\"] == \"Adam\":\n",
    "    optimizer = torch.optim.Adam(\n",
    "        params=params,\n",
    "        lr=oconfig[\"learning_rate\"],\n",
    "        weight_decay=oconfig[\"weight_decay\"],\n",
    "        betas=[oconfig[\"beta_1\"], oconfig[\"beta_2\"]],\n",
    "        eps=oconfig[\"eps\"],\n",
    "    )\n",
    "elif oconfig[\"type\"] == \"SGD\":\n",
    "    optimizer = torch.optim.SGD(\n",
    "        params=params,\n",
    "        lr=oconfig[\"learning_rate\"],\n",
    "        momentum=oconfig[\"momentum\"],\n",
    "        weight_decay=oconfig[\"weight_decay\"],\n",
    "    )\n",
    "else:\n",
    "    raise ValueError(f\"Unsupported optimizer {oconfig['type']}\")\n",
    "\n",
    "# ─────────────────────────── device placement ────────────────────────────────\n",
    "model = model.to(DEVICE)\n",
    "model.eval()                                # keep the call to match original style\n",
    "\n",
    "# the optimiser has no state yet, but move anything that appears later\n",
    "for p_state in optimizer.state.values():\n",
    "    for k, v in p_state.items():\n",
    "        if isinstance(v, torch.Tensor):\n",
    "            p_state[k] = v.to(DEVICE)\n"
   ]
  },
  {
   "cell_type": "code",
   "execution_count": 30,
   "id": "ec2935f4-1a72-480a-b152-724e01c0c6b1",
   "metadata": {},
   "outputs": [
    {
     "data": {
      "application/vnd.jupyter.widget-view+json": {
       "model_id": "a65a2dfed4b245adbb57b179c32504af",
       "version_major": 2,
       "version_minor": 0
      },
      "text/plain": [
       "  0%|          | 0/10000 [00:00<?, ?it/s]"
      ]
     },
     "metadata": {},
     "output_type": "display_data"
    },
    {
     "data": {
      "text/plain": [
       "74.19354838709677"
      ]
     },
     "execution_count": 30,
     "metadata": {},
     "output_type": "execute_result"
    }
   ],
   "source": [
    "trigger_preds = []\n",
    "track_vectors = []\n",
    "TOTAL = int(10e3)\n",
    "model.eval()\n",
    "for batch, mask in tqdm(islice(val_data, 40, TOTAL), total=TOTAL):\n",
    "    tracks = batch.track_vector.to(DEVICE)\n",
    "    if tracks.shape[1] == 0:\n",
    "        continue\n",
    "        \n",
    "    mask = mask.to(DEVICE)\n",
    "    trigger_preds.extend(model(tracks, mask)[:, -1].detach().cpu().numpy())\n",
    "    track_vectors.extend(batch.track_vector.cpu().numpy())\n",
    "trigger_preds = np.array(trigger_preds)\n",
    "np.mean(np.array(trigger_preds) > 0).item()*100"
   ]
  },
  {
   "cell_type": "code",
   "execution_count": 31,
   "id": "cc0c18eb-cb67-4f9b-b7d6-ad5fefd7bc18",
   "metadata": {},
   "outputs": [
    {
     "data": {
      "application/vnd.jupyter.widget-view+json": {
       "model_id": "fb3257d54c5e4852a4d893f923076dc2",
       "version_major": 2,
       "version_minor": 0
      },
      "text/plain": [
       "  0%|          | 0/10000 [00:00<?, ?it/s]"
      ]
     },
     "metadata": {},
     "output_type": "display_data"
    },
    {
     "data": {
      "text/plain": [
       "58.06451612903226"
      ]
     },
     "execution_count": 31,
     "metadata": {},
     "output_type": "execute_result"
    }
   ],
   "source": [
    "nontrigger_preds = []\n",
    "track_vectors = []\n",
    "TOTAL = int(10e3)\n",
    "model.eval()\n",
    "for batch, mask in tqdm(islice(val_data, 40, TOTAL), total=TOTAL):\n",
    "    tracks = batch.track_vector.to(DEVICE)\n",
    "    if tracks.shape[1] == 0:\n",
    "        continue\n",
    "        \n",
    "    mask = (mask * (~batch.trigger_node.to(torch.bool))).to(DEVICE) \n",
    "    nontrigger_preds.extend(model(tracks, mask)[:, -1].detach().cpu().numpy())\n",
    "    track_vectors.extend(batch.track_vector.cpu().numpy())\n",
    "\n",
    "nontrigger_preds = np.array(nontrigger_preds)\n",
    "np.mean(np.array(nontrigger_preds) > 0).item()*100"
   ]
  },
  {
   "cell_type": "code",
   "execution_count": null,
   "id": "088d5380-92bc-4273-96e1-6d8ce23d2bde",
   "metadata": {},
   "outputs": [],
   "source": []
  }
 ],
 "metadata": {
  "kernelspec": {
   "display_name": "Python 3 (ipykernel)",
   "language": "python",
   "name": "python3"
  },
  "language_info": {
   "codemirror_mode": {
    "name": "ipython",
    "version": 3
   },
   "file_extension": ".py",
   "mimetype": "text/x-python",
   "name": "python",
   "nbconvert_exporter": "python",
   "pygments_lexer": "ipython3",
   "version": "3.12.4"
  }
 },
 "nbformat": 4,
 "nbformat_minor": 5
}
