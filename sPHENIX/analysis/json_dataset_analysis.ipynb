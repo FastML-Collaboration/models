{
 "cells": [
  {
   "cell_type": "code",
   "execution_count": 1,
   "metadata": {},
   "outputs": [],
   "source": [
    "import ujson\n",
    "import os\n",
    "import numpy as np\n",
    "import glob\n",
    "from itertools import combinations\n",
    "from tqdm import tqdm"
   ]
  },
  {
   "cell_type": "code",
   "execution_count": 2,
   "metadata": {},
   "outputs": [],
   "source": [
    "T_DATA_DIR = '/disks/disk1/tingtingxuan/HFMLNewFiles-old/Signal'\n",
    "NT_DATA_DIR = '/disks/disk1/tingtingxuan/HFMLNewFiles-old/Background'"
   ]
  },
  {
   "cell_type": "code",
   "execution_count": 3,
   "metadata": {},
   "outputs": [
    {
     "name": "stdout",
     "output_type": "stream",
     "text": [
      "10593 10629\n"
     ]
    }
   ],
   "source": [
    "t_filenames = sorted(glob.glob(T_DATA_DIR + '/*.json'))\n",
    "nt_filenames = sorted(glob.glob(NT_DATA_DIR + '/*.json'))\n",
    "print(len(t_filenames), len(nt_filenames))"
   ]
  },
  {
   "cell_type": "code",
   "execution_count": 4,
   "metadata": {},
   "outputs": [],
   "source": [
    "t_filenames = t_filenames[:100]\n",
    "nt_filenames = nt_filenames[:100]"
   ]
  },
  {
   "cell_type": "code",
   "execution_count": 5,
   "metadata": {},
   "outputs": [],
   "source": [
    "# for filename in filenames:\n",
    "#     remove = False\n",
    "#     with open(filename,'rb') as z:\n",
    "#         try:\n",
    "#             raw_data = ujson.loads(z.read())\n",
    "#         except:\n",
    "#             print('an error occurred when loading the json file!!!! ###################################')\n",
    "#             remove = True\n",
    "#     if remove:\n",
    "#         print(filename)\n",
    "#         os.remove(filename)"
   ]
  },
  {
   "cell_type": "markdown",
   "metadata": {},
   "source": [
    "# Basic Check"
   ]
  },
  {
   "cell_type": "code",
   "execution_count": 6,
   "metadata": {},
   "outputs": [],
   "source": [
    "filename = t_filenames[0]\n",
    "with open(filename,'rb') as z:\n",
    "    try:\n",
    "        raw_data = ujson.loads(z.read())\n",
    "    except:\n",
    "        print('an error occurred when loading the json file!!!! ###################################')"
   ]
  },
  {
   "cell_type": "code",
   "execution_count": 7,
   "metadata": {},
   "outputs": [
    {
     "name": "stdout",
     "output_type": "stream",
     "text": [
      "dict_keys(['MetaData', 'TruthTriggerFlag', 'RawHit', 'TruthHit'])\n",
      "dict_keys(['Description', 'EventID', 'Unit', 'CollisionVertex', 'Layer_Count', 'PixelHalfLayerIndex_Count', 'Layer0', 'Layer1', 'Layer2'])\n",
      "dict_keys(['Description', 'MVTXHits', 'INTTHITS'])\n",
      "dict_keys(['Description', 'TruthTracks'])\n",
      "dict_keys(['OriginVertexPoint', 'TrackSequenceInEvent', 'HitInTruthTrack', 'TrackID', 'MVTXHitID', 'INTTHitID', 'ParticleTypeID', 'TrackMomentum', 'TrackEnergy'])\n"
     ]
    }
   ],
   "source": [
    "print(raw_data['Events'][0].keys())\n",
    "print(raw_data['Events'][0]['MetaData'].keys())\n",
    "print(raw_data['Events'][0]['RawHit'].keys())\n",
    "print(raw_data['Events'][0]['TruthHit'].keys())\n",
    "print(raw_data['Events'][0]['TruthHit']['TruthTracks'][0].keys())"
   ]
  },
  {
   "cell_type": "markdown",
   "metadata": {},
   "source": [
    "# Feature Distribution"
   ]
  },
  {
   "cell_type": "code",
   "execution_count": 8,
   "metadata": {},
   "outputs": [],
   "source": [
    "import matplotlib.pyplot as plt\n",
    "from matplotlib.pyplot import figure\n",
    "import seaborn as sns"
   ]
  },
  {
   "cell_type": "code",
   "execution_count": 9,
   "metadata": {},
   "outputs": [],
   "source": [
    "ggplot_styles = {\n",
    "    'axes.edgecolor': 'white',\n",
    "    'axes.facecolor': 'EBEBEB',\n",
    "    'axes.grid': True,\n",
    "    'axes.grid.which': 'both',\n",
    "    'axes.spines.left': False,\n",
    "    'axes.spines.right': False,\n",
    "    'axes.spines.top': False,\n",
    "    'axes.spines.bottom': False,\n",
    "    'grid.color': 'white',\n",
    "    'grid.linewidth': '1.2',\n",
    "    'xtick.color': '555555',\n",
    "    'xtick.major.bottom': True,\n",
    "    'xtick.minor.bottom': False,\n",
    "    'ytick.color': '555555',\n",
    "    'ytick.major.left': True,\n",
    "    'ytick.minor.left': False,\n",
    "}\n",
    "plt.rcParams.update(ggplot_styles)"
   ]
  },
  {
   "cell_type": "code",
   "execution_count": 8,
   "metadata": {},
   "outputs": [],
   "source": [
    "def get_event_list(filenames, n_events):\n",
    "    event_list = []\n",
    "    count = 0\n",
    "    for filename in filenames:\n",
    "        with open(filename,'rb') as z:\n",
    "            try:\n",
    "                raw_data = ujson.loads(z.read())\n",
    "            except:\n",
    "                print('an error occurred when loading the json file!!!! ###################################')\n",
    "        for event in raw_data['Events']:\n",
    "            event_list.append(event)\n",
    "            count += 1\n",
    "            if count >= n_events:\n",
    "                break\n",
    "        if count >= n_events:\n",
    "            break\n",
    "    print(f'loaded {count} events.')\n",
    "    return event_list"
   ]
  },
  {
   "cell_type": "code",
   "execution_count": 9,
   "metadata": {},
   "outputs": [
    {
     "name": "stdout",
     "output_type": "stream",
     "text": [
      "loaded 10000 events.\n",
      "loaded 10000 events.\n"
     ]
    }
   ],
   "source": [
    "n_events = 10000\n",
    "trigger_events_list = get_event_list(t_filenames, n_events)\n",
    "nontrigger_events_list = get_event_list(nt_filenames, n_events)"
   ]
  },
  {
   "cell_type": "markdown",
   "metadata": {},
   "source": [
    "### #pixels"
   ]
  },
  {
   "cell_type": "code",
   "execution_count": 12,
   "metadata": {},
   "outputs": [],
   "source": [
    "def get_pixel_counts(event_list):\n",
    "    n_mvtxs = []\n",
    "    n_intts= []\n",
    "    n_pixels = []\n",
    "    for event in event_list:\n",
    "        n_mvtx = len(event['RawHit']['MVTXHits'])\n",
    "        n_intt = len(event['RawHit']['INTTHITS'])\n",
    "        n_pixel = n_mvtx + n_intt\n",
    "        n_mvtxs.append(n_mvtx)\n",
    "        n_intts.append(n_intt)\n",
    "        n_pixels.append(n_pixel)\n",
    "    return n_mvtxs, n_intts, n_pixels"
   ]
  },
  {
   "cell_type": "code",
   "execution_count": 13,
   "metadata": {},
   "outputs": [],
   "source": [
    "n_mvtxs1, n_intts1, n_pixels1 = get_pixel_counts(trigger_events_list)\n",
    "n_mvtxs2, n_intts2, n_pixels2 = get_pixel_counts(nontrigger_events_list)"
   ]
  },
  {
   "cell_type": "code",
   "execution_count": 14,
   "metadata": {},
   "outputs": [
    {
     "name": "stdout",
     "output_type": "stream",
     "text": [
      "240.5964 133.6078\n"
     ]
    },
    {
     "data": {
      "image/png": "[encoded data removed]",
      "text/plain": [
       "<Figure size 1000x600 with 1 Axes>"
      ]
     },
     "metadata": {
      "needs_background": "light"
     },
     "output_type": "display_data"
    }
   ],
   "source": [
    "figure(figsize=(10, 6), dpi=100)\n",
    "_, bins, _ = plt.hist(n_mvtxs1, bins=50, color='skyblue', label='Trigger', density=True)\n",
    "_ = plt.hist(n_mvtxs2, bins=bins, alpha=0.5, color='red', label = 'Background', density=True)\n",
    "plt.legend()\n",
    "plt.title('Number of MVTX pixels')\n",
    "print(np.mean(n_mvtxs1), np.mean(n_mvtxs2))"
   ]
  },
  {
   "cell_type": "code",
   "execution_count": 15,
   "metadata": {},
   "outputs": [
    {
     "name": "stdout",
     "output_type": "stream",
     "text": [
      "57.8427 30.8128\n"
     ]
    },
    {
     "data": {
      "image/png": "[encoded data removed]",
      "text/plain": [
       "<Figure size 1000x600 with 1 Axes>"
      ]
     },
     "metadata": {
      "needs_background": "light"
     },
     "output_type": "display_data"
    }
   ],
   "source": [
    "figure(figsize=(10, 6), dpi=100)\n",
    "_, bins, _ = plt.hist(n_intts1, bins=50, color='skyblue', label='Trigger', density=True)\n",
    "_ = plt.hist(n_intts2, bins=bins, alpha=0.5, color='red', label = 'Background', density=True)\n",
    "plt.legend()\n",
    "plt.title('Number of INTT pixels')\n",
    "print(np.mean(n_intts1), np.mean(n_intts2))"
   ]
  },
  {
   "cell_type": "code",
   "execution_count": 16,
   "metadata": {},
   "outputs": [
    {
     "name": "stdout",
     "output_type": "stream",
     "text": [
      "298.4391 164.4206\n"
     ]
    },
    {
     "data": {
      "image/png": "[encoded data removed]",
      "text/plain": [
       "<Figure size 1000x600 with 1 Axes>"
      ]
     },
     "metadata": {
      "needs_background": "light"
     },
     "output_type": "display_data"
    }
   ],
   "source": [
    "figure(figsize=(10, 6), dpi=100)\n",
    "_, bins, _ = plt.hist(n_pixels1, bins=50, color='skyblue', label='Trigger', density=True)\n",
    "_ = plt.hist(n_pixels2, bins=bins, alpha=0.5, color='red', label = 'Background', density=True)\n",
    "plt.legend()\n",
    "plt.title('Number of total pixels')\n",
    "print(np.mean(n_pixels1), np.mean(n_pixels2))"
   ]
  },
  {
   "cell_type": "markdown",
   "metadata": {},
   "source": [
    "### #tracks"
   ]
  },
  {
   "cell_type": "code",
   "execution_count": 17,
   "metadata": {},
   "outputs": [],
   "source": [
    "def get_track_counts(event_list):\n",
    "    n_tracks = []\n",
    "    for event in event_list:\n",
    "        n_track = len(event['TruthHit']['TruthTracks'])\n",
    "        n_tracks.append(n_track)\n",
    "    return n_tracks"
   ]
  },
  {
   "cell_type": "code",
   "execution_count": 18,
   "metadata": {},
   "outputs": [],
   "source": [
    "n_tracks1 = get_track_counts(trigger_events_list)\n",
    "n_tracks2 = get_track_counts(nontrigger_events_list)"
   ]
  },
  {
   "cell_type": "code",
   "execution_count": 19,
   "metadata": {},
   "outputs": [
    {
     "name": "stdout",
     "output_type": "stream",
     "text": [
      "14.5591 7.4383\n"
     ]
    },
    {
     "data": {
      "image/png": "[encoded data removed]",
      "text/plain": [
       "<Figure size 1000x600 with 1 Axes>"
      ]
     },
     "metadata": {
      "needs_background": "light"
     },
     "output_type": "display_data"
    }
   ],
   "source": [
    "figure(figsize=(10, 6), dpi=100)\n",
    "_, bins, _ = plt.hist(n_tracks1, bins=50, color='skyblue', label='Trigger', density=True)\n",
    "_ = plt.hist(n_tracks2, bins=bins, alpha=0.5, color='red', label = 'Background', density=True)\n",
    "plt.legend()\n",
    "plt.title('Number of tracks')\n",
    "print(np.mean(n_tracks1), np.mean(n_tracks2))"
   ]
  },
  {
   "cell_type": "markdown",
   "metadata": {},
   "source": [
    "### collision vertex distribution"
   ]
  },
  {
   "cell_type": "code",
   "execution_count": 20,
   "metadata": {},
   "outputs": [],
   "source": [
    "def get_cvs(event_list):\n",
    "    cvs = []\n",
    "    for event in event_list:\n",
    "        cv = event['MetaData']['CollisionVertex']\n",
    "        cvs.append(cv)\n",
    "    cvs = np.array(cvs)\n",
    "    return cvs"
   ]
  },
  {
   "cell_type": "code",
   "execution_count": 21,
   "metadata": {},
   "outputs": [],
   "source": [
    "cvs1 = get_cvs(trigger_events_list)\n",
    "cvs2 = get_cvs(nontrigger_events_list)"
   ]
  },
  {
   "cell_type": "code",
   "execution_count": 22,
   "metadata": {},
   "outputs": [
    {
     "name": "stdout",
     "output_type": "stream",
     "text": [
      "2.014973981527424e-06 7.593169526908723e-05\n",
      "0.010060349167521288 0.010011111521706213\n"
     ]
    },
    {
     "data": {
      "image/png": "[encoded data removed]",
      "text/plain": [
       "<Figure size 1000x600 with 1 Axes>"
      ]
     },
     "metadata": {
      "needs_background": "light"
     },
     "output_type": "display_data"
    }
   ],
   "source": [
    "figure(figsize=(10, 6), dpi=100)\n",
    "_, bins, _ = plt.hist(cvs1[:, 0], bins=50, color='skyblue', label='Trigger', density=True)\n",
    "_ = plt.hist(cvs2[:, 0], bins=bins, alpha=0.5, color='red', label = 'Background', density=True)\n",
    "plt.legend()\n",
    "plt.title('Collision Vertex (x-axis)')\n",
    "print(np.mean(cvs1[:, 0]), np.mean(cvs2[:, 0]))\n",
    "print(np.std(cvs1[:, 0]), np.std(cvs2[:, 0]))"
   ]
  },
  {
   "cell_type": "code",
   "execution_count": 23,
   "metadata": {},
   "outputs": [
    {
     "name": "stdout",
     "output_type": "stream",
     "text": [
      "-9.959268377529389e-05 -6.629756272223971e-05\n",
      "0.010081916421026883 0.010152164485464799\n"
     ]
    },
    {
     "data": {
      "image/png": "[encoded data removed]",
      "text/plain": [
       "<Figure size 1000x600 with 1 Axes>"
      ]
     },
     "metadata": {
      "needs_background": "light"
     },
     "output_type": "display_data"
    }
   ],
   "source": [
    "figure(figsize=(10, 6), dpi=100)\n",
    "_, bins, _ = plt.hist(cvs1[:, 1], bins=50, color='skyblue', label='Trigger', density=True)\n",
    "_ = plt.hist(cvs2[:, 1], bins=bins, alpha=0.5, color='red', label = 'Background', density=True)\n",
    "plt.legend()\n",
    "plt.title('Collision Vertex (y-axis)')\n",
    "print(np.mean(cvs1[:, 1]), np.mean(cvs2[:, 1]))\n",
    "print(np.std(cvs1[:, 1]), np.std(cvs2[:, 1]))"
   ]
  },
  {
   "cell_type": "code",
   "execution_count": 24,
   "metadata": {},
   "outputs": [
    {
     "name": "stdout",
     "output_type": "stream",
     "text": [
      "-0.09569608007860027 0.04995452083272594\n",
      "6.9580291189606305 6.984451699897721\n"
     ]
    },
    {
     "data": {
      "image/png": "[encoded data removed]",
      "text/plain": [
       "<Figure size 1000x600 with 1 Axes>"
      ]
     },
     "metadata": {
      "needs_background": "light"
     },
     "output_type": "display_data"
    }
   ],
   "source": [
    "figure(figsize=(10, 6), dpi=100)\n",
    "_, bins, _ = plt.hist(cvs1[:, 2], bins=50, color='skyblue', label='Trigger', density=True)\n",
    "_ = plt.hist(cvs2[:, 2], bins=bins, alpha=0.5, color='red', label = 'Background', density=True)\n",
    "plt.legend()\n",
    "plt.title('Collision Vertex (z-axis)')\n",
    "print(np.mean(cvs1[:, 2]), np.mean(cvs2[:, 2]))\n",
    "print(np.std(cvs1[:, 2]), np.std(cvs2[:, 2]))"
   ]
  },
  {
   "cell_type": "markdown",
   "metadata": {},
   "source": [
    "### Momentum"
   ]
  },
  {
   "cell_type": "code",
   "execution_count": 25,
   "metadata": {},
   "outputs": [],
   "source": [
    "def get_momentum(event_list):\n",
    "    momentums = []\n",
    "    for event in event_list:\n",
    "        tracks = event['TruthHit']['TruthTracks']\n",
    "        for track in tracks:\n",
    "            momentum = track['TrackMomentum']\n",
    "            momentums.append(momentum)\n",
    "    momentums = np.array(momentums)\n",
    "    pt = np.sqrt(momentums[:, 0] ** 2 + momentums[:, 1] ** 2)\n",
    "    return momentums, pt"
   ]
  },
  {
   "cell_type": "code",
   "execution_count": 26,
   "metadata": {},
   "outputs": [],
   "source": [
    "momentums1, pt1 = get_momentum(trigger_events_list)\n",
    "momentums2, pt2 = get_momentum(nontrigger_events_list)"
   ]
  },
  {
   "cell_type": "code",
   "execution_count": 27,
   "metadata": {},
   "outputs": [
    {
     "name": "stdout",
     "output_type": "stream",
     "text": [
      "0.5812164077095464 0.45750174183194653\n"
     ]
    },
    {
     "data": {
      "image/png": "[encoded data removed]",
      "text/plain": [
       "<Figure size 1000x600 with 1 Axes>"
      ]
     },
     "metadata": {
      "needs_background": "light"
     },
     "output_type": "display_data"
    }
   ],
   "source": [
    "figure(figsize=(10, 6), dpi=100)\n",
    "_, bins, _ = plt.hist(pt1, bins=50, color='skyblue', label='Trigger', density=True)\n",
    "_ = plt.hist(pt2, bins=bins, alpha=0.5, color='red', label = 'Background', density=True)\n",
    "plt.legend()\n",
    "plt.title('Transverse Momentum Distribution')\n",
    "print(np.mean(pt1), np.mean(pt2))"
   ]
  },
  {
   "cell_type": "code",
   "execution_count": 28,
   "metadata": {},
   "outputs": [
    {
     "name": "stdout",
     "output_type": "stream",
     "text": [
      "0.00242542541373601 -0.0014978480493035773\n"
     ]
    },
    {
     "data": {
      "image/png": "[encoded data removed]",
      "text/plain": [
       "<Figure size 1000x600 with 1 Axes>"
      ]
     },
     "metadata": {
      "needs_background": "light"
     },
     "output_type": "display_data"
    }
   ],
   "source": [
    "figure(figsize=(10, 6), dpi=100)\n",
    "_, bins, _ = plt.hist(momentums1[:, 2], bins=50, color='skyblue', label='Trigger', density=True)\n",
    "_ = plt.hist(momentums2[:, 2], bins=bins, alpha=0.5, color='red', label = 'Background', density=True)\n",
    "plt.legend()\n",
    "plt.title('Momentum (z-axis)')\n",
    "print(np.mean(momentums1[:, 2]), np.mean(momentums2[:, 2]))"
   ]
  },
  {
   "cell_type": "markdown",
   "metadata": {},
   "source": [
    "### Energy"
   ]
  },
  {
   "cell_type": "code",
   "execution_count": 7,
   "metadata": {},
   "outputs": [],
   "source": [
    "def get_energy(event_list):\n",
    "    energies = []\n",
    "    for event in event_list:\n",
    "        tracks = event['TruthHit']['TruthTracks']\n",
    "        for track in tracks:\n",
    "            momentum = track['TrackEnergy']\n",
    "            energies.append(momentum)\n",
    "    energies = np.array(energies)\n",
    "    return energies"
   ]
  },
  {
   "cell_type": "code",
   "execution_count": 8,
   "metadata": {},
   "outputs": [
    {
     "ename": "NameError",
     "evalue": "name 'trigger_events_list' is not defined",
     "output_type": "error",
     "traceback": [
      "\u001b[0;31m---------------------------------------------------------------------------\u001b[0m",
      "\u001b[0;31mNameError\u001b[0m                                 Traceback (most recent call last)",
      "\u001b[0;32m/tmp/ipykernel_329795/1105196868.py\u001b[0m in \u001b[0;36m<module>\u001b[0;34m\u001b[0m\n\u001b[0;32m----> 1\u001b[0;31m \u001b[0menergy1\u001b[0m \u001b[0;34m=\u001b[0m \u001b[0mget_energy\u001b[0m\u001b[0;34m(\u001b[0m\u001b[0mtrigger_events_list\u001b[0m\u001b[0;34m)\u001b[0m\u001b[0;34m\u001b[0m\u001b[0;34m\u001b[0m\u001b[0m\n\u001b[0m\u001b[1;32m      2\u001b[0m \u001b[0menergy2\u001b[0m \u001b[0;34m=\u001b[0m \u001b[0mget_energy\u001b[0m\u001b[0;34m(\u001b[0m\u001b[0mnontrigger_events_list\u001b[0m\u001b[0;34m)\u001b[0m\u001b[0;34m\u001b[0m\u001b[0;34m\u001b[0m\u001b[0m\n",
      "\u001b[0;31mNameError\u001b[0m: name 'trigger_events_list' is not defined"
     ]
    }
   ],
   "source": [
    "energy1 = get_energy(trigger_events_list)\n",
    "energy2 = get_energy(nontrigger_events_list)"
   ]
  },
  {
   "cell_type": "code",
   "execution_count": 31,
   "metadata": {},
   "outputs": [
    {
     "name": "stdout",
     "output_type": "stream",
     "text": [
      "0.9522006869529315 0.8322902397918719\n"
     ]
    },
    {
     "data": {
      "image/png": "[encoded data removed]",
      "text/plain": [
       "<Figure size 1000x600 with 1 Axes>"
      ]
     },
     "metadata": {
      "needs_background": "light"
     },
     "output_type": "display_data"
    }
   ],
   "source": [
    "figure(figsize=(10, 6), dpi=100)\n",
    "_, bins, _ = plt.hist(energy1, bins=50, color='skyblue', label='Trigger', density=True)\n",
    "_ = plt.hist(energy2, bins=bins, alpha=0.5, color='red', label = 'Background', density=True)\n",
    "plt.legend()\n",
    "plt.title('Track Energy Distribution')\n",
    "print(np.mean(energy1), np.mean(energy2))"
   ]
  },
  {
   "cell_type": "markdown",
   "metadata": {},
   "source": [
    "# What's the proper threshold?"
   ]
  },
  {
   "cell_type": "code",
   "execution_count": 10,
   "metadata": {},
   "outputs": [],
   "source": [
    "def get_distance(x, y):\n",
    "    return np.sqrt(np.sum((x - y) ** 2))"
   ]
  },
  {
   "cell_type": "code",
   "execution_count": 11,
   "metadata": {},
   "outputs": [],
   "source": [
    "def rule_always_true(track, ip):\n",
    "    return track['TrackID'] != -1\n",
    "\n",
    "def rule1(track, ip):\n",
    "    momentum = track['TrackMomentum']\n",
    "    return track['TrackID'] != -1 and momentum[0] ** 2 + momentum[1] ** 2 >= 0.04\n",
    "\n",
    "# def rule1(track, ip):\n",
    "#     return track['TrackID'] > 0\n",
    "\n",
    "# def rule2(track, ip):\n",
    "#     momentum = track['TrackMomentum']\n",
    "#     return track['TrackID'] > 0 and momentum[0] ** 2 + momentum[1] ** 2 >= 0.04\n",
    "\n",
    "def rule3(track, ip):\n",
    "    momentum = track['TrackMomentum']\n",
    "    track_origin = track['OriginVertexPoint']\n",
    "    d = get_distance(track_origin, ip)\n",
    "    return momentum[0] ** 2 + momentum[1] ** 2 >= 0.04 and d > 0.00001 and d < 1"
   ]
  },
  {
   "cell_type": "code",
   "execution_count": 12,
   "metadata": {},
   "outputs": [],
   "source": [
    "def check_edge_candidate_threshold_for_event(event, rule, layerpair=None):\n",
    "    MVTXHits = event['RawHit']['MVTXHits']\n",
    "    INTTHits = event['RawHit']['INTTHITS']\n",
    "    tracks = event['TruthHit']['TruthTracks']\n",
    "    ip = np.array(event[\"MetaData\"]['CollisionVertex'])\n",
    "    hits = []\n",
    "    layer_id = []\n",
    "    for hit in MVTXHits:\n",
    "        hits.append(hit['Coordinate'])\n",
    "        layer_id.append(hit['ID']['Layer'])\n",
    "    for hit in INTTHits:\n",
    "        hits.append(hit['Coordinate'])\n",
    "        layer_id.append(hit['ID']['Layer'])\n",
    "    hits = np.array(hits).reshape(-1, 3)\n",
    "    layer_id = np.array(layer_id)\n",
    "    \n",
    "    if len(hits) == 0:\n",
    "        # print('empty event')\n",
    "        return [], []\n",
    "\n",
    "    # add phi and r\n",
    "    r = np.sqrt(hits[:, 0]**2 + hits[:, 1]**2)\n",
    "    phi = np.arctan2(hits[:, 1], hits[:, 0])\n",
    "\n",
    "    # by doing this, we can mark the noise as -1.\n",
    "    mvtx_track_id = (-1) * np.ones(len(MVTXHits))\n",
    "    intt_track_id = (-1) * np.ones(len(INTTHits))\n",
    "    for track in tracks:\n",
    "        if rule(track, ip):\n",
    "            mvtx_track_id[track['MVTXHitID'][0]] = track['TrackID']\n",
    "            intt_track_id[track['INTTHitID'][0]] = track['TrackID']\n",
    "\n",
    "    track_id = np.concatenate([mvtx_track_id, intt_track_id])\n",
    "\n",
    "    mdphi = []\n",
    "    mdphi_slope = []\n",
    "    for tid in set(track_id):\n",
    "        if tid != -1:\n",
    "            mask = track_id == tid\n",
    "            hits_on_track  = hits[mask]\n",
    "            r_on_track = r[mask]\n",
    "            phi_on_track = phi[mask]\n",
    "            layer_id_on_track = layer_id[mask]\n",
    "            # print(len(r_on_track))\n",
    "            comb = np.array(list(combinations(range(len(r_on_track)), 2)))\n",
    "            try:\n",
    "                point1, point2 = comb[:, 0], comb[:, 1]\n",
    "            except:\n",
    "                continue\n",
    "            if layerpair is None:\n",
    "                mmask = layer_id_on_track[point1] != layer_id_on_track[point2]\n",
    "            else:\n",
    "                mmask = np.logical_and(layer_id_on_track[point1]==layerpair[0], layer_id_on_track[point2]==layerpair[1])\n",
    "            dphi = np.abs(phi_on_track[point2] - phi_on_track[point1])[mmask]\n",
    "            dr = (r_on_track[point2] - r_on_track[point1])[mmask]\n",
    "            if len(dphi) == 0:\n",
    "                # print('no dphi')\n",
    "                continue\n",
    "            mdphi.append(max(dphi))\n",
    "            mdphi_slope.append(max(np.abs(dphi/dr)))\n",
    "    return mdphi, mdphi_slope"
   ]
  },
  {
   "cell_type": "code",
   "execution_count": 13,
   "metadata": {},
   "outputs": [],
   "source": [
    "def check_edge_candidate_threshold_for_file(filename, rule):\n",
    "    with open(filename,'rb') as z:\n",
    "        try:\n",
    "            raw_data = ujson.loads(z.read())\n",
    "        except:\n",
    "            print('an error occurred when loading the json file!!!! ###################################')\n",
    "            return [], []\n",
    "        \n",
    "    mdphis = []\n",
    "    mdphi_slopes = []\n",
    "    for event in raw_data['Events']:\n",
    "        mdphi, mdphi_slope = check_edge_candidate_threshold_for_event(event, rule)\n",
    "        mdphis.append(mdphi)\n",
    "        mdphi_slopes.append(mdphi_slope)\n",
    "    mdphis = np.hstack(mdphis)\n",
    "    mdphi_slopes = np.hstack(mdphi_slopes)\n",
    "    return mdphis, mdphi_slopes\n",
    "\n",
    "def check_edge_candidate_threshold_for_file_layerwise(filename, rule, layerpairs):\n",
    "    with open(filename,'rb') as z:\n",
    "        try:\n",
    "            raw_data = ujson.loads(z.read())\n",
    "        except:\n",
    "            print('an error occurred when loading the json file!!!! ###################################')\n",
    "            return [[]], [[]]\n",
    "    mdphis = [[] for i in range(len(layerpairs))]\n",
    "    mdphi_slopes = [[] for i in range(len(layerpairs))]\n",
    "    for event in raw_data['Events']:\n",
    "        for i in range(len(layerpairs)):\n",
    "            mdphi, mdphi_slope = check_edge_candidate_threshold_for_event(event, rule, layerpair=layerpairs[i])\n",
    "            # print(mdphi_slopes)\n",
    "            mdphis[i].extend(mdphi)\n",
    "            mdphi_slopes[i].extend(mdphi_slope)\n",
    "    return mdphis, mdphi_slopes"
   ]
  },
  {
   "cell_type": "code",
   "execution_count": 14,
   "metadata": {},
   "outputs": [],
   "source": [
    "def check_edge_candidate_threshold_for_filelist(filenames, rule):\n",
    "    mdphis = []\n",
    "    mdphi_slopes = []\n",
    "    for filename in tqdm(filenames):\n",
    "        mdphi, mdphi_slope = check_edge_candidate_threshold_for_file(filename, rule)\n",
    "        mdphis.append(mdphi)\n",
    "        mdphi_slopes.append(mdphi_slope)\n",
    "    mdphis = np.hstack(mdphis)\n",
    "    mdphi_slopes = np.hstack(mdphi_slopes)\n",
    "    return mdphis, mdphi_slopes\n",
    "\n",
    "def check_edge_candidate_threshold_for_filelist_layerwise(filenames, rule, layerpairs):\n",
    "    mdphis = [[] for i in range(len(layerpairs))]\n",
    "    mdphi_slopes = [[] for i in range(len(layerpairs))]\n",
    "    for filename in tqdm(filenames):\n",
    "        mdphi, mdphi_slope = check_edge_candidate_threshold_for_file_layerwise(filename, rule, layerpairs)\n",
    "        # print(mdphi_slopes)\n",
    "        for i in range(len(layerpairs)):\n",
    "            mdphis[i].extend(mdphi[i])\n",
    "            mdphi_slopes[i].extend(mdphi_slope[i])\n",
    "\n",
    "    return mdphis, mdphi_slopes"
   ]
  },
  {
   "cell_type": "code",
   "execution_count": 15,
   "metadata": {},
   "outputs": [],
   "source": [
    "def check_edge_candidate_threshold_for_eventlist(eventlist, rule):\n",
    "    \n",
    "    mdphis = []\n",
    "    mdphi_slopes = []\n",
    "    for event in tqdm(eventlist):\n",
    "        mdphi, mdphi_slope = check_edge_candidate_threshold_for_event(event, rule)\n",
    "        mdphis.append(mdphi)\n",
    "        mdphi_slopes.append(mdphi_slope)\n",
    "    mdphis = np.hstack(mdphis)\n",
    "    mdphi_slopes = np.hstack(mdphi_slopes)\n",
    "    return mdphis, mdphi_slopes\n",
    "\n",
    "def check_edge_candidate_threshold_for_eventlist_layerwise(eventlist, rule, layerpairs):\n",
    "    mdphis = [[] for i in range(len(layerpairs))]\n",
    "    mdphi_slopes = [[] for i in range(len(layerpairs))]\n",
    "    for event in tqdm(eventlist):\n",
    "        for i in range(len(layerpairs)):\n",
    "            mdphi, mdphi_slope = check_edge_candidate_threshold_for_event(event, rule, layerpair=layerpairs[i])\n",
    "            # print(mdphi_slopes)\n",
    "            mdphis[i].extend(mdphi)\n",
    "            mdphi_slopes[i].extend(mdphi_slope)\n",
    "    return mdphis, mdphi_slopes"
   ]
  },
  {
   "cell_type": "code",
   "execution_count": 23,
   "metadata": {},
   "outputs": [],
   "source": [
    "# filename = filenames[0]\n",
    "# mdphi, mdphi_slopes = check_edge_candidate_threshold_for_file(filename, rule=rule3)"
   ]
  },
  {
   "cell_type": "code",
   "execution_count": 24,
   "metadata": {},
   "outputs": [],
   "source": [
    "# filename = filenames[0]\n",
    "# with open(filename,'rb') as z:\n",
    "#     raw_data = ujson.loads(z.read())\n",
    "# event = raw_data['Events'][0]\n",
    "# mdphi, mdphi_slopes = check_edge_candidate_threshold_for_event(event, rule_always_true, layerpair=(0, 1))\n",
    "# print(len(mdphi_slopes))\n",
    "# print(mdphi, mdphi_slopes)\n",
    "# np.histogram(mdphi_slopes, range=(0, 0.01), bins=10)"
   ]
  },
  {
   "cell_type": "code",
   "execution_count": 20,
   "metadata": {},
   "outputs": [],
   "source": [
    "def print_threshold_table(description, mdphi_slopes):\n",
    "    print('########################################')\n",
    "    print(description)\n",
    "    print('threshold \\t coverage_track_rate')\n",
    "    for threshold in np.arange(0.01, 0.11, 0.01):\n",
    "        print(np.round(threshold,2), '\\t\\t', np.round(np.mean(mdphi_slopes<threshold),4))\n",
    "    print('########################################')\n",
    "\n",
    "def print_threshold_table_layerwise(description, mdphi_slopes, layerpairs):\n",
    "    print('########################################')\n",
    "    print(description)\n",
    "    table_title = 'threshold \\t coverage_track_rate '\n",
    "    for layerpair in layerpairs:\n",
    "        table_title += '\\t ' + str(layerpair)\n",
    "    print(table_title)\n",
    "    for threshold in np.arange(0.01, 0.11, 0.01):\n",
    "        row = str(np.round(threshold,2)) + '\\t\\t\\t\\t'\n",
    "        for i in range(len(layerpairs)):\n",
    "            row += '\\t' + str(np.round(np.mean(mdphi_slopes[i]<threshold),4))\n",
    "        print(row)\n",
    "    print('########################################')"
   ]
  },
  {
   "cell_type": "code",
   "execution_count": 22,
   "metadata": {},
   "outputs": [],
   "source": [
    "# t_filenames, nt_filenames\n",
    "# eventlist = trigger_events_list\n",
    "eventlist = nontrigger_events_list"
   ]
  },
  {
   "cell_type": "code",
   "execution_count": 23,
   "metadata": {},
   "outputs": [
    {
     "name": "stderr",
     "output_type": "stream",
     "text": [
      "100%|██████████| 10000/10000 [00:11<00:00, 904.47it/s]\n"
     ]
    },
    {
     "name": "stdout",
     "output_type": "stream",
     "text": [
      "########################################\n",
      "For all tracks:\n",
      "threshold \t coverage_track_rate\n",
      "0.01 \t\t 0.6524\n",
      "0.02 \t\t 0.8373\n",
      "0.03 \t\t 0.8796\n",
      "0.04 \t\t 0.8982\n",
      "0.05 \t\t 0.9087\n",
      "0.06 \t\t 0.9156\n",
      "0.07 \t\t 0.9209\n",
      "0.08 \t\t 0.9248\n",
      "0.09 \t\t 0.9282\n",
      "0.1 \t\t 0.9314\n",
      "########################################\n"
     ]
    },
    {
     "name": "stderr",
     "output_type": "stream",
     "text": [
      "100%|██████████| 10000/10000 [00:08<00:00, 1168.04it/s]\n"
     ]
    },
    {
     "name": "stdout",
     "output_type": "stream",
     "text": [
      "########################################\n",
      "For high momentum tracks:\n",
      "threshold \t coverage_track_rate\n",
      "0.01 \t\t 0.8189\n",
      "0.02 \t\t 0.9304\n",
      "0.03 \t\t 0.9391\n",
      "0.04 \t\t 0.9445\n",
      "0.05 \t\t 0.9487\n",
      "0.06 \t\t 0.952\n",
      "0.07 \t\t 0.955\n",
      "0.08 \t\t 0.9574\n",
      "0.09 \t\t 0.9595\n",
      "0.1 \t\t 0.9615\n",
      "########################################\n"
     ]
    }
   ],
   "source": [
    "mdphi, mdphi_slopes = check_edge_candidate_threshold_for_eventlist(eventlist, rule=rule_always_true)\n",
    "print_threshold_table('For all tracks:', mdphi_slopes)\n",
    "mdphi, mdphi_slopes = check_edge_candidate_threshold_for_eventlist(eventlist, rule=rule1)\n",
    "print_threshold_table('For high momentum tracks:', mdphi_slopes)"
   ]
  },
  {
   "cell_type": "code",
   "execution_count": 18,
   "metadata": {},
   "outputs": [
    {
     "name": "stderr",
     "output_type": "stream",
     "text": [
      "100%|██████████| 10000/10000 [00:06<00:00, 1440.34it/s]\n"
     ]
    },
    {
     "name": "stdout",
     "output_type": "stream",
     "text": [
      "########################################\n",
      "For all trigger tracks with 0.00001<d<1:\n",
      "threshold \t coverage_track_rate\n",
      "0.01 \t\t 0.9384\n",
      "0.02 \t\t 0.9823\n",
      "0.03 \t\t 0.9879\n",
      "0.04 \t\t 0.9902\n",
      "0.05 \t\t 0.9918\n",
      "0.06 \t\t 0.9924\n",
      "0.07 \t\t 0.993\n",
      "0.08 \t\t 0.9933\n",
      "0.09 \t\t 0.9935\n",
      "0.1 \t\t 0.9936\n",
      "########################################\n"
     ]
    }
   ],
   "source": [
    "mdphi, mdphi_slopes = check_edge_candidate_threshold_for_eventlist(eventlist, rule=rule3)\n",
    "print_threshold_table('For all trigger tracks with 0.00001<d<1:', mdphi_slopes)"
   ]
  },
  {
   "cell_type": "code",
   "execution_count": 31,
   "metadata": {},
   "outputs": [],
   "source": [
    "# mdphi, mdphi_slopes = check_edge_candidate_threshold_for_filelist(filenames, rule=rule_always_true)\n",
    "# print_threshold_table('For all tracks:', mdphi_slopes)\n",
    "# mdphi, mdphi_slopes = check_edge_candidate_threshold_for_filelist(filenames, rule=rule1)\n",
    "# print_threshold_table('For high momentum tracks:', mdphi_slopes)\n",
    "# mdphi, mdphi_slopes = check_edge_candidate_threshold_for_filelist(filenames, rule=rule2)\n",
    "# print_threshold_table('For all positive tracks with momentum >= 0.2:', mdphi_slopes)\n",
    "# mdphi, mdphi_slopes = check_edge_candidate_threshold_for_filelist(filenames, rule=rule3)\n",
    "# print_threshold_table('For all trigger tracks with 0.00001<d<1:', mdphi_slopes)\n"
   ]
  },
  {
   "cell_type": "code",
   "execution_count": 34,
   "metadata": {},
   "outputs": [
    {
     "name": "stdout",
     "output_type": "stream",
     "text": [
      "########################################\n",
      "For all tracks:\n",
      "threshold \t coverage_track_rate \t (0, 1)\t (1, 2)\t (2, 3)\t (2, 4)\t (3, 5)\t (3, 6)\t (4, 5)\t (4, 6)\t (3, 4)\t (5, 6)\n",
      "0.01\t\t\t\t\t0.7531\t0.7614\t0.766\t0.7718\t0.7569\t0.767\t0.7606\t0.7587\t0.3651\t0.3583\n",
      "0.02\t\t\t\t\t0.9041\t0.9007\t0.884\t0.8879\t0.871\t0.8815\t0.8754\t0.8726\t0.4521\t0.4471\n",
      "0.03\t\t\t\t\t0.9359\t0.9319\t0.9128\t0.9188\t0.9013\t0.9095\t0.9071\t0.9022\t0.482\t0.4729\n",
      "0.04\t\t\t\t\t0.9476\t0.9444\t0.9253\t0.9315\t0.9129\t0.9216\t0.9194\t0.9155\t0.4954\t0.4873\n",
      "0.05\t\t\t\t\t0.9537\t0.9517\t0.9326\t0.9393\t0.9191\t0.9279\t0.9262\t0.9226\t0.5048\t0.4968\n",
      "0.06\t\t\t\t\t0.9574\t0.9559\t0.9381\t0.9447\t0.9225\t0.9312\t0.9309\t0.9264\t0.5119\t0.5036\n",
      "0.07\t\t\t\t\t0.9604\t0.959\t0.9421\t0.9481\t0.9245\t0.9329\t0.9329\t0.9285\t0.5157\t0.5058\n",
      "0.08\t\t\t\t\t0.9628\t0.9614\t0.9453\t0.9513\t0.9258\t0.9343\t0.9344\t0.9297\t0.5211\t0.5084\n",
      "0.09\t\t\t\t\t0.9645\t0.9636\t0.9476\t0.9534\t0.9269\t0.935\t0.9353\t0.9307\t0.5226\t0.5101\n",
      "0.1\t\t\t\t\t0.966\t0.9651\t0.9491\t0.9548\t0.9276\t0.9353\t0.9359\t0.9314\t0.5243\t0.511\n",
      "########################################\n"
     ]
    },
    {
     "name": "stderr",
     "output_type": "stream",
     "text": [
      "100%|██████████| 10000/10000 [02:07<00:00, 78.73it/s]\n"
     ]
    },
    {
     "name": "stdout",
     "output_type": "stream",
     "text": [
      "########################################\n",
      "For high momentum tracks:\n",
      "threshold \t coverage_track_rate \t (0, 1)\t (1, 2)\t (2, 3)\t (2, 4)\t (3, 5)\t (3, 6)\t (4, 5)\t (4, 6)\t (3, 4)\t (5, 6)\n",
      "0.01\t\t\t\t\t0.8878\t0.9016\t0.9211\t0.9257\t0.9105\t0.9197\t0.9154\t0.915\t0.6213\t0.6071\n",
      "0.02\t\t\t\t\t0.9653\t0.9627\t0.9537\t0.9583\t0.9483\t0.9558\t0.9544\t0.954\t0.6793\t0.6542\n",
      "0.03\t\t\t\t\t0.9697\t0.9678\t0.9597\t0.9647\t0.9562\t0.963\t0.9622\t0.962\t0.6885\t0.6591\n",
      "0.04\t\t\t\t\t0.9727\t0.9715\t0.9637\t0.9688\t0.9608\t0.9671\t0.9671\t0.9663\t0.6918\t0.6632\n",
      "0.05\t\t\t\t\t0.975\t0.9744\t0.9667\t0.9718\t0.9633\t0.9688\t0.9694\t0.9687\t0.6971\t0.668\n",
      "0.06\t\t\t\t\t0.9767\t0.9764\t0.9693\t0.9744\t0.9646\t0.9702\t0.9709\t0.97\t0.7007\t0.6688\n",
      "0.07\t\t\t\t\t0.9783\t0.9783\t0.9715\t0.9765\t0.9654\t0.9706\t0.9713\t0.9704\t0.7034\t0.6688\n",
      "0.08\t\t\t\t\t0.9795\t0.9797\t0.9732\t0.9781\t0.9659\t0.971\t0.9717\t0.9706\t0.7057\t0.6692\n",
      "0.09\t\t\t\t\t0.9805\t0.9809\t0.9743\t0.979\t0.9661\t0.971\t0.972\t0.9708\t0.7067\t0.6695\n",
      "0.1\t\t\t\t\t0.9815\t0.9817\t0.975\t0.9796\t0.9662\t0.971\t0.9722\t0.971\t0.7073\t0.6699\n",
      "########################################\n"
     ]
    }
   ],
   "source": [
    "layerpairs = [(0, 1), (1, 2), (2, 3), (2, 4), (3, 5), (3, 6), (4, 5), (4, 6), (3, 4), (5, 6) ]\n",
    "# mdphi, mdphi_slopes = check_edge_candidate_threshold_for_eventlist_layerwise(eventlist, rule=rule_always_true, layerpairs=layerpairs)\n",
    "print_threshold_table_layerwise('For all tracks:', mdphi_slopes, layerpairs=layerpairs)\n",
    "mdphi, mdphi_slopes = check_edge_candidate_threshold_for_eventlist_layerwise(eventlist, rule=rule1, layerpairs=layerpairs)\n",
    "print_threshold_table_layerwise('For high momentum tracks:', mdphi_slopes, layerpairs=layerpairs)\n",
    "# mdphi, mdphi_slopes = check_edge_candidate_threshold_for_filelist_layerwise(filenames, rule=rule_always_true, layerpairs=layerpairs)\n",
    "# print_threshold_table_layerwise('For all tracks:', mdphi_slopes, layerpairs=layerpairs)\n",
    "# mdphi, mdphi_slopes = check_edge_candidate_threshold_for_filelist_layerwise(filenames, rule=rule1, layerpairs=layerpairs)\n",
    "# print_threshold_table_layerwise('For high momentum tracks:', mdphi_slopes, layerpairs=layerpairs)\n",
    "# mdphi, mdphi_slopes = check_edge_candidate_threshold_for_filelist_layerwise(filenames, rule=rule2, layerpairs=layerpairs)\n",
    "# print_threshold_table_layerwise('For all positive tracks with momentum >= 0.2:', mdphi_slopes, layerpairs=layerpairs)\n",
    "# mdphi, mdphi_slopes = check_edge_candidate_threshold_for_filelist_layerwise(filenames, rule=rule3, layerpairs=layerpairs)\n",
    "# print_threshold_table_layerwise('For all trigger tracks with 0.00001<d<1:', mdphi_slopes, layerpairs=layerpairs)"
   ]
  },
  {
   "cell_type": "markdown",
   "metadata": {},
   "source": [
    "# Will track miss any layers?"
   ]
  },
  {
   "cell_type": "code",
   "execution_count": 35,
   "metadata": {},
   "outputs": [],
   "source": [
    "from prettytable import PrettyTable\n"
   ]
  },
  {
   "cell_type": "code",
   "execution_count": 36,
   "metadata": {},
   "outputs": [],
   "source": [
    "def check_track_layer_for_event(event, rule):\n",
    "    MVTXHits = event['RawHit']['MVTXHits']\n",
    "    INTTHits = event['RawHit']['INTTHITS']\n",
    "    tracks = event['TruthHit']['TruthTracks']\n",
    "    ip = np.array(event[\"MetaData\"]['CollisionVertex'])\n",
    "    hits = []\n",
    "    layer_id = []\n",
    "    for hit in MVTXHits:\n",
    "        hits.append(hit['Coordinate'])\n",
    "        layer_id.append(hit['ID']['Layer'])\n",
    "    for hit in INTTHits:\n",
    "        hits.append(hit['Coordinate'])\n",
    "        layer_id.append(hit['ID']['Layer'])\n",
    "    hits = np.array(hits).reshape(-1, 3)\n",
    "    layer_id = np.array(layer_id)\n",
    "    \n",
    "    if len(hits) == 0:\n",
    "        # print('empty event')\n",
    "        return np.zeros(10)\n",
    "\n",
    "\n",
    "    # by doing this, we can mark the noise as -1.\n",
    "    mvtx_track_id = (-1) * np.ones(len(MVTXHits))\n",
    "    intt_track_id = (-1) * np.ones(len(INTTHits))\n",
    "    for track in tracks:\n",
    "        if rule(track, ip):\n",
    "            mvtx_track_id[track['MVTXHitID'][0]] = track['TrackID']\n",
    "            intt_track_id[track['INTTHitID'][0]] = track['TrackID']\n",
    "\n",
    "    track_id = np.concatenate([mvtx_track_id, intt_track_id])\n",
    "\n",
    "    count = np.zeros(10)\n",
    "    for tid in set(track_id):\n",
    "        if tid != -1:\n",
    "            mask = track_id == tid\n",
    "            hits_on_track  = hits[mask]\n",
    "            layer_id_on_track = layer_id[mask]\n",
    "            layer_set =set(layer_id_on_track)\n",
    "            count[list(layer_set)] += 1\n",
    "            count[7] += 1\n",
    "            if 3 in layer_set or 4 in layer_set:\n",
    "                count[8] += 1\n",
    "            if 5 in layer_set or 6 in layer_set:\n",
    "                count[9] += 1\n",
    "            \n",
    "    return count"
   ]
  },
  {
   "cell_type": "code",
   "execution_count": 37,
   "metadata": {},
   "outputs": [],
   "source": [
    "def check_track_layer_for_file(filename, rule):\n",
    "    with open(filename,'rb') as z:\n",
    "        try:\n",
    "            raw_data = ujson.loads(z.read())\n",
    "        except:\n",
    "            print('an error occurred when loading the json file!!!! ###################################')\n",
    "            return np.zeros(10)\n",
    "        \n",
    "    count = np.zeros(10)\n",
    "    for event in raw_data['Events']:\n",
    "        count += check_track_layer_for_event(event, rule)\n",
    "    return count"
   ]
  },
  {
   "cell_type": "code",
   "execution_count": 42,
   "metadata": {},
   "outputs": [],
   "source": [
    "def check_track_layer_for_filelist(filenames, rule):\n",
    "    count = np.zeros(10)\n",
    "    for filename in tqdm(filenames):\n",
    "        count += check_track_layer_for_file(filename, rule)\n",
    "    return count"
   ]
  },
  {
   "cell_type": "code",
   "execution_count": 43,
   "metadata": {},
   "outputs": [],
   "source": [
    "def check_track_layer_for_eventlist(eventlist, rule):\n",
    "    count = np.zeros(10)\n",
    "    for event in tqdm(eventlist):\n",
    "        count += check_track_layer_for_event(event, rule)\n",
    "    return count"
   ]
  },
  {
   "cell_type": "code",
   "execution_count": 40,
   "metadata": {},
   "outputs": [],
   "source": [
    "def print_count_table(description, count):\n",
    "    print(description)\n",
    "    t = PrettyTable([i for i in range(3)] + ['(3, 4)', '(5, 6)'] + [i for i in range(3, 7)] + [ 'Total'])\n",
    "    row = list(count[:3]) + [count[8], count[9]] + list(count[3:7]) + [count[7]]\n",
    "    t.add_row(row)\n",
    "    t.add_row(np.round(row/row[9], 2))\n",
    "    print(t)"
   ]
  },
  {
   "cell_type": "code",
   "execution_count": 47,
   "metadata": {},
   "outputs": [],
   "source": [
    "eventlist = nontrigger_events_list"
   ]
  },
  {
   "cell_type": "code",
   "execution_count": 48,
   "metadata": {},
   "outputs": [
    {
     "name": "stderr",
     "output_type": "stream",
     "text": [
      "100%|██████████| 10000/10000 [00:03<00:00, 2568.58it/s]\n"
     ]
    },
    {
     "name": "stdout",
     "output_type": "stream",
     "text": [
      "For all tracks:\n",
      "+---------+---------+---------+---------+---------+---------+---------+---------+---------+---------+\n",
      "|    0    |    1    |    2    |  (3, 4) |  (5, 6) |    3    |    4    |    5    |    6    |  Total  |\n",
      "+---------+---------+---------+---------+---------+---------+---------+---------+---------+---------+\n",
      "| 70159.0 | 70614.0 | 69869.0 | 68908.0 | 57674.0 | 37946.0 | 33798.0 | 31556.0 | 28684.0 | 73775.0 |\n",
      "|   0.95  |   0.96  |   0.95  |   0.93  |   0.78  |   0.51  |   0.46  |   0.43  |   0.39  |   1.0   |\n",
      "+---------+---------+---------+---------+---------+---------+---------+---------+---------+---------+\n"
     ]
    },
    {
     "name": "stderr",
     "output_type": "stream",
     "text": [
      "100%|██████████| 10000/10000 [00:02<00:00, 3465.40it/s]"
     ]
    },
    {
     "name": "stdout",
     "output_type": "stream",
     "text": [
      "For high momentum tracks:\n",
      "+---------+---------+---------+---------+---------+---------+---------+---------+---------+---------+\n",
      "|    0    |    1    |    2    |  (3, 4) |  (5, 6) |    3    |    4    |    5    |    6    |  Total  |\n",
      "+---------+---------+---------+---------+---------+---------+---------+---------+---------+---------+\n",
      "| 56385.0 | 56424.0 | 55507.0 | 54927.0 | 46492.0 | 29811.0 | 26647.0 | 25116.0 | 22777.0 | 58506.0 |\n",
      "|   0.96  |   0.96  |   0.95  |   0.94  |   0.79  |   0.51  |   0.46  |   0.43  |   0.39  |   1.0   |\n",
      "+---------+---------+---------+---------+---------+---------+---------+---------+---------+---------+\n"
     ]
    },
    {
     "name": "stderr",
     "output_type": "stream",
     "text": [
      "\n"
     ]
    }
   ],
   "source": [
    "count = check_track_layer_for_eventlist(eventlist, rule=rule_always_true)\n",
    "print_count_table('For all tracks:', count)\n",
    "count = check_track_layer_for_eventlist(eventlist, rule=rule1)\n",
    "print_count_table('For high momentum tracks:', count)\n",
    "# count = check_track_layer_for_filelist(filenames, rule=rule_always_true)\n",
    "# print_count_table('For all tracks:', count)\n",
    "# count = check_track_layer_for_filelist(filenames, rule=rule1)\n",
    "# print_count_table('For all positive tracks:', count)\n",
    "# count = check_track_layer_for_filelist(filenames, rule=rule2)\n",
    "# print_count_table('For all positive tracks with momentum >= 0.2:', count)"
   ]
  },
  {
   "cell_type": "code",
   "execution_count": 46,
   "metadata": {},
   "outputs": [
    {
     "name": "stderr",
     "output_type": "stream",
     "text": [
      "100%|██████████| 10000/10000 [00:05<00:00, 1707.39it/s]"
     ]
    },
    {
     "name": "stdout",
     "output_type": "stream",
     "text": [
      "For all trigger tracks with 0.00001<d<1:\n",
      "+---------+---------+---------+---------+---------+---------+---------+---------+---------+---------+\n",
      "|    0    |    1    |    2    |  (3, 4) |  (5, 6) |    3    |    4    |    5    |    6    |  Total  |\n",
      "+---------+---------+---------+---------+---------+---------+---------+---------+---------+---------+\n",
      "| 25902.0 | 25716.0 | 25461.0 | 25330.0 | 23907.0 | 13322.0 | 12588.0 | 12621.0 | 11771.0 | 26245.0 |\n",
      "|   0.99  |   0.98  |   0.97  |   0.97  |   0.91  |   0.51  |   0.48  |   0.48  |   0.45  |   1.0   |\n",
      "+---------+---------+---------+---------+---------+---------+---------+---------+---------+---------+\n"
     ]
    },
    {
     "name": "stderr",
     "output_type": "stream",
     "text": [
      "\n"
     ]
    }
   ],
   "source": [
    "\n",
    "count = check_track_layer_for_eventlist(eventlist, rule=rule3)\n",
    "print_count_table('For all trigger tracks with 0.00001<d<1:', count)"
   ]
  },
  {
   "cell_type": "code",
   "execution_count": null,
   "metadata": {},
   "outputs": [],
   "source": []
  }
 ],
 "metadata": {
  "interpreter": {
   "hash": "03ca6a50b752edba9a34d5783ddc5b2d6b7cf0ebaad7b34aec90b5ffba5acaaf"
  },
  "kernelspec": {
   "display_name": "Python 3.8.12 ('pytorch-cuda')",
   "language": "python",
   "name": "python3"
  },
  "language_info": {
   "codemirror_mode": {
    "name": "ipython",
    "version": 3
   },
   "file_extension": ".py",
   "mimetype": "text/x-python",
   "name": "python",
   "nbconvert_exporter": "python",
   "pygments_lexer": "ipython3",
   "version": "3.8.12"
  },
  "orig_nbformat": 4
 },
 "nbformat": 4,
 "nbformat_minor": 2
}
