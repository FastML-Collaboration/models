{
 "cells": [
  {
   "cell_type": "code",
   "execution_count": 1,
   "id": "d0cfff6c-70d1-4a9b-b1af-c4a438fe8d4b",
   "metadata": {},
   "outputs": [
    {
     "name": "stdout",
     "output_type": "stream",
     "text": [
      "/home1/giorgian/projects/trigger-detection-pipeline/sPHENIX/tracking-GNN\n"
     ]
    },
    {
     "name": "stderr",
     "output_type": "stream",
     "text": [
      "/home1/giorgian/anaconda3/envs/jupyter/lib/python3.12/site-packages/IPython/core/magics/osm.py:417: UserWarning: This is now an optional IPython functionality, setting dhist requires you to install the `pickleshare` library.\n",
      "  self.shell.db['dhist'] = compress_dhist(dhist)[-100:]\n"
     ]
    }
   ],
   "source": [
    "%cd ../"
   ]
  },
  {
   "cell_type": "code",
   "execution_count": 2,
   "id": "fa352c7e-f567-441b-afc9-cb0ea422a0ee",
   "metadata": {},
   "outputs": [],
   "source": [
    "from dataclasses import replace\n",
    "import numpy as np\n",
    "import os\n",
    "import torch\n",
    "import matplotlib.pyplot as plt\n",
    "import os.path\n",
    "import sys\n",
    "import logging\n",
    "import pickle\n",
    "from collections import defaultdict\n",
    "from sklearn.linear_model import LinearRegression\n",
    "from models.agnn_trigger import GNNGraphClassifier\n",
    "from icecream import ic\n",
    "from numpy.linalg import inv\n",
    "import sklearn.metrics as metrics\n",
    "from datasets import get_data_loaders\n",
    "from tqdm.notebook import tqdm\n",
    "from itertools import islice\n",
    "from sklearn.metrics import precision_score, recall_score, accuracy_score, roc_auc_score"
   ]
  },
  {
   "cell_type": "code",
   "execution_count": 3,
   "id": "9e08b29e-2768-4181-9314-6aeb338615c0",
   "metadata": {},
   "outputs": [],
   "source": [
    "DEVICE = 'cuda:0'"
   ]
  },
  {
   "cell_type": "code",
   "execution_count": 4,
   "id": "08aa47a3-041d-4b1b-8fb8-83d1b219cb1a",
   "metadata": {},
   "outputs": [
    {
     "name": "stdout",
     "output_type": "stream",
     "text": [
      "/disks/disk1/giorgian/old-trainings/agnn/agnn-lr0.00043640124559864087-b512-d128-ReLU-gi5-ln-True-n1000000/experiment_2024-03-24_23:16:30/checkpoints/model_checkpoint_011.pth.tar\n",
      "Successfully reloaded!\n"
     ]
    },
    {
     "name": "stderr",
     "output_type": "stream",
     "text": [
      "/tmp/ipykernel_3435976/1230462323.py:17: FutureWarning: You are using `torch.load` with `weights_only=False` (the current default value), which uses the default pickle module implicitly. It is possible to construct malicious pickle data which will execute arbitrary code during unpickling (See https://github.com/pytorch/pytorch/blob/main/SECURITY.md#untrusted-models for more details). In a future release, the default value for `weights_only` will be flipped to `True`. This limits the functions that could be executed during unpickling. Arbitrary objects will no longer be allowed to be loaded via this mode unless they are explicitly allowlisted by the user via `torch.serialization.add_safe_globals`. We recommend you start setting `weights_only=True` for any use case where you don't have full control of the loaded file. Please open an issue on GitHub for any issues related to this experimental feature.\n",
      "  checkpoint = torch.load(checkpoint_file, map_location=torch.device('cpu'))\n"
     ]
    }
   ],
   "source": [
    "# create model and load checkpoint\n",
    "model_result_folder = '/disks/disk1/giorgian/old-trainings/agnn/agnn-lr0.00043640124559864087-b512-d128-ReLU-gi5-ln-True-n1000000/experiment_2024-03-24_23:16:30'\n",
    "model_results_folder = '/disks/disk1/giorgian/old-trainings/trigger_results/trigger_results/agnn/agnn-lr0.0021918383450689467-b512-d16-ReLU-gi3-ln-True-n120000/experiment_2025-04-25_05:03:21 '\n",
    "#model_results_folder = '../tracking_results/agnn/agnn-lr0.0013362149625589887-b12-d64-ReLU-gi1-ln-True-n40000/experiment_2025-02-02_11:59:41/'\n",
    "\n",
    "config_file = model_result_folder + '/config.pkl'\n",
    "config = pickle.load(open(config_file, 'rb'))\n",
    "data_config = config.get('data')\n",
    "dphi_max, dz_max = data_config['phi_slope_max'], data_config['z0_max']\n",
    "\n",
    "model_config = config.get('model', {})\n",
    "model_config.pop('loss_func')\n",
    "model_config.pop('name')\n",
    "model = GNNGraphClassifier(**model_config).to(DEVICE)\n",
    "\n",
    "def load_checkpoint(checkpoint_file, model, optimizer=None):\n",
    "    checkpoint = torch.load(checkpoint_file, map_location=torch.device('cpu'))\n",
    "    model.load_state_dict(checkpoint['model'])\n",
    "    if optimizer != None:\n",
    "        optimizer.load_state_dict(checkpoint['optimizer'])\n",
    "        return model, optimizer\n",
    "    return model\n",
    "\n",
    "# load_checkpoint\n",
    "checkpoint_dir = os.path.join(model_result_folder, 'checkpoints')\n",
    "checkpoint_file = sorted([os.path.join(checkpoint_dir, f) for f in os.listdir(checkpoint_dir) if f.startswith('model_checkpoint')])\n",
    "checkpoint_file = checkpoint_file[-1]\n",
    "print(checkpoint_file)\n",
    "model = load_checkpoint(checkpoint_file, model)\n",
    "print('Successfully reloaded!')"
   ]
  },
  {
   "cell_type": "code",
   "execution_count": 5,
   "id": "8c488951-0a9e-4283-b86a-eab6f247ee87",
   "metadata": {},
   "outputs": [
    {
     "data": {
      "text/plain": [
       "{'batch_size': 512,\n",
       " 'input_dir': '/ssd1/giorgian/hits-data-august-2022-ctypes/trigger/1/',\n",
       " 'input_dir2': '/ssd1/giorgian/hits-data-august-2022-ctypes/nontrigger/0/',\n",
       " 'load_full_event': False,\n",
       " 'n_folders': 2,\n",
       " 'n_train': 500000,\n",
       " 'n_valid': 100000,\n",
       " 'n_workers': 16,\n",
       " 'name': 'hit_graph_trigger',\n",
       " 'phi_slope_max': 0.012193355583173944,\n",
       " 'real_weight': 1,\n",
       " 'use_cylindrical_std': False,\n",
       " 'use_hit_type': False,\n",
       " 'z0_max': 14.220353082111805}"
      ]
     },
     "execution_count": 5,
     "metadata": {},
     "output_type": "execute_result"
    }
   ],
   "source": [
    "data_config"
   ]
  },
  {
   "cell_type": "code",
   "execution_count": 6,
   "id": "bef4c05e-6896-4612-bf67-4968ecaa9e0a",
   "metadata": {},
   "outputs": [],
   "source": [
    "data_config['batch_size'] = 1\n",
    "data_config['name'] = 'hit_graph_trigger_real_data'\n",
    "data_config['load_full_event'] = False\n",
    "data_config['input_dir'] = '/home1/giorgian/real-data-parser/events/'\n",
    "data_config['input_dir2'] = None\n",
    "data_config['n_folders'] = 1\n",
    "data_config['n_train'] = 72\n",
    "data_config['n_valid'] = 1\n",
    "data_config['drop_trigger_node'] = True\n",
    "train_data_loader, valid_data_loader = get_data_loaders(distributed=False, rank=0, n_ranks=0, **data_config)"
   ]
  },
  {
   "cell_type": "code",
   "execution_count": 7,
   "id": "43b68ae0-bdfd-4cfc-8c6e-03585db758cf",
   "metadata": {},
   "outputs": [
    {
     "data": {
      "text/plain": [
       "{'name': 'gnn_trigger'}"
      ]
     },
     "execution_count": 7,
     "metadata": {},
     "output_type": "execute_result"
    }
   ],
   "source": [
    "config['trainer']"
   ]
  },
  {
   "cell_type": "code",
   "execution_count": 64,
   "id": "5ff4bbe2-f8dc-4d15-8c6a-4ad925675846",
   "metadata": {},
   "outputs": [],
   "source": [
    "preds = []\n",
    "for batch in train_data_loader:\n",
    "    pred = model(batch.to(DEVICE))\n",
    "    preds.append(pred.detach().cpu().numpy())\n",
    "\n",
    "preds_trigger = np.array(preds)"
   ]
  },
  {
   "cell_type": "code",
   "execution_count": 58,
   "id": "711bf3a8-be0f-4ad3-8939-30c52e0c07b9",
   "metadata": {},
   "outputs": [
    {
     "data": {
      "text/plain": [
       "np.float64(19.444444444444446)"
      ]
     },
     "execution_count": 58,
     "metadata": {},
     "output_type": "execute_result"
    }
   ],
   "source": [
    "np.mean(preds > 0)*100"
   ]
  },
  {
   "cell_type": "code",
   "execution_count": 11,
   "id": "7ebf084f-3fca-44ff-8aed-5e41cb3a0ae2",
   "metadata": {},
   "outputs": [
    {
     "data": {
      "text/plain": [
       "tensor([ True,  True,  True, False, False, False, False, False, False, False,\n",
       "        False, False, False, False, False,  True,  True,  True,  True,  True,\n",
       "         True,  True,  True, False, False, False, False, False, False, False,\n",
       "        False,  True,  True,  True,  True], device='cuda:0')"
      ]
     },
     "execution_count": 11,
     "metadata": {},
     "output_type": "execute_result"
    }
   ],
   "source": [
    "batch.trigger_node"
   ]
  },
  {
   "cell_type": "code",
   "execution_count": 12,
   "id": "5f582127-88b9-462a-942d-7f4b139cb9f4",
   "metadata": {},
   "outputs": [
    {
     "data": {
      "text/plain": [
       "DataBatch(x=[35, 5], edge_index=[2, 79], trigger=[1], trigger_node=[35], i=[1], filename=[1], batch=[35], ptr=[2])"
      ]
     },
     "execution_count": 12,
     "metadata": {},
     "output_type": "execute_result"
    }
   ],
   "source": [
    "batch"
   ]
  },
  {
   "cell_type": "code",
   "execution_count": 65,
   "id": "a6ff9eab-ae3e-48b7-826a-100b6e08e861",
   "metadata": {},
   "outputs": [],
   "source": [
    "preds = []\n",
    "for batch in train_data_loader:\n",
    "    if torch.all(batch.trigger_node):\n",
    "        continue\n",
    "    batch = batch.to(DEVICE)\n",
    "    batch.x = batch.x[~batch.trigger_node]\n",
    "    batch.batch = batch.batch[~batch.trigger_node]\n",
    "    new_indices = torch.arange(torch.sum(~batch.trigger_node)).to(DEVICE)\n",
    "\n",
    "        \n",
    "    old_indices = -1 * torch.ones(batch.trigger_node.shape[0]).to(torch.long).to(DEVICE)\n",
    "    old_indices[~batch.trigger_node] = new_indices\n",
    "    start = old_indices[batch.edge_index[0]]\n",
    "    end = old_indices[batch.edge_index[1]]\n",
    "    new_edge_index = torch.stack([start, end], dim=0)\n",
    "    new_edge_index = new_edge_index[:, ~torch.any(new_edge_index == -1, dim=0)]\n",
    "    batch.edge_index = new_edge_index \n",
    "    pred = model(batch.to(DEVICE))\n",
    "    preds.append(pred.detach().cpu().numpy())\n",
    "\n",
    "preds_nontrigger = np.array(preds)"
   ]
  },
  {
   "cell_type": "code",
   "execution_count": 61,
   "id": "e5ce6431-5270-46a7-9fe6-05cd611c20ce",
   "metadata": {},
   "outputs": [
    {
     "data": {
      "text/plain": [
       "np.float64(8.823529411764707)"
      ]
     },
     "execution_count": 61,
     "metadata": {},
     "output_type": "execute_result"
    }
   ],
   "source": [
    "np.mean(preds > 0)*100"
   ]
  },
  {
   "cell_type": "code",
   "execution_count": null,
   "id": "356ec857-ca1f-4051-920c-76534add0b28",
   "metadata": {},
   "outputs": [],
   "source": []
  }
 ],
 "metadata": {
  "kernelspec": {
   "display_name": "Python 3 (ipykernel)",
   "language": "python",
   "name": "python3"
  },
  "language_info": {
   "codemirror_mode": {
    "name": "ipython",
    "version": 3
   },
   "file_extension": ".py",
   "mimetype": "text/x-python",
   "name": "python",
   "nbconvert_exporter": "python",
   "pygments_lexer": "ipython3",
   "version": "3.12.4"
  }
 },
 "nbformat": 4,
 "nbformat_minor": 5
}
