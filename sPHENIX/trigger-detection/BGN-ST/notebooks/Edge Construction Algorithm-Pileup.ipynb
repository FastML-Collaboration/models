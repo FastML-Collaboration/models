{
 "cells": [
  {
   "cell_type": "code",
   "execution_count": 1,
   "id": "c36821d2",
   "metadata": {},
   "outputs": [
    {
     "name": "stdout",
     "output_type": "stream",
     "text": [
      "/home1/giorgian/projects/trigger-detection-pipeline/sPHENIX/trigger-detection/BGN-ST\n"
     ]
    }
   ],
   "source": [
    "%cd /home1/giorgian/projects/trigger-detection-pipeline/sPHENIX/trigger-detection/BGN-ST"
   ]
  },
  {
   "cell_type": "code",
   "execution_count": 2,
   "id": "ee6b3229",
   "metadata": {},
   "outputs": [],
   "source": [
    "import torch\n",
    "import pickle\n",
    "import dataloaders\n",
    "import matplotlib.pyplot as plt\n",
    "from utils.log import load_checkpoint\n",
    "from collections import defaultdict\n",
    "from itertools import islice\n",
    "from tqdm.notebook import tqdm\n",
    "from models.Bipartite_Attention_Masked import Bipartite_Attention as Model\n",
    "import matplotlib as mpl\n",
    "import torch.nn as nn\n",
    "import numpy as np\n",
    "import random\n",
    "import glob\n",
    "from itertools import product"
   ]
  },
  {
   "cell_type": "code",
   "execution_count": 3,
   "id": "4b1949b0",
   "metadata": {},
   "outputs": [],
   "source": [
    "# System imports\n",
    "import os\n",
    "\n",
    "# External imports\n",
    "import numpy as np\n",
    "import pandas as pd\n",
    "import torch\n",
    "from torch.utils.data import Dataset, random_split\n",
    "import torch_geometric\n",
    "import random\n",
    "\n",
    "from collections import namedtuple\n",
    "import dataclasses\n",
    "\n",
    "@dataclasses.dataclass\n",
    "class EventInfo:\n",
    "    hit_cartesian: np.ndarray\n",
    "    hit_cylindrical: np.ndarray\n",
    "    layer_id: np.ndarray\n",
    "    n_pixels: np.ndarray\n",
    "    energy: np.ndarray\n",
    "    momentum: np.ndarray\n",
    "    interaction_point: np.ndarray\n",
    "    trigger: np.ndarray\n",
    "    has_trigger_pair: np.ndarray\n",
    "    track_origin: np.ndarray\n",
    "    edge_index: np.ndarray\n",
    "    edge_z0: np.ndarray\n",
    "    edge_phi_slope: np.ndarray\n",
    "    phi_slope_max: float\n",
    "    z0_max: float\n",
    "    trigger_node: np.ndarray\n",
    "    particle_id: np.ndarray\n",
    "    particle_type: np.ndarray\n",
    "    parent_particle_type: np.ndarray\n",
    "    active_node: np.ndarray\n",
    "\n",
    "def calc_dphi(phi1, phi2):\n",
    "    \"\"\"Computes phi2-phi1 given in range [-pi,pi]\"\"\"\n",
    "    dphi = phi2 - phi1\n",
    "    dphi[dphi > np.pi] -= 2*np.pi\n",
    "    dphi[dphi < -np.pi] += 2*np.pi\n",
    "    return dphi\n",
    "\n",
    "\n",
    "def build_edges(event_info, phi_slope_max, z0_max):\n",
    "    r, phi, z  = event_info.hit_cylindrical.T\n",
    "    layer_pairs = [(0,1), (1,2), (2,3), (3,4), (4,5), (5,6), (1, 3), (1,4), (2,4), (2,5), (3,5), (3,6), (4,6)]\n",
    "    hit_ids = np.arange(len(event_info.hit_cylindrical))\n",
    "    edge_candidates = []\n",
    "    phi_slopes = []\n",
    "    z0s = []\n",
    "    layer_id = event_info.layer_id\n",
    "    for (layer1, layer2) in layer_pairs:\n",
    "        mask1 = layer_id == layer1\n",
    "        mask2 = layer_id == layer2\n",
    "        if np.sum(mask1) == 0 or np.sum(mask2) == 0:\n",
    "            continue\n",
    "        h1 = hit_ids[mask1]\n",
    "        h2 = hit_ids[mask2]\n",
    "        edges = np.stack(np.meshgrid(h1, h2, indexing='xy'), axis=-1).reshape(-1, 2)\n",
    "\n",
    "        z1 = z[mask1]\n",
    "        z2 = z[mask2]\n",
    "        r1 = r[mask1]\n",
    "        r2 = r[mask2]\n",
    "        phi1 = phi[mask1]\n",
    "        phi2 = phi[mask2]\n",
    "\n",
    "        dphi = calc_dphi(phi2.reshape(-1, 1), phi1.reshape(1, -1))\n",
    "        dr = r2.reshape(-1, 1) - r1.reshape(1, -1)\n",
    "        dz = z2.reshape(-1, 1) - z1.reshape(1, -1)\n",
    "        phi_slope = dphi / dr\n",
    "        z0 = z1 - r1 * dz / dr\n",
    "        good_seg_mask = (np.abs(phi_slope) <= phi_slope_max) & (np.abs(z0) <= z0_max)\n",
    "        good_seg_mask = good_seg_mask.reshape(-1)\n",
    "        edge_candidates.append(edges[good_seg_mask])\n",
    "        phi_slopes.append(phi_slope.reshape(-1)[good_seg_mask])\n",
    "        z0s.append(z0.reshape(-1)[good_seg_mask])\n",
    "\n",
    "    return np.concatenate(edge_candidates, axis=0).T, np.concatenate(phi_slopes), np.concatenate(z0s)\n",
    "\n",
    "def load_file(filename):\n",
    "    with np.load(filename, allow_pickle=True) as f:\n",
    "        return EventInfo(\n",
    "                hit_cartesian=f['hit_cartesian'],\n",
    "                hit_cylindrical=f['hit_cylindrical'],\n",
    "                layer_id=f['layer_id'],\n",
    "                n_pixels=f['n_pixels'],\n",
    "                energy=f['energy'],\n",
    "                momentum=f['momentum'],\n",
    "                interaction_point=f['interaction_point'],\n",
    "                trigger=f['trigger'],\n",
    "                has_trigger_pair=f['has_trigger_pair'],\n",
    "                track_origin=f['track_origin'],\n",
    "                edge_index=f['edge_index'],\n",
    "                edge_z0=f['edge_z0'],\n",
    "                edge_phi_slope=f['edge_phi_slope'],\n",
    "                phi_slope_max=f['phi_slope_max'],\n",
    "                z0_max=f['z0_max'],\n",
    "                trigger_node=f['trigger_node'],\n",
    "                particle_id=f['particle_id'],\n",
    "                particle_type=f['particle_type'],\n",
    "                parent_particle_type=f['parent_particle_type'],\n",
    "                active_node=np.ones(f['hit_cartesian'].shape[0], dtype=int)\n",
    "        )\n",
    "\n",
    "\n",
    "\n",
    "\n",
    "def load_graph(filename, cylindrical_features_scale, phi_slope_max, z0_max, use_intt):\n",
    "    event_info = load_file(filename)\n",
    "\n",
    "    if not use_intt:\n",
    "        keep = event_info.layer_id <= 2\n",
    "    else:\n",
    "        keep = np.ones(event_info.layer_id.shape[0])\n",
    "\n",
    "\n",
    "    x = np.concatenate([\n",
    "        event_info.hit_cylindrical/cylindrical_features_scale[None],\n",
    "        event_info.n_pixels.reshape(-1, 1), \n",
    "        event_info.layer_id.reshape(-1, 1)\n",
    "    ], axis=-1)[keep]\n",
    "\n",
    "\n",
    "\n",
    "    edge_index = event_info.edge_index\n",
    "    phi_slope = event_info.edge_phi_slope\n",
    "    z0 = event_info.edge_z0\n",
    "    edge_index = edge_index[:, (np.abs(phi_slope) <= phi_slope_max) & (np.abs(z0) <= z0_max)]\n",
    "    pid = event_info.particle_id\n",
    "    keep_edge = keep[edge_index[0]] & keep[edge_index[1]]\n",
    "\n",
    "    edge_index = edge_index[:, keep_edge]\n",
    "\n",
    "    y = pid[edge_index[0]] == pid[edge_index[1]]\n",
    "\n",
    "    event_info.edge_index = edge_index\n",
    "\n",
    "    event_info.edge_phi_slope = (phi_slope[(np.abs(phi_slope) <= phi_slope_max) & (np.abs(z0) <= z0_max)])[keep_edge]\n",
    "    event_info.edge_z0 = (z0[(np.abs(phi_slope) <= phi_slope_max) & (np.abs(z0) <= z0_max)])[keep_edge]\n",
    "    event_info.phi_slope_max = phi_slope_max\n",
    "    event_info.z0_max = z0_max\n",
    "\n",
    "\n",
    "    return x, edge_index, y, event_info\n",
    "\n",
    "\n",
    "\n",
    "def multi_load_graph(intt_filename, filenames, noise_filenames, cylindrical_features_scale, phi_slope_max, z0_max, use_intt, n_noise_intt=3, construct_edges=True):\n",
    "    event_info_list = [load_file(intt_filename)] + [load_file(filename) for filename in filenames]\n",
    "    noise_event_info_list = [load_file(filename) for filename in noise_filenames]\n",
    "    max_pid = np.max(event_info_list[0].particle_id)\n",
    "    start_index = 1 if use_intt else 0\n",
    "    i = 0\n",
    "    for event_info in event_info_list[start_index:]:\n",
    "        # Node mask\n",
    "        mask = event_info.layer_id < 3\n",
    "        event_info.hit_cartesian = event_info.hit_cartesian[mask]\n",
    "        event_info.hit_cylindrical = event_info.hit_cylindrical[mask]\n",
    "        event_info.layer_id = event_info.layer_id[mask]\n",
    "        event_info.n_pixels = event_info.n_pixels[mask]\n",
    "        event_info.momentum = event_info.momentum[mask]\n",
    "        event_info.energy = event_info.energy[mask]\n",
    "        event_info.particle_id = event_info.particle_id[mask] + max_pid\n",
    "        event_info.track_origin = event_info.track_origin[mask]\n",
    "        max_pid = np.max(event_info.particle_id)\n",
    "        event_info.particle_type = event_info.particle_type[mask]\n",
    "        event_info.parent_particle_type = event_info.parent_particle_type[mask]\n",
    "        event_info.trigger_node = event_info.trigger_node[mask]\n",
    "        event_info.active_node = event_info.active_node[mask]*(i == start_index and not use_intt)\n",
    "\n",
    "    for i, event_info in enumerate(noise_event_info_list):\n",
    "        # Node mask\n",
    "        mask = np.ones(event_info.hit_cartesian.shape[0], dtype=bool)\n",
    "        event_info.hit_cartesian = event_info.hit_cartesian[mask]\n",
    "        event_info.hit_cylindrical = event_info.hit_cylindrical[mask]\n",
    "        event_info.layer_id = event_info.layer_id[mask]\n",
    "        event_info.n_pixels = np.floor(np.random.exponential(size=mask.shape)+1).astype(np.int)\n",
    "        event_info.momentum = np.nan*np.ones_like(event_info.momentum)\n",
    "        event_info.energy = np.nan*np.ones_like(event_info.energy)\n",
    "        event_info.particle_id = np.nan*np.ones_like(event_info.particle_id)\n",
    "        event_info.track_origin = np.nan*np.ones_like(event_info.track_origin)\n",
    "        event_info.particle_type = np.nan*np.ones_like(event_info.particle_type)\n",
    "        event_info.parent_particle_type = np.nan*np.ones_like(event_info.parent_particle_type)\n",
    "        event_info.trigger_node = np.zeros_like(event_info.trigger_node)\n",
    "        event_info.active_node = np.zeros_like(event_info.active_node)\n",
    "        \n",
    "\n",
    "    noise_event_info = EventInfo(\n",
    "            hit_cartesian=np.concatenate([event_info.hit_cartesian for event_info in noise_event_info_list], axis=0),\n",
    "            hit_cylindrical=np.concatenate([event_info.hit_cylindrical for event_info in noise_event_info_list], axis=0),\n",
    "            track_origin=np.concatenate([event_info.track_origin for event_info in noise_event_info_list], axis=0),\n",
    "            layer_id=np.concatenate([event_info.layer_id for event_info in noise_event_info_list], axis=0),\n",
    "            n_pixels=np.concatenate([event_info.n_pixels for event_info in noise_event_info_list], axis=0),\n",
    "            energy=np.concatenate([event_info.energy for event_info in noise_event_info_list], axis=0),\n",
    "            momentum=np.concatenate([event_info.momentum for event_info in noise_event_info_list], axis=0),\n",
    "            interaction_point=noise_event_info_list[0].interaction_point,\n",
    "            trigger=False,\n",
    "            has_trigger_pair=noise_event_info_list[0].has_trigger_pair,\n",
    "            particle_id=np.concatenate([event_info.particle_id for event_info in noise_event_info_list], axis=0),\n",
    "            particle_type=np.concatenate([event_info.particle_type for event_info in noise_event_info_list], axis=0),\n",
    "            parent_particle_type=np.concatenate([event_info.parent_particle_type for event_info in noise_event_info_list], axis=0),\n",
    "            trigger_node=np.concatenate([event_info.trigger_node for event_info in noise_event_info_list], axis=0),\n",
    "            active_node=np.concatenate([event_info.active_node for event_info in noise_event_info_list], axis=0),\n",
    "            edge_index=None,\n",
    "            edge_z0=None,\n",
    "            edge_phi_slope=None,\n",
    "            phi_slope_max=phi_slope_max,\n",
    "            z0_max=z0_max\n",
    "        )\n",
    "\n",
    "\n",
    "    \n",
    "    n_mvtx_noise = np.random.binomial(n=1572864*len(event_info_list), p=1e-6)\n",
    "    n_noise_intt = int(np.floor(np.random.exponential()+n_noise_intt))\n",
    "    mvtx_noise_hits = np.where(noise_event_info.layer_id < 3)[0]\n",
    "    intt_noise_hits = np.where(noise_event_info.layer_id >= 3)[0]\n",
    "    np.random.shuffle(mvtx_noise_hits)\n",
    "    np.random.shuffle(intt_noise_hits)\n",
    "    mvtx_noise_hits = mvtx_noise_hits[:n_mvtx_noise]\n",
    "    intt_noise_hits = intt_noise_hits[:n_noise_intt]\n",
    "\n",
    "    mask = np.zeros(noise_event_info.hit_cartesian.shape[0], dtype=bool)\n",
    "    mask[mvtx_noise_hits] = 1\n",
    "    if use_intt:\n",
    "        mask[intt_noise_hits] = 1\n",
    "\n",
    "    noise_event_info.hit_cartesian = noise_event_info.hit_cartesian[mask]\n",
    "    noise_event_info.hit_cylindrical = noise_event_info.hit_cylindrical[mask]\n",
    "    noise_event_info.track_origin = noise_event_info.track_origin[mask]\n",
    "    noise_event_info.layer_id = noise_event_info.layer_id[mask]\n",
    "    noise_event_info.n_pixels = noise_event_info.n_pixels[mask]\n",
    "    noise_event_info.energy = noise_event_info.energy[mask]\n",
    "    noise_event_info.momentum = noise_event_info.momentum[mask]\n",
    "    noise_event_info.particle_id = noise_event_info.particle_id[mask]\n",
    "    noise_event_info.parent_particle_type = noise_event_info.parent_particle_type[mask]\n",
    "    noise_event_info.trigger_node = noise_event_info.trigger_node[mask]\n",
    "    noise_event_info.active_node = noise_event_info.active_node[mask]\n",
    "\n",
    "    event_info_list.append(noise_event_info)\n",
    "    trigger = event_info_list[0].trigger if use_intt else np.array(any(ev.trigger for ev in event_info_list))\n",
    "\n",
    "    event_info = EventInfo(\n",
    "            hit_cartesian=np.concatenate([event_info.hit_cartesian for event_info in event_info_list], axis=0),\n",
    "            hit_cylindrical=np.concatenate([event_info.hit_cylindrical for event_info in event_info_list], axis=0),\n",
    "            track_origin=np.concatenate([event_info.track_origin for event_info in event_info_list], axis=0),\n",
    "            layer_id=np.concatenate([event_info.layer_id for event_info in event_info_list], axis=0),\n",
    "            n_pixels=np.concatenate([event_info.n_pixels for event_info in event_info_list], axis=0),\n",
    "            energy=np.concatenate([event_info.energy for event_info in event_info_list], axis=0),\n",
    "            momentum=np.concatenate([event_info.momentum for event_info in event_info_list], axis=0),\n",
    "            interaction_point=event_info_list[0].interaction_point,\n",
    "            trigger=trigger,\n",
    "            has_trigger_pair=event_info_list[0].has_trigger_pair,\n",
    "            particle_id=np.concatenate([event_info.particle_id for event_info in event_info_list], axis=0),\n",
    "            particle_type=np.concatenate([event_info.particle_type for event_info in event_info_list], axis=0),\n",
    "            parent_particle_type=np.concatenate([event_info.parent_particle_type for event_info in event_info_list], axis=0),\n",
    "            trigger_node=np.concatenate([event_info.trigger_node for event_info in event_info_list], axis=0),\n",
    "            active_node=np.concatenate([event_info.active_node for event_info in event_info_list]),\n",
    "            edge_index=None,\n",
    "            edge_z0=None,\n",
    "            edge_phi_slope=None,\n",
    "            phi_slope_max=phi_slope_max,\n",
    "            z0_max=z0_max\n",
    "        )\n",
    "\n",
    "    x = np.concatenate([\n",
    "        event_info.hit_cylindrical/cylindrical_features_scale[None],\n",
    "        event_info.n_pixels.reshape(-1, 1), \n",
    "        event_info.layer_id.reshape(-1, 1)\n",
    "    ], axis=-1)\n",
    "\n",
    "    if construct_edges:\n",
    "        edge_index, phi_slope, z0 = build_edges(event_info, phi_slope_max, z0_max)\n",
    "    else:\n",
    "        edge_index = np.zeros((2, 0), dtype=int)\n",
    "        phi_slope = np.zeros(0)\n",
    "        z0 = np.zeros(0)\n",
    "\n",
    "    event_info.edge_index = edge_index\n",
    "    event_info.edge_phi_slope = phi_slope\n",
    "    event_info.edge_z0 = z0\n",
    "\n",
    "    kept_pid = np.unique(event_info.particle_id[event_info.layer_id >= 3])\n",
    "    event_info.particle_id[~np.isin(event_info.particle_id, kept_pid)] = np.nan\n",
    "\n",
    "    start, end = edge_index\n",
    "    y = event_info.particle_id[start] == event_info.particle_id[end]\n",
    "\n",
    "\n",
    "    return x, edge_index, y, event_info"
   ]
  },
  {
   "cell_type": "code",
   "execution_count": 5,
   "id": "66c66699",
   "metadata": {},
   "outputs": [],
   "source": [
    "non_trigger_dir = '/ssd2/giorgian/hits-data-august-2022/trigger/1'\n",
    "trigger_dir =  '/ssd3/giorgian/hits-data-march-2024/trigger/1'\n",
    "\n",
    "filenames_1 = glob.glob(trigger_dir + '/*.npz')\n",
    "filenames_2 = glob.glob(non_trigger_dir + '/*.npz')\n",
    "# shuffle the files"
   ]
  },
  {
   "cell_type": "code",
   "execution_count": null,
   "id": "01f61c9d",
   "metadata": {},
   "outputs": [],
   "source": [
    "len(filenames_1)"
   ]
  },
  {
   "cell_type": "code",
   "execution_count": null,
   "id": "63fc44a7",
   "metadata": {},
   "outputs": [],
   "source": [
    "len(filenames_2)"
   ]
  },
  {
   "cell_type": "code",
   "execution_count": 7,
   "id": "60172f5f",
   "metadata": {},
   "outputs": [],
   "source": [
    "phi_slope_max = 0.12193355583173944\n",
    "z0_max =  14.220353082111805\n",
    "#dphi_max = 0.03\n",
    "#dz_max = 200"
   ]
  },
  {
   "cell_type": "code",
   "execution_count": null,
   "id": "3bf3d6ed",
   "metadata": {},
   "outputs": [],
   "source": []
  },
  {
   "cell_type": "code",
   "execution_count": null,
   "id": "29eacca4",
   "metadata": {},
   "outputs": [],
   "source": [
    "files"
   ]
  },
  {
   "cell_type": "code",
   "execution_count": null,
   "id": "c593c0b0",
   "metadata": {},
   "outputs": [],
   "source": [
    "maxs = []\n",
    "mins = []\n",
    "for file in tqdm(files[:10000]):\n",
    "    f = np.load(file)\n",
    "    hits = f['hit_cylindrical']\n",
    "    layer_id = f['layer_id']\n",
    "    phi_slope = np.abs(f['edge_phi_slope'])\n",
    "    total_search = 0\n",
    "\n",
    "    total_edges = f['edge_index'].shape[1]\n",
    "    maxs.append(np.max(hits[:, 1]))\n",
    "    mins.append(np.min(hits[:, 1]))\n",
    "print(max(maxs))\n",
    "print(min(mins))"
   ]
  },
  {
   "cell_type": "code",
   "execution_count": null,
   "id": "79eef314",
   "metadata": {},
   "outputs": [],
   "source": [
    "f['particle_id']"
   ]
  },
  {
   "cell_type": "code",
   "execution_count": null,
   "id": "f6948edd",
   "metadata": {
    "scrolled": true
   },
   "outputs": [],
   "source": [
    "start, end = f['edge_index']"
   ]
  },
  {
   "cell_type": "code",
   "execution_count": null,
   "id": "cf163852",
   "metadata": {},
   "outputs": [],
   "source": [
    "start"
   ]
  },
  {
   "cell_type": "code",
   "execution_count": null,
   "id": "dd5064f9",
   "metadata": {},
   "outputs": [],
   "source": [
    "np.sum((f['particle_id'][start] == f['particle_id'][end]))/f['edge_index'].shape[1]"
   ]
  },
  {
   "cell_type": "code",
   "execution_count": 8,
   "id": "d8f6ac22",
   "metadata": {},
   "outputs": [
    {
     "data": {
      "application/vnd.jupyter.widget-view+json": {
       "model_id": "fef556f1b64441a6852360225e0d4521",
       "version_major": 2,
       "version_minor": 0
      },
      "text/plain": [
       "  0%|          | 0/1000 [00:00<?, ?it/s]"
      ]
     },
     "metadata": {},
     "output_type": "display_data"
    },
    {
     "name": "stderr",
     "output_type": "stream",
     "text": [
      "/tmp/ipykernel_1393317/3524281194.py:180: DeprecationWarning: `np.int` is a deprecated alias for the builtin `int`. To silence this warning, use `int` by itself. Doing this will not modify any behavior and is safe. When replacing `np.int`, you may wish to use e.g. `np.int64` or `np.int32` to specify the precision. If you wish to review your current use, check the release note link for additional information.\n",
      "Deprecated in NumPy 1.20; for more details and guidance: https://numpy.org/devdocs/release/1.20.0-notes.html#deprecations\n",
      "  event_info.n_pixels = np.floor(np.random.exponential(size=mask.shape)+1).astype(np.int)\n"
     ]
    }
   ],
   "source": [
    "percent_search = []\n",
    "brute_percent_search = []\n",
    "percent_true_edge = []\n",
    "percent_all_edge = []\n",
    "layer_pairs = np.array([(0,1), (1,2), (2,3), (3,4), (4,5), (5,6), (1, 3), (1,4), (2,4), (2,5), (3,5), (3,6), (4,6)])\n",
    "\n",
    "n_mix = 10\n",
    "n_noise_files = 2\n",
    "filenames = filenames_1 + filenames_2\n",
    "for i in tqdm(range(1000)):\n",
    "    n_trigger = 1 + np.random.binomial(n_mix, 0.01)\n",
    "    trigger_files = random.sample(filenames_1, n_trigger)\n",
    "    nontrigger_files = random.sample(filenames_2, n_mix - n_trigger)\n",
    "    files = trigger_files + nontrigger_files\n",
    "\n",
    "    # Mix of both trigger and non-trigger\n",
    "    noise_filenames = random.sample(filenames, n_noise_files)\n",
    "    while set(noise_filenames) & set(files):\n",
    "        noise_filenames = random.sample(filenames, n_noise_files)\n",
    "\n",
    "    x, edge_index, y, event_info = multi_load_graph(files[0], files[1:], noise_filenames, np.array([1, 1, 1]), phi_slope_max, z0_max, use_intt=True, construct_edges=True)\n",
    "\n",
    "    hits = event_info.hit_cylindrical\n",
    "    layer_id = event_info.layer_id\n",
    "    phi_slope = np.abs(event_info.edge_phi_slope)\n",
    "    total_search = 0\n",
    "    brute_total_search = 0\n",
    "    total_edges = edge_index.shape[1]\n",
    "    true_edges =  set(tuple(e) for e in edge_index.T)\n",
    "    edges_searched = []\n",
    "    indices = np.arange(hits.shape[0])\n",
    "    all_edges = []\n",
    "    for l1, l2 in layer_pairs:\n",
    "            h1 = hits[layer_id == l1]\n",
    "            h2 = hits[layer_id == l2]\n",
    "            h1_indices = indices[layer_id == l1]\n",
    "            h2_indices = indices[layer_id == l2]\n",
    "            if len(h1) == 0 or len(h2) == 0:\n",
    "                continue\n",
    "            \n",
    "            s1 = np.argsort(h1[:, 1])\n",
    "            s2 = np.argsort(h2[:, 1])\n",
    "            h1 = h1[s1]\n",
    "            h2 = h2[s2]\n",
    "            h1_indices = h1_indices[s1]\n",
    "            h2_indices = h2_indices[s2]\n",
    "            h1 = np.array(sorted(h1, key=lambda x: x[1]))\n",
    "            h2 = np.array(sorted(h2, key=lambda x: x[1]))\n",
    "            dr = np.max(h2[:, 0]) - np.min(h1[:, 0])\n",
    "            for hit, index in zip(h1, h1_indices):\n",
    "                phi_min = hit[1] - phi_slope_max * dr\n",
    "                phi_max = hit[1] + phi_slope_max * dr\n",
    "                if phi_max > np.pi:\n",
    "                    i1 = np.searchsorted(h2[:, 1], -2*np.pi + phi_max)\n",
    "                    for i in range(0, i1):\n",
    "                        edges_searched.append((index, h2_indices[i]))\n",
    "                    total_search += i1    \n",
    "\n",
    "                if phi_min < -np.pi:\n",
    "                    i1 = np.searchsorted(h2[:, 1], 2*np.pi + phi_min)\n",
    "                    for i in range(i1, len(h2)):\n",
    "                        edges_searched.append((index, h2_indices[i]))\n",
    "                    total_search += (len(h2) - i1)\n",
    "                    \n",
    "                i1 = np.searchsorted(h2[:, 1], phi_min)\n",
    "                i2 = np.searchsorted(h2[:, 1], phi_max)\n",
    "                total_search += (i2 - i1 + 1)\n",
    "                for i in range(i1, i2):\n",
    "                    edges_searched.append((index, h2_indices[i]))\n",
    "            \n",
    "            all_edges.extend(product(h1_indices, h2_indices))\n",
    "                    \n",
    "            \n",
    "                    \n",
    "            brute_total_search += len(h1)*len(h2)\n",
    "\n",
    "    \n",
    "    if not (true_edges <= set(edges_searched)):\n",
    "        print(true_edges, set(edges_searched))\n",
    "        \n",
    "    \n",
    "    percent_search.append(total_search/total_edges)\n",
    "    brute_percent_search.append(brute_total_search/total_edges)\n",
    "    start, end = edge_index\n",
    "    pid = event_info.particle_id\n",
    "    n_edges = np.sum(pid[start] == pid[end])\n",
    "    percent_true_edge.append(n_edges/start.shape[0])\n",
    "    all_edges = np.array(all_edges).T\n",
    "    start, end = all_edges\n",
    "    n_true_edges = np.sum(pid[start] == pid[end])\n",
    "    percent_all_edge.append(n_edges/n_true_edges)"
   ]
  },
  {
   "cell_type": "code",
   "execution_count": 9,
   "id": "e771d0d5",
   "metadata": {},
   "outputs": [
    {
     "ename": "NameError",
     "evalue": "name 'f' is not defined",
     "output_type": "error",
     "traceback": [
      "\u001b[0;31m---------------------------------------------------------------------------\u001b[0m",
      "\u001b[0;31mNameError\u001b[0m                                 Traceback (most recent call last)",
      "Cell \u001b[0;32mIn[9], line 1\u001b[0m\n\u001b[0;32m----> 1\u001b[0m \u001b[38;5;28mset\u001b[39m(\u001b[38;5;28mtuple\u001b[39m(e) \u001b[38;5;28;01mfor\u001b[39;00m e \u001b[38;5;129;01min\u001b[39;00m \u001b[43mf\u001b[49m[\u001b[38;5;124m'\u001b[39m\u001b[38;5;124medge_index\u001b[39m\u001b[38;5;124m'\u001b[39m]\u001b[38;5;241m.\u001b[39mT)\n",
      "\u001b[0;31mNameError\u001b[0m: name 'f' is not defined"
     ]
    }
   ],
   "source": [
    " set(tuple(e) for e in f['edge_index'].T)"
   ]
  },
  {
   "cell_type": "code",
   "execution_count": null,
   "id": "31a057cf",
   "metadata": {},
   "outputs": [],
   "source": []
  },
  {
   "cell_type": "code",
   "execution_count": 52,
   "id": "74244243",
   "metadata": {},
   "outputs": [],
   "source": [
    "percent_search = np.array(percent_search)"
   ]
  },
  {
   "cell_type": "code",
   "execution_count": 54,
   "id": "8b7b12e3",
   "metadata": {},
   "outputs": [
    {
     "data": {
      "text/plain": [
       "(array([   0,    6,    7, ..., 9990, 9992, 9996]),)"
      ]
     },
     "execution_count": 54,
     "metadata": {},
     "output_type": "execute_result"
    }
   ],
   "source": [
    "np.where(percent_search < 1)"
   ]
  },
  {
   "cell_type": "code",
   "execution_count": 55,
   "id": "f6efc971",
   "metadata": {},
   "outputs": [
    {
     "data": {
      "text/plain": [
       "0.5281076801266825"
      ]
     },
     "execution_count": 55,
     "metadata": {},
     "output_type": "execute_result"
    }
   ],
   "source": [
    "percent_search[0]"
   ]
  },
  {
   "cell_type": "code",
   "execution_count": 14,
   "id": "6cc19420",
   "metadata": {},
   "outputs": [],
   "source": [
    "f = np.load(files[0])\n",
    "hits = f['hit_cylindrical']\n",
    "layer_id = f['layer_id']\n",
    "phi_slope = np.abs(f['edge_phi_slope'])\n",
    "total_search = 0\n",
    "total_edges = f['edge_index'].shape[1]\n",
    "for l1, l2 in layer_pairs:\n",
    "        h1 = hits[layer_id == l1]\n",
    "        h2 = hits[layer_id == l2]\n",
    "        if len(h1) == 0 or len(h2) == 0:\n",
    "            continue\n",
    "\n",
    "        h1 = np.array(sorted(h1, key=lambda x: x[1]))\n",
    "        h2 = np.array(sorted(h2, key=lambda x: x[1]))\n",
    "        dr = np.max(h2[:, 0]) - np.min(h1[:, 0])\n",
    "        for hit in h1:\n",
    "            phi_min = hit[1] - phi_slope_max * dr\n",
    "            phi_max = hit[1] + phi_slope_max * dr\n",
    "            if phi_max > np.pi:\n",
    "                i1 = np.searchsorted(h2[:, 1], -2*np.pi + phi_max)\n",
    "                total_search += i1    \n",
    "\n",
    "            if phi_min < -np.pi:\n",
    "                i1 = np.searchsorted(h2[:, 1], 2*np.pi + phi_min)\n",
    "                total_search += (len(h2) - i1)\n",
    "\n",
    "            i1 = np.searchsorted(h2[:, 1], phi_min)\n",
    "            i2 = np.searchsorted(h2[:, 1], phi_max)\n",
    "            total_search += (i2 - i1 + 1)"
   ]
  },
  {
   "cell_type": "code",
   "execution_count": 15,
   "id": "fa3ffe97",
   "metadata": {},
   "outputs": [
    {
     "data": {
      "text/plain": [
       "230"
      ]
     },
     "execution_count": 15,
     "metadata": {},
     "output_type": "execute_result"
    }
   ],
   "source": [
    "total_search"
   ]
  },
  {
   "cell_type": "code",
   "execution_count": 16,
   "id": "cc5f3c91",
   "metadata": {},
   "outputs": [
    {
     "data": {
      "text/plain": [
       "115"
      ]
     },
     "execution_count": 16,
     "metadata": {},
     "output_type": "execute_result"
    }
   ],
   "source": [
    "total_edges"
   ]
  },
  {
   "cell_type": "code",
   "execution_count": 17,
   "id": "1746131c",
   "metadata": {
    "scrolled": true
   },
   "outputs": [
    {
     "data": {
      "text/plain": [
       "0.11470745347996607"
      ]
     },
     "execution_count": 17,
     "metadata": {},
     "output_type": "execute_result"
    }
   ],
   "source": [
    "np.max(phi_slope)"
   ]
  },
  {
   "cell_type": "code",
   "execution_count": 18,
   "id": "32f9763f",
   "metadata": {},
   "outputs": [
    {
     "data": {
      "text/plain": [
       "0.12193355583173944"
      ]
     },
     "execution_count": 18,
     "metadata": {},
     "output_type": "execute_result"
    }
   ],
   "source": [
    "phi_slope_max"
   ]
  },
  {
   "cell_type": "code",
   "execution_count": 10,
   "id": "a02d3e54",
   "metadata": {},
   "outputs": [
    {
     "data": {
      "text/plain": [
       "<matplotlib.legend.Legend at 0x7fa78c67bbe0>"
      ]
     },
     "execution_count": 10,
     "metadata": {},
     "output_type": "execute_result"
    },
    {
     "data": {
      "image/png": "[encoded data removed]",
      "text/plain": [
       "<Figure size 640x480 with 1 Axes>"
      ]
     },
     "metadata": {},
     "output_type": "display_data"
    }
   ],
   "source": [
    "plt.hist(percent_search, alpha=0.5, label='New Algorithm')\n",
    "plt.hist(brute_percent_search, alpha=0.5, label='Old Algorithm')\n",
    "\n",
    "plt.title('Edges Searched Normalized by Final Edge Candidates')\n",
    "plt.ylabel('Count')\n",
    "plt.xlabel('(Edges Searched)/(Edges Generated)')\n",
    "plt.legend()"
   ]
  },
  {
   "cell_type": "code",
   "execution_count": 11,
   "id": "e8008336",
   "metadata": {},
   "outputs": [
    {
     "data": {
      "text/plain": [
       "Text(0.5, 0, '(Edges Searched)/(Edges Generated)')"
      ]
     },
     "execution_count": 11,
     "metadata": {},
     "output_type": "execute_result"
    },
    {
     "data": {
      "image/png": "[encoded data removed]",
      "text/plain": [
       "<Figure size 640x480 with 1 Axes>"
      ]
     },
     "metadata": {},
     "output_type": "display_data"
    }
   ],
   "source": [
    "plt.hist(percent_search, alpha=0.5, label='New Algorithm', cumulative=True)\n",
    "plt.hist(brute_percent_search, alpha=0.5, label='Old Algorithm', cumulative=True)\n",
    "plt.title('Edges Searched As a Percentage of Final Edge Candidates (Cumulative)')\n",
    "\n",
    "plt.legend()\n",
    "plt.ylabel('Count')\n",
    "plt.xlabel('(Edges Searched)/(Edges Generated)')"
   ]
  },
  {
   "cell_type": "code",
   "execution_count": 12,
   "id": "4b8b0a36",
   "metadata": {},
   "outputs": [
    {
     "data": {
      "text/plain": [
       "Text(0, 0.5, 'Count')"
      ]
     },
     "execution_count": 12,
     "metadata": {},
     "output_type": "execute_result"
    },
    {
     "data": {
      "image/png": "[encoded data removed]",
      "text/plain": [
       "<Figure size 640x480 with 1 Axes>"
      ]
     },
     "metadata": {},
     "output_type": "display_data"
    }
   ],
   "source": [
    "plt.hist(percent_true_edge, bins=25)\n",
    "plt.title('True Edge Proportion of Edge Candidates')\n",
    "plt.xlabel('(True Edges in Edge Candidates)/(Edge Candidates)')\n",
    "plt.ylabel('Count')"
   ]
  },
  {
   "cell_type": "code",
   "execution_count": 13,
   "id": "b86d8826",
   "metadata": {},
   "outputs": [
    {
     "data": {
      "text/plain": [
       "Text(0.5, 1.0, 'Proportion of All Possible True Edges Captured')"
      ]
     },
     "execution_count": 13,
     "metadata": {},
     "output_type": "execute_result"
    },
    {
     "data": {
      "image/png": "[encoded data removed]",
      "text/plain": [
       "<Figure size 640x480 with 1 Axes>"
      ]
     },
     "metadata": {},
     "output_type": "display_data"
    }
   ],
   "source": [
    "plt.hist(percent_all_edge, bins=25)\n",
    "plt.xlabel('(True Edge in Edge Candidates)/(All Possible True Edges)')\n",
    "plt.ylabel('Count')\n",
    "plt.title('Proportion of All Possible True Edges Captured')\n"
   ]
  },
  {
   "cell_type": "code",
   "execution_count": null,
   "id": "2822a052",
   "metadata": {},
   "outputs": [
    {
     "data": {
      "text/plain": [
       "Text(0.5, 0, 'Searched')"
      ]
     },
     "execution_count": 14,
     "metadata": {},
     "output_type": "execute_result"
    }
   ],
   "source": [
    "plt.hist(percent_search, bins=15)\n",
    "plt.title('Searched Compared To Total Edges')\n",
    "plt.ylabel('Count')\n",
    "plt.xlabel('Searched')"
   ]
  },
  {
   "cell_type": "code",
   "execution_count": 28,
   "id": "e2d6c10a",
   "metadata": {},
   "outputs": [
    {
     "data": {
      "text/plain": [
       "104"
      ]
     },
     "execution_count": 28,
     "metadata": {},
     "output_type": "execute_result"
    }
   ],
   "source": [
    "f['edge_index'].shape[1]"
   ]
  },
  {
   "cell_type": "code",
   "execution_count": 25,
   "id": "04f2064d",
   "metadata": {},
   "outputs": [
    {
     "data": {
      "text/plain": [
       "['hit_cartesian',\n",
       " 'hit_cylindrical',\n",
       " 'layer_id',\n",
       " 'n_pixels',\n",
       " 'energy',\n",
       " 'momentum',\n",
       " 'interaction_point',\n",
       " 'trigger',\n",
       " 'has_trigger_pair',\n",
       " 'track_origin',\n",
       " 'edge_index',\n",
       " 'edge_z0',\n",
       " 'edge_phi_slope',\n",
       " 'phi_slope_max',\n",
       " 'z0_max',\n",
       " 'trigger_node',\n",
       " 'particle_id',\n",
       " 'particle_type',\n",
       " 'parent_particle_type']"
      ]
     },
     "execution_count": 25,
     "metadata": {},
     "output_type": "execute_result"
    }
   ],
   "source": [
    "list(f.keys())"
   ]
  },
  {
   "cell_type": "code",
   "execution_count": null,
   "id": "891214f7",
   "metadata": {},
   "outputs": [],
   "source": []
  }
 ],
 "metadata": {
  "kernelspec": {
   "display_name": "Python 3 (ipykernel)",
   "language": "python",
   "name": "python3"
  },
  "language_info": {
   "codemirror_mode": {
    "name": "ipython",
    "version": 3
   },
   "file_extension": ".py",
   "mimetype": "text/x-python",
   "name": "python",
   "nbconvert_exporter": "python",
   "pygments_lexer": "ipython3",
   "version": "3.10.9"
  }
 },
 "nbformat": 4,
 "nbformat_minor": 5
}
