{
 "cells": [
  {
   "cell_type": "code",
   "execution_count": 1,
   "id": "75bcccba",
   "metadata": {
    "scrolled": true
   },
   "outputs": [
    {
     "name": "stdout",
     "output_type": "stream",
     "text": [
      "/home1/giorgian/projects/trigger-detection-pipeline/sPHENIX/tracking-GNN\n"
     ]
    }
   ],
   "source": [
    "%cd /home1/giorgian/projects/trigger-detection-pipeline/sPHENIX/tracking-GNN"
   ]
  },
  {
   "cell_type": "code",
   "execution_count": 26,
   "id": "71a2839c",
   "metadata": {},
   "outputs": [],
   "source": [
    "from train import load_config\n",
    "from datasets import get_data_loaders\n",
    "import matplotlib.pyplot as plt\n",
    "import numpy as np\n",
    "from datasets.hitgraphs_sparse_new import build_edges, calc_dphi\n",
    "from tqdm.notebook import tqdm\n",
    "import torch"
   ]
  },
  {
   "cell_type": "code",
   "execution_count": 3,
   "id": "dcb4e937",
   "metadata": {},
   "outputs": [],
   "source": [
    "config = load_config('configs/tracking.yaml')\n",
    "config['data']['n_mix'] = 1\n",
    "config['data']['batch_size'] = 256"
   ]
  },
  {
   "cell_type": "code",
   "execution_count": 4,
   "id": "122280fe",
   "metadata": {},
   "outputs": [],
   "source": [
    "train_data_loader, valid_data_loader = get_data_loaders(distributed=False, rank=1, n_ranks=1, **config['data'])"
   ]
  },
  {
   "cell_type": "code",
   "execution_count": 29,
   "id": "dda64e4c",
   "metadata": {},
   "outputs": [
    {
     "data": {
      "application/vnd.jupyter.widget-view+json": {
       "model_id": "7214dfecc5874163bb2003f34d13e76e",
       "version_major": 2,
       "version_minor": 0
      },
      "text/plain": [
       "  0%|          | 0/3907 [00:00<?, ?it/s]"
      ]
     },
     "metadata": {},
     "output_type": "display_data"
    }
   ],
   "source": [
    "sums = [0]*5\n",
    "counts = [0]*5\n",
    "for batch in tqdm(train_data_loader):\n",
    "    x = batch.x\n",
    "    r = x[:, 0] * 3\n",
    "    layer_id = x[:, -1]\n",
    "    layer_id[layer_id == 4] = 3\n",
    "    layer_id[layer_id == 5] = 4\n",
    "    layer_id[layer_id == 6] = 4\n",
    "    for i in range(5):\n",
    "        sums[i] += torch.sum(r[layer_id == i]).numpy().item()\n",
    "        counts[i] += torch.sum(layer_id == i).numpy().item()"
   ]
  },
  {
   "cell_type": "code",
   "execution_count": 31,
   "id": "b08a7d6f",
   "metadata": {},
   "outputs": [
    {
     "data": {
      "text/plain": [
       "array([2.53654013, 3.33592798, 4.1445396 , 7.46767887, 9.97344009])"
      ]
     },
     "execution_count": 31,
     "metadata": {},
     "output_type": "execute_result"
    }
   ],
   "source": [
    "np.array(sums)/np.array(counts)"
   ]
  },
  {
   "cell_type": "code",
   "execution_count": 7,
   "id": "92cc8238",
   "metadata": {},
   "outputs": [
    {
     "data": {
      "text/plain": [
       "torch.Size([16884])"
      ]
     },
     "execution_count": 7,
     "metadata": {},
     "output_type": "execute_result"
    }
   ],
   "source": [
    "layer_id.shape"
   ]
  },
  {
   "cell_type": "code",
   "execution_count": null,
   "id": "956839cf",
   "metadata": {},
   "outputs": [],
   "source": [
    "sums = np.zeros(5)"
   ]
  },
  {
   "cell_type": "code",
   "execution_count": null,
   "id": "04c42c24",
   "metadata": {},
   "outputs": [],
   "source": []
  },
  {
   "cell_type": "code",
   "execution_count": 71,
   "id": "74681e44",
   "metadata": {},
   "outputs": [],
   "source": [
    "data_batch = next(vd)"
   ]
  },
  {
   "cell_type": "code",
   "execution_count": 72,
   "id": "db8aa817",
   "metadata": {},
   "outputs": [
    {
     "data": {
      "text/plain": [
       "DataBatch(x=[82, 5], edge_index=[2, 132], y=[132], w=[132], i=[1], trigger=[1], pid=[82], batch=[82], ptr=[2])"
      ]
     },
     "execution_count": 72,
     "metadata": {},
     "output_type": "execute_result"
    }
   ],
   "source": [
    "data_batch"
   ]
  },
  {
   "cell_type": "code",
   "execution_count": null,
   "id": "46f0e7be",
   "metadata": {},
   "outputs": [],
   "source": []
  },
  {
   "cell_type": "code",
   "execution_count": 21,
   "id": "636cf37e",
   "metadata": {},
   "outputs": [
    {
     "data": {
      "text/plain": [
       "<matplotlib.collections.PathCollection at 0x7f096030c790>"
      ]
     },
     "execution_count": 21,
     "metadata": {},
     "output_type": "execute_result"
    },
    {
     "data": {
      "image/png": "[encoded data removed]",
      "text/plain": [
       "<Figure size 640x480 with 1 Axes>"
      ]
     },
     "metadata": {},
     "output_type": "display_data"
    }
   ],
   "source": [
    "x = batch.x\n",
    "#batch = batch.batch\n",
    "\n",
    "# Filter out hits and edges that don't belong to the first batch\n",
    "#x = x[batch == 0]\n",
    "layer_id = x[:, -1]\n",
    "\n",
    "# Assuming the first three columns of 'x' are the r, phi, and z coordinates\n",
    "r = x[:, 0] * 3  # scaling back r\n",
    "phi = x[:, 1]\n",
    "z = x[:, 2] * 3  # scaling back z\n",
    "\n",
    "# Convert from cylindrical to Cartesian coordinates\n",
    "x_coord = r * np.cos(phi)\n",
    "y_coord = r * np.sin(phi)\n",
    "mask = (layer_id == 3) | (layer_id == 4)\n",
    "# Plot the hit points\n",
    "mask = (layer_id == 0)\n",
    "plt.scatter(x_coord[mask], y_coord[mask], color='blue')\n",
    "\n"
   ]
  },
  {
   "cell_type": "code",
   "execution_count": null,
   "id": "5934ad65",
   "metadata": {},
   "outputs": [],
   "source": []
  },
  {
   "cell_type": "code",
   "execution_count": null,
   "id": "42c0b793",
   "metadata": {},
   "outputs": [],
   "source": []
  }
 ],
 "metadata": {
  "kernelspec": {
   "display_name": "Python 3 (ipykernel)",
   "language": "python",
   "name": "python3"
  },
  "language_info": {
   "codemirror_mode": {
    "name": "ipython",
    "version": 3
   },
   "file_extension": ".py",
   "mimetype": "text/x-python",
   "name": "python",
   "nbconvert_exporter": "python",
   "pygments_lexer": "ipython3",
   "version": "3.10.9"
  }
 },
 "nbformat": 4,
 "nbformat_minor": 5
}
