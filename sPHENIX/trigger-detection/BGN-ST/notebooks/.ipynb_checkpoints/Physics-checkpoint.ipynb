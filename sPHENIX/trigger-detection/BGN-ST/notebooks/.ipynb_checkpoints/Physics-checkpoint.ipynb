{
 "cells": [
  {
   "cell_type": "code",
   "execution_count": 1,
   "id": "e5e07f95",
   "metadata": {},
   "outputs": [
    {
     "name": "stdout",
     "output_type": "stream",
     "text": [
      "/home1/giorgian/projects/trigger-detection-pipeline/sPHENIX/trigger-detection/BGN-ST\n"
     ]
    }
   ],
   "source": [
    "%cd /home1/giorgian/projects/trigger-detection-pipeline/sPHENIX/trigger-detection/BGN-ST"
   ]
  },
  {
   "cell_type": "code",
   "execution_count": 2,
   "id": "ac12ae7b",
   "metadata": {},
   "outputs": [],
   "source": [
    "import torch\n",
    "import pickle\n",
    "import dataloaders\n",
    "import matplotlib.pyplot as plt\n",
    "from utils.log import load_checkpoint\n",
    "from collections import defaultdict\n",
    "from itertools import islice\n",
    "from tqdm.notebook import tqdm\n",
    "from models.Bipartite_Attention_Masked import Bipartite_Attention as Model\n",
    "import matplotlib as mpl\n",
    "import torch.nn as nn\n",
    "import numpy as np\n",
    "import random"
   ]
  },
  {
   "cell_type": "code",
   "execution_count": 3,
   "id": "2db4181a",
   "metadata": {},
   "outputs": [],
   "source": [
    "from importlib import reload"
   ]
  },
  {
   "cell_type": "code",
   "execution_count": 4,
   "id": "8f3d0ff6",
   "metadata": {},
   "outputs": [],
   "source": [
    "#config_file_path = 'train_results/biatt-augment-adj/experiment_2023-06-13_10:12:01/config.pkl'\n",
    "config_file_path = 'train_results/biatt-augment-adj/experiment_2023-08-03_21:42:12/config.pkl'\n",
    "with open(config_file_path, 'rb') as f:\n",
    "    config = pickle.load(f)"
   ]
  },
  {
   "cell_type": "code",
   "execution_count": 5,
   "id": "fb2f8101",
   "metadata": {},
   "outputs": [],
   "source": [
    "dconfig = config['data']\n",
    "dconfig['n_valid'] = 250000\n",
    "train_data, val_data, test_data = dataloaders.get_data_loaders(**dconfig)\n"
   ]
  },
  {
   "cell_type": "code",
   "execution_count": 6,
   "id": "a46c9954",
   "metadata": {
    "scrolled": true
   },
   "outputs": [
    {
     "data": {
      "text/plain": [
       "Bipartite_Attention(\n",
       "  (_layers): ModuleList(\n",
       "    (0): Bipartite_Layers(\n",
       "      (enc): ModuleList(\n",
       "        (0): Masked_SAB(\n",
       "          (mab): Masked_MAB(\n",
       "            (fc_q): Linear(in_features=32, out_features=128, bias=True)\n",
       "            (fc_k): Linear(in_features=32, out_features=128, bias=True)\n",
       "            (fc_v): Linear(in_features=32, out_features=128, bias=True)\n",
       "            (fc_o): Linear(in_features=128, out_features=128, bias=True)\n",
       "            (ln0): Masked_LayerNorm(\n",
       "              (ln): LayerNorm((128,), eps=1e-05, elementwise_affine=True)\n",
       "            )\n",
       "            (ln1): Masked_LayerNorm(\n",
       "              (ln): LayerNorm((128,), eps=1e-05, elementwise_affine=True)\n",
       "            )\n",
       "          )\n",
       "        )\n",
       "        (1): Masked_SAB(\n",
       "          (mab): Masked_MAB(\n",
       "            (fc_q): Linear(in_features=128, out_features=128, bias=True)\n",
       "            (fc_k): Linear(in_features=128, out_features=128, bias=True)\n",
       "            (fc_v): Linear(in_features=128, out_features=128, bias=True)\n",
       "            (fc_o): Linear(in_features=128, out_features=128, bias=True)\n",
       "            (ln0): Masked_LayerNorm(\n",
       "              (ln): LayerNorm((128,), eps=1e-05, elementwise_affine=True)\n",
       "            )\n",
       "            (ln1): Masked_LayerNorm(\n",
       "              (ln): LayerNorm((128,), eps=1e-05, elementwise_affine=True)\n",
       "            )\n",
       "          )\n",
       "        )\n",
       "      )\n",
       "      (transform_in): Linear(in_features=128, out_features=128, bias=True)\n",
       "      (aggregator_score): Linear(in_features=128, out_features=8, bias=True)\n",
       "      (transform_out): Sequential(\n",
       "        (0): Linear(in_features=2208, out_features=128, bias=True)\n",
       "        (1): LayerNorm((128,), eps=1e-05, elementwise_affine=True)\n",
       "        (2): PReLU(num_parameters=1)\n",
       "      )\n",
       "    )\n",
       "    (1): Bipartite_Layers(\n",
       "      (enc): ModuleList(\n",
       "        (0): Masked_SAB(\n",
       "          (mab): Masked_MAB(\n",
       "            (fc_q): Linear(in_features=128, out_features=128, bias=True)\n",
       "            (fc_k): Linear(in_features=128, out_features=128, bias=True)\n",
       "            (fc_v): Linear(in_features=128, out_features=128, bias=True)\n",
       "            (fc_o): Linear(in_features=128, out_features=128, bias=True)\n",
       "            (ln0): Masked_LayerNorm(\n",
       "              (ln): LayerNorm((128,), eps=1e-05, elementwise_affine=True)\n",
       "            )\n",
       "            (ln1): Masked_LayerNorm(\n",
       "              (ln): LayerNorm((128,), eps=1e-05, elementwise_affine=True)\n",
       "            )\n",
       "          )\n",
       "        )\n",
       "        (1): Masked_SAB(\n",
       "          (mab): Masked_MAB(\n",
       "            (fc_q): Linear(in_features=128, out_features=128, bias=True)\n",
       "            (fc_k): Linear(in_features=128, out_features=128, bias=True)\n",
       "            (fc_v): Linear(in_features=128, out_features=128, bias=True)\n",
       "            (fc_o): Linear(in_features=128, out_features=128, bias=True)\n",
       "            (ln0): Masked_LayerNorm(\n",
       "              (ln): LayerNorm((128,), eps=1e-05, elementwise_affine=True)\n",
       "            )\n",
       "            (ln1): Masked_LayerNorm(\n",
       "              (ln): LayerNorm((128,), eps=1e-05, elementwise_affine=True)\n",
       "            )\n",
       "          )\n",
       "        )\n",
       "      )\n",
       "      (transform_in): Linear(in_features=128, out_features=128, bias=True)\n",
       "      (aggregator_score): Linear(in_features=128, out_features=8, bias=True)\n",
       "      (transform_out): Sequential(\n",
       "        (0): Linear(in_features=2304, out_features=128, bias=True)\n",
       "        (1): LayerNorm((128,), eps=1e-05, elementwise_affine=True)\n",
       "        (2): PReLU(num_parameters=1)\n",
       "      )\n",
       "    )\n",
       "    (2): Bipartite_Layers(\n",
       "      (enc): ModuleList(\n",
       "        (0): Masked_SAB(\n",
       "          (mab): Masked_MAB(\n",
       "            (fc_q): Linear(in_features=128, out_features=128, bias=True)\n",
       "            (fc_k): Linear(in_features=128, out_features=128, bias=True)\n",
       "            (fc_v): Linear(in_features=128, out_features=128, bias=True)\n",
       "            (fc_o): Linear(in_features=128, out_features=128, bias=True)\n",
       "            (ln0): Masked_LayerNorm(\n",
       "              (ln): LayerNorm((128,), eps=1e-05, elementwise_affine=True)\n",
       "            )\n",
       "            (ln1): Masked_LayerNorm(\n",
       "              (ln): LayerNorm((128,), eps=1e-05, elementwise_affine=True)\n",
       "            )\n",
       "          )\n",
       "        )\n",
       "        (1): Masked_SAB(\n",
       "          (mab): Masked_MAB(\n",
       "            (fc_q): Linear(in_features=128, out_features=128, bias=True)\n",
       "            (fc_k): Linear(in_features=128, out_features=128, bias=True)\n",
       "            (fc_v): Linear(in_features=128, out_features=128, bias=True)\n",
       "            (fc_o): Linear(in_features=128, out_features=128, bias=True)\n",
       "            (ln0): Masked_LayerNorm(\n",
       "              (ln): LayerNorm((128,), eps=1e-05, elementwise_affine=True)\n",
       "            )\n",
       "            (ln1): Masked_LayerNorm(\n",
       "              (ln): LayerNorm((128,), eps=1e-05, elementwise_affine=True)\n",
       "            )\n",
       "          )\n",
       "        )\n",
       "      )\n",
       "      (transform_in): Linear(in_features=128, out_features=128, bias=True)\n",
       "      (aggregator_score): Linear(in_features=128, out_features=8, bias=True)\n",
       "      (transform_out): Sequential(\n",
       "        (0): Linear(in_features=2304, out_features=128, bias=True)\n",
       "        (1): LayerNorm((128,), eps=1e-05, elementwise_affine=True)\n",
       "        (2): PReLU(num_parameters=1)\n",
       "      )\n",
       "    )\n",
       "    (3): Bipartite_Layers(\n",
       "      (enc): ModuleList(\n",
       "        (0): Masked_SAB(\n",
       "          (mab): Masked_MAB(\n",
       "            (fc_q): Linear(in_features=128, out_features=128, bias=True)\n",
       "            (fc_k): Linear(in_features=128, out_features=128, bias=True)\n",
       "            (fc_v): Linear(in_features=128, out_features=128, bias=True)\n",
       "            (fc_o): Linear(in_features=128, out_features=128, bias=True)\n",
       "            (ln0): Masked_LayerNorm(\n",
       "              (ln): LayerNorm((128,), eps=1e-05, elementwise_affine=True)\n",
       "            )\n",
       "            (ln1): Masked_LayerNorm(\n",
       "              (ln): LayerNorm((128,), eps=1e-05, elementwise_affine=True)\n",
       "            )\n",
       "          )\n",
       "        )\n",
       "        (1): Masked_SAB(\n",
       "          (mab): Masked_MAB(\n",
       "            (fc_q): Linear(in_features=128, out_features=128, bias=True)\n",
       "            (fc_k): Linear(in_features=128, out_features=128, bias=True)\n",
       "            (fc_v): Linear(in_features=128, out_features=128, bias=True)\n",
       "            (fc_o): Linear(in_features=128, out_features=128, bias=True)\n",
       "            (ln0): Masked_LayerNorm(\n",
       "              (ln): LayerNorm((128,), eps=1e-05, elementwise_affine=True)\n",
       "            )\n",
       "            (ln1): Masked_LayerNorm(\n",
       "              (ln): LayerNorm((128,), eps=1e-05, elementwise_affine=True)\n",
       "            )\n",
       "          )\n",
       "        )\n",
       "      )\n",
       "      (transform_in): Linear(in_features=128, out_features=128, bias=True)\n",
       "      (aggregator_score): Linear(in_features=128, out_features=8, bias=True)\n",
       "      (transform_out): Sequential(\n",
       "        (0): Linear(in_features=2304, out_features=128, bias=True)\n",
       "        (1): LayerNorm((128,), eps=1e-05, elementwise_affine=True)\n",
       "        (2): PReLU(num_parameters=1)\n",
       "      )\n",
       "    )\n",
       "    (4): Bipartite_Layers(\n",
       "      (enc): ModuleList(\n",
       "        (0): Masked_SAB(\n",
       "          (mab): Masked_MAB(\n",
       "            (fc_q): Linear(in_features=128, out_features=128, bias=True)\n",
       "            (fc_k): Linear(in_features=128, out_features=128, bias=True)\n",
       "            (fc_v): Linear(in_features=128, out_features=128, bias=True)\n",
       "            (fc_o): Linear(in_features=128, out_features=128, bias=True)\n",
       "            (ln0): Masked_LayerNorm(\n",
       "              (ln): LayerNorm((128,), eps=1e-05, elementwise_affine=True)\n",
       "            )\n",
       "            (ln1): Masked_LayerNorm(\n",
       "              (ln): LayerNorm((128,), eps=1e-05, elementwise_affine=True)\n",
       "            )\n",
       "          )\n",
       "        )\n",
       "        (1): Masked_SAB(\n",
       "          (mab): Masked_MAB(\n",
       "            (fc_q): Linear(in_features=128, out_features=128, bias=True)\n",
       "            (fc_k): Linear(in_features=128, out_features=128, bias=True)\n",
       "            (fc_v): Linear(in_features=128, out_features=128, bias=True)\n",
       "            (fc_o): Linear(in_features=128, out_features=128, bias=True)\n",
       "            (ln0): Masked_LayerNorm(\n",
       "              (ln): LayerNorm((128,), eps=1e-05, elementwise_affine=True)\n",
       "            )\n",
       "            (ln1): Masked_LayerNorm(\n",
       "              (ln): LayerNorm((128,), eps=1e-05, elementwise_affine=True)\n",
       "            )\n",
       "          )\n",
       "        )\n",
       "      )\n",
       "      (transform_in): Linear(in_features=128, out_features=128, bias=True)\n",
       "      (aggregator_score): Linear(in_features=128, out_features=8, bias=True)\n",
       "      (transform_out): Sequential(\n",
       "        (0): Linear(in_features=2304, out_features=128, bias=True)\n",
       "        (1): LayerNorm((128,), eps=1e-05, elementwise_affine=True)\n",
       "        (2): PReLU(num_parameters=1)\n",
       "      )\n",
       "    )\n",
       "  )\n",
       "  (score): Sequential(\n",
       "    (0): Linear(in_features=128, out_features=1, bias=True)\n",
       "  )\n",
       "  (_pred_layers): ModuleList(\n",
       "    (0): Linear(in_features=256, out_features=256, bias=True)\n",
       "    (1): PReLU(num_parameters=1)\n",
       "    (2): Linear(in_features=256, out_features=2, bias=True)\n",
       "  )\n",
       "  (_track_project): Sequential(\n",
       "    (0): Linear(in_features=128, out_features=256, bias=True)\n",
       "    (1): LayerNorm((256,), eps=1e-05, elementwise_affine=True)\n",
       "    (2): PReLU(num_parameters=1)\n",
       "    (3): Linear(in_features=256, out_features=128, bias=True)\n",
       "  )\n",
       ")"
      ]
     },
     "execution_count": 6,
     "metadata": {},
     "output_type": "execute_result"
    }
   ],
   "source": [
    "DEVICE = 'cuda:0'\n",
    "# α=0.7\n",
    "#checkpoint_file = 'train_results/biatt-augment-adj/experiment_2023-06-13_10:12:01/checkpoints/model_checkpoint_016.pth.tar'\n",
    "checkpoint_file = 'train_results/biatt-augment-adj/experiment_2023-08-03_21:42:12/checkpoints/model_checkpoint_016.pth.tar'\n",
    "mconfig = config['model']\n",
    "model = Model(**mconfig)\n",
    "model = load_checkpoint(checkpoint_file, model)\n",
    "model = model.to(DEVICE)\n",
    "model.eval()"
   ]
  },
  {
   "cell_type": "code",
   "execution_count": 7,
   "id": "a2293a00",
   "metadata": {},
   "outputs": [],
   "source": [
    "def efficiency_purity(correct, preds_prob, signal_mix=0.01):\n",
    "    signal = np.where(correct)[0]\n",
    "    background = np.where(1 - correct)[0]\n",
    "    mix = len(signal)/len(correct)\n",
    "    drop = int(np.ceil((len(signal) - signal_mix * len(correct))/(1 - signal_mix)))\n",
    "    np.random.shuffle(signal)\n",
    "    keep = signal[:len(signal) - drop]\n",
    "    keep = np.concatenate([keep, background], axis=0)\n",
    "    c = correct[keep]\n",
    "    p = preds_prob[keep]\n",
    "    # Calculate efficiency\n",
    "    tp = np.sum(c * (p > 0.5))\n",
    "    tn = np.sum(( 1- c) * (p <= 0.5))\n",
    "    fp = np.sum((1 - c) * (p > 0.5))\n",
    "    fn = np.sum(c * (p <= 0.5))\n",
    "\n",
    "    # effiency is how much of the signal we captured\n",
    "    efficiency = tp/(tp + fn)\n",
    "    # purity is how much of the signal is true\n",
    "    purity = tp/(tp + fp)\n",
    "    brr = tn/(tn + fp)\n",
    "\n",
    "    return efficiency, purity, brr\n",
    "\n",
    "def efficiency_purity_2(correct, preds_prob, signal_mix=0.01):\n",
    "    signal = np.where(correct)[0]\n",
    "    background = np.where(1 - correct)[0]\n",
    "    mix = len(signal)/len(correct)\n",
    "    drop = int(np.ceil((len(signal) - signal_mix * len(correct))/(1 - signal_mix)))\n",
    "    np.random.shuffle(signal)\n",
    "    keep = signal[:len(signal) - drop]\n",
    "    keep = np.concatenate([keep, background], axis=0)\n",
    "    c = correct[keep]\n",
    "    print(f'{np.sum(c)/c.shape[0]=}')\n",
    "    p = preds_prob[keep]\n",
    "    # Calculate efficiency\n",
    "    cutoffs = np.linspace(0, 1, 10000)\n",
    "    efficiencies = []\n",
    "    purities = []\n",
    "    brrs = []\n",
    "    for cutoff in cutoffs:\n",
    "        tp = np.sum(c * (p > cutoff))\n",
    "        tn = np.sum(( 1- c) * (p <= cutoff))\n",
    "        fp = np.sum((1 - c) * (p > cutoff))\n",
    "        fn = np.sum(c * (p <= cutoff))\n",
    "\n",
    "        # effiency is how much of the signal we captured\n",
    "        efficiency = tp/(tp + fn) if tp + fp != 0 else 0\n",
    "        # purity is how much of the signal is true\n",
    "        purity = tp/(tp + fp) if tp + fp != 0 else 0\n",
    "        brr = tn / (tn + fp) if tn + fp != 0 else 0\n",
    "\n",
    "        efficiencies.append(efficiency)\n",
    "        purities.append(purity)\n",
    "        brrs.append(brr)\n",
    "        \n",
    "    return np.array(efficiencies), np.array(purities), np.array(brrs)"
   ]
  },
  {
   "cell_type": "code",
   "execution_count": 8,
   "id": "d0f8eacf",
   "metadata": {},
   "outputs": [
    {
     "data": {
      "text/plain": [
       "'pred-trkvec-masked'"
      ]
     },
     "execution_count": 8,
     "metadata": {},
     "output_type": "execute_result"
    }
   ],
   "source": [
    "dconfig['name']"
   ]
  },
  {
   "cell_type": "code",
   "execution_count": 9,
   "id": "9517ac64",
   "metadata": {},
   "outputs": [
    {
     "data": {
      "text/plain": [
       "{'add_geo_features': False,\n",
       " 'batch_size': 512,\n",
       " 'load_complete_graph': False,\n",
       " 'n_test': 100000,\n",
       " 'n_train': 500000,\n",
       " 'n_valid': 250000,\n",
       " 'n_workers': 16,\n",
       " 'name': 'pred-trkvec-masked',\n",
       " 'nontrigger_input_dir': '/ssd1/giorgian/data/alltrack/nontrigger/0',\n",
       " 'rescale_by_percentile': 12,\n",
       " 'trigger_input_dir': '/ssd1/giorgian/data/alltrack/trigger/1',\n",
       " 'use_center': True,\n",
       " 'use_energy': False,\n",
       " 'use_momentum': False,\n",
       " 'use_n_hits': False,\n",
       " 'use_n_pixels': False,\n",
       " 'use_parallel_momentum': False,\n",
       " 'use_physics_pred': False,\n",
       " 'use_predicted_pz': True,\n",
       " 'use_radius': True,\n",
       " 'use_transverse_momentum': False}"
      ]
     },
     "execution_count": 9,
     "metadata": {},
     "output_type": "execute_result"
    }
   ],
   "source": [
    "dconfig"
   ]
  },
  {
   "cell_type": "code",
   "execution_count": 10,
   "id": "24c35721",
   "metadata": {},
   "outputs": [
    {
     "data": {
      "text/plain": [
       "False"
      ]
     },
     "execution_count": 10,
     "metadata": {},
     "output_type": "execute_result"
    }
   ],
   "source": [
    "dconfig['load_complete_graph']"
   ]
  },
  {
   "cell_type": "code",
   "execution_count": null,
   "id": "bc0f0a6e",
   "metadata": {},
   "outputs": [],
   "source": []
  },
  {
   "cell_type": "code",
   "execution_count": 11,
   "id": "bc970d13",
   "metadata": {},
   "outputs": [
    {
     "data": {
      "application/vnd.jupyter.widget-view+json": {
       "model_id": "cd50439d16d24f2db5e4d9eb08473bd5",
       "version_major": 2,
       "version_minor": 0
      },
      "text/plain": [
       "  0%|          | 0/977 [00:00<?, ?it/s]"
      ]
     },
     "metadata": {},
     "output_type": "display_data"
    }
   ],
   "source": [
    "N_BATCHES = 10000\n",
    "preds = []\n",
    "preds_prob = []\n",
    "correct = []\n",
    "val_data.dataset.dataset.phi = 0\n",
    "for batch in tqdm(val_data):\n",
    "    mask = torch.zeros(batch.track_vector.shape[:-1])\n",
    "    for i, n in enumerate(batch.n_tracks):\n",
    "        mask[i, :n] = 1\n",
    "\n",
    "    mask = mask.to(DEVICE)\n",
    "    track_vector = batch.track_vector.to(DEVICE)\n",
    "    n_batches, n_tracks = track_vector.shape[:2]\n",
    "    hits = track_vector[:, :, :15].reshape(n_batches, n_tracks, 5, 3)\n",
    "\n",
    "\n",
    "    is_trigger_track = batch.is_trigger_track.to(DEVICE, torch.bool)\n",
    "    trigger = (batch.trigger.to(DEVICE) == 1).unsqueeze(-1)\n",
    "\n",
    "    mask_logits = model(track_vector, mask)\n",
    "    pred = mask_logits.max(dim=1)[1]\n",
    "    preds.extend(pred.cpu().data.numpy())\n",
    "    preds_prob.extend(nn.Softmax(dim=1)(mask_logits)[:, 1].detach().cpu().numpy().flatten())\n",
    "    correct.extend(trigger.detach().cpu().numpy().flatten())"
   ]
  },
  {
   "cell_type": "code",
   "execution_count": null,
   "id": "9503d985",
   "metadata": {},
   "outputs": [],
   "source": []
  },
  {
   "cell_type": "code",
   "execution_count": 13,
   "id": "c36270e1",
   "metadata": {},
   "outputs": [
    {
     "data": {
      "text/plain": [
       "500000"
      ]
     },
     "execution_count": 13,
     "metadata": {},
     "output_type": "execute_result"
    }
   ],
   "source": [
    "len(correct)"
   ]
  },
  {
   "cell_type": "code",
   "execution_count": 1,
   "id": "5842f02f",
   "metadata": {},
   "outputs": [
    {
     "ename": "NameError",
     "evalue": "name 'correct' is not defined",
     "output_type": "error",
     "traceback": [
      "\u001b[0;31m---------------------------------------------------------------------------\u001b[0m",
      "\u001b[0;31mNameError\u001b[0m                                 Traceback (most recent call last)",
      "Cell \u001b[0;32mIn[1], line 1\u001b[0m\n\u001b[0;32m----> 1\u001b[0m \u001b[43mcorrect\u001b[49m\u001b[38;5;241m.\u001b[39mshape\n",
      "\u001b[0;31mNameError\u001b[0m: name 'correct' is not defined"
     ]
    }
   ],
   "source": [
    "correct.shape"
   ]
  },
  {
   "cell_type": "code",
   "execution_count": 14,
   "id": "c48f6791",
   "metadata": {},
   "outputs": [],
   "source": [
    "preds_prob = np.array(preds_prob)\n",
    "preds = np.array(preds)\n",
    "correct = np.array(correct)"
   ]
  },
  {
   "cell_type": "code",
   "execution_count": 15,
   "id": "c73eafc1",
   "metadata": {},
   "outputs": [
    {
     "data": {
      "text/plain": [
       "0.86086"
      ]
     },
     "execution_count": 15,
     "metadata": {},
     "output_type": "execute_result"
    }
   ],
   "source": [
    "accs_gt = np.sum(preds == correct, axis=-1)/correct.shape[0]\n",
    "accs_gt"
   ]
  },
  {
   "cell_type": "code",
   "execution_count": 40,
   "id": "848f7ced",
   "metadata": {},
   "outputs": [
    {
     "data": {
      "text/plain": [
       "(0.8832684824902723, 0.04531842683170294, 0.8127422954928143)"
      ]
     },
     "execution_count": 40,
     "metadata": {},
     "output_type": "execute_result"
    }
   ],
   "source": [
    "efficiency_purity(correct, preds_prob, signal_mix=0.01)"
   ]
  },
  {
   "cell_type": "code",
   "execution_count": 49,
   "id": "68f532f7",
   "metadata": {},
   "outputs": [
    {
     "data": {
      "text/plain": [
       "(0.8910505836575876, 0.045699461185392136, 0.8127422954928143)"
      ]
     },
     "execution_count": 49,
     "metadata": {},
     "output_type": "execute_result"
    }
   ],
   "source": [
    "efficiency_purity(correct, preds_prob, signal_mix=0.01)"
   ]
  },
  {
   "cell_type": "code",
   "execution_count": 16,
   "id": "f2d07b4d",
   "metadata": {
    "scrolled": true
   },
   "outputs": [
    {
     "name": "stdout",
     "output_type": "stream",
     "text": [
      "np.sum(c)/c.shape[0]=0.0009979362677981934\n"
     ]
    }
   ],
   "source": [
    "efficiencies, purities, brrs = efficiency_purity_2(correct, preds_prob, signal_mix=0.001)"
   ]
  },
  {
   "cell_type": "code",
   "execution_count": 19,
   "id": "ab877ff5",
   "metadata": {},
   "outputs": [
    {
     "name": "stdout",
     "output_type": "stream",
     "text": [
      "np.sum(c)/c.shape[0]=0.009996281557315443\n"
     ]
    }
   ],
   "source": [
    "efficiencies_1, purities_1, brrs_1 = efficiency_purity_2(correct, preds_prob, signal_mix=0.01)"
   ]
  },
  {
   "cell_type": "code",
   "execution_count": 22,
   "id": "9b2fda5b",
   "metadata": {},
   "outputs": [],
   "source": [
    "i = np.argmin(np.abs(brrs-0.99))"
   ]
  },
  {
   "cell_type": "code",
   "execution_count": 23,
   "id": "a557bcc3",
   "metadata": {},
   "outputs": [
    {
     "data": {
      "text/plain": [
       "(23.200000000000003, 2.266510355607659)"
      ]
     },
     "execution_count": 23,
     "metadata": {},
     "output_type": "execute_result"
    }
   ],
   "source": [
    "efficiencies[i]*100, purities[i]*100"
   ]
  },
  {
   "cell_type": "code",
   "execution_count": 24,
   "id": "ed1e46be",
   "metadata": {},
   "outputs": [],
   "source": [
    "i = np.argmin(np.abs(brrs_1-0.99))"
   ]
  },
  {
   "cell_type": "code",
   "execution_count": 25,
   "id": "0f86f30c",
   "metadata": {},
   "outputs": [
    {
     "data": {
      "text/plain": [
       "(19.35100910170162, 16.354515050167223)"
      ]
     },
     "execution_count": 25,
     "metadata": {},
     "output_type": "execute_result"
    }
   ],
   "source": [
    "efficiencies_1[i]*100, purities_1[i]*100"
   ]
  },
  {
   "cell_type": "code",
   "execution_count": 29,
   "id": "1bc875cd",
   "metadata": {},
   "outputs": [
    {
     "data": {
      "text/plain": [
       "Text(0.5, 1.0, 'Ground-Truth Track Efficiency/Purity Plot')"
      ]
     },
     "execution_count": 29,
     "metadata": {},
     "output_type": "execute_result"
    },
    {
     "data": {
      "image/png": "[encoded data removed]",
      "text/plain": [
       "<Figure size 640x480 with 1 Axes>"
      ]
     },
     "metadata": {},
     "output_type": "display_data"
    }
   ],
   "source": [
    "plt.style.use('ggplot')\n",
    "plt.plot(efficiencies, purities)\n",
    "plt.xlabel('Efficiency')\n",
    "plt.ylabel('Purity')\n",
    "plt.title('Ground-Truth Track Efficiency/Purity Plot')"
   ]
  },
  {
   "cell_type": "code",
   "execution_count": 112,
   "id": "30486d21",
   "metadata": {},
   "outputs": [
    {
     "data": {
      "text/plain": [
       "Text(0.5, 1.0, 'Ground-Truth Track Efficiency/BRR Plot')"
      ]
     },
     "execution_count": 112,
     "metadata": {},
     "output_type": "execute_result"
    },
    {
     "data": {
      "image/png": "[encoded data removed]",
      "text/plain": [
       "<Figure size 640x480 with 1 Axes>"
      ]
     },
     "metadata": {},
     "output_type": "display_data"
    }
   ],
   "source": [
    "plt.style.use('ggplot')\n",
    "plt.plot(efficiencies, brrs)\n",
    "plt.xlabel('Efficiency')\n",
    "plt.ylabel('Background Rejection Rate')\n",
    "plt.title('Ground-Truth Track Efficiency/BRR Plot')"
   ]
  },
  {
   "cell_type": "code",
   "execution_count": 60,
   "id": "4d44aaad",
   "metadata": {},
   "outputs": [
    {
     "data": {
      "text/plain": [
       "array([0.0615, 0.0615, 0.0615, 0.0615, 0.0615, 0.0615, 0.0615, 0.0615,\n",
       "       0.0615, 0.0615, 0.0615, 0.0615, 0.0615, 0.0615, 0.0615, 0.0615,\n",
       "       0.0615, 0.0615, 0.0615, 0.0615, 0.0615, 0.0615, 0.0615, 0.0615,\n",
       "       0.0615, 0.0615, 0.0615, 0.0615, 0.0615, 0.0615, 0.0615, 0.0615,\n",
       "       0.0615, 0.0615, 0.0615, 0.0615, 0.0615, 0.0615, 0.0615, 0.0615,\n",
       "       0.0615, 0.0615, 0.0615, 0.0615, 0.0615, 0.0615, 0.0615, 0.0615,\n",
       "       0.0615, 0.0615, 0.0615, 0.0615, 0.0615, 0.0615, 0.0615, 0.0615,\n",
       "       0.0615, 0.0615, 0.0615, 0.0615, 0.0615, 0.0615, 0.0615, 0.0615,\n",
       "       0.0615, 0.0615, 0.0615, 0.0615, 0.0615, 0.0615, 0.0615, 0.0615,\n",
       "       0.0615, 0.0615, 0.0615, 0.0615, 0.0615, 0.0615, 0.0615, 0.0615,\n",
       "       0.0615, 0.0615, 0.0615, 0.0615, 0.0615, 0.0615, 0.0615, 0.0615,\n",
       "       0.0615, 0.0615, 0.0615, 0.0615, 0.0615, 0.0615, 0.0615, 0.0615,\n",
       "       0.0615, 0.0615, 0.0615, 0.0615])"
      ]
     },
     "execution_count": 60,
     "metadata": {},
     "output_type": "execute_result"
    }
   ],
   "source": [
    "purities"
   ]
  },
  {
   "cell_type": "code",
   "execution_count": 26,
   "id": "f628197d",
   "metadata": {},
   "outputs": [
    {
     "data": {
      "text/plain": [
       "(array([0.86396484, 0.8625    , 0.86191406, 0.86191406, 0.85991211,\n",
       "        0.86025391, 0.85908203, 0.85795898, 0.85771484, 0.85859375,\n",
       "        0.85810547, 0.8574707 , 0.85649414, 0.85615234, 0.85541992,\n",
       "        0.85595703, 0.85668945, 0.85678711, 0.85791016, 0.85888672,\n",
       "        0.85869141, 0.85932617, 0.85927734, 0.85932617, 0.85854492,\n",
       "        0.86015625, 0.85932617, 0.859375  , 0.85874023, 0.85849609,\n",
       "        0.85927734, 0.85991211, 0.85961914, 0.86005859, 0.86015625,\n",
       "        0.8609375 , 0.86079102, 0.86201172, 0.86254883, 0.86396484]),\n",
       " array([0.90356445, 0.90332031, 0.9034668 , 0.9019043 , 0.90019531,\n",
       "        0.89829102, 0.89462891, 0.88847656, 0.878125  , 0.86557617,\n",
       "        0.86103516, 0.87241211, 0.88481445, 0.89287109, 0.89785156,\n",
       "        0.90019531, 0.90219727, 0.90219727, 0.9027832 , 0.90234375,\n",
       "        0.9027832 , 0.9027832 , 0.90288086, 0.90239258, 0.90117187,\n",
       "        0.89916992, 0.89375   , 0.88457031, 0.87290039, 0.86347656,\n",
       "        0.86801758, 0.88217773, 0.89287109, 0.89838867, 0.90146484,\n",
       "        0.90239258, 0.90214844, 0.90307617, 0.90410156, 0.90356445]))"
      ]
     },
     "execution_count": 26,
     "metadata": {},
     "output_type": "execute_result"
    }
   ],
   "source": [
    "accs_pred_phi, accs_gt_phi"
   ]
  },
  {
   "cell_type": "code",
   "execution_count": null,
   "id": "82f7bafd",
   "metadata": {},
   "outputs": [],
   "source": [
    "plt.plot(np.linspace(0, 2*np.pi, 40), accs_gt)\n",
    "x_ticks = np.arange(0, (2 + 1/2)*np.pi, np.pi/2)\n",
    "print(x_ticks)\n",
    "ax = plt.gca()  # Get the current axis\n",
    "ax.set_xticks(x_ticks)\n",
    "ax.set_xticklabels([\"0\", \"$\\\\frac{π}{2}$\", \"π\", \"$\\\\frac{3π}{2}$\", \"2π\"])\n",
    "plt.xlabel('Rotation Angle Applied')\n",
    "plt.ylabel('Accuracy')\n",
    "plt.title(\"Effects of Rotation on Accuracy (GT Tracks)\")"
   ]
  },
  {
   "cell_type": "code",
   "execution_count": 43,
   "id": "a724bea8",
   "metadata": {},
   "outputs": [
    {
     "data": {
      "text/plain": [
       "<matplotlib.legend.Legend at 0x7f93099bf430>"
      ]
     },
     "execution_count": 43,
     "metadata": {},
     "output_type": "execute_result"
    },
    {
     "data": {
      "image/png": "[encoded data removed]",
      "text/plain": [
       "<Figure size 640x480 with 1 Axes>"
      ]
     },
     "metadata": {},
     "output_type": "display_data"
    }
   ],
   "source": [
    "plt.style.use('ggplot')\n",
    "\n",
    "plt.plot(np.linspace(0, 2*np.pi, 40), accs_gt_phi, label='Ground Truth Tracks')\n",
    "plt.plot(np.linspace(0, 2*np.pi, 40), accs_pred_phi, label='Predicted Tracks')\n",
    "x_ticks = np.arange(0, (2 + 1/2)*np.pi, np.pi/2)\n",
    "ax = plt.gca()  # Get the current axis\n",
    "ax.set_xticks(x_ticks)\n",
    "ax.set_xticklabels([\"0\", \"$\\\\frac{π}{2}$\", \"π\", \"$\\\\frac{3π}{2}$\", \"2π\"])\n",
    "plt.xlabel('Rotation Angle Applied')\n",
    "plt.ylabel('Accuracy')\n",
    "plt.title(\"Effects of Rotation on Accuracy\")\n",
    "plt.ylim(0.84, 0.92)\n",
    "plt.legend()"
   ]
  },
  {
   "cell_type": "code",
   "execution_count": 11,
   "id": "282ebc2c",
   "metadata": {
    "scrolled": true
   },
   "outputs": [
    {
     "data": {
      "application/vnd.jupyter.widget-view+json": {
       "model_id": "885d2ad8bfbc4282887939f0e0c2f396",
       "version_major": 2,
       "version_minor": 0
      },
      "text/plain": [
       "  0%|          | 0/1 [00:00<?, ?it/s]"
      ]
     },
     "metadata": {},
     "output_type": "display_data"
    },
    {
     "data": {
      "application/vnd.jupyter.widget-view+json": {
       "model_id": "263babda7fe844d6bfee903ecad64318",
       "version_major": 2,
       "version_minor": 0
      },
      "text/plain": [
       "  0%|          | 0/1 [00:00<?, ?it/s]"
      ]
     },
     "metadata": {},
     "output_type": "display_data"
    },
    {
     "data": {
      "application/vnd.jupyter.widget-view+json": {
       "model_id": "f2958462590b40fc98d8009aad429891",
       "version_major": 2,
       "version_minor": 0
      },
      "text/plain": [
       "  0%|          | 0/1 [00:00<?, ?it/s]"
      ]
     },
     "metadata": {},
     "output_type": "display_data"
    },
    {
     "data": {
      "application/vnd.jupyter.widget-view+json": {
       "model_id": "6ed5b5e656fe4ef9b3cd5b9234f4245c",
       "version_major": 2,
       "version_minor": 0
      },
      "text/plain": [
       "  0%|          | 0/1 [00:00<?, ?it/s]"
      ]
     },
     "metadata": {},
     "output_type": "display_data"
    },
    {
     "data": {
      "application/vnd.jupyter.widget-view+json": {
       "model_id": "3edb389d5761401a99999132e0c44a1f",
       "version_major": 2,
       "version_minor": 0
      },
      "text/plain": [
       "  0%|          | 0/1 [00:00<?, ?it/s]"
      ]
     },
     "metadata": {},
     "output_type": "display_data"
    },
    {
     "data": {
      "application/vnd.jupyter.widget-view+json": {
       "model_id": "e0eea81cbbe14710af44acdb29361ab3",
       "version_major": 2,
       "version_minor": 0
      },
      "text/plain": [
       "  0%|          | 0/1 [00:00<?, ?it/s]"
      ]
     },
     "metadata": {},
     "output_type": "display_data"
    },
    {
     "data": {
      "application/vnd.jupyter.widget-view+json": {
       "model_id": "5a3cd950e1fa41499b818d24bc5dd2d0",
       "version_major": 2,
       "version_minor": 0
      },
      "text/plain": [
       "  0%|          | 0/1 [00:00<?, ?it/s]"
      ]
     },
     "metadata": {},
     "output_type": "display_data"
    },
    {
     "data": {
      "application/vnd.jupyter.widget-view+json": {
       "model_id": "30f1bd8625e440abbb6df5d0b767c033",
       "version_major": 2,
       "version_minor": 0
      },
      "text/plain": [
       "  0%|          | 0/1 [00:00<?, ?it/s]"
      ]
     },
     "metadata": {},
     "output_type": "display_data"
    },
    {
     "data": {
      "application/vnd.jupyter.widget-view+json": {
       "model_id": "d6153d8920a84906a80cdc7cb003a648",
       "version_major": 2,
       "version_minor": 0
      },
      "text/plain": [
       "  0%|          | 0/1 [00:00<?, ?it/s]"
      ]
     },
     "metadata": {},
     "output_type": "display_data"
    },
    {
     "data": {
      "application/vnd.jupyter.widget-view+json": {
       "model_id": "8fcd12aed07d422d806481f8751ec4e2",
       "version_major": 2,
       "version_minor": 0
      },
      "text/plain": [
       "  0%|          | 0/1 [00:00<?, ?it/s]"
      ]
     },
     "metadata": {},
     "output_type": "display_data"
    }
   ],
   "source": [
    "N_BATCHES = 1\n",
    "all_preds = []\n",
    "all_preds_prob = []\n",
    "all_correct = []\n",
    "val_data.dataset.dataset.phi = 0\n",
    "for z in np.linspace(-20, 20, 10):\n",
    "    preds = []\n",
    "    preds_prob = []\n",
    "    correct = []\n",
    "    val_data.dataset.dataset.z = z\n",
    "    for batch in tqdm(islice(val_data, 0, N_BATCHES), total=N_BATCHES):\n",
    "        mask = torch.zeros(batch.track_vector.shape[:-1])\n",
    "        for i, n in enumerate(batch.n_tracks):\n",
    "            mask[i, :n] = 1\n",
    "            \n",
    "\n",
    "        mask = mask.to(DEVICE)\n",
    "        track_vector = batch.track_vector.to(DEVICE)\n",
    "        n_batches, n_tracks = track_vector.shape[:2]\n",
    "        hits = track_vector[:, :, :15].reshape(n_batches, n_tracks, 5, 3)\n",
    "        \n",
    "        \n",
    "        is_trigger_track = batch.is_trigger_track.to(DEVICE, torch.bool)\n",
    "        trigger = (batch.trigger.to(DEVICE) == 1).unsqueeze(-1)\n",
    "\n",
    "        mask_logits = model(track_vector, mask)\n",
    "        pred = mask_logits.max(dim=1)[1]\n",
    "        preds.extend(pred.cpu().data.numpy())\n",
    "        preds_prob.extend(nn.Softmax(dim=1)(mask_logits)[:, 1].detach().cpu().numpy().flatten())\n",
    "        correct.extend(trigger.detach().cpu().numpy().flatten())\n",
    "    all_correct.append(correct)\n",
    "    all_preds.append(preds)\n",
    "    all_preds_prob.append(preds_prob)"
   ]
  },
  {
   "cell_type": "code",
   "execution_count": 14,
   "id": "4790030b",
   "metadata": {},
   "outputs": [
    {
     "data": {
      "text/plain": [
       "Text(0.5, 1.0, 'Effects of Z Translation on Accuracy (GT Tracks)')"
      ]
     },
     "execution_count": 14,
     "metadata": {},
     "output_type": "execute_result"
    },
    {
     "data": {
      "image/png": "[encoded data removed]",
      "text/plain": [
       "<Figure size 640x480 with 1 Axes>"
      ]
     },
     "metadata": {},
     "output_type": "display_data"
    }
   ],
   "source": [
    "plt.plot(np.linspace(-20, 20, 10), accs_pred_z)\n",
    "plt.xlabel('Z Translation Applied')\n",
    "plt.ylabel('Accuracy')\n",
    "plt.title(\"Effects of Z Translation on Accuracy (GT Tracks)\")"
   ]
  },
  {
   "cell_type": "code",
   "execution_count": 13,
   "id": "0deacfce",
   "metadata": {},
   "outputs": [],
   "source": [
    "all_preds = np.array(all_preds)\n",
    "all_correct = np.array(all_correct)\n",
    "accs_pred_z = np.sum(all_preds == all_correct, axis=-1)/all_correct.shape[1]"
   ]
  },
  {
   "cell_type": "code",
   "execution_count": 37,
   "id": "72618af4",
   "metadata": {},
   "outputs": [
    {
     "data": {
      "text/plain": [
       "Text(0.5, 1.0, 'Effects of Z Translation on Accuracy (GT Tracks)')"
      ]
     },
     "execution_count": 37,
     "metadata": {},
     "output_type": "execute_result"
    },
    {
     "data": {
      "image/png": "[encoded data removed]",
      "text/plain": [
       "<Figure size 640x480 with 1 Axes>"
      ]
     },
     "metadata": {},
     "output_type": "display_data"
    }
   ],
   "source": [
    "plt.plot(np.linspace(-20, 20, 40), accs_gt)\n",
    "plt.xlabel('Z Translation Applied')\n",
    "plt.ylabel('Accuracy')\n",
    "plt.title(\"Effects of Z Translation on Accuracy (GT Tracks)\")"
   ]
  },
  {
   "cell_type": "code",
   "execution_count": 52,
   "id": "38d8586f",
   "metadata": {},
   "outputs": [
    {
     "data": {
      "text/plain": [
       "<matplotlib.legend.Legend at 0x7f93098b20e0>"
      ]
     },
     "execution_count": 52,
     "metadata": {},
     "output_type": "execute_result"
    },
    {
     "data": {
      "image/png": "[encoded data removed]",
      "text/plain": [
       "<Figure size 640x480 with 1 Axes>"
      ]
     },
     "metadata": {},
     "output_type": "display_data"
    }
   ],
   "source": [
    "plt.style.use('ggplot')\n",
    "plt.plot(np.linspace(-20, 20, 40), accs_gt_z, label='Ground Truth Tracks')\n",
    "plt.plot(np.linspace(-20, 20, 40), accs_pred_z, label='Predicted Tracks')\n",
    "plt.xlabel('Z Translation Applied')\n",
    "plt.ylabel('Accuracy')\n",
    "plt.title(\"Effects of Z Translation on Accuracy\")\n",
    "plt.legend()"
   ]
  },
  {
   "cell_type": "code",
   "execution_count": 34,
   "id": "7c8856cb",
   "metadata": {},
   "outputs": [
    {
     "data": {
      "text/plain": [
       "(array([0.88974609, 0.89150391, 0.89277344, 0.89418945, 0.89575195,\n",
       "        0.89663086, 0.89741211, 0.89868164, 0.89951172, 0.90058594,\n",
       "        0.90146484, 0.90141602, 0.90224609, 0.90253906, 0.90288086,\n",
       "        0.90327148, 0.90375977, 0.90380859, 0.90366211, 0.90366211,\n",
       "        0.90375977, 0.90351563, 0.90361328, 0.90444336, 0.90410156,\n",
       "        0.90400391, 0.90351563, 0.903125  , 0.90288086, 0.90185547,\n",
       "        0.90151367, 0.90043945, 0.89916992, 0.89770508, 0.89648438,\n",
       "        0.89453125, 0.8921875 , 0.89047852, 0.88852539, 0.88691406]),\n",
       " array([0.53339844, 0.53847656, 0.5449707 , 0.55209961, 0.56079102,\n",
       "        0.56977539, 0.58139648, 0.59355469, 0.60717773, 0.62148437,\n",
       "        0.63842773, 0.65874023, 0.67739258, 0.70102539, 0.72509766,\n",
       "        0.7527832 , 0.7824707 , 0.80791016, 0.83466797, 0.85678711,\n",
       "        0.8609375 , 0.8418457 , 0.81318359, 0.78413086, 0.75449219,\n",
       "        0.72202148, 0.69140625, 0.6625    , 0.63354492, 0.60693359,\n",
       "        0.58305664, 0.56455078, 0.55170898, 0.5425293 , 0.53251953,\n",
       "        0.5265625 , 0.52094727, 0.51694336, 0.51435547, 0.51254883]))"
      ]
     },
     "execution_count": 34,
     "metadata": {},
     "output_type": "execute_result"
    }
   ],
   "source": [
    "accs_gt_z, accs_pred_z"
   ]
  },
  {
   "cell_type": "markdown",
   "id": "3a8776d5",
   "metadata": {},
   "source": [
    "# Collect Statistics on Z-Distribution"
   ]
  },
  {
   "cell_type": "code",
   "execution_count": 47,
   "id": "46ea0a65",
   "metadata": {},
   "outputs": [
    {
     "data": {
      "application/vnd.jupyter.widget-view+json": {
       "model_id": "3f5c8941bd9a4920b6e87d8ae232725b",
       "version_major": 2,
       "version_minor": 0
      },
      "text/plain": [
       "  0%|          | 0/400 [00:00<?, ?it/s]"
      ]
     },
     "metadata": {},
     "output_type": "display_data"
    }
   ],
   "source": [
    "N_BATCHES = 400\n",
    "zs = []\n",
    "val_data.dataset.dataset.phi = 0\n",
    "val_data.dataset.dataset.z = 0\n",
    "\n",
    "\n",
    "for batch in tqdm(islice(val_data, 0, N_BATCHES), total=N_BATCHES):\n",
    "    mask = torch.zeros(batch.track_vector.shape[:-1])\n",
    "    for i, n in enumerate(batch.n_tracks):\n",
    "        mask[i, :n] = 1\n",
    "\n",
    "    mask = mask.to(DEVICE)\n",
    "    track_vector = batch.track_vector.to(DEVICE)\n",
    "    track_vector = track_vector * mask.unsqueeze(-1)\n",
    "    n_batches, n_tracks = track_vector.shape[:2]\n",
    "    hits = track_vector[:, :, :15].reshape(n_batches, n_tracks, 5, 3)\n",
    "    good_hits = torch.any(hits != 0, dim=-1)\n",
    "    zs.extend(hits[..., -1][good_hits].cpu().detach().numpy())"
   ]
  },
  {
   "cell_type": "code",
   "execution_count": 39,
   "id": "355026dd",
   "metadata": {},
   "outputs": [],
   "source": [
    "gt_zs = np.array(zs)"
   ]
  },
  {
   "cell_type": "code",
   "execution_count": 48,
   "id": "300bdc7a",
   "metadata": {},
   "outputs": [],
   "source": [
    "pred_zs = np.array(zs)"
   ]
  },
  {
   "cell_type": "code",
   "execution_count": 54,
   "id": "f4098957",
   "metadata": {},
   "outputs": [
    {
     "data": {
      "text/plain": [
       "Text(0.5, 1.0, 'Distribution of Z-Coordinate')"
      ]
     },
     "execution_count": 54,
     "metadata": {},
     "output_type": "execute_result"
    },
    {
     "data": {
      "image/png": "[encoded data removed]",
      "text/plain": [
       "<Figure size 640x480 with 1 Axes>"
      ]
     },
     "metadata": {},
     "output_type": "display_data"
    }
   ],
   "source": [
    "plt.style.use('ggplot')\n",
    "plt.hist(pred_zs, bins=30, alpha=0.5, label='Predicted Tracks')\n",
    "plt.hist(gt_zs, bins=30, alpha=0.5, label='Ground Truth Tracks')\n",
    "plt.xlabel('Z-Coordinate')\n",
    "plt.ylabel('Frequency')\n",
    "plt.legend()\n",
    "plt.title('Distribution of Z-Coordinate')"
   ]
  },
  {
   "cell_type": "code",
   "execution_count": 49,
   "id": "cabc7a5e",
   "metadata": {},
   "outputs": [
    {
     "name": "stdout",
     "output_type": "stream",
     "text": [
      "Help on function hist in module matplotlib.pyplot:\n",
      "\n",
      "hist(x, bins=None, range=None, density=False, weights=None, cumulative=False, bottom=None, histtype='bar', align='mid', orientation='vertical', rwidth=None, log=False, color=None, label=None, stacked=False, *, data=None, **kwargs)\n",
      "    Compute and plot a histogram.\n",
      "    \n",
      "    This method uses `numpy.histogram` to bin the data in *x* and count the\n",
      "    number of values in each bin, then draws the distribution either as a\n",
      "    `.BarContainer` or `.Polygon`. The *bins*, *range*, *density*, and\n",
      "    *weights* parameters are forwarded to `numpy.histogram`.\n",
      "    \n",
      "    If the data has already been binned and counted, use `~.bar` or\n",
      "    `~.stairs` to plot the distribution::\n",
      "    \n",
      "        counts, bins = np.histogram(x)\n",
      "        plt.stairs(counts, bins)\n",
      "    \n",
      "    Alternatively, plot pre-computed bins and counts using ``hist()`` by\n",
      "    treating each bin as a single point with a weight equal to its count::\n",
      "    \n",
      "        plt.hist(bins[:-1], bins, weights=counts)\n",
      "    \n",
      "    The data input *x* can be a singular array, a list of datasets of\n",
      "    potentially different lengths ([*x0*, *x1*, ...]), or a 2D ndarray in\n",
      "    which each column is a dataset. Note that the ndarray form is\n",
      "    transposed relative to the list form. If the input is an array, then\n",
      "    the return value is a tuple (*n*, *bins*, *patches*); if the input is a\n",
      "    sequence of arrays, then the return value is a tuple\n",
      "    ([*n0*, *n1*, ...], *bins*, [*patches0*, *patches1*, ...]).\n",
      "    \n",
      "    Masked arrays are not supported.\n",
      "    \n",
      "    Parameters\n",
      "    ----------\n",
      "    x : (n,) array or sequence of (n,) arrays\n",
      "        Input values, this takes either a single array or a sequence of\n",
      "        arrays which are not required to be of the same length.\n",
      "    \n",
      "    bins : int or sequence or str, default: :rc:`hist.bins`\n",
      "        If *bins* is an integer, it defines the number of equal-width bins\n",
      "        in the range.\n",
      "    \n",
      "        If *bins* is a sequence, it defines the bin edges, including the\n",
      "        left edge of the first bin and the right edge of the last bin;\n",
      "        in this case, bins may be unequally spaced.  All but the last\n",
      "        (righthand-most) bin is half-open.  In other words, if *bins* is::\n",
      "    \n",
      "            [1, 2, 3, 4]\n",
      "    \n",
      "        then the first bin is ``[1, 2)`` (including 1, but excluding 2) and\n",
      "        the second ``[2, 3)``.  The last bin, however, is ``[3, 4]``, which\n",
      "        *includes* 4.\n",
      "    \n",
      "        If *bins* is a string, it is one of the binning strategies\n",
      "        supported by `numpy.histogram_bin_edges`: 'auto', 'fd', 'doane',\n",
      "        'scott', 'stone', 'rice', 'sturges', or 'sqrt'.\n",
      "    \n",
      "    range : tuple or None, default: None\n",
      "        The lower and upper range of the bins. Lower and upper outliers\n",
      "        are ignored. If not provided, *range* is ``(x.min(), x.max())``.\n",
      "        Range has no effect if *bins* is a sequence.\n",
      "    \n",
      "        If *bins* is a sequence or *range* is specified, autoscaling\n",
      "        is based on the specified bin range instead of the\n",
      "        range of x.\n",
      "    \n",
      "    density : bool, default: False\n",
      "        If ``True``, draw and return a probability density: each bin\n",
      "        will display the bin's raw count divided by the total number of\n",
      "        counts *and the bin width*\n",
      "        (``density = counts / (sum(counts) * np.diff(bins))``),\n",
      "        so that the area under the histogram integrates to 1\n",
      "        (``np.sum(density * np.diff(bins)) == 1``).\n",
      "    \n",
      "        If *stacked* is also ``True``, the sum of the histograms is\n",
      "        normalized to 1.\n",
      "    \n",
      "    weights : (n,) array-like or None, default: None\n",
      "        An array of weights, of the same shape as *x*.  Each value in\n",
      "        *x* only contributes its associated weight towards the bin count\n",
      "        (instead of 1).  If *density* is ``True``, the weights are\n",
      "        normalized, so that the integral of the density over the range\n",
      "        remains 1.\n",
      "    \n",
      "    cumulative : bool or -1, default: False\n",
      "        If ``True``, then a histogram is computed where each bin gives the\n",
      "        counts in that bin plus all bins for smaller values. The last bin\n",
      "        gives the total number of datapoints.\n",
      "    \n",
      "        If *density* is also ``True`` then the histogram is normalized such\n",
      "        that the last bin equals 1.\n",
      "    \n",
      "        If *cumulative* is a number less than 0 (e.g., -1), the direction\n",
      "        of accumulation is reversed.  In this case, if *density* is also\n",
      "        ``True``, then the histogram is normalized such that the first bin\n",
      "        equals 1.\n",
      "    \n",
      "    bottom : array-like, scalar, or None, default: None\n",
      "        Location of the bottom of each bin, ie. bins are drawn from\n",
      "        ``bottom`` to ``bottom + hist(x, bins)`` If a scalar, the bottom\n",
      "        of each bin is shifted by the same amount. If an array, each bin\n",
      "        is shifted independently and the length of bottom must match the\n",
      "        number of bins. If None, defaults to 0.\n",
      "    \n",
      "    histtype : {'bar', 'barstacked', 'step', 'stepfilled'}, default: 'bar'\n",
      "        The type of histogram to draw.\n",
      "    \n",
      "        - 'bar' is a traditional bar-type histogram.  If multiple data\n",
      "          are given the bars are arranged side by side.\n",
      "        - 'barstacked' is a bar-type histogram where multiple\n",
      "          data are stacked on top of each other.\n",
      "        - 'step' generates a lineplot that is by default unfilled.\n",
      "        - 'stepfilled' generates a lineplot that is by default filled.\n",
      "    \n",
      "    align : {'left', 'mid', 'right'}, default: 'mid'\n",
      "        The horizontal alignment of the histogram bars.\n",
      "    \n",
      "        - 'left': bars are centered on the left bin edges.\n",
      "        - 'mid': bars are centered between the bin edges.\n",
      "        - 'right': bars are centered on the right bin edges.\n",
      "    \n",
      "    orientation : {'vertical', 'horizontal'}, default: 'vertical'\n",
      "        If 'horizontal', `~.Axes.barh` will be used for bar-type histograms\n",
      "        and the *bottom* kwarg will be the left edges.\n",
      "    \n",
      "    rwidth : float or None, default: None\n",
      "        The relative width of the bars as a fraction of the bin width.  If\n",
      "        ``None``, automatically compute the width.\n",
      "    \n",
      "        Ignored if *histtype* is 'step' or 'stepfilled'.\n",
      "    \n",
      "    log : bool, default: False\n",
      "        If ``True``, the histogram axis will be set to a log scale.\n",
      "    \n",
      "    color : color or array-like of colors or None, default: None\n",
      "        Color or sequence of colors, one per dataset.  Default (``None``)\n",
      "        uses the standard line color sequence.\n",
      "    \n",
      "    label : str or None, default: None\n",
      "        String, or sequence of strings to match multiple datasets.  Bar\n",
      "        charts yield multiple patches per dataset, but only the first gets\n",
      "        the label, so that `~.Axes.legend` will work as expected.\n",
      "    \n",
      "    stacked : bool, default: False\n",
      "        If ``True``, multiple data are stacked on top of each other If\n",
      "        ``False`` multiple data are arranged side by side if histtype is\n",
      "        'bar' or on top of each other if histtype is 'step'\n",
      "    \n",
      "    Returns\n",
      "    -------\n",
      "    n : array or list of arrays\n",
      "        The values of the histogram bins. See *density* and *weights* for a\n",
      "        description of the possible semantics.  If input *x* is an array,\n",
      "        then this is an array of length *nbins*. If input is a sequence of\n",
      "        arrays ``[data1, data2, ...]``, then this is a list of arrays with\n",
      "        the values of the histograms for each of the arrays in the same\n",
      "        order.  The dtype of the array *n* (or of its element arrays) will\n",
      "        always be float even if no weighting or normalization is used.\n",
      "    \n",
      "    bins : array\n",
      "        The edges of the bins. Length nbins + 1 (nbins left edges and right\n",
      "        edge of last bin).  Always a single array even when multiple data\n",
      "        sets are passed in.\n",
      "    \n",
      "    patches : `.BarContainer` or list of a single `.Polygon` or list of such objects\n",
      "        Container of individual artists used to create the histogram\n",
      "        or list of such containers if there are multiple input datasets.\n",
      "    \n",
      "    Other Parameters\n",
      "    ----------------\n",
      "    data : indexable object, optional\n",
      "        If given, the following parameters also accept a string ``s``, which is\n",
      "        interpreted as ``data[s]`` (unless this raises an exception):\n",
      "    \n",
      "        *x*, *weights*\n",
      "    \n",
      "    **kwargs\n",
      "        `~matplotlib.patches.Patch` properties\n",
      "    \n",
      "    See Also\n",
      "    --------\n",
      "    hist2d : 2D histogram with rectangular bins\n",
      "    hexbin : 2D histogram with hexagonal bins\n",
      "    \n",
      "    Notes\n",
      "    -----\n",
      "    For large numbers of bins (>1000), plotting can be significantly faster\n",
      "    if *histtype* is set to 'step' or 'stepfilled' rather than 'bar' or\n",
      "    'barstacked'.\n",
      "\n"
     ]
    }
   ],
   "source": [
    "help(plt.hist)"
   ]
  },
  {
   "cell_type": "markdown",
   "id": "a7b37c92",
   "metadata": {},
   "source": [
    "# Track Dropping"
   ]
  },
  {
   "cell_type": "code",
   "execution_count": 67,
   "id": "57440afa",
   "metadata": {},
   "outputs": [
    {
     "data": {
      "application/vnd.jupyter.widget-view+json": {
       "model_id": "bc097550e52646f18684111d47077888",
       "version_major": 2,
       "version_minor": 0
      },
      "text/plain": [
       "  0%|          | 0/80 [00:00<?, ?it/s]"
      ]
     },
     "metadata": {},
     "output_type": "display_data"
    }
   ],
   "source": [
    "N_BATCHES = 80\n",
    "# No dropping\n",
    "all_preds = []\n",
    "all_preds_prob = []\n",
    "# Drop TT\n",
    "tt_preds = []\n",
    "tt_preds_prob = []\n",
    "# Drop NT\n",
    "nt_preds = []\n",
    "nt_preds_prob = []\n",
    "\n",
    "correct = []\n",
    "val_data.dataset.dataset.phi = 0\n",
    "val_data.dataset.dataset.z = 0\n",
    "\n",
    "for batch in tqdm(islice(val_data, 0, N_BATCHES), total=N_BATCHES):\n",
    "    mask = torch.zeros(batch.track_vector.shape[:-1])\n",
    "    nt_mask = torch.zeros(batch.track_vector.shape[:-1])\n",
    "    for i, n in enumerate(batch.n_tracks):\n",
    "        mask[i, :n] = 1\n",
    "        nt_mask[i, :n] = 1\n",
    "        n_trigger_tracks = torch.sum(batch.is_trigger_track[i].to(torch.bool))\n",
    "        non_trigger_tracks = torch.where(~batch.is_trigger_track[i, :n].to(torch.bool))[0].numpy().tolist()\n",
    "        #print(f'{non_trigger_tracks=}')\n",
    "        random.shuffle(non_trigger_tracks)\n",
    "        #print(f'{non_trigger_tracks=}')\n",
    "        # We are randomly dropping the same amount of non-trigger tracks as of trigger tracks\n",
    "        for j in non_trigger_tracks[:n_trigger_tracks]:\n",
    "            #print(f'Setting {j} to 0')\n",
    "            nt_mask[i, j] = 0\n",
    "        #if n_trigger_tracks != 0:\n",
    "           # print(f'{n_trigger_tracks=}\\n{mask[i, :n]=}\\n{nt_mask[i, :n]=}')\n",
    "        \n",
    "\n",
    "    mask = mask.to(DEVICE)\n",
    "    nt_mask = nt_mask.to(DEVICE)\n",
    "    track_vector = batch.track_vector.to(DEVICE)\n",
    "\n",
    "    is_trigger_track = batch.is_trigger_track.to(DEVICE, torch.bool)\n",
    "    trigger = (batch.trigger.to(DEVICE) == 1).unsqueeze(-1)\n",
    "\n",
    "    mask_logits = model(track_vector, mask)\n",
    "    pred = mask_logits.max(dim=1)[1]\n",
    "    all_preds.extend(pred[trigger.flatten()].cpu().numpy())\n",
    "    all_preds_prob.extend(nn.Softmax(dim=1)(mask_logits[trigger.flatten()])[:, 1].detach().cpu().numpy().flatten())\n",
    "    # Drop the trigger-tracks\n",
    "    tt_mask = mask * ~is_trigger_track\n",
    "    mask_logits = model(track_vector, tt_mask)\n",
    "    tt_preds.extend(pred[trigger.flatten()].cpu().numpy())\n",
    "    tt_preds_prob.extend(nn.Softmax(dim=1)(mask_logits[trigger.flatten()])[:, 1].detach().cpu().numpy().flatten())\n",
    "\n",
    "    mask_logits = model(track_vector, nt_mask)\n",
    "    nt_preds.extend(pred[trigger.flatten()].cpu().numpy())\n",
    "    nt_preds_prob.extend(nn.Softmax(dim=1)(mask_logits[trigger.flatten()])[:, 1].detach().cpu().numpy().flatten())\n",
    "\n",
    "    \n",
    "    correct.extend(trigger.detach().cpu().numpy().flatten())\n",
    "\n"
   ]
  },
  {
   "cell_type": "code",
   "execution_count": 58,
   "id": "5be7eb32",
   "metadata": {},
   "outputs": [],
   "source": [
    "all_pred = np.array(all_preds_prob)\n",
    "all_pred_tt = np.array(tt_preds_prob)\n",
    "all_pred_nt = np.array(nt_preds_prob)"
   ]
  },
  {
   "cell_type": "code",
   "execution_count": 68,
   "id": "796111a0",
   "metadata": {},
   "outputs": [],
   "source": [
    "all_gt = np.array(all_preds_prob)\n",
    "all_gt_tt = np.array(tt_preds_prob)\n",
    "all_gt_nt = np.array(nt_preds_prob)"
   ]
  },
  {
   "cell_type": "code",
   "execution_count": 59,
   "id": "dc9049aa",
   "metadata": {},
   "outputs": [
    {
     "data": {
      "text/plain": [
       "20534"
      ]
     },
     "execution_count": 59,
     "metadata": {},
     "output_type": "execute_result"
    }
   ],
   "source": [
    "len(all_pred)"
   ]
  },
  {
   "cell_type": "code",
   "execution_count": 73,
   "id": "400d62f4",
   "metadata": {},
   "outputs": [
    {
     "data": {
      "text/plain": [
       "Text(0.5, 1.0, 'Effect of Track Dropping on Trigger Probability Distribution')"
      ]
     },
     "execution_count": 73,
     "metadata": {},
     "output_type": "execute_result"
    },
    {
     "data": {
      "image/png": "[encoded data removed]",
      "text/plain": [
       "<Figure size 640x480 with 1 Axes>"
      ]
     },
     "metadata": {},
     "output_type": "display_data"
    }
   ],
   "source": [
    "plt.style.use('ggplot')\n",
    "plt.boxplot([all_pred, all_pred_nt, all_pred_tt, all_gt, all_gt_tt, all_gt_nt])\n",
    "plt.xticks([1, 2, 3, 4, 5, 6], ['P AT', 'P TT + SNT', 'P NT', 'GT AT', 'GT TT + NT', 'GT SNT'])  # Adjust or add more labels based on your datasets\n",
    "plt.ylabel('Trigger Probability')\n",
    "plt.title('Effect of Track Dropping on Trigger Probability Distribution')"
   ]
  },
  {
   "cell_type": "markdown",
   "id": "1cb18afb",
   "metadata": {},
   "source": [
    "# Hit-Dropping"
   ]
  },
  {
   "cell_type": "code",
   "execution_count": 76,
   "id": "fa3414de",
   "metadata": {},
   "outputs": [
    {
     "data": {
      "application/vnd.jupyter.widget-view+json": {
       "model_id": "a43966678ea849d88736f4b3ea0755af",
       "version_major": 2,
       "version_minor": 0
      },
      "text/plain": [
       "  0%|          | 0/80 [00:00<?, ?it/s]"
      ]
     },
     "metadata": {},
     "output_type": "display_data"
    },
    {
     "data": {
      "application/vnd.jupyter.widget-view+json": {
       "model_id": "960e9e8fe717408295057a90a67e5dbb",
       "version_major": 2,
       "version_minor": 0
      },
      "text/plain": [
       "  0%|          | 0/80 [00:00<?, ?it/s]"
      ]
     },
     "metadata": {},
     "output_type": "display_data"
    },
    {
     "data": {
      "application/vnd.jupyter.widget-view+json": {
       "model_id": "190093d585a6427f86927eb8a9901ad3",
       "version_major": 2,
       "version_minor": 0
      },
      "text/plain": [
       "  0%|          | 0/80 [00:00<?, ?it/s]"
      ]
     },
     "metadata": {},
     "output_type": "display_data"
    },
    {
     "data": {
      "application/vnd.jupyter.widget-view+json": {
       "model_id": "752075a7f3f44ddda38f3a96b85a2057",
       "version_major": 2,
       "version_minor": 0
      },
      "text/plain": [
       "  0%|          | 0/80 [00:00<?, ?it/s]"
      ]
     },
     "metadata": {},
     "output_type": "display_data"
    },
    {
     "data": {
      "application/vnd.jupyter.widget-view+json": {
       "model_id": "1026e1fb5efd48cba10c0e86f830d96c",
       "version_major": 2,
       "version_minor": 0
      },
      "text/plain": [
       "  0%|          | 0/80 [00:00<?, ?it/s]"
      ]
     },
     "metadata": {},
     "output_type": "display_data"
    }
   ],
   "source": [
    "N_BATCHES = 80\n",
    "# No dropping\n",
    "pred_probs = [list() for i in range(5)]\n",
    "\n",
    "\n",
    "val_data.dataset.dataset.phi = 0\n",
    "val_data.dataset.dataset.z = 0\n",
    "\n",
    "for layer_drop in range(5):\n",
    "    for batch in tqdm(islice(val_data, 0, N_BATCHES), total=N_BATCHES):\n",
    "        mask = torch.zeros(batch.track_vector.shape[:-1])\n",
    "        for i, n in enumerate(batch.n_tracks):\n",
    "            mask[i, :n] = 1\n",
    "\n",
    "\n",
    "        mask = mask.to(DEVICE)\n",
    "        track_vector = batch.track_vector.to(DEVICE)\n",
    "        n_batches, n_tracks = track_vector.shape[:2]\n",
    "        hits = track_vector[..., :15].reshape(n_batches, n_tracks, 5, 3)\n",
    "        hits[:, :, layer_drop, :] = 0\n",
    "        track_vector[..., :15] = hits.reshape(n_batches, n_tracks, 15)\n",
    "\n",
    "        is_trigger_track = batch.is_trigger_track.to(DEVICE, torch.bool)\n",
    "        trigger = (batch.trigger.to(DEVICE) == 1).unsqueeze(-1)\n",
    "\n",
    "        mask_logits = model(track_vector, mask)\n",
    "        pred = mask_logits.max(dim=1)[1]\n",
    "        pred_probs[layer_drop].extend(nn.Softmax(dim=1)(mask_logits[trigger.flatten()])[:, 1].detach().cpu().numpy().flatten())\n",
    "    \n"
   ]
  },
  {
   "cell_type": "code",
   "execution_count": 77,
   "id": "56f6d52b",
   "metadata": {},
   "outputs": [
    {
     "data": {
      "text/plain": [
       "{'whiskers': [<matplotlib.lines.Line2D at 0x7f0e34ad75b0>,\n",
       "  <matplotlib.lines.Line2D at 0x7f0e34ad7c40>,\n",
       "  <matplotlib.lines.Line2D at 0x7f0e244f8880>,\n",
       "  <matplotlib.lines.Line2D at 0x7f0e244f9ae0>,\n",
       "  <matplotlib.lines.Line2D at 0x7f0e56408550>,\n",
       "  <matplotlib.lines.Line2D at 0x7f0e4565aa10>,\n",
       "  <matplotlib.lines.Line2D at 0x7f0e4565a500>,\n",
       "  <matplotlib.lines.Line2D at 0x7f0e4565a560>,\n",
       "  <matplotlib.lines.Line2D at 0x7f0e2c7e2500>,\n",
       "  <matplotlib.lines.Line2D at 0x7f0e2c7e28c0>],\n",
       " 'caps': [<matplotlib.lines.Line2D at 0x7f0e244fa500>,\n",
       "  <matplotlib.lines.Line2D at 0x7f0e244f8ee0>,\n",
       "  <matplotlib.lines.Line2D at 0x7f0e244fb550>,\n",
       "  <matplotlib.lines.Line2D at 0x7f0e244fb970>,\n",
       "  <matplotlib.lines.Line2D at 0x7f0e45659c90>,\n",
       "  <matplotlib.lines.Line2D at 0x7f0e45659bd0>,\n",
       "  <matplotlib.lines.Line2D at 0x7f0e45658940>,\n",
       "  <matplotlib.lines.Line2D at 0x7f0e45659ed0>,\n",
       "  <matplotlib.lines.Line2D at 0x7f0e2c7e17e0>,\n",
       "  <matplotlib.lines.Line2D at 0x7f0e2c7e0340>],\n",
       " 'boxes': [<matplotlib.lines.Line2D at 0x7f0e441577c0>,\n",
       "  <matplotlib.lines.Line2D at 0x7f0e244f8a00>,\n",
       "  <matplotlib.lines.Line2D at 0x7f0e56358430>,\n",
       "  <matplotlib.lines.Line2D at 0x7f0e4565bf10>,\n",
       "  <matplotlib.lines.Line2D at 0x7f0e2c7e1840>],\n",
       " 'medians': [<matplotlib.lines.Line2D at 0x7f0e244f9570>,\n",
       "  <matplotlib.lines.Line2D at 0x7f0e244f8c10>,\n",
       "  <matplotlib.lines.Line2D at 0x7f0e4565bca0>,\n",
       "  <matplotlib.lines.Line2D at 0x7f0e2c7e0250>,\n",
       "  <matplotlib.lines.Line2D at 0x7f0e2c7e0ac0>],\n",
       " 'fliers': [<matplotlib.lines.Line2D at 0x7f0e244f9210>,\n",
       "  <matplotlib.lines.Line2D at 0x7f0e244fbf10>,\n",
       "  <matplotlib.lines.Line2D at 0x7f0e45659a80>,\n",
       "  <matplotlib.lines.Line2D at 0x7f0e2c7e0550>,\n",
       "  <matplotlib.lines.Line2D at 0x7f0e2c7e2dd0>],\n",
       " 'means': []}"
      ]
     },
     "execution_count": 77,
     "metadata": {},
     "output_type": "execute_result"
    },
    {
     "data": {
      "image/png": "[encoded data removed]",
      "text/plain": [
       "<Figure size 640x480 with 1 Axes>"
      ]
     },
     "metadata": {},
     "output_type": "display_data"
    }
   ],
   "source": [
    "plt.boxplot(pred_probs)"
   ]
  },
  {
   "cell_type": "markdown",
   "id": "b330fe0a",
   "metadata": {},
   "source": [
    "# Noise Std"
   ]
  },
  {
   "cell_type": "code",
   "execution_count": 27,
   "id": "8ffdf4a2",
   "metadata": {},
   "outputs": [
    {
     "data": {
      "application/vnd.jupyter.widget-view+json": {
       "model_id": "c430a73f7de94e92a1768c102f556077",
       "version_major": 2,
       "version_minor": 0
      },
      "text/plain": [
       "  0%|          | 0/40 [00:00<?, ?it/s]"
      ]
     },
     "metadata": {},
     "output_type": "display_data"
    },
    {
     "data": {
      "application/vnd.jupyter.widget-view+json": {
       "model_id": "e7c03605970741069527eaa85516db6d",
       "version_major": 2,
       "version_minor": 0
      },
      "text/plain": [
       "  0%|          | 0/40 [00:00<?, ?it/s]"
      ]
     },
     "metadata": {},
     "output_type": "display_data"
    },
    {
     "data": {
      "application/vnd.jupyter.widget-view+json": {
       "model_id": "e258932ba1af4f768ea53f45c4b02c2a",
       "version_major": 2,
       "version_minor": 0
      },
      "text/plain": [
       "  0%|          | 0/40 [00:00<?, ?it/s]"
      ]
     },
     "metadata": {},
     "output_type": "display_data"
    },
    {
     "data": {
      "application/vnd.jupyter.widget-view+json": {
       "model_id": "f5c5c8a407b4421cb5dd64969d66e742",
       "version_major": 2,
       "version_minor": 0
      },
      "text/plain": [
       "  0%|          | 0/40 [00:00<?, ?it/s]"
      ]
     },
     "metadata": {},
     "output_type": "display_data"
    },
    {
     "data": {
      "application/vnd.jupyter.widget-view+json": {
       "model_id": "6a9c3e77921b48009c47af5099ce9bb7",
       "version_major": 2,
       "version_minor": 0
      },
      "text/plain": [
       "  0%|          | 0/40 [00:00<?, ?it/s]"
      ]
     },
     "metadata": {},
     "output_type": "display_data"
    },
    {
     "data": {
      "application/vnd.jupyter.widget-view+json": {
       "model_id": "27c8aa8811e041e2a0ff9f14959067ce",
       "version_major": 2,
       "version_minor": 0
      },
      "text/plain": [
       "  0%|          | 0/40 [00:00<?, ?it/s]"
      ]
     },
     "metadata": {},
     "output_type": "display_data"
    },
    {
     "data": {
      "application/vnd.jupyter.widget-view+json": {
       "model_id": "0dfb12cbbc174bacab2a373c29be9ce5",
       "version_major": 2,
       "version_minor": 0
      },
      "text/plain": [
       "  0%|          | 0/40 [00:00<?, ?it/s]"
      ]
     },
     "metadata": {},
     "output_type": "display_data"
    },
    {
     "data": {
      "application/vnd.jupyter.widget-view+json": {
       "model_id": "fa4b24861c854b6eb2947d5b00836b64",
       "version_major": 2,
       "version_minor": 0
      },
      "text/plain": [
       "  0%|          | 0/40 [00:00<?, ?it/s]"
      ]
     },
     "metadata": {},
     "output_type": "display_data"
    },
    {
     "data": {
      "application/vnd.jupyter.widget-view+json": {
       "model_id": "a64b76bf914a481690dde94dc22db61a",
       "version_major": 2,
       "version_minor": 0
      },
      "text/plain": [
       "  0%|          | 0/40 [00:00<?, ?it/s]"
      ]
     },
     "metadata": {},
     "output_type": "display_data"
    },
    {
     "data": {
      "application/vnd.jupyter.widget-view+json": {
       "model_id": "1825df626a68446d93c920adce8b2504",
       "version_major": 2,
       "version_minor": 0
      },
      "text/plain": [
       "  0%|          | 0/40 [00:00<?, ?it/s]"
      ]
     },
     "metadata": {},
     "output_type": "display_data"
    },
    {
     "data": {
      "application/vnd.jupyter.widget-view+json": {
       "model_id": "90e28548e37b4d2fa0502e99f1f1a9c7",
       "version_major": 2,
       "version_minor": 0
      },
      "text/plain": [
       "  0%|          | 0/40 [00:00<?, ?it/s]"
      ]
     },
     "metadata": {},
     "output_type": "display_data"
    },
    {
     "data": {
      "application/vnd.jupyter.widget-view+json": {
       "model_id": "c0d0366bd0c641cb92a63a2b7f60aa31",
       "version_major": 2,
       "version_minor": 0
      },
      "text/plain": [
       "  0%|          | 0/40 [00:00<?, ?it/s]"
      ]
     },
     "metadata": {},
     "output_type": "display_data"
    },
    {
     "data": {
      "application/vnd.jupyter.widget-view+json": {
       "model_id": "c00d210f86b54c428f40559520e09ee2",
       "version_major": 2,
       "version_minor": 0
      },
      "text/plain": [
       "  0%|          | 0/40 [00:00<?, ?it/s]"
      ]
     },
     "metadata": {},
     "output_type": "display_data"
    },
    {
     "data": {
      "application/vnd.jupyter.widget-view+json": {
       "model_id": "397fb2ee855447229ca4cd58c5599418",
       "version_major": 2,
       "version_minor": 0
      },
      "text/plain": [
       "  0%|          | 0/40 [00:00<?, ?it/s]"
      ]
     },
     "metadata": {},
     "output_type": "display_data"
    },
    {
     "data": {
      "application/vnd.jupyter.widget-view+json": {
       "model_id": "1c706df22efc4de8922d8e9659a58d9b",
       "version_major": 2,
       "version_minor": 0
      },
      "text/plain": [
       "  0%|          | 0/40 [00:00<?, ?it/s]"
      ]
     },
     "metadata": {},
     "output_type": "display_data"
    },
    {
     "data": {
      "application/vnd.jupyter.widget-view+json": {
       "model_id": "8ac65f3755d544399d337a33e49eb985",
       "version_major": 2,
       "version_minor": 0
      },
      "text/plain": [
       "  0%|          | 0/40 [00:00<?, ?it/s]"
      ]
     },
     "metadata": {},
     "output_type": "display_data"
    },
    {
     "data": {
      "application/vnd.jupyter.widget-view+json": {
       "model_id": "51d420201c6d42dd92715a3380171c67",
       "version_major": 2,
       "version_minor": 0
      },
      "text/plain": [
       "  0%|          | 0/40 [00:00<?, ?it/s]"
      ]
     },
     "metadata": {},
     "output_type": "display_data"
    },
    {
     "data": {
      "application/vnd.jupyter.widget-view+json": {
       "model_id": "959703382d4e4da5ad734d0bb8cd856b",
       "version_major": 2,
       "version_minor": 0
      },
      "text/plain": [
       "  0%|          | 0/40 [00:00<?, ?it/s]"
      ]
     },
     "metadata": {},
     "output_type": "display_data"
    },
    {
     "data": {
      "application/vnd.jupyter.widget-view+json": {
       "model_id": "59714cd77eaf4224a1d3a14020ac380c",
       "version_major": 2,
       "version_minor": 0
      },
      "text/plain": [
       "  0%|          | 0/40 [00:00<?, ?it/s]"
      ]
     },
     "metadata": {},
     "output_type": "display_data"
    },
    {
     "data": {
      "application/vnd.jupyter.widget-view+json": {
       "model_id": "d5cadc4456a240769d1614cfa282863c",
       "version_major": 2,
       "version_minor": 0
      },
      "text/plain": [
       "  0%|          | 0/40 [00:00<?, ?it/s]"
      ]
     },
     "metadata": {},
     "output_type": "display_data"
    },
    {
     "data": {
      "application/vnd.jupyter.widget-view+json": {
       "model_id": "a1b1481b4113438cb6241bfb9781fa08",
       "version_major": 2,
       "version_minor": 0
      },
      "text/plain": [
       "  0%|          | 0/40 [00:00<?, ?it/s]"
      ]
     },
     "metadata": {},
     "output_type": "display_data"
    },
    {
     "data": {
      "application/vnd.jupyter.widget-view+json": {
       "model_id": "0f5aac92e9a244cb892af313fa32cc87",
       "version_major": 2,
       "version_minor": 0
      },
      "text/plain": [
       "  0%|          | 0/40 [00:00<?, ?it/s]"
      ]
     },
     "metadata": {},
     "output_type": "display_data"
    },
    {
     "data": {
      "application/vnd.jupyter.widget-view+json": {
       "model_id": "df8379360c6140029a62f257ff8f0708",
       "version_major": 2,
       "version_minor": 0
      },
      "text/plain": [
       "  0%|          | 0/40 [00:00<?, ?it/s]"
      ]
     },
     "metadata": {},
     "output_type": "display_data"
    },
    {
     "data": {
      "application/vnd.jupyter.widget-view+json": {
       "model_id": "a279d6d21bbc484b9f984817099546de",
       "version_major": 2,
       "version_minor": 0
      },
      "text/plain": [
       "  0%|          | 0/40 [00:00<?, ?it/s]"
      ]
     },
     "metadata": {},
     "output_type": "display_data"
    },
    {
     "data": {
      "application/vnd.jupyter.widget-view+json": {
       "model_id": "0d4a2971029141f5a2469f99785b6737",
       "version_major": 2,
       "version_minor": 0
      },
      "text/plain": [
       "  0%|          | 0/40 [00:00<?, ?it/s]"
      ]
     },
     "metadata": {},
     "output_type": "display_data"
    },
    {
     "data": {
      "application/vnd.jupyter.widget-view+json": {
       "model_id": "0834a01ceba54fd1ad4bbdf78ad84690",
       "version_major": 2,
       "version_minor": 0
      },
      "text/plain": [
       "  0%|          | 0/40 [00:00<?, ?it/s]"
      ]
     },
     "metadata": {},
     "output_type": "display_data"
    },
    {
     "data": {
      "application/vnd.jupyter.widget-view+json": {
       "model_id": "dc6bc945a28740c6a4aa614913722753",
       "version_major": 2,
       "version_minor": 0
      },
      "text/plain": [
       "  0%|          | 0/40 [00:00<?, ?it/s]"
      ]
     },
     "metadata": {},
     "output_type": "display_data"
    },
    {
     "data": {
      "application/vnd.jupyter.widget-view+json": {
       "model_id": "eab896ce858a4c01abc490db5791d24a",
       "version_major": 2,
       "version_minor": 0
      },
      "text/plain": [
       "  0%|          | 0/40 [00:00<?, ?it/s]"
      ]
     },
     "metadata": {},
     "output_type": "display_data"
    },
    {
     "data": {
      "application/vnd.jupyter.widget-view+json": {
       "model_id": "5c376841bab14d10bbbabd9a3abdaf6e",
       "version_major": 2,
       "version_minor": 0
      },
      "text/plain": [
       "  0%|          | 0/40 [00:00<?, ?it/s]"
      ]
     },
     "metadata": {},
     "output_type": "display_data"
    },
    {
     "data": {
      "application/vnd.jupyter.widget-view+json": {
       "model_id": "3d9cc82930fb4b8fa410f95a57ee3714",
       "version_major": 2,
       "version_minor": 0
      },
      "text/plain": [
       "  0%|          | 0/40 [00:00<?, ?it/s]"
      ]
     },
     "metadata": {},
     "output_type": "display_data"
    }
   ],
   "source": [
    "N_BATCHES = 40\n",
    "all_preds = []\n",
    "all_preds_prob = []\n",
    "all_correct = []\n",
    "val_data.dataset.dataset.phi = val_data.dataset.dataset.z = 0\n",
    "noise_stds = np.linspace(-6, -1, 30)\n",
    "#noise_stds = [-np.inf]\n",
    "for noise_std in noise_stds:\n",
    "    val_data.dataset.dataset.noise_std = 10**noise_std\n",
    "    preds = []\n",
    "    preds_prob = []\n",
    "    correct = []\n",
    "    for batch in tqdm(islice(val_data, 0, N_BATCHES), total=N_BATCHES):\n",
    "        mask = torch.zeros(batch.track_vector.shape[:-1])\n",
    "        for i, n in enumerate(batch.n_tracks):\n",
    "            mask[i, :n] = 1\n",
    "            \n",
    "\n",
    "        mask = mask.to(DEVICE)\n",
    "        track_vector = batch.track_vector.to(DEVICE)\n",
    "        n_batches, n_tracks = track_vector.shape[:2]\n",
    "        hits = track_vector[:, :, :15].reshape(n_batches, n_tracks, 5, 3)\n",
    "        \n",
    "        \n",
    "        is_trigger_track = batch.is_trigger_track.to(DEVICE, torch.bool)\n",
    "        trigger = (batch.trigger.to(DEVICE) == 1).unsqueeze(-1)\n",
    "\n",
    "        mask_logits = model(track_vector, mask)\n",
    "        pred = mask_logits.max(dim=1)[1]\n",
    "        preds.extend(pred.cpu().data.numpy())\n",
    "        preds_prob.extend(nn.Softmax(dim=1)(mask_logits)[:, 1].detach().cpu().numpy().flatten())\n",
    "        correct.extend(trigger.detach().cpu().numpy().flatten())\n",
    "    all_correct.append(correct)\n",
    "    all_preds.append(preds)\n",
    "    all_preds_prob.append(preds_prob)"
   ]
  },
  {
   "cell_type": "code",
   "execution_count": 28,
   "id": "eeae62ef",
   "metadata": {},
   "outputs": [],
   "source": [
    "all_preds = np.array(all_preds)\n",
    "all_correct = np.array(all_correct)\n",
    "accs_gt_noise = np.sum(all_preds == all_correct, axis=-1)/all_correct.shape[1]"
   ]
  },
  {
   "cell_type": "code",
   "execution_count": 22,
   "id": "6c8312e6",
   "metadata": {},
   "outputs": [
    {
     "data": {
      "text/plain": [
       "array([0.86171875, 0.86171875, 0.86201172, 0.86123047, 0.8609375 ,\n",
       "       0.86162109, 0.86054688, 0.86123047, 0.86147461, 0.85913086,\n",
       "       0.85800781, 0.8550293 , 0.85263672, 0.84926758, 0.84204102,\n",
       "       0.83647461, 0.82114258, 0.80473633, 0.78583984, 0.76347656,\n",
       "       0.7418457 , 0.71289062, 0.68833008, 0.66591797, 0.65375977,\n",
       "       0.63686523, 0.63540039, 0.63378906, 0.63691406, 0.64228516])"
      ]
     },
     "execution_count": 22,
     "metadata": {},
     "output_type": "execute_result"
    }
   ],
   "source": [
    "accs_gt_noise"
   ]
  },
  {
   "cell_type": "code",
   "execution_count": 15,
   "id": "6a422886",
   "metadata": {},
   "outputs": [
    {
     "data": {
      "text/plain": [
       "array([0.86171875, 0.86171875, 0.86201172, 0.86123047, 0.8609375 ,\n",
       "       0.86162109, 0.86054688, 0.86123047, 0.86147461, 0.85913086,\n",
       "       0.85800781, 0.8550293 , 0.85263672, 0.84926758, 0.84204102,\n",
       "       0.83647461, 0.82114258, 0.80473633, 0.78583984, 0.76347656,\n",
       "       0.7418457 , 0.71289062, 0.68833008, 0.66591797, 0.65375977,\n",
       "       0.63686523, 0.63540039, 0.63378906, 0.63691406, 0.64228516])"
      ]
     },
     "execution_count": 15,
     "metadata": {},
     "output_type": "execute_result"
    }
   ],
   "source": [
    "accs_pred_noise"
   ]
  },
  {
   "cell_type": "code",
   "execution_count": 23,
   "id": "7c34ad4c",
   "metadata": {},
   "outputs": [
    {
     "data": {
      "text/plain": [
       "array([0.90541992, 0.90537109, 0.90537109, 0.90541992, 0.90532227,\n",
       "       0.90522461, 0.90512695, 0.90522461, 0.90493164, 0.90546875,\n",
       "       0.90551758, 0.90463867, 0.90537109, 0.90395508, 0.90332031,\n",
       "       0.90107422, 0.89135742, 0.87055664, 0.81494141, 0.715625  ,\n",
       "       0.61269531, 0.54052734, 0.51552734, 0.50473633, 0.50180664,\n",
       "       0.50058594, 0.49990234, 0.49985352, 0.49975586, 0.49951172])"
      ]
     },
     "execution_count": 23,
     "metadata": {},
     "output_type": "execute_result"
    }
   ],
   "source": [
    "accs_gt_noise"
   ]
  },
  {
   "cell_type": "code",
   "execution_count": 12,
   "id": "55543e0b",
   "metadata": {},
   "outputs": [
    {
     "ename": "NameError",
     "evalue": "name 'accs_gt_noise' is not defined",
     "output_type": "error",
     "traceback": [
      "\u001b[0;31m---------------------------------------------------------------------------\u001b[0m",
      "\u001b[0;31mNameError\u001b[0m                                 Traceback (most recent call last)",
      "Cell \u001b[0;32mIn[12], line 1\u001b[0m\n\u001b[0;32m----> 1\u001b[0m \u001b[43maccs_gt_noise\u001b[49m, accs_pred_noise\n",
      "\u001b[0;31mNameError\u001b[0m: name 'accs_gt_noise' is not defined"
     ]
    }
   ],
   "source": [
    "accs_gt_noise, accs_pred_noise"
   ]
  },
  {
   "cell_type": "code",
   "execution_count": 20,
   "id": "e508faa9",
   "metadata": {},
   "outputs": [
    {
     "data": {
      "text/plain": [
       "array([0.86621094, 0.87011719, 0.84667969, 0.72949219, 0.66308594,\n",
       "       0.64355469])"
      ]
     },
     "execution_count": 20,
     "metadata": {},
     "output_type": "execute_result"
    }
   ],
   "source": [
    "accs_gt_noise"
   ]
  },
  {
   "cell_type": "code",
   "execution_count": 18,
   "id": "cee21e8e",
   "metadata": {},
   "outputs": [
    {
     "data": {
      "text/plain": [
       "array([0.86171875, 0.86171875, 0.86201172, 0.86123047, 0.8609375 ,\n",
       "       0.86162109, 0.86054688, 0.86123047, 0.86147461, 0.85913086,\n",
       "       0.85800781, 0.8550293 , 0.85263672, 0.84926758, 0.84204102,\n",
       "       0.83647461, 0.82114258, 0.80473633, 0.78583984, 0.76347656,\n",
       "       0.7418457 , 0.71289062, 0.68833008, 0.66591797, 0.65375977,\n",
       "       0.63686523, 0.63540039, 0.63378906, 0.63691406, 0.64228516])"
      ]
     },
     "execution_count": 18,
     "metadata": {},
     "output_type": "execute_result"
    }
   ],
   "source": [
    "accs_pred_noise"
   ]
  },
  {
   "cell_type": "code",
   "execution_count": 29,
   "id": "281bf765",
   "metadata": {},
   "outputs": [
    {
     "data": {
      "text/plain": [
       "<matplotlib.legend.Legend at 0x7f9b1d5dc4f0>"
      ]
     },
     "execution_count": 29,
     "metadata": {},
     "output_type": "execute_result"
    },
    {
     "data": {
      "image/png": "[encoded data removed]",
      "text/plain": [
       "<Figure size 640x480 with 1 Axes>"
      ]
     },
     "metadata": {},
     "output_type": "display_data"
    }
   ],
   "source": [
    "plt.style.use('ggplot')\n",
    "plt.plot(10**noise_stds, accs_gt_noise, label='Ground Truth Tracks')\n",
    "plt.plot(10**noise_stds, accs_pred_noise, label='Predicted Tracks')\n",
    "plt.xlabel('Noise Standard Deviation')\n",
    "plt.ylabel('Accuracy')\n",
    "plt.xscale('log')\n",
    "plt.title(\"Effects of Noise on Accuracy\")\n",
    "plt.legend()"
   ]
  },
  {
   "cell_type": "code",
   "execution_count": null,
   "id": "21678f1e",
   "metadata": {},
   "outputs": [],
   "source": []
  }
 ],
 "metadata": {
  "kernelspec": {
   "display_name": "Python 3 (ipykernel)",
   "language": "python",
   "name": "python3"
  },
  "language_info": {
   "codemirror_mode": {
    "name": "ipython",
    "version": 3
   },
   "file_extension": ".py",
   "mimetype": "text/x-python",
   "name": "python",
   "nbconvert_exporter": "python",
   "pygments_lexer": "ipython3",
   "version": "3.10.9"
  }
 },
 "nbformat": 4,
 "nbformat_minor": 5
}
