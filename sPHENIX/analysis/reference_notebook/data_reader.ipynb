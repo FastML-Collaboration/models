{
 "cells": [
  {
   "cell_type": "code",
   "execution_count": 2,
   "metadata": {},
   "outputs": [],
   "source": [
    "import numpy as np\n",
    "import os\n",
    "from numpy.linalg import inv"
   ]
  },
  {
   "cell_type": "code",
   "execution_count": 5,
   "metadata": {},
   "outputs": [],
   "source": [
    "input_dir = '/ssd2/tingting/HFMLNewFiles-old-parsed/trigger/1'\n",
    "# /ssd2/tingting/HFMLNewFiles-old-parsed/nontrigger/0\n",
    "n_files = 10\n",
    "filenames = sorted([os.path.join(input_dir, f) for f in os.listdir(input_dir)\n",
    "                                if f.startswith('event') and not f.endswith('_ID.npz')])[500000:500000+n_files]"
   ]
  },
  {
   "cell_type": "code",
   "execution_count": 3,
   "metadata": {},
   "outputs": [],
   "source": [
    "def matmul_3D(A, B):\n",
    "    return np.einsum('lij,ljk->lik', A, B)\n",
    "\n",
    "def get_approximate_radius(tracks_info, is_complete):\n",
    "    complete_tracks = tracks_info[is_complete]\n",
    "    # complete_track_momentums = track_momentum[is_complete]\n",
    "    A = np.ones((complete_tracks.shape[0], 5, 3))\n",
    "    A[:, :, 0] = complete_tracks[:, [0, 3, 6, 9, 12]]\n",
    "    A[:, :, 1] = complete_tracks[:, [1, 4, 7, 10, 13]]\n",
    "    y = - complete_tracks[:, [0, 3, 6, 9, 12]]**2 - complete_tracks[:, [1, 4, 7, 10, 13]]**2\n",
    "    y = y.reshape((y.shape[0], y.shape[1], 1))\n",
    "    # c = np.einsum('lij,ljk->lik', inv(A), y)\n",
    "    AT = np.transpose(A, axes=(0, 2, 1))\n",
    "    # print(A.shape, AT.shape, y.shape)\n",
    "    # c = inv(matmul_3D(A, AT))\n",
    "    c = matmul_3D(matmul_3D(inv(matmul_3D(AT, A)), AT), y)\n",
    "    # print(A.shape, AT.shape, y.shape, c.shape)\n",
    "    r = np.sqrt(c[:, 0]**2 + c[:, 1]**2 - 4*c[:, 2])/200\n",
    "    return r\n",
    "\n",
    "def get_approximate_radii(tracks_info, n_hits, good_hits):\n",
    "    x_indices = [3*j for j in range(5)]\n",
    "    y_indices = [3*j+1 for j in range(5)]\n",
    "    r = np.zeros((tracks_info.shape[0], 1))\n",
    "    for n_hit in range(3, 5 + 1):\n",
    "        complete_tracks = tracks_info[n_hits == n_hit]\n",
    "        hit_indices = good_hits[n_hits == n_hit]\n",
    "        if complete_tracks.shape[0] == 0:\n",
    "            continue\n",
    "\n",
    "        A = np.ones((complete_tracks.shape[0], n_hit, 3))\n",
    "        x_values = complete_tracks[:, x_indices]\n",
    "        x_values = x_values[hit_indices].reshape(complete_tracks.shape[0], n_hit)\n",
    "\n",
    "        y_values = complete_tracks[:, y_indices]\n",
    "        y_values = y_values[hit_indices].reshape(complete_tracks.shape[0], n_hit)\n",
    "        A[:, :, 0] = x_values\n",
    "        A[:, :, 1] = y_values\n",
    "\n",
    "        y = - x_values**2 - y_values**2\n",
    "        y = y.reshape((y.shape[0], y.shape[1], 1))\n",
    "        AT = np.transpose(A, axes=(0, 2, 1))\n",
    "        c = matmul_3D(matmul_3D(inv(matmul_3D(AT, A)), AT), y)\n",
    "        r[n_hits == n_hit] == 1\n",
    "        r[n_hits == n_hit] = np.sqrt(c[:, 0]**2 + c[:, 1]**2 - 4*c[:, 2])/200\n",
    "    #test = get_approximate_radius(tracks_info, n_hits == 5)\n",
    "    #assert np.allclose(test, r[n_hits == 5])\n",
    "\n",
    "    return r\n",
    "\n",
    "def get_predicted_pz(first_hit, last_hit, radius):\n",
    "    dz = (last_hit[:, -1] - first_hit[:, -1])/100\n",
    "    chord2 = ((last_hit[:, 0] - first_hit[:, 0]) ** 2 + (last_hit[:, 1] - first_hit[:, 1]) ** 2) / 10000\n",
    "    dtheta = np.arccos((2*radius**2 - chord2) / (2*radius**2 + 1e-10))\n",
    "    return np.nan_to_num(dz / dtheta)\n",
    "\n",
    "def load_graph(filename, load_compelete_graph=False):\n",
    "    with np.load(filename) as f:\n",
    "        complete_flags = f['complete_flags'] \n",
    "        if load_compelete_graph and len(complete_flags)!=0:\n",
    "            track_vector = f['track_vector'][complete_flags]\n",
    "            origin_vertices = f['origin_vertices'][complete_flags]\n",
    "            momentums = f['momentums'][complete_flags].reshape(-1, 3)\n",
    "            pids = f['pids'][complete_flags]\n",
    "            ptypes = f ['ptypes'][complete_flags]\n",
    "            energy = f['energy'][complete_flags]\n",
    "            trigger_track_flag = f['trigger_track_flag'][complete_flags]\n",
    "        else:\n",
    "            track_vector = f['track_vector']\n",
    "            origin_vertices = f['origin_vertices']\n",
    "            momentums = f['momentums'].reshape(-1, 3)\n",
    "            pids = f['pids']\n",
    "            ptypes = f ['ptypes']\n",
    "            energy = f['energy']\n",
    "            trigger_track_flag = f['trigger_track_flags']\n",
    "        trigger = f['trigger']\n",
    "        ip = f['ip']\n",
    "        valid_trigger_flag = f['valid_trigger_flag']\n",
    "        n_track = track_vector.shape[0]\n",
    "\n",
    "    return track_vector, complete_flags, origin_vertices, momentums, pids, ptypes, energy, trigger, ip, trigger_track_flag, valid_trigger_flag\n",
    "\n",
    "def get_length(start, end):\n",
    "    return np.sqrt(np.sum((start - end)**2, axis=1))"
   ]
  },
  {
   "cell_type": "code",
   "execution_count": 6,
   "metadata": {},
   "outputs": [
    {
     "name": "stdout",
     "output_type": "stream",
     "text": [
      "[ 5  6 54 69 70 71 73 74 78 80 82 83 90 91 92]\n",
      "[ 2  9 10 13 44 49 51 56 57 59 62 63 66 67 68 72]\n",
      "[-123    7    8   17   18   19   30   31   36   37   38   44   45   46]\n",
      "[-1523 -1452 -1010  -946     8    10    12    23    24    58    59    65\n",
      "    73    75    76    77    79    80    81    82    83    84    87    91\n",
      "    94    95    96]\n",
      "[-363    2    3    5    6    7   48   53   57   58   59   64   70   71\n",
      "   76   79]\n",
      "[ 2  7  8 42 43 49 50 58 61 62 63 73 74 75 83 84 85 86 91 94 95]\n",
      "[ 3  4 11 20]\n",
      "[-6966 -6781    10    13    14    27    28    42    43    45    46    47\n",
      "    51    52]\n",
      "[-69   5   7   8  40  49  51  52  54  55  57  59  63  64]\n",
      "[11 12 23 31 38 39 40 41]\n"
     ]
    },
    {
     "name": "stderr",
     "output_type": "stream",
     "text": [
      "/tmp/ipykernel_3001785/3656505793.py:54: RuntimeWarning: invalid value encountered in arccos\n",
      "  dtheta = np.arccos((2*radius**2 - chord2) / (2*radius**2 + 1e-10))\n"
     ]
    }
   ],
   "source": [
    "for file_index in range(len(filenames)):\n",
    "    track_vector, complete_flags, origin_vertices, momentums, pids, ptypes, energy, trigger, ip, trigger_track_flag, valid_trigger_flag = load_graph(filenames[file_index])\n",
    "    \n",
    "    # calculate predicted radius\n",
    "    hits = track_vector[:, :15].reshape(track_vector.shape[0], 5, 3)\n",
    "    good_hits = np.all(hits != 0, axis=-1)\n",
    "    n_hits = np.sum(good_hits, axis=-1)\n",
    "    r = get_approximate_radii(track_vector, n_hits, good_hits).reshape(-1, 1)\n",
    "\n",
    "    # calculate predicted pz\n",
    "    first_hit = [0] * good_hits.shape[0]\n",
    "    last_hit = [0] * good_hits.shape[0]\n",
    "    for i in range(good_hits.shape[0]):\n",
    "        good_hits_index = np.nonzero(good_hits[i])[0]\n",
    "        if len(good_hits_index) > 0:\n",
    "            first_hit[i], last_hit[i] = good_hits_index[0], good_hits_index[-1]\n",
    "    pred_pz = get_predicted_pz(hits[np.arange(good_hits.shape[0]), first_hit], hits[np.arange(good_hits.shape[0]), last_hit], r.reshape(-1)).reshape(-1, 1)\n",
    "\n",
    "    # ground truth pt\n",
    "    pt = np.sqrt(momentums[:, 0] ** 2 + momentums[:, 1] ** 2).reshape(-1, 1)\n",
    "\n",
    "    # ground truth pz\n",
    "    pz = (momentums[:, 2]).reshape(-1, 1)\n",
    "\n",
    "    # print(r, pred_pz, pt, pz)\n",
    "    print(pids)"
   ]
  },
  {
   "cell_type": "code",
   "execution_count": null,
   "metadata": {},
   "outputs": [],
   "source": []
  }
 ],
 "metadata": {
  "interpreter": {
   "hash": "03ca6a50b752edba9a34d5783ddc5b2d6b7cf0ebaad7b34aec90b5ffba5acaaf"
  },
  "kernelspec": {
   "display_name": "Python 3.8.12 ('pytorch-cuda')",
   "language": "python",
   "name": "python3"
  },
  "language_info": {
   "codemirror_mode": {
    "name": "ipython",
    "version": 3
   },
   "file_extension": ".py",
   "mimetype": "text/x-python",
   "name": "python",
   "nbconvert_exporter": "python",
   "pygments_lexer": "ipython3",
   "version": "3.8.12"
  },
  "orig_nbformat": 4
 },
 "nbformat": 4,
 "nbformat_minor": 2
}
