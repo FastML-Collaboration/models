{
 "cells": [
  {
   "cell_type": "code",
   "execution_count": 1,
   "id": "1754740c",
   "metadata": {},
   "outputs": [],
   "source": [
    "import numpy as np\n",
    "import tqdm\n",
    "import glob"
   ]
  },
  {
   "cell_type": "code",
   "execution_count": 13,
   "id": "c7421eff",
   "metadata": {},
   "outputs": [],
   "source": [
    "DIR_1 = '/ssd2/giorgian/HFMLNewFiles-hits-1/trigger/1'\n",
    "\n",
    "files = glob.glob(DIR_1 + '/*.npz')\n",
    "# shuffle the files\n",
    "np.random.shuffle(files)"
   ]
  },
  {
   "cell_type": "code",
   "execution_count": 42,
   "id": "1c75dcb9",
   "metadata": {},
   "outputs": [],
   "source": [
    "dphi_max = 0.012193355583173944\n",
    "dz_max =  14.220353082111805\n",
    "#dphi_max = 0.03\n",
    "#dz_max = 200"
   ]
  },
  {
   "cell_type": "code",
   "execution_count": 43,
   "id": "e0417938",
   "metadata": {},
   "outputs": [
    {
     "name": "stderr",
     "output_type": "stream",
     "text": [
      "100%|████████████████████████████████████████████████████████████████████████████████████████████████████████████████████████████████████████████████████████████████████████| 10000/10000 [00:16<00:00, 607.49it/s]\n"
     ]
    }
   ],
   "source": [
    "\n",
    "total_edges = []\n",
    "true_edges = []\n",
    "for file in tqdm.tqdm(files[:10000]):\n",
    "    f = np.load(file)\n",
    "    dphi = np.abs(f['dphi'])\n",
    "    dz = np.abs(f['z_slopes'])\n",
    "    edges = f['edge_index']\n",
    "    pids = f['pid']\n",
    "    selected_edges =  (dphi <= dphi_max) & (dz <= dz_max)\n",
    "    true = (pids[edges[0]] == pids[edges[1]]) &  selected_edges\n",
    "    total_edges.append(np.sum(selected_edges))\n",
    "    true_edges.append(np.sum(true))\n",
    "\n",
    "\n",
    "total_edges = np.array(total_edges)\n",
    "true_edges = np.array(true_edges)"
   ]
  },
  {
   "cell_type": "code",
   "execution_count": 41,
   "id": "962a3cc7",
   "metadata": {},
   "outputs": [
    {
     "data": {
      "text/plain": [
       "0.6765549467828842"
      ]
     },
     "execution_count": 41,
     "metadata": {},
     "output_type": "execute_result"
    }
   ],
   "source": [
    "np.mean(true_edges[total_edges != 0]/total_edges[total_edges != 0])"
   ]
  },
  {
   "cell_type": "code",
   "execution_count": 36,
   "id": "af85d518",
   "metadata": {},
   "outputs": [
    {
     "data": {
      "text/plain": [
       "135.4747"
      ]
     },
     "execution_count": 36,
     "metadata": {},
     "output_type": "execute_result"
    }
   ],
   "source": [
    "np.mean(total_edges)"
   ]
  },
  {
   "cell_type": "code",
   "execution_count": 37,
   "id": "83269611",
   "metadata": {},
   "outputs": [
    {
     "data": {
      "text/plain": [
       "75.1172"
      ]
     },
     "execution_count": 37,
     "metadata": {},
     "output_type": "execute_result"
    }
   ],
   "source": [
    "np.mean(true_edges)"
   ]
  },
  {
   "cell_type": "code",
   "execution_count": null,
   "id": "0c9dd2a2",
   "metadata": {},
   "outputs": [],
   "source": []
  }
 ],
 "metadata": {
  "kernelspec": {
   "display_name": "Python 3 (ipykernel)",
   "language": "python",
   "name": "python3"
  },
  "language_info": {
   "codemirror_mode": {
    "name": "ipython",
    "version": 3
   },
   "file_extension": ".py",
   "mimetype": "text/x-python",
   "name": "python",
   "nbconvert_exporter": "python",
   "pygments_lexer": "ipython3",
   "version": "3.10.9"
  }
 },
 "nbformat": 4,
 "nbformat_minor": 5
}
