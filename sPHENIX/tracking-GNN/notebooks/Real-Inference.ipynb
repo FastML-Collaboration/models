{
 "cells": [
  {
   "cell_type": "code",
   "execution_count": 3,
   "id": "29e29016-294a-46b0-8e61-04b0aec08e9b",
   "metadata": {},
   "outputs": [
    {
     "name": "stdout",
     "output_type": "stream",
     "text": [
      "/home1/giorgian/projects/trigger-detection-pipeline/sPHENIX/tracking-GNN\n"
     ]
    }
   ],
   "source": [
    "%cd /home1/giorgian/projects/trigger-detection-pipeline/sPHENIX/tracking-GNN"
   ]
  },
  {
   "cell_type": "code",
   "execution_count": 4,
   "id": "fd3c1658",
   "metadata": {},
   "outputs": [],
   "source": [
    "from dataclasses import replace\n",
    "import numpy as np\n",
    "import os\n",
    "import torch\n",
    "import matplotlib.pyplot as plt\n",
    "import os.path\n",
    "import sys\n",
    "import logging\n",
    "import pickle\n",
    "from collections import defaultdict\n",
    "from sklearn.linear_model import LinearRegression\n",
    "from models.garnet_trigger import GNNGraphClassifier\n",
    "from numpy.linalg import inv\n",
    "import sklearn.metrics as metrics\n",
    "from datasets import get_data_loaders\n",
    "from tqdm.notebook import tqdm"
   ]
  },
  {
   "cell_type": "code",
   "execution_count": 5,
   "id": "a1a9e077",
   "metadata": {},
   "outputs": [],
   "source": [
    "DEVICE = \"cuda:0\""
   ]
  },
  {
   "cell_type": "code",
   "execution_count": 6,
   "id": "eb5ddd62",
   "metadata": {},
   "outputs": [
    {
     "name": "stdout",
     "output_type": "stream",
     "text": [
      "../tracking_results/agnn/agnn-lr0.003039158491105233-b12-d64-PReLU-gi3-ln-True-n40000/experiment_2024-11-09_23:30:24/checkpoints/model_checkpoint_006.pth.tar\n"
     ]
    },
    {
     "name": "stderr",
     "output_type": "stream",
     "text": [
      "/tmp/ipykernel_1734940/2215513823.py:13: FutureWarning: You are using `torch.load` with `weights_only=False` (the current default value), which uses the default pickle module implicitly. It is possible to construct malicious pickle data which will execute arbitrary code during unpickling (See https://github.com/pytorch/pytorch/blob/main/SECURITY.md#untrusted-models for more details). In a future release, the default value for `weights_only` will be flipped to `True`. This limits the functions that could be executed during unpickling. Arbitrary objects will no longer be allowed to be loaded via this mode unless they are explicitly allowlisted by the user via `torch.serialization.add_safe_globals`. We recommend you start setting `weights_only=True` for any use case where you don't have full control of the loaded file. Please open an issue on GitHub for any issues related to this experimental feature.\n",
      "  checkpoint = torch.load(checkpoint_file, map_location=torch.device('cpu'))\n"
     ]
    },
    {
     "ename": "RuntimeError",
     "evalue": "Error(s) in loading state_dict for GNNGraphClassifier:\n\tMissing key(s) in state_dict: \"node_network.network.module_0.transform_in.weight\", \"node_network.network.module_0.transform_in.bias\", \"node_network.network.module_0.aggregator_score.weight\", \"node_network.network.module_0.aggregator_score.bias\", \"node_network.network.module_0.transform_out.0.weight\", \"node_network.network.module_0.transform_out.0.bias\", \"node_network.network.module_0.transform_out.1.weight\", \"node_network.network.module_1.weight\", \"node_network.network.module_1.bias\", \"node_network.network.module_2.transform_in.weight\", \"node_network.network.module_2.transform_in.bias\", \"node_network.network.module_2.aggregator_score.weight\", \"node_network.network.module_2.aggregator_score.bias\", \"node_network.network.module_2.transform_out.0.weight\", \"node_network.network.module_2.transform_out.0.bias\", \"node_network.network.module_2.transform_out.1.weight\", \"node_network.network.module_3.weight\", \"node_network.network.module_3.bias\", \"node_network.network.module_4.transform_in.weight\", \"node_network.network.module_4.transform_in.bias\", \"node_network.network.module_4.aggregator_score.weight\", \"node_network.network.module_4.aggregator_score.bias\", \"node_network.network.module_4.transform_out.0.weight\", \"node_network.network.module_4.transform_out.0.bias\", \"node_network.network.module_4.transform_out.1.weight\", \"node_network.network.module_5.weight\", \"node_network.network.module_5.bias\", \"graph_pred_mlp.0.weight\", \"graph_pred_mlp.0.bias\", \"graph_pred_mlp.1.weight\", \"graph_pred_mlp.1.bias\", \"graph_pred_mlp.2.weight\", \"graph_pred_mlp.3.weight\", \"graph_pred_mlp.3.bias\", \"graph_pred_mlp.4.weight\", \"graph_pred_mlp.4.bias\", \"graph_pred_mlp.5.weight\", \"graph_pred_mlp.6.weight\", \"graph_pred_mlp.6.bias\", \"graph_pred_mlp.7.weight\", \"graph_pred_mlp.7.bias\", \"graph_pred_mlp.8.weight\", \"graph_pred_mlp.9.weight\", \"graph_pred_mlp.9.bias\". \n\tUnexpected key(s) in state_dict: \"edge_network.network.0.weight\", \"edge_network.network.0.bias\", \"edge_network.network.1.weight\", \"edge_network.network.1.bias\", \"edge_network.network.2.weight\", \"edge_network.network.3.weight\", \"edge_network.network.3.bias\", \"edge_network.network.4.weight\", \"edge_network.network.4.bias\", \"edge_network.network.5.weight\", \"edge_network.network.6.weight\", \"edge_network.network.6.bias\", \"edge_network.network.7.weight\", \"edge_network.network.7.bias\", \"edge_network.network.8.weight\", \"edge_network.network.9.weight\", \"edge_network.network.9.bias\", \"node_network.network.0.weight\", \"node_network.network.0.bias\", \"node_network.network.1.weight\", \"node_network.network.1.bias\", \"node_network.network.2.weight\", \"node_network.network.3.weight\", \"node_network.network.3.bias\", \"node_network.network.4.weight\", \"node_network.network.4.bias\", \"node_network.network.5.weight\", \"node_network.network.6.weight\", \"node_network.network.6.bias\", \"node_network.network.7.weight\", \"node_network.network.7.bias\", \"node_network.network.8.weight\", \"node_network.network.9.weight\", \"node_network.network.9.bias\", \"node_network.network.10.weight\", \"node_network.network.10.bias\", \"node_network.network.11.weight\". ",
     "output_type": "error",
     "traceback": [
      "\u001b[0;31m---------------------------------------------------------------------------\u001b[0m",
      "\u001b[0;31mRuntimeError\u001b[0m                              Traceback (most recent call last)",
      "Cell \u001b[0;32mIn[6], line 25\u001b[0m\n\u001b[1;32m     23\u001b[0m checkpoint_file \u001b[38;5;241m=\u001b[39m checkpoint_file[\u001b[38;5;241m-\u001b[39m\u001b[38;5;241m1\u001b[39m]\n\u001b[1;32m     24\u001b[0m \u001b[38;5;28mprint\u001b[39m(checkpoint_file)\n\u001b[0;32m---> 25\u001b[0m model \u001b[38;5;241m=\u001b[39m load_checkpoint(checkpoint_file, model)\n\u001b[1;32m     26\u001b[0m \u001b[38;5;28mprint\u001b[39m(\u001b[38;5;124m'\u001b[39m\u001b[38;5;124mSuccessfully reloaded!\u001b[39m\u001b[38;5;124m'\u001b[39m)\n",
      "Cell \u001b[0;32mIn[6], line 14\u001b[0m, in \u001b[0;36mload_checkpoint\u001b[0;34m(checkpoint_file, model, optimizer)\u001b[0m\n\u001b[1;32m     12\u001b[0m \u001b[38;5;28;01mdef\u001b[39;00m \u001b[38;5;21mload_checkpoint\u001b[39m(checkpoint_file, model, optimizer\u001b[38;5;241m=\u001b[39m\u001b[38;5;28;01mNone\u001b[39;00m):\n\u001b[1;32m     13\u001b[0m     checkpoint \u001b[38;5;241m=\u001b[39m torch\u001b[38;5;241m.\u001b[39mload(checkpoint_file, map_location\u001b[38;5;241m=\u001b[39mtorch\u001b[38;5;241m.\u001b[39mdevice(\u001b[38;5;124m'\u001b[39m\u001b[38;5;124mcpu\u001b[39m\u001b[38;5;124m'\u001b[39m))\n\u001b[0;32m---> 14\u001b[0m     model\u001b[38;5;241m.\u001b[39mload_state_dict(checkpoint[\u001b[38;5;124m'\u001b[39m\u001b[38;5;124mmodel\u001b[39m\u001b[38;5;124m'\u001b[39m])\n\u001b[1;32m     15\u001b[0m     \u001b[38;5;28;01mif\u001b[39;00m optimizer \u001b[38;5;241m!=\u001b[39m \u001b[38;5;28;01mNone\u001b[39;00m:\n\u001b[1;32m     16\u001b[0m         optimizer\u001b[38;5;241m.\u001b[39mload_state_dict(checkpoint[\u001b[38;5;124m'\u001b[39m\u001b[38;5;124moptimizer\u001b[39m\u001b[38;5;124m'\u001b[39m])\n",
      "File \u001b[0;32m~/anaconda3/envs/jupyter/lib/python3.12/site-packages/torch/nn/modules/module.py:2215\u001b[0m, in \u001b[0;36mModule.load_state_dict\u001b[0;34m(self, state_dict, strict, assign)\u001b[0m\n\u001b[1;32m   2210\u001b[0m         error_msgs\u001b[38;5;241m.\u001b[39minsert(\n\u001b[1;32m   2211\u001b[0m             \u001b[38;5;241m0\u001b[39m, \u001b[38;5;124m'\u001b[39m\u001b[38;5;124mMissing key(s) in state_dict: \u001b[39m\u001b[38;5;132;01m{}\u001b[39;00m\u001b[38;5;124m. \u001b[39m\u001b[38;5;124m'\u001b[39m\u001b[38;5;241m.\u001b[39mformat(\n\u001b[1;32m   2212\u001b[0m                 \u001b[38;5;124m'\u001b[39m\u001b[38;5;124m, \u001b[39m\u001b[38;5;124m'\u001b[39m\u001b[38;5;241m.\u001b[39mjoin(\u001b[38;5;124mf\u001b[39m\u001b[38;5;124m'\u001b[39m\u001b[38;5;124m\"\u001b[39m\u001b[38;5;132;01m{\u001b[39;00mk\u001b[38;5;132;01m}\u001b[39;00m\u001b[38;5;124m\"\u001b[39m\u001b[38;5;124m'\u001b[39m \u001b[38;5;28;01mfor\u001b[39;00m k \u001b[38;5;129;01min\u001b[39;00m missing_keys)))\n\u001b[1;32m   2214\u001b[0m \u001b[38;5;28;01mif\u001b[39;00m \u001b[38;5;28mlen\u001b[39m(error_msgs) \u001b[38;5;241m>\u001b[39m \u001b[38;5;241m0\u001b[39m:\n\u001b[0;32m-> 2215\u001b[0m     \u001b[38;5;28;01mraise\u001b[39;00m \u001b[38;5;167;01mRuntimeError\u001b[39;00m(\u001b[38;5;124m'\u001b[39m\u001b[38;5;124mError(s) in loading state_dict for \u001b[39m\u001b[38;5;132;01m{}\u001b[39;00m\u001b[38;5;124m:\u001b[39m\u001b[38;5;130;01m\\n\u001b[39;00m\u001b[38;5;130;01m\\t\u001b[39;00m\u001b[38;5;132;01m{}\u001b[39;00m\u001b[38;5;124m'\u001b[39m\u001b[38;5;241m.\u001b[39mformat(\n\u001b[1;32m   2216\u001b[0m                        \u001b[38;5;28mself\u001b[39m\u001b[38;5;241m.\u001b[39m\u001b[38;5;18m__class__\u001b[39m\u001b[38;5;241m.\u001b[39m\u001b[38;5;18m__name__\u001b[39m, \u001b[38;5;124m\"\u001b[39m\u001b[38;5;130;01m\\n\u001b[39;00m\u001b[38;5;130;01m\\t\u001b[39;00m\u001b[38;5;124m\"\u001b[39m\u001b[38;5;241m.\u001b[39mjoin(error_msgs)))\n\u001b[1;32m   2217\u001b[0m \u001b[38;5;28;01mreturn\u001b[39;00m _IncompatibleKeys(missing_keys, unexpected_keys)\n",
      "\u001b[0;31mRuntimeError\u001b[0m: Error(s) in loading state_dict for GNNGraphClassifier:\n\tMissing key(s) in state_dict: \"node_network.network.module_0.transform_in.weight\", \"node_network.network.module_0.transform_in.bias\", \"node_network.network.module_0.aggregator_score.weight\", \"node_network.network.module_0.aggregator_score.bias\", \"node_network.network.module_0.transform_out.0.weight\", \"node_network.network.module_0.transform_out.0.bias\", \"node_network.network.module_0.transform_out.1.weight\", \"node_network.network.module_1.weight\", \"node_network.network.module_1.bias\", \"node_network.network.module_2.transform_in.weight\", \"node_network.network.module_2.transform_in.bias\", \"node_network.network.module_2.aggregator_score.weight\", \"node_network.network.module_2.aggregator_score.bias\", \"node_network.network.module_2.transform_out.0.weight\", \"node_network.network.module_2.transform_out.0.bias\", \"node_network.network.module_2.transform_out.1.weight\", \"node_network.network.module_3.weight\", \"node_network.network.module_3.bias\", \"node_network.network.module_4.transform_in.weight\", \"node_network.network.module_4.transform_in.bias\", \"node_network.network.module_4.aggregator_score.weight\", \"node_network.network.module_4.aggregator_score.bias\", \"node_network.network.module_4.transform_out.0.weight\", \"node_network.network.module_4.transform_out.0.bias\", \"node_network.network.module_4.transform_out.1.weight\", \"node_network.network.module_5.weight\", \"node_network.network.module_5.bias\", \"graph_pred_mlp.0.weight\", \"graph_pred_mlp.0.bias\", \"graph_pred_mlp.1.weight\", \"graph_pred_mlp.1.bias\", \"graph_pred_mlp.2.weight\", \"graph_pred_mlp.3.weight\", \"graph_pred_mlp.3.bias\", \"graph_pred_mlp.4.weight\", \"graph_pred_mlp.4.bias\", \"graph_pred_mlp.5.weight\", \"graph_pred_mlp.6.weight\", \"graph_pred_mlp.6.bias\", \"graph_pred_mlp.7.weight\", \"graph_pred_mlp.7.bias\", \"graph_pred_mlp.8.weight\", \"graph_pred_mlp.9.weight\", \"graph_pred_mlp.9.bias\". \n\tUnexpected key(s) in state_dict: \"edge_network.network.0.weight\", \"edge_network.network.0.bias\", \"edge_network.network.1.weight\", \"edge_network.network.1.bias\", \"edge_network.network.2.weight\", \"edge_network.network.3.weight\", \"edge_network.network.3.bias\", \"edge_network.network.4.weight\", \"edge_network.network.4.bias\", \"edge_network.network.5.weight\", \"edge_network.network.6.weight\", \"edge_network.network.6.bias\", \"edge_network.network.7.weight\", \"edge_network.network.7.bias\", \"edge_network.network.8.weight\", \"edge_network.network.9.weight\", \"edge_network.network.9.bias\", \"node_network.network.0.weight\", \"node_network.network.0.bias\", \"node_network.network.1.weight\", \"node_network.network.1.bias\", \"node_network.network.2.weight\", \"node_network.network.3.weight\", \"node_network.network.3.bias\", \"node_network.network.4.weight\", \"node_network.network.4.bias\", \"node_network.network.5.weight\", \"node_network.network.6.weight\", \"node_network.network.6.bias\", \"node_network.network.7.weight\", \"node_network.network.7.bias\", \"node_network.network.8.weight\", \"node_network.network.9.weight\", \"node_network.network.9.bias\", \"node_network.network.10.weight\", \"node_network.network.10.bias\", \"node_network.network.11.weight\". "
     ]
    }
   ],
   "source": [
    "model_result_folder = '../tracking_results/agnn/agnn-lr0.003039158491105233-b12-d64-PReLU-gi3-ln-True-n40000/experiment_2024-11-09_23:30:24'\n",
    "config_file = model_result_folder + '/config.pkl'\n",
    "config = pickle.load(open(config_file, 'rb'))\n",
    "data_config = config.get('data')\n",
    "dphi_max, dz_max = data_config['phi_slope_max'], data_config['z0_max']\n",
    "\n",
    "model_config = config.get('model', {})\n",
    "model_config.pop('loss_func')\n",
    "model_config.pop('name')\n",
    "model = GNNGraphClassifier(**model_config).to(DEVICE)\n",
    "\n",
    "def load_checkpoint(checkpoint_file, model, optimizer=None):\n",
    "    checkpoint = torch.load(checkpoint_file, map_location=torch.device('cpu'))\n",
    "    model.load_state_dict(checkpoint['model'])\n",
    "    if optimizer != None:\n",
    "        optimizer.load_state_dict(checkpoint['optimizer'])\n",
    "        return model, optimizer\n",
    "    return model\n",
    "\n",
    "# load_checkpoint\n",
    "checkpoint_dir = os.path.join(model_result_folder, 'checkpoints')\n",
    "checkpoint_file = sorted([os.path.join(checkpoint_dir, f) for f in os.listdir(checkpoint_dir) if f.startswith('model_checkpoint')])\n",
    "checkpoint_file = checkpoint_file[-1]\n",
    "print(checkpoint_file)\n",
    "model = load_checkpoint(checkpoint_file, model)\n",
    "print('Successfully reloaded!')"
   ]
  },
  {
   "cell_type": "code",
   "execution_count": 4,
   "id": "daf41004",
   "metadata": {},
   "outputs": [],
   "source": [
    "data_config['input_dir'] = '/ssd3/giorgian/hits-data-september-run2024pp/0/'\n",
    "data_config['n_folders'] = 1\n",
    "data_config['n_mix'] = 1\n",
    "data_config['n_train'] = 13955\n",
    "data_config['n_valid'] = 0\n",
    "data_config['batch_size'] = 1"
   ]
  },
  {
   "cell_type": "code",
   "execution_count": 5,
   "id": "c3716b62",
   "metadata": {},
   "outputs": [
    {
     "data": {
      "text/plain": [
       "{'batch_size': 1,\n",
       " 'construct_edges': False,\n",
       " 'input_dir': '/ssd3/giorgian/hits-data-september-run2024pp/0/',\n",
       " 'input_dir2': '/ssd2/giorgian/hits-data-august-2022/nontrigger/0/',\n",
       " 'load_full_event': False,\n",
       " 'n_folders': 1,\n",
       " 'n_mix': 1,\n",
       " 'n_train': 13955,\n",
       " 'n_valid': 0,\n",
       " 'n_workers': 16,\n",
       " 'name': 'hit_graph_trigger_pileup',\n",
       " 'phi_slope_max': 0.012193355583173944,\n",
       " 'real_weight': 1,\n",
       " 'z0_max': 14.220353082111805}"
      ]
     },
     "execution_count": 5,
     "metadata": {},
     "output_type": "execute_result"
    }
   ],
   "source": [
    "data_config"
   ]
  },
  {
   "cell_type": "code",
   "execution_count": 6,
   "id": "c13f7fab",
   "metadata": {},
   "outputs": [],
   "source": [
    "train_data_loader, valid_data_loader = get_data_loaders(distributed=False, rank=0, n_ranks=0, **data_config)\n"
   ]
  },
  {
   "cell_type": "code",
   "execution_count": 11,
   "id": "38df275e-767e-44b2-bd22-4e0bcbb59a3e",
   "metadata": {},
   "outputs": [],
   "source": [
    "config = pickle.load(open(config_file, 'rb'))\n",
    "data_config = config.get('data')\n",
    "data_config['n_train'] = 13955\n",
    "data_config['n_valid'] = 0\n",
    "data_config['batch_size'] = 1\n",
    "train_data_loader_s, valid_data_loader_s = get_data_loaders(distributed=False, rank=0, n_ranks=0, **data_config)"
   ]
  },
  {
   "cell_type": "code",
   "execution_count": 16,
   "id": "c67c6acc-778b-436c-bab4-0c8a13225064",
   "metadata": {},
   "outputs": [
    {
     "data": {
      "application/vnd.jupyter.widget-view+json": {
       "model_id": "bc0e0379c89d4d7e936b6a548768ed79",
       "version_major": 2,
       "version_minor": 0
      },
      "text/plain": [
       "  0%|          | 0/27910 [00:00<?, ?it/s]"
      ]
     },
     "metadata": {},
     "output_type": "display_data"
    }
   ],
   "source": [
    "preds_s, targets_s = [], []\n",
    "n_hits_s = []\n",
    "sigmoid = torch.nn.Sigmoid()\n",
    "model.eval()\n",
    "for batch in tqdm(train_data_loader_s):\n",
    "    preds_s.append(model(batch.to(DEVICE)).squeeze(0).detach().cpu().numpy())\n",
    "    targets_s.append(batch.trigger.squeeze(0).detach().cpu().numpy())\n",
    "    n_hits_s.append(batch.x.shape[0])"
   ]
  },
  {
   "cell_type": "code",
   "execution_count": 7,
   "id": "34ca631e-3fa7-4c81-9daa-4e8f97e52e96",
   "metadata": {},
   "outputs": [
    {
     "data": {
      "text/plain": [
       "13955"
      ]
     },
     "execution_count": 7,
     "metadata": {},
     "output_type": "execute_result"
    }
   ],
   "source": [
    "len(train_data_loader)"
   ]
  },
  {
   "cell_type": "code",
   "execution_count": 8,
   "id": "4ae0de67",
   "metadata": {},
   "outputs": [
    {
     "data": {
      "application/vnd.jupyter.widget-view+json": {
       "model_id": "678a498e3d10432c862ffb77ef638df6",
       "version_major": 2,
       "version_minor": 0
      },
      "text/plain": [
       "  0%|          | 0/13955 [00:00<?, ?it/s]"
      ]
     },
     "metadata": {},
     "output_type": "display_data"
    },
    {
     "name": "stderr",
     "output_type": "stream",
     "text": [
      "/home1/giorgian/projects/trigger-detection-pipeline/sPHENIX/tracking-GNN/models/garnet_trigger.py:127: UserWarning: The torch.cuda.*DtypeTensor constructors are no longer recommended. It's best to use methods such as torch.tensor(data, dtype=*, device='cuda') to create tensors. (Triggered internally at /opt/conda/conda-bld/pytorch_1724789560443/work/torch/csrc/tensor/python_tensor.cpp:78.)\n",
      "  temp = torch.cuda.FloatTensor(x.shape[0]).fill_(1)\n"
     ]
    }
   ],
   "source": [
    "preds, targets = [], []\n",
    "n_hits = []\n",
    "sigmoid = torch.nn.Sigmoid()\n",
    "model.eval()\n",
    "for batch in tqdm(train_data_loader):\n",
    "    preds.append(model(batch.to(DEVICE)).squeeze(0).detach().cpu().numpy())\n",
    "    targets.append(batch.trigger.squeeze(0).detach().cpu().numpy())\n",
    "    n_hits.append(batch.x.shape[0])"
   ]
  },
  {
   "cell_type": "code",
   "execution_count": 9,
   "id": "d0d4d567-71aa-41c7-9424-33b2eca8e138",
   "metadata": {},
   "outputs": [],
   "source": [
    "n_hits_real = list(n_hits)"
   ]
  },
  {
   "cell_type": "code",
   "execution_count": 20,
   "id": "09916595-c88a-45f6-8883-b856185cfc87",
   "metadata": {},
   "outputs": [
    {
     "data": {
      "text/plain": [
       "(array([  166.,     0.,     0.,     0.,     0.,     0.,     0.,     0.,\n",
       "            0., 13789.]),\n",
       " array([0. , 0.1, 0.2, 0.3, 0.4, 0.5, 0.6, 0.7, 0.8, 0.9, 1. ]),\n",
       " <BarContainer object of 10 artists>)"
      ]
     },
     "execution_count": 20,
     "metadata": {},
     "output_type": "execute_result"
    },
    {
     "data": {
      "image/png": "[encoded data removed]",
      "text/plain": [
       "<Figure size 640x480 with 1 Axes>"
      ]
     },
     "metadata": {},
     "output_type": "display_data"
    }
   ],
   "source": [
    "plt.hist((np.array(preds) > 0).astype(int))"
   ]
  },
  {
   "cell_type": "code",
   "execution_count": 28,
   "id": "eb0b0b30-984b-484f-93d1-77de86fa06d4",
   "metadata": {},
   "outputs": [
    {
     "data": {
      "text/plain": [
       "<matplotlib.legend.Legend at 0x7f3737a6b320>"
      ]
     },
     "execution_count": 28,
     "metadata": {},
     "output_type": "execute_result"
    },
    {
     "data": {
      "image/png": "[encoded data removed]",
      "text/plain": [
       "<Figure size 640x480 with 1 Axes>"
      ]
     },
     "metadata": {},
     "output_type": "display_data"
    }
   ],
   "source": [
    "plt.hist(n_hits_real, density=True, alpha=0.5, label='real data')\n",
    "plt.hist(n_hits_s, density=True, alpha=0.5, label='simulation (10 event pileup)')\n",
    "plt.xlabel('n hits')\n",
    "plt.ylabel('density')\n",
    "plt.legend()"
   ]
  },
  {
   "cell_type": "code",
   "execution_count": 18,
   "id": "82596cb6-efe2-4c6b-a22c-b8b9ab551ce2",
   "metadata": {},
   "outputs": [
    {
     "data": {
      "text/plain": [
       "(array([8.400e+01, 1.132e+03, 4.883e+03, 8.516e+03, 7.774e+03, 4.048e+03,\n",
       "        1.205e+03, 2.280e+02, 3.600e+01, 4.000e+00]),\n",
       " array([ 224.,  334.,  444.,  554.,  664.,  774.,  884.,  994., 1104.,\n",
       "        1214., 1324.]),\n",
       " <BarContainer object of 10 artists>)"
      ]
     },
     "execution_count": 18,
     "metadata": {},
     "output_type": "execute_result"
    },
    {
     "data": {
      "image/png": "[encoded data removed]",
      "text/plain": [
       "<Figure size 640x480 with 1 Axes>"
      ]
     },
     "metadata": {},
     "output_type": "display_data"
    }
   ],
   "source": [
    "plt.hist(n_hits_s)\n",
    "plt"
   ]
  },
  {
   "cell_type": "markdown",
   "id": "c22f8be9-6199-4796-a976-f7d590c9c23b",
   "metadata": {},
   "source": [
    "# "
   ]
  }
 ],
 "metadata": {
  "kernelspec": {
   "display_name": "Python 3 (ipykernel)",
   "language": "python",
   "name": "python3"
  },
  "language_info": {
   "codemirror_mode": {
    "name": "ipython",
    "version": 3
   },
   "file_extension": ".py",
   "mimetype": "text/x-python",
   "name": "python",
   "nbconvert_exporter": "python",
   "pygments_lexer": "ipython3",
   "version": "3.12.4"
  }
 },
 "nbformat": 4,
 "nbformat_minor": 5
}
