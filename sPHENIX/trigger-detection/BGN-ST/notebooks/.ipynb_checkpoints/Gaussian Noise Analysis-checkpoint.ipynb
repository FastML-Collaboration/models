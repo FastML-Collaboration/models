{
 "cells": [
  {
   "cell_type": "code",
   "execution_count": 1,
   "id": "e5e07f95",
   "metadata": {},
   "outputs": [
    {
     "name": "stdout",
     "output_type": "stream",
     "text": [
      "/home1/giorgian/projects/trigger-detection-pipeline/sPHENIX/trigger-detection/BGN-ST\n"
     ]
    }
   ],
   "source": [
    "%cd /home1/giorgian/projects/trigger-detection-pipeline/sPHENIX/trigger-detection/BGN-ST"
   ]
  },
  {
   "cell_type": "code",
   "execution_count": 2,
   "id": "ac12ae7b",
   "metadata": {},
   "outputs": [],
   "source": [
    "import torch\n",
    "import pickle\n",
    "from dataloaders import get_data_loaders\n",
    "import matplotlib.pyplot as plt\n",
    "from utils.log import load_checkpoint\n",
    "from collections import defaultdict\n",
    "from itertools import islice\n",
    "from tqdm.notebook import tqdm\n",
    "from models.Bipartite_Attention_gLRI import Bipartite_Attention as Model\n",
    "import numpy as np\n",
    "import matplotlib.colors as colors\n",
    "from sklearn.cluster import KMeans, OPTICS\n",
    "from scipy.stats import iqr\n",
    "from numpy.linalg import inv\n",
    "import gc"
   ]
  },
  {
   "cell_type": "code",
   "execution_count": 3,
   "id": "8f3d0ff6",
   "metadata": {},
   "outputs": [],
   "source": [
    "# α=0.3\n",
    "config_file_path = 'train_results/biatt-glri-2d/experiment_2023-05-19_21:41:02/config.pkl'\n",
    "#config_file_path = 'train_results/biatt-glri/experiment_2023-02-12_08:24:52/config.pkl'\n",
    "with open(config_file_path, 'rb') as f:\n",
    "    config = pickle.load(f)"
   ]
  },
  {
   "cell_type": "code",
   "execution_count": 4,
   "id": "2aa07472",
   "metadata": {},
   "outputs": [
    {
     "data": {
      "text/plain": [
       "1"
      ]
     },
     "execution_count": 4,
     "metadata": {},
     "output_type": "execute_result"
    }
   ],
   "source": [
    "config['lri']['sigma']"
   ]
  },
  {
   "cell_type": "code",
   "execution_count": 5,
   "id": "7a21d63f",
   "metadata": {},
   "outputs": [
    {
     "data": {
      "text/plain": [
       "3.1233114664420336"
      ]
     },
     "execution_count": 5,
     "metadata": {},
     "output_type": "execute_result"
    }
   ],
   "source": [
    "config['lri']['beta']"
   ]
  },
  {
   "cell_type": "code",
   "execution_count": 10,
   "id": "fb2f8101",
   "metadata": {},
   "outputs": [],
   "source": [
    "dconfig = config['data']\n",
    "dconfig['use_trigger'] = True\n",
    "dconfig['use_nontrigger'] = False\n",
    "#dconfig['use_center'] = False\n",
    "train_data, val_data, test_data = get_data_loaders(**dconfig)"
   ]
  },
  {
   "cell_type": "code",
   "execution_count": 6,
   "id": "a46c9954",
   "metadata": {
    "scrolled": true
   },
   "outputs": [
    {
     "data": {
      "text/plain": [
       "Bipartite_Attention(\n",
       "  (interpreter): Bipartite_Attention(\n",
       "    (_layers): ModuleList(\n",
       "      (0): Bipartite_Layers(\n",
       "        (enc): ModuleList(\n",
       "          (0): Masked_SAB(\n",
       "            (mab): Masked_MAB(\n",
       "              (fc_q): Linear(in_features=32, out_features=128, bias=True)\n",
       "              (fc_k): Linear(in_features=32, out_features=128, bias=True)\n",
       "              (fc_v): Linear(in_features=32, out_features=128, bias=True)\n",
       "              (fc_o): Linear(in_features=128, out_features=128, bias=True)\n",
       "              (ln0): Masked_LayerNorm(\n",
       "                (ln): LayerNorm((128,), eps=1e-05, elementwise_affine=True)\n",
       "              )\n",
       "              (ln1): Masked_LayerNorm(\n",
       "                (ln): LayerNorm((128,), eps=1e-05, elementwise_affine=True)\n",
       "              )\n",
       "            )\n",
       "          )\n",
       "          (1): Masked_SAB(\n",
       "            (mab): Masked_MAB(\n",
       "              (fc_q): Linear(in_features=128, out_features=128, bias=True)\n",
       "              (fc_k): Linear(in_features=128, out_features=128, bias=True)\n",
       "              (fc_v): Linear(in_features=128, out_features=128, bias=True)\n",
       "              (fc_o): Linear(in_features=128, out_features=128, bias=True)\n",
       "              (ln0): Masked_LayerNorm(\n",
       "                (ln): LayerNorm((128,), eps=1e-05, elementwise_affine=True)\n",
       "              )\n",
       "              (ln1): Masked_LayerNorm(\n",
       "                (ln): LayerNorm((128,), eps=1e-05, elementwise_affine=True)\n",
       "              )\n",
       "            )\n",
       "          )\n",
       "        )\n",
       "        (transform_in): Linear(in_features=128, out_features=128, bias=True)\n",
       "        (aggregator_score): Linear(in_features=128, out_features=8, bias=True)\n",
       "        (transform_out): Sequential(\n",
       "          (0): Linear(in_features=2208, out_features=128, bias=True)\n",
       "          (1): LayerNorm((128,), eps=1e-05, elementwise_affine=True)\n",
       "          (2): PReLU(num_parameters=1)\n",
       "        )\n",
       "      )\n",
       "      (1): Bipartite_Layers(\n",
       "        (enc): ModuleList(\n",
       "          (0): Masked_SAB(\n",
       "            (mab): Masked_MAB(\n",
       "              (fc_q): Linear(in_features=128, out_features=128, bias=True)\n",
       "              (fc_k): Linear(in_features=128, out_features=128, bias=True)\n",
       "              (fc_v): Linear(in_features=128, out_features=128, bias=True)\n",
       "              (fc_o): Linear(in_features=128, out_features=128, bias=True)\n",
       "              (ln0): Masked_LayerNorm(\n",
       "                (ln): LayerNorm((128,), eps=1e-05, elementwise_affine=True)\n",
       "              )\n",
       "              (ln1): Masked_LayerNorm(\n",
       "                (ln): LayerNorm((128,), eps=1e-05, elementwise_affine=True)\n",
       "              )\n",
       "            )\n",
       "          )\n",
       "          (1): Masked_SAB(\n",
       "            (mab): Masked_MAB(\n",
       "              (fc_q): Linear(in_features=128, out_features=128, bias=True)\n",
       "              (fc_k): Linear(in_features=128, out_features=128, bias=True)\n",
       "              (fc_v): Linear(in_features=128, out_features=128, bias=True)\n",
       "              (fc_o): Linear(in_features=128, out_features=128, bias=True)\n",
       "              (ln0): Masked_LayerNorm(\n",
       "                (ln): LayerNorm((128,), eps=1e-05, elementwise_affine=True)\n",
       "              )\n",
       "              (ln1): Masked_LayerNorm(\n",
       "                (ln): LayerNorm((128,), eps=1e-05, elementwise_affine=True)\n",
       "              )\n",
       "            )\n",
       "          )\n",
       "        )\n",
       "        (transform_in): Linear(in_features=128, out_features=128, bias=True)\n",
       "        (aggregator_score): Linear(in_features=128, out_features=8, bias=True)\n",
       "        (transform_out): Sequential(\n",
       "          (0): Linear(in_features=2304, out_features=128, bias=True)\n",
       "          (1): LayerNorm((128,), eps=1e-05, elementwise_affine=True)\n",
       "          (2): PReLU(num_parameters=1)\n",
       "        )\n",
       "      )\n",
       "      (2): Bipartite_Layers(\n",
       "        (enc): ModuleList(\n",
       "          (0): Masked_SAB(\n",
       "            (mab): Masked_MAB(\n",
       "              (fc_q): Linear(in_features=128, out_features=128, bias=True)\n",
       "              (fc_k): Linear(in_features=128, out_features=128, bias=True)\n",
       "              (fc_v): Linear(in_features=128, out_features=128, bias=True)\n",
       "              (fc_o): Linear(in_features=128, out_features=128, bias=True)\n",
       "              (ln0): Masked_LayerNorm(\n",
       "                (ln): LayerNorm((128,), eps=1e-05, elementwise_affine=True)\n",
       "              )\n",
       "              (ln1): Masked_LayerNorm(\n",
       "                (ln): LayerNorm((128,), eps=1e-05, elementwise_affine=True)\n",
       "              )\n",
       "            )\n",
       "          )\n",
       "          (1): Masked_SAB(\n",
       "            (mab): Masked_MAB(\n",
       "              (fc_q): Linear(in_features=128, out_features=128, bias=True)\n",
       "              (fc_k): Linear(in_features=128, out_features=128, bias=True)\n",
       "              (fc_v): Linear(in_features=128, out_features=128, bias=True)\n",
       "              (fc_o): Linear(in_features=128, out_features=128, bias=True)\n",
       "              (ln0): Masked_LayerNorm(\n",
       "                (ln): LayerNorm((128,), eps=1e-05, elementwise_affine=True)\n",
       "              )\n",
       "              (ln1): Masked_LayerNorm(\n",
       "                (ln): LayerNorm((128,), eps=1e-05, elementwise_affine=True)\n",
       "              )\n",
       "            )\n",
       "          )\n",
       "        )\n",
       "        (transform_in): Linear(in_features=128, out_features=128, bias=True)\n",
       "        (aggregator_score): Linear(in_features=128, out_features=8, bias=True)\n",
       "        (transform_out): Sequential(\n",
       "          (0): Linear(in_features=2304, out_features=128, bias=True)\n",
       "          (1): LayerNorm((128,), eps=1e-05, elementwise_affine=True)\n",
       "          (2): PReLU(num_parameters=1)\n",
       "        )\n",
       "      )\n",
       "      (3): Bipartite_Layers(\n",
       "        (enc): ModuleList(\n",
       "          (0): Masked_SAB(\n",
       "            (mab): Masked_MAB(\n",
       "              (fc_q): Linear(in_features=128, out_features=128, bias=True)\n",
       "              (fc_k): Linear(in_features=128, out_features=128, bias=True)\n",
       "              (fc_v): Linear(in_features=128, out_features=128, bias=True)\n",
       "              (fc_o): Linear(in_features=128, out_features=128, bias=True)\n",
       "              (ln0): Masked_LayerNorm(\n",
       "                (ln): LayerNorm((128,), eps=1e-05, elementwise_affine=True)\n",
       "              )\n",
       "              (ln1): Masked_LayerNorm(\n",
       "                (ln): LayerNorm((128,), eps=1e-05, elementwise_affine=True)\n",
       "              )\n",
       "            )\n",
       "          )\n",
       "          (1): Masked_SAB(\n",
       "            (mab): Masked_MAB(\n",
       "              (fc_q): Linear(in_features=128, out_features=128, bias=True)\n",
       "              (fc_k): Linear(in_features=128, out_features=128, bias=True)\n",
       "              (fc_v): Linear(in_features=128, out_features=128, bias=True)\n",
       "              (fc_o): Linear(in_features=128, out_features=128, bias=True)\n",
       "              (ln0): Masked_LayerNorm(\n",
       "                (ln): LayerNorm((128,), eps=1e-05, elementwise_affine=True)\n",
       "              )\n",
       "              (ln1): Masked_LayerNorm(\n",
       "                (ln): LayerNorm((128,), eps=1e-05, elementwise_affine=True)\n",
       "              )\n",
       "            )\n",
       "          )\n",
       "        )\n",
       "        (transform_in): Linear(in_features=128, out_features=128, bias=True)\n",
       "        (aggregator_score): Linear(in_features=128, out_features=8, bias=True)\n",
       "        (transform_out): Sequential(\n",
       "          (0): Linear(in_features=2304, out_features=128, bias=True)\n",
       "          (1): LayerNorm((128,), eps=1e-05, elementwise_affine=True)\n",
       "          (2): PReLU(num_parameters=1)\n",
       "        )\n",
       "      )\n",
       "      (4): Bipartite_Layers(\n",
       "        (enc): ModuleList(\n",
       "          (0): Masked_SAB(\n",
       "            (mab): Masked_MAB(\n",
       "              (fc_q): Linear(in_features=128, out_features=128, bias=True)\n",
       "              (fc_k): Linear(in_features=128, out_features=128, bias=True)\n",
       "              (fc_v): Linear(in_features=128, out_features=128, bias=True)\n",
       "              (fc_o): Linear(in_features=128, out_features=128, bias=True)\n",
       "              (ln0): Masked_LayerNorm(\n",
       "                (ln): LayerNorm((128,), eps=1e-05, elementwise_affine=True)\n",
       "              )\n",
       "              (ln1): Masked_LayerNorm(\n",
       "                (ln): LayerNorm((128,), eps=1e-05, elementwise_affine=True)\n",
       "              )\n",
       "            )\n",
       "          )\n",
       "          (1): Masked_SAB(\n",
       "            (mab): Masked_MAB(\n",
       "              (fc_q): Linear(in_features=128, out_features=128, bias=True)\n",
       "              (fc_k): Linear(in_features=128, out_features=128, bias=True)\n",
       "              (fc_v): Linear(in_features=128, out_features=128, bias=True)\n",
       "              (fc_o): Linear(in_features=128, out_features=128, bias=True)\n",
       "              (ln0): Masked_LayerNorm(\n",
       "                (ln): LayerNorm((128,), eps=1e-05, elementwise_affine=True)\n",
       "              )\n",
       "              (ln1): Masked_LayerNorm(\n",
       "                (ln): LayerNorm((128,), eps=1e-05, elementwise_affine=True)\n",
       "              )\n",
       "            )\n",
       "          )\n",
       "        )\n",
       "        (transform_in): Linear(in_features=128, out_features=128, bias=True)\n",
       "        (aggregator_score): Linear(in_features=128, out_features=8, bias=True)\n",
       "        (transform_out): Sequential(\n",
       "          (0): Linear(in_features=2304, out_features=128, bias=True)\n",
       "          (1): LayerNorm((128,), eps=1e-05, elementwise_affine=True)\n",
       "          (2): PReLU(num_parameters=1)\n",
       "        )\n",
       "      )\n",
       "      (5): Bipartite_Layers(\n",
       "        (enc): ModuleList(\n",
       "          (0): Masked_SAB(\n",
       "            (mab): Masked_MAB(\n",
       "              (fc_q): Linear(in_features=128, out_features=128, bias=True)\n",
       "              (fc_k): Linear(in_features=128, out_features=128, bias=True)\n",
       "              (fc_v): Linear(in_features=128, out_features=128, bias=True)\n",
       "              (fc_o): Linear(in_features=128, out_features=128, bias=True)\n",
       "              (ln0): Masked_LayerNorm(\n",
       "                (ln): LayerNorm((128,), eps=1e-05, elementwise_affine=True)\n",
       "              )\n",
       "              (ln1): Masked_LayerNorm(\n",
       "                (ln): LayerNorm((128,), eps=1e-05, elementwise_affine=True)\n",
       "              )\n",
       "            )\n",
       "          )\n",
       "          (1): Masked_SAB(\n",
       "            (mab): Masked_MAB(\n",
       "              (fc_q): Linear(in_features=128, out_features=128, bias=True)\n",
       "              (fc_k): Linear(in_features=128, out_features=128, bias=True)\n",
       "              (fc_v): Linear(in_features=128, out_features=128, bias=True)\n",
       "              (fc_o): Linear(in_features=128, out_features=128, bias=True)\n",
       "              (ln0): Masked_LayerNorm(\n",
       "                (ln): LayerNorm((128,), eps=1e-05, elementwise_affine=True)\n",
       "              )\n",
       "              (ln1): Masked_LayerNorm(\n",
       "                (ln): LayerNorm((128,), eps=1e-05, elementwise_affine=True)\n",
       "              )\n",
       "            )\n",
       "          )\n",
       "        )\n",
       "        (transform_in): Linear(in_features=128, out_features=128, bias=True)\n",
       "        (aggregator_score): Linear(in_features=128, out_features=8, bias=True)\n",
       "        (transform_out): Sequential(\n",
       "          (0): Linear(in_features=2304, out_features=128, bias=True)\n",
       "          (1): LayerNorm((128,), eps=1e-05, elementwise_affine=True)\n",
       "          (2): PReLU(num_parameters=1)\n",
       "        )\n",
       "      )\n",
       "    )\n",
       "    (convert): Sequential(\n",
       "      (0): Linear(in_features=128, out_features=256, bias=True)\n",
       "      (1): LayerNorm((256,), eps=1e-05, elementwise_affine=True)\n",
       "      (2): PReLU(num_parameters=1)\n",
       "    )\n",
       "    (_pred_layers): ModuleList(\n",
       "      (0): Linear(in_features=256, out_features=256, bias=True)\n",
       "      (1): Masked_LayerNorm(\n",
       "        (ln): LayerNorm((256,), eps=1e-05, elementwise_affine=True)\n",
       "      )\n",
       "      (2): PReLU(num_parameters=1)\n",
       "      (3): Linear(in_features=256, out_features=2, bias=True)\n",
       "    )\n",
       "  )\n",
       "  (classifier): Bipartite_Attention(\n",
       "    (_layers): ModuleList(\n",
       "      (0): Bipartite_Layers(\n",
       "        (enc): ModuleList(\n",
       "          (0): Masked_SAB(\n",
       "            (mab): Masked_MAB(\n",
       "              (fc_q): Linear(in_features=32, out_features=128, bias=True)\n",
       "              (fc_k): Linear(in_features=32, out_features=128, bias=True)\n",
       "              (fc_v): Linear(in_features=32, out_features=128, bias=True)\n",
       "              (fc_o): Linear(in_features=128, out_features=128, bias=True)\n",
       "              (ln0): Masked_LayerNorm(\n",
       "                (ln): LayerNorm((128,), eps=1e-05, elementwise_affine=True)\n",
       "              )\n",
       "              (ln1): Masked_LayerNorm(\n",
       "                (ln): LayerNorm((128,), eps=1e-05, elementwise_affine=True)\n",
       "              )\n",
       "            )\n",
       "          )\n",
       "          (1): Masked_SAB(\n",
       "            (mab): Masked_MAB(\n",
       "              (fc_q): Linear(in_features=128, out_features=128, bias=True)\n",
       "              (fc_k): Linear(in_features=128, out_features=128, bias=True)\n",
       "              (fc_v): Linear(in_features=128, out_features=128, bias=True)\n",
       "              (fc_o): Linear(in_features=128, out_features=128, bias=True)\n",
       "              (ln0): Masked_LayerNorm(\n",
       "                (ln): LayerNorm((128,), eps=1e-05, elementwise_affine=True)\n",
       "              )\n",
       "              (ln1): Masked_LayerNorm(\n",
       "                (ln): LayerNorm((128,), eps=1e-05, elementwise_affine=True)\n",
       "              )\n",
       "            )\n",
       "          )\n",
       "        )\n",
       "        (transform_in): Linear(in_features=128, out_features=128, bias=True)\n",
       "        (aggregator_score): Linear(in_features=128, out_features=8, bias=True)\n",
       "        (transform_out): Sequential(\n",
       "          (0): Linear(in_features=2208, out_features=128, bias=True)\n",
       "          (1): LayerNorm((128,), eps=1e-05, elementwise_affine=True)\n",
       "          (2): PReLU(num_parameters=1)\n",
       "        )\n",
       "      )\n",
       "      (1): Bipartite_Layers(\n",
       "        (enc): ModuleList(\n",
       "          (0): Masked_SAB(\n",
       "            (mab): Masked_MAB(\n",
       "              (fc_q): Linear(in_features=128, out_features=128, bias=True)\n",
       "              (fc_k): Linear(in_features=128, out_features=128, bias=True)\n",
       "              (fc_v): Linear(in_features=128, out_features=128, bias=True)\n",
       "              (fc_o): Linear(in_features=128, out_features=128, bias=True)\n",
       "              (ln0): Masked_LayerNorm(\n",
       "                (ln): LayerNorm((128,), eps=1e-05, elementwise_affine=True)\n",
       "              )\n",
       "              (ln1): Masked_LayerNorm(\n",
       "                (ln): LayerNorm((128,), eps=1e-05, elementwise_affine=True)\n",
       "              )\n",
       "            )\n",
       "          )\n",
       "          (1): Masked_SAB(\n",
       "            (mab): Masked_MAB(\n",
       "              (fc_q): Linear(in_features=128, out_features=128, bias=True)\n",
       "              (fc_k): Linear(in_features=128, out_features=128, bias=True)\n",
       "              (fc_v): Linear(in_features=128, out_features=128, bias=True)\n",
       "              (fc_o): Linear(in_features=128, out_features=128, bias=True)\n",
       "              (ln0): Masked_LayerNorm(\n",
       "                (ln): LayerNorm((128,), eps=1e-05, elementwise_affine=True)\n",
       "              )\n",
       "              (ln1): Masked_LayerNorm(\n",
       "                (ln): LayerNorm((128,), eps=1e-05, elementwise_affine=True)\n",
       "              )\n",
       "            )\n",
       "          )\n",
       "        )\n",
       "        (transform_in): Linear(in_features=128, out_features=128, bias=True)\n",
       "        (aggregator_score): Linear(in_features=128, out_features=8, bias=True)\n",
       "        (transform_out): Sequential(\n",
       "          (0): Linear(in_features=2304, out_features=128, bias=True)\n",
       "          (1): LayerNorm((128,), eps=1e-05, elementwise_affine=True)\n",
       "          (2): PReLU(num_parameters=1)\n",
       "        )\n",
       "      )\n",
       "      (2): Bipartite_Layers(\n",
       "        (enc): ModuleList(\n",
       "          (0): Masked_SAB(\n",
       "            (mab): Masked_MAB(\n",
       "              (fc_q): Linear(in_features=128, out_features=128, bias=True)\n",
       "              (fc_k): Linear(in_features=128, out_features=128, bias=True)\n",
       "              (fc_v): Linear(in_features=128, out_features=128, bias=True)\n",
       "              (fc_o): Linear(in_features=128, out_features=128, bias=True)\n",
       "              (ln0): Masked_LayerNorm(\n",
       "                (ln): LayerNorm((128,), eps=1e-05, elementwise_affine=True)\n",
       "              )\n",
       "              (ln1): Masked_LayerNorm(\n",
       "                (ln): LayerNorm((128,), eps=1e-05, elementwise_affine=True)\n",
       "              )\n",
       "            )\n",
       "          )\n",
       "          (1): Masked_SAB(\n",
       "            (mab): Masked_MAB(\n",
       "              (fc_q): Linear(in_features=128, out_features=128, bias=True)\n",
       "              (fc_k): Linear(in_features=128, out_features=128, bias=True)\n",
       "              (fc_v): Linear(in_features=128, out_features=128, bias=True)\n",
       "              (fc_o): Linear(in_features=128, out_features=128, bias=True)\n",
       "              (ln0): Masked_LayerNorm(\n",
       "                (ln): LayerNorm((128,), eps=1e-05, elementwise_affine=True)\n",
       "              )\n",
       "              (ln1): Masked_LayerNorm(\n",
       "                (ln): LayerNorm((128,), eps=1e-05, elementwise_affine=True)\n",
       "              )\n",
       "            )\n",
       "          )\n",
       "        )\n",
       "        (transform_in): Linear(in_features=128, out_features=128, bias=True)\n",
       "        (aggregator_score): Linear(in_features=128, out_features=8, bias=True)\n",
       "        (transform_out): Sequential(\n",
       "          (0): Linear(in_features=2304, out_features=128, bias=True)\n",
       "          (1): LayerNorm((128,), eps=1e-05, elementwise_affine=True)\n",
       "          (2): PReLU(num_parameters=1)\n",
       "        )\n",
       "      )\n",
       "      (3): Bipartite_Layers(\n",
       "        (enc): ModuleList(\n",
       "          (0): Masked_SAB(\n",
       "            (mab): Masked_MAB(\n",
       "              (fc_q): Linear(in_features=128, out_features=128, bias=True)\n",
       "              (fc_k): Linear(in_features=128, out_features=128, bias=True)\n",
       "              (fc_v): Linear(in_features=128, out_features=128, bias=True)\n",
       "              (fc_o): Linear(in_features=128, out_features=128, bias=True)\n",
       "              (ln0): Masked_LayerNorm(\n",
       "                (ln): LayerNorm((128,), eps=1e-05, elementwise_affine=True)\n",
       "              )\n",
       "              (ln1): Masked_LayerNorm(\n",
       "                (ln): LayerNorm((128,), eps=1e-05, elementwise_affine=True)\n",
       "              )\n",
       "            )\n",
       "          )\n",
       "          (1): Masked_SAB(\n",
       "            (mab): Masked_MAB(\n",
       "              (fc_q): Linear(in_features=128, out_features=128, bias=True)\n",
       "              (fc_k): Linear(in_features=128, out_features=128, bias=True)\n",
       "              (fc_v): Linear(in_features=128, out_features=128, bias=True)\n",
       "              (fc_o): Linear(in_features=128, out_features=128, bias=True)\n",
       "              (ln0): Masked_LayerNorm(\n",
       "                (ln): LayerNorm((128,), eps=1e-05, elementwise_affine=True)\n",
       "              )\n",
       "              (ln1): Masked_LayerNorm(\n",
       "                (ln): LayerNorm((128,), eps=1e-05, elementwise_affine=True)\n",
       "              )\n",
       "            )\n",
       "          )\n",
       "        )\n",
       "        (transform_in): Linear(in_features=128, out_features=128, bias=True)\n",
       "        (aggregator_score): Linear(in_features=128, out_features=8, bias=True)\n",
       "        (transform_out): Sequential(\n",
       "          (0): Linear(in_features=2304, out_features=128, bias=True)\n",
       "          (1): LayerNorm((128,), eps=1e-05, elementwise_affine=True)\n",
       "          (2): PReLU(num_parameters=1)\n",
       "        )\n",
       "      )\n",
       "      (4): Bipartite_Layers(\n",
       "        (enc): ModuleList(\n",
       "          (0): Masked_SAB(\n",
       "            (mab): Masked_MAB(\n",
       "              (fc_q): Linear(in_features=128, out_features=128, bias=True)\n",
       "              (fc_k): Linear(in_features=128, out_features=128, bias=True)\n",
       "              (fc_v): Linear(in_features=128, out_features=128, bias=True)\n",
       "              (fc_o): Linear(in_features=128, out_features=128, bias=True)\n",
       "              (ln0): Masked_LayerNorm(\n",
       "                (ln): LayerNorm((128,), eps=1e-05, elementwise_affine=True)\n",
       "              )\n",
       "              (ln1): Masked_LayerNorm(\n",
       "                (ln): LayerNorm((128,), eps=1e-05, elementwise_affine=True)\n",
       "              )\n",
       "            )\n",
       "          )\n",
       "          (1): Masked_SAB(\n",
       "            (mab): Masked_MAB(\n",
       "              (fc_q): Linear(in_features=128, out_features=128, bias=True)\n",
       "              (fc_k): Linear(in_features=128, out_features=128, bias=True)\n",
       "              (fc_v): Linear(in_features=128, out_features=128, bias=True)\n",
       "              (fc_o): Linear(in_features=128, out_features=128, bias=True)\n",
       "              (ln0): Masked_LayerNorm(\n",
       "                (ln): LayerNorm((128,), eps=1e-05, elementwise_affine=True)\n",
       "              )\n",
       "              (ln1): Masked_LayerNorm(\n",
       "                (ln): LayerNorm((128,), eps=1e-05, elementwise_affine=True)\n",
       "              )\n",
       "            )\n",
       "          )\n",
       "        )\n",
       "        (transform_in): Linear(in_features=128, out_features=128, bias=True)\n",
       "        (aggregator_score): Linear(in_features=128, out_features=8, bias=True)\n",
       "        (transform_out): Sequential(\n",
       "          (0): Linear(in_features=2304, out_features=128, bias=True)\n",
       "          (1): LayerNorm((128,), eps=1e-05, elementwise_affine=True)\n",
       "          (2): PReLU(num_parameters=1)\n",
       "        )\n",
       "      )\n",
       "      (5): Bipartite_Layers(\n",
       "        (enc): ModuleList(\n",
       "          (0): Masked_SAB(\n",
       "            (mab): Masked_MAB(\n",
       "              (fc_q): Linear(in_features=128, out_features=128, bias=True)\n",
       "              (fc_k): Linear(in_features=128, out_features=128, bias=True)\n",
       "              (fc_v): Linear(in_features=128, out_features=128, bias=True)\n",
       "              (fc_o): Linear(in_features=128, out_features=128, bias=True)\n",
       "              (ln0): Masked_LayerNorm(\n",
       "                (ln): LayerNorm((128,), eps=1e-05, elementwise_affine=True)\n",
       "              )\n",
       "              (ln1): Masked_LayerNorm(\n",
       "                (ln): LayerNorm((128,), eps=1e-05, elementwise_affine=True)\n",
       "              )\n",
       "            )\n",
       "          )\n",
       "          (1): Masked_SAB(\n",
       "            (mab): Masked_MAB(\n",
       "              (fc_q): Linear(in_features=128, out_features=128, bias=True)\n",
       "              (fc_k): Linear(in_features=128, out_features=128, bias=True)\n",
       "              (fc_v): Linear(in_features=128, out_features=128, bias=True)\n",
       "              (fc_o): Linear(in_features=128, out_features=128, bias=True)\n",
       "              (ln0): Masked_LayerNorm(\n",
       "                (ln): LayerNorm((128,), eps=1e-05, elementwise_affine=True)\n",
       "              )\n",
       "              (ln1): Masked_LayerNorm(\n",
       "                (ln): LayerNorm((128,), eps=1e-05, elementwise_affine=True)\n",
       "              )\n",
       "            )\n",
       "          )\n",
       "        )\n",
       "        (transform_in): Linear(in_features=128, out_features=128, bias=True)\n",
       "        (aggregator_score): Linear(in_features=128, out_features=8, bias=True)\n",
       "        (transform_out): Sequential(\n",
       "          (0): Linear(in_features=2304, out_features=128, bias=True)\n",
       "          (1): LayerNorm((128,), eps=1e-05, elementwise_affine=True)\n",
       "          (2): PReLU(num_parameters=1)\n",
       "        )\n",
       "      )\n",
       "    )\n",
       "    (score): Sequential(\n",
       "      (0): Linear(in_features=128, out_features=1, bias=True)\n",
       "    )\n",
       "    (_pred_layers): ModuleList(\n",
       "      (0): Linear(in_features=256, out_features=256, bias=True)\n",
       "      (1): PReLU(num_parameters=1)\n",
       "      (2): Linear(in_features=256, out_features=2, bias=True)\n",
       "    )\n",
       "  )\n",
       "  (noiser): Sequential(\n",
       "    (0): Linear(in_features=128, out_features=128, bias=True)\n",
       "    (1): LayerNorm((128,), eps=1e-05, elementwise_affine=True)\n",
       "    (2): PReLU(num_parameters=1)\n",
       "    (3): Linear(in_features=128, out_features=128, bias=True)\n",
       "    (4): LayerNorm((128,), eps=1e-05, elementwise_affine=True)\n",
       "    (5): PReLU(num_parameters=1)\n",
       "    (6): Linear(in_features=128, out_features=55, bias=True)\n",
       "  )\n",
       ")"
      ]
     },
     "execution_count": 6,
     "metadata": {},
     "output_type": "execute_result"
    }
   ],
   "source": [
    "DEVICE = 'cuda:0'\n",
    "# α=0.3\n",
    "checkpoint_file = 'train_results/biatt-glri-2d/experiment_2023-05-19_21:41:02/checkpoints/model_checkpoint_013.pth.tar'\n",
    "#checkpoint_file = 'train_results/biatt-glri/experiment_2023-02-12_08:24:52/checkpoints/model_checkpoint_011.pth.tar'\n",
    "mconfig = config['model']\n",
    "model = Model(**mconfig)\n",
    "model = load_checkpoint(checkpoint_file, model)\n",
    "model = model.to(DEVICE)\n",
    "model.eval()"
   ]
  },
  {
   "cell_type": "code",
   "execution_count": 7,
   "id": "b582f9f6",
   "metadata": {},
   "outputs": [],
   "source": [
    "def get_approximate_radii(track_vector):\n",
    "    tracks_info = track_vector[:, :15]\n",
    "    good_hits = np.any(tracks_info.reshape(tracks_info.shape[0], 5, 3) != 0, axis=-1)\n",
    "    n_hits = np.sum(good_hits, axis=-1)\n",
    "    x_indices = [3*j for j in range(5)]\n",
    "    y_indices = [3*j+1 for j in range(5)]\n",
    "    r = np.zeros((tracks_info.shape[0], 1))\n",
    "    centers = np.zeros((tracks_info.shape[0], 2))\n",
    "    for n_hit in range(3, 5 + 1):\n",
    "        complete_tracks = tracks_info[n_hits == n_hit]\n",
    "        hit_indices = good_hits[n_hits == n_hit]\n",
    "        if complete_tracks.shape[0] == 0:\n",
    "            continue\n",
    "\n",
    "        A = np.ones((complete_tracks.shape[0], n_hit, 3))\n",
    "        x_values = complete_tracks[:, x_indices]\n",
    "        x_values = x_values[hit_indices].reshape(complete_tracks.shape[0], n_hit)\n",
    "\n",
    "        y_values = complete_tracks[:, y_indices]\n",
    "        y_values = y_values[hit_indices].reshape(complete_tracks.shape[0], n_hit)\n",
    "        A[:, :, 0] = x_values\n",
    "        A[:, :, 1] = y_values\n",
    "\n",
    "        y = - x_values**2 - y_values**2\n",
    "        y = y.reshape((y.shape[0], y.shape[1], 1))\n",
    "        AT = np.transpose(A, axes=(0, 2, 1))\n",
    "        c = matmul_3D(matmul_3D(inv(matmul_3D(AT, A)), AT), y)\n",
    "        r[n_hits == n_hit] == 1\n",
    "        r[n_hits == n_hit] = np.sqrt(c[:, 0]**2 + c[:, 1]**2 - 4*c[:, 2])/200\n",
    "        centers[n_hits == n_hit] = np.concatenate([-c[:, 0]/2, -c[:, 1]/2], axis=-1)\n",
    "    #test = get_approximate_radius(tracks_info, n_hits == 5)\n",
    "    #assert np.allclose(test, r[n_hits == 5])\n",
    "\n",
    "    return r, centers\n",
    "\n",
    "def matmul_3D(A, B):\n",
    "    return np.einsum('lij,ljk->lik', A, B)\n",
    "\n",
    "def decode(n):\n",
    "    if n == 0b00:\n",
    "        return 'tt'\n",
    "    elif n == 0b01:\n",
    "        return 'pt'\n",
    "    elif n == 0b10:\n",
    "        return 'tp'\n",
    "    else:\n",
    "        return 'tt'\n",
    "    vectors = ['t', 'p']\n",
    "    if n == 0:\n",
    "        return '0'\n",
    "    nums = []\n",
    "    while n:\n",
    "        n, r = divmod(n, 2)\n",
    "        nums.append(vectors[r])\n",
    "    return ''.join(nums)\n",
    "\n",
    "def calculate_n_bins(values):\n",
    "    h = 2*iqr(values)/(len(values)**(1/3))\n",
    "    return int(np.round((np.max(values)-np.min(values))/h))\n",
    "\n",
    "\n",
    "def zipdict(d):\n",
    "    keys = tuple(d.keys())\n",
    "    for v in zip(*[d[key] for key in keys]):\n",
    "        yield dict(zip(keys, v))\n",
    "    \n",
    "    \n",
    "def dict_freeze(d):\n",
    "    if isinstance(d, defaultdict):\n",
    "        d = {k: dict_freeze(v) for k, v in d.items()}\n",
    "    return d"
   ]
  },
  {
   "cell_type": "code",
   "execution_count": 8,
   "id": "3c79326f",
   "metadata": {},
   "outputs": [],
   "source": [
    "events = defaultdict(list)"
   ]
  },
  {
   "cell_type": "code",
   "execution_count": 15,
   "id": "bdf14e26",
   "metadata": {},
   "outputs": [
    {
     "data": {
      "application/vnd.jupyter.widget-view+json": {
       "model_id": "737067bb4e904ac7a6d234816fe8786a",
       "version_major": 2,
       "version_minor": 0
      },
      "text/plain": [
       "  0%|          | 0/10 [00:00<?, ?it/s]"
      ]
     },
     "metadata": {},
     "output_type": "display_data"
    },
    {
     "ename": "RuntimeError",
     "evalue": "The size of tensor a (5) must match the size of tensor b (4) at non-singleton dimension 2",
     "output_type": "error",
     "traceback": [
      "\u001b[0;31m---------------------------------------------------------------------------\u001b[0m",
      "\u001b[0;31mRuntimeError\u001b[0m                              Traceback (most recent call last)",
      "Cell \u001b[0;32mIn[15], line 9\u001b[0m\n\u001b[1;32m      7\u001b[0m good_hits \u001b[38;5;241m=\u001b[39m torch\u001b[38;5;241m.\u001b[39many(hits \u001b[38;5;241m!=\u001b[39m \u001b[38;5;241m0\u001b[39m, dim\u001b[38;5;241m=\u001b[39m\u001b[38;5;241m-\u001b[39m\u001b[38;5;241m1\u001b[39m)\n\u001b[1;32m      8\u001b[0m diffs \u001b[38;5;241m=\u001b[39m hits[:, :, \u001b[38;5;241m1\u001b[39m:, :] \u001b[38;5;241m-\u001b[39m hits[:, :, :\u001b[38;5;241m-\u001b[39m\u001b[38;5;241m1\u001b[39m, :]\n\u001b[0;32m----> 9\u001b[0m good_diffs \u001b[38;5;241m=\u001b[39m \u001b[43mgood_hits\u001b[49m\u001b[43m[\u001b[49m\u001b[43m:\u001b[49m\u001b[43m,\u001b[49m\u001b[43m \u001b[49m\u001b[43m:\u001b[49m\u001b[43m \u001b[49m\u001b[38;5;241;43m1\u001b[39;49m\u001b[43m:\u001b[49m\u001b[43m]\u001b[49m\u001b[43m \u001b[49m\u001b[38;5;241;43m&\u001b[39;49m\u001b[43m \u001b[49m\u001b[43mgood_hits\u001b[49m\u001b[43m[\u001b[49m\u001b[43m:\u001b[49m\u001b[43m,\u001b[49m\u001b[43m \u001b[49m\u001b[43m:\u001b[49m\u001b[43m,\u001b[49m\u001b[43m \u001b[49m\u001b[43m:\u001b[49m\u001b[38;5;241;43m-\u001b[39;49m\u001b[38;5;241;43m1\u001b[39;49m\u001b[43m]\u001b[49m\n\u001b[1;32m     10\u001b[0m diffs_norms \u001b[38;5;241m=\u001b[39m torch\u001b[38;5;241m.\u001b[39mlinalg\u001b[38;5;241m.\u001b[39mnorm(diffs, dim\u001b[38;5;241m=\u001b[39m\u001b[38;5;241m-\u001b[39m\u001b[38;5;241m1\u001b[39m)\n\u001b[1;32m     11\u001b[0m hits_diffs\u001b[38;5;241m.\u001b[39mextend(diffs_norms[good_diffs]\u001b[38;5;241m.\u001b[39mdetach()\u001b[38;5;241m.\u001b[39mcpu()\u001b[38;5;241m.\u001b[39mnumpy())\n",
      "\u001b[0;31mRuntimeError\u001b[0m: The size of tensor a (5) must match the size of tensor b (4) at non-singleton dimension 2"
     ]
    }
   ],
   "source": [
    "N_BATCHES = 10\n",
    "\n",
    "hits_diffs = []\n",
    "for batch in tqdm(islice(val_data, 0, N_BATCHES), total=N_BATCHES):\n",
    "    track_vector = batch.track_vector.to(DEVICE)\n",
    "    hits = track_vector[..., :15].reshape(*track_vector.shape[:-1], 5, 3)\n",
    "    good_hits = torch.any(hits != 0, dim=-1)\n",
    "    diffs = hits[:, :, 1:, :] - hits[:, :, :-1, :]\n",
    "    good_diffs = good_hits[:, : 1:] & good_hits[:, :, :-1]\n",
    "    diffs_norms = torch.linalg.norm(diffs, dim=-1)\n",
    "    hits_diffs.extend(diffs_norms[good_diffs].detach().cpu().numpy())"
   ]
  },
  {
   "cell_type": "code",
   "execution_count": 14,
   "id": "7c6895a7",
   "metadata": {},
   "outputs": [
    {
     "data": {
      "text/plain": [
       "(array([1.48313e+05, 5.97490e+04, 1.11090e+04, 3.26000e+03, 6.26000e+02,\n",
       "        5.30000e+01, 1.90000e+01, 7.00000e+00, 9.00000e+00, 4.00000e+00]),\n",
       " array([1.94511786e-02, 3.20141244e+00, 6.38337374e+00, 9.56533527e+00,\n",
       "        1.27472963e+01, 1.59292574e+01, 1.91112194e+01, 2.22931805e+01,\n",
       "        2.54751415e+01, 2.86571026e+01, 3.18390636e+01]),\n",
       " <BarContainer object of 10 artists>)"
      ]
     },
     "execution_count": 14,
     "metadata": {},
     "output_type": "execute_result"
    },
    {
     "data": {
      "image/png": "[encoded data removed]",
      "text/plain": [
       "<Figure size 640x480 with 1 Axes>"
      ]
     },
     "metadata": {},
     "output_type": "display_data"
    }
   ],
   "source": [
    "plt.hist(hits_diffs)"
   ]
  },
  {
   "cell_type": "code",
   "execution_count": 12,
   "id": "06b5880b",
   "metadata": {},
   "outputs": [
    {
     "data": {
      "application/vnd.jupyter.widget-view+json": {
       "model_id": "eac78906b42c45688014a5aac8b8fbf3",
       "version_major": 2,
       "version_minor": 0
      },
      "text/plain": [
       "  0%|          | 0/10 [00:00<?, ?it/s]"
      ]
     },
     "metadata": {},
     "output_type": "display_data"
    },
    {
     "name": "stdout",
     "output_type": "stream",
     "text": [
      "****************************************************************************************************\n",
      "****************************************************************************************************\n",
      "****************************************************************************************************\n",
      "****************************************************************************************************\n",
      "****************************************************************************************************\n",
      "****************************************************************************************************\n",
      "****************************************************************************************************\n",
      "****************************************************************************************************\n",
      "****************************************************************************************************\n",
      "****************************************************************************************************\n"
     ]
    }
   ],
   "source": [
    "N_BATCHES = 10\n",
    "correct_p = defaultdict(int)\n",
    "count_p = defaultdict(int)\n",
    "\n",
    "for batch in tqdm(islice(val_data, 0, N_BATCHES), total=N_BATCHES):\n",
    "    mask = torch.zeros(batch.track_vector.shape[:-1])\n",
    "    for i, n in enumerate(batch.n_tracks):\n",
    "        mask[i, :n] = 1\n",
    "    \n",
    "    mask = mask.to(DEVICE)\n",
    "    trigger = (batch.trigger.to(DEVICE) == 1).unsqueeze(-1)\n",
    "    track_vector = batch.track_vector.to(DEVICE)\n",
    "    centers = track_vector[..., -3:-1]\n",
    "    hits = track_vector[..., :15].reshape(*track_vector.shape[:-1], 5, 3)\n",
    "    perp = hits[..., :2] - centers.unsqueeze(-2)\n",
    "    perp = torch.cat([perp, torch.zeros(*perp.shape[:-1], 1, device=perp.device)], dim=-1)\n",
    "    norms = torch.linalg.norm(perp, dim=-1)\n",
    "    perp = perp / ((norms + (norms == 0)).unsqueeze(-1))\n",
    "    for p in np.linspace(0, 10, 100):\n",
    "        print('*', end='')\n",
    "        with torch.no_grad():\n",
    "            delta = (p*perp).reshape(*perp.shape[:-2], 15)\n",
    "            preds = model.forward_with_e_v(track_vector, mask, delta)\n",
    "            labels = torch.argmax(preds, dim=-1)\n",
    "            correct_p[p] += torch.sum(labels == trigger.squeeze(-1)).detach().cpu().item()\n",
    "            count_p[p] += labels.shape[0]\n",
    "            del preds\n",
    "            gc.collect()\n",
    "    print()"
   ]
  },
  {
   "cell_type": "code",
   "execution_count": null,
   "id": "49d4754f",
   "metadata": {
    "scrolled": true
   },
   "outputs": [
    {
     "data": {
      "application/vnd.jupyter.widget-view+json": {
       "model_id": "f2f849693c9a468d9055e01803bcaf59",
       "version_major": 2,
       "version_minor": 0
      },
      "text/plain": [
       "  0%|          | 0/10 [00:00<?, ?it/s]"
      ]
     },
     "metadata": {},
     "output_type": "display_data"
    },
    {
     "name": "stdout",
     "output_type": "stream",
     "text": [
      "****************************************************************************************************\n",
      "****************************************************************************************************\n",
      "****************************************************************************************************\n",
      "****************************************************************************************************\n",
      "***************************************************"
     ]
    }
   ],
   "source": [
    "N_BATCHES = 10\n",
    "correct_z = defaultdict(int)\n",
    "count_z = defaultdict(int)\n",
    "\n",
    "for batch in tqdm(islice(val_data, 0, N_BATCHES), total=N_BATCHES):\n",
    "    mask = torch.zeros(batch.track_vector.shape[:-1])\n",
    "    for i, n in enumerate(batch.n_tracks):\n",
    "        mask[i, :n] = 1\n",
    "    \n",
    "    mask = mask.to(DEVICE)\n",
    "    trigger = (batch.trigger.to(DEVICE) == 1).unsqueeze(-1)\n",
    "    track_vector = batch.track_vector.to(DEVICE)\n",
    "    centers = track_vector[..., -3:-1]\n",
    "    hits = track_vector[..., :15].reshape(*track_vector.shape[:-1], 5, 3)\n",
    "    z = torch.zeros_like(hits)\n",
    "    z[..., -1] = 1\n",
    "    for p in np.linspace(0, 10, 100):\n",
    "        print('*', end='')\n",
    "        with torch.no_grad():\n",
    "            delta = (p*z).reshape(*z.shape[:-2], 15)\n",
    "            preds = model.forward_with_e_v(track_vector, mask, delta)\n",
    "            labels = torch.argmax(preds, dim=-1)\n",
    "            correct_z[p] += torch.sum(labels == trigger.squeeze(-1)).detach().cpu().item()\n",
    "            count_z[p] += labels.shape[0]\n",
    "            del preds\n",
    "            gc.collect()\n",
    "    print()"
   ]
  },
  {
   "cell_type": "code",
   "execution_count": null,
   "id": "c771caa8",
   "metadata": {},
   "outputs": [],
   "source": [
    "N_BATCHES = 10\n",
    "correct_t = defaultdict(int)\n",
    "count_t = defaultdict(int)\n",
    "\n",
    "for batch in tqdm(islice(val_data, 0, N_BATCHES), total=N_BATCHES):\n",
    "    mask = torch.zeros(batch.track_vector.shape[:-1])\n",
    "    for i, n in enumerate(batch.n_tracks):\n",
    "        mask[i, :n] = 1\n",
    "    \n",
    "    mask = mask.to(DEVICE)\n",
    "    trigger = (batch.trigger.to(DEVICE) == 1).unsqueeze(-1)\n",
    "    track_vector = batch.track_vector.to(DEVICE)\n",
    "    centers = track_vector[..., -3:-1]\n",
    "    hits = track_vector[..., :15].reshape(*track_vector.shape[:-1], 5, 3)\n",
    "    perp = hits[..., :2] - centers.unsqueeze(-2)\n",
    "    perp = torch.cat([perp, torch.zeros(*perp.shape[:-1], 1, device=perp.device)], dim=-1)\n",
    "    z = torch.zeros_like(perp)\n",
    "    z[..., -1] = 1\n",
    "    tangents = torch.cross(perp, z, dim=-1)\n",
    "    norms = torch.linalg.norm(tangents, dim=-1)\n",
    "    tangents = tangents/(norms + (norms == 0)).unsqueeze(-1)\n",
    "    for p in np.linspace(0, 10, 100):\n",
    "        print('*', end='')\n",
    "        with torch.no_grad():\n",
    "            delta = (p*tangents).reshape(*tangents.shape[:-2], 15)\n",
    "            preds = model.forward_with_e_v(track_vector, mask, delta)\n",
    "            labels = torch.argmax(preds, dim=-1)\n",
    "            correct_t[p] += torch.sum(labels == trigger.squeeze(-1)).detach().cpu().item()\n",
    "            count_t[p] += labels.shape[0]\n",
    "            del preds\n",
    "            gc.collect()\n",
    "    print()"
   ]
  },
  {
   "cell_type": "code",
   "execution_count": null,
   "id": "7959c32b",
   "metadata": {},
   "outputs": [],
   "source": [
    "x = sorted(correct_t.keys())[:4]\n",
    "y = [correct_t[i]/count_t[i] for i in x]\n",
    "plt.plot(x, y, label='$v_t$')\n",
    "plt.xlabel('Perturbation Magnitude')\n",
    "plt.ylabel('Accuracy')\n",
    "x = sorted(correct_p.keys())\n",
    "y = [correct_p[i]/count_p[i] for i in x]\n",
    "plt.plot(x, y, label='$v_p$')\n",
    "x = sorted(correct_z.keys())\n",
    "y = [correct_z[i]/count_z[i] for i in x]\n",
    "plt.plot(x, y, label='$v_z$')\n",
    "plt.legend()\n",
    "plt.title(\"Accuracy vs Perturbation\")"
   ]
  },
  {
   "cell_type": "code",
   "execution_count": 61,
   "id": "78dbfff9",
   "metadata": {},
   "outputs": [
    {
     "data": {
      "text/plain": [
       "Text(0.5, 1.0, 'Accuracy vs Perturbation')"
      ]
     },
     "execution_count": 61,
     "metadata": {},
     "output_type": "execute_result"
    },
    {
     "data": {
      "image/png": "[encoded data removed]",
      "text/plain": [
       "<Figure size 640x480 with 1 Axes>"
      ]
     },
     "metadata": {},
     "output_type": "display_data"
    }
   ],
   "source": [
    "x = sorted(correct_t.keys())\n",
    "y = [correct_t[i]/count_t[i] for i in x]\n",
    "plt.plot(x, y, label='$v_t$')\n",
    "plt.xlabel('Perturbation Magnitude')\n",
    "plt.ylabel('Accuracy')\n",
    "y = [correct_p[i]/count_p[i] for i in x]\n",
    "plt.plot(x, y, label='$v_p$')\n",
    "y = [correct_z[i]/count_z[i] for i in x]\n",
    "plt.plot(x, y, label='$v_z$')\n",
    "plt.legend()\n",
    "plt.title(\"Accuracy vs Perturbation\")"
   ]
  },
  {
   "cell_type": "code",
   "execution_count": 98,
   "id": "9153a281",
   "metadata": {},
   "outputs": [],
   "source": [
    "batch = next(iter(val_data))\n",
    "tracks = batch.track_vector\n",
    "hits = tracks[..., :15].reshape(*tracks.shape[:-1], 5, 3)\n",
    "good_hits = torch.any(hits != 0, dim=-1)\n",
    "r = tracks[..., -4] * 100\n",
    "valid = r != 0\n",
    "centers = tracks[..., -3:-1]\n",
    "deltas = hits[..., :2] - centers.unsqueeze(-2)\n",
    "angles = torch.atan2(deltas[..., 1], deltas[..., 0])\n",
    "dangle = torch.diff(angles, dim=-1)\n",
    "ranges = torch.cat([2*dangle/5, dangle[..., -1].unsqueeze(-1)], dim=-1)\n",
    "angle_deltas = 2*ranges*torch.rand(ranges.shape) + -ranges\n",
    "new_angles = angles + angle_deltas\n",
    "hits_deltas = torch.stack([r.unsqueeze(-1)*torch.cos(new_angles), r.unsqueeze(-1)*torch.sin(new_angles)], dim=-1)\n",
    "new_hits = torch.cat([centers.unsqueeze(-2) + hits_deltas, hits[..., -1].unsqueeze(-1)], dim=-1)\n",
    "new_tracks = valid.unsqueeze(-1)*(new_hits*good_hits.unsqueeze(-1)).reshape(tracks[..., :15].shape) + (~valid.unsqueeze(-1))*tracks[..., :15]"
   ]
  },
  {
   "cell_type": "code",
   "execution_count": 100,
   "id": "0c75a061",
   "metadata": {},
   "outputs": [
    {
     "data": {
      "text/plain": [
       "torch.Size([512, 35, 5, 3])"
      ]
     },
     "execution_count": 100,
     "metadata": {},
     "output_type": "execute_result"
    }
   ],
   "source": [
    "hits.shape"
   ]
  },
  {
   "cell_type": "code",
   "execution_count": 101,
   "id": "09cbb464",
   "metadata": {},
   "outputs": [
    {
     "data": {
      "text/plain": [
       "torch.Size([512, 35, 5, 3])"
      ]
     },
     "execution_count": 101,
     "metadata": {},
     "output_type": "execute_result"
    }
   ],
   "source": [
    "new_hits.shape"
   ]
  },
  {
   "cell_type": "code",
   "execution_count": 102,
   "id": "e18bddb2",
   "metadata": {},
   "outputs": [
    {
     "data": {
      "text/plain": [
       "tensor([[[1.2284e-01, 5.2211e-02, 1.0940e-01, 4.2024e-01, 6.0214e-01],\n",
       "         [0.0000e+00, 0.0000e+00, 4.3289e-02, 8.9479e-03, 2.4143e+00],\n",
       "         [0.0000e+00, 0.0000e+00, 1.0304e+00, 3.7656e-01, 7.3417e-01],\n",
       "         ...,\n",
       "         [0.0000e+00, 0.0000e+00, 0.0000e+00, 0.0000e+00, 0.0000e+00],\n",
       "         [0.0000e+00, 0.0000e+00, 0.0000e+00, 0.0000e+00, 0.0000e+00],\n",
       "         [0.0000e+00, 0.0000e+00, 0.0000e+00, 0.0000e+00, 0.0000e+00]],\n",
       "\n",
       "        [[2.5152e-02, 1.8561e-01, 3.5424e-01, 3.7159e-01, 1.5683e+00],\n",
       "         [1.9225e-01, 1.0304e-03, 6.9377e-01, 4.5387e-01, 2.2426e+00],\n",
       "         [3.9771e-03, 2.8084e-01, 7.2118e-01, 1.8007e-01, 1.6677e+00],\n",
       "         ...,\n",
       "         [0.0000e+00, 0.0000e+00, 0.0000e+00, 0.0000e+00, 0.0000e+00],\n",
       "         [0.0000e+00, 0.0000e+00, 0.0000e+00, 0.0000e+00, 0.0000e+00],\n",
       "         [0.0000e+00, 0.0000e+00, 0.0000e+00, 0.0000e+00, 0.0000e+00]],\n",
       "\n",
       "        [[3.0028e-01, 2.8656e-01, 1.0399e+00, 7.5077e-01, 2.3846e-01],\n",
       "         [9.7650e-02, 1.6718e-01, 1.7854e-01, 3.6248e-01, 1.5555e+00],\n",
       "         [1.2224e-01, 3.1212e-01, 7.6176e-01, 3.3975e-01, 3.0452e+00],\n",
       "         ...,\n",
       "         [0.0000e+00, 0.0000e+00, 0.0000e+00, 0.0000e+00, 0.0000e+00],\n",
       "         [0.0000e+00, 0.0000e+00, 0.0000e+00, 0.0000e+00, 0.0000e+00],\n",
       "         [0.0000e+00, 0.0000e+00, 0.0000e+00, 0.0000e+00, 0.0000e+00]],\n",
       "\n",
       "        ...,\n",
       "\n",
       "        [[8.2490e-02, 2.0009e-01, 5.5672e-01, 4.3437e-01, 5.4578e-01],\n",
       "         [4.0991e-02, 7.3537e-03, 1.8103e-01, 5.5516e-01, 9.3238e-01],\n",
       "         [0.0000e+00, 0.0000e+00, 0.0000e+00, 0.0000e+00, 0.0000e+00],\n",
       "         ...,\n",
       "         [0.0000e+00, 0.0000e+00, 0.0000e+00, 0.0000e+00, 0.0000e+00],\n",
       "         [0.0000e+00, 0.0000e+00, 0.0000e+00, 0.0000e+00, 0.0000e+00],\n",
       "         [0.0000e+00, 0.0000e+00, 0.0000e+00, 0.0000e+00, 0.0000e+00]],\n",
       "\n",
       "        [[1.6289e-01, 2.2658e-01, 3.5404e-01, 9.0558e-01, 2.0312e+00],\n",
       "         [1.8042e-01, 3.1111e-01, 8.4512e-01, 9.6154e-01, 2.2122e+00],\n",
       "         [2.3726e-01, 2.8548e-01, 5.7339e-01, 4.0374e-01, 1.1187e+00],\n",
       "         ...,\n",
       "         [0.0000e+00, 0.0000e+00, 0.0000e+00, 0.0000e+00, 0.0000e+00],\n",
       "         [0.0000e+00, 0.0000e+00, 0.0000e+00, 0.0000e+00, 0.0000e+00],\n",
       "         [0.0000e+00, 0.0000e+00, 0.0000e+00, 0.0000e+00, 0.0000e+00]],\n",
       "\n",
       "        [[1.7280e-01, 1.5827e-02, 1.0805e+00, 4.7684e-01, 5.7130e-01],\n",
       "         [1.1912e-01, 1.6420e-01, 1.2656e+00, 1.7966e-01, 8.0664e-01],\n",
       "         [2.7231e-01, 3.7159e-02, 7.7368e-02, 5.9146e-01, 1.9585e+00],\n",
       "         ...,\n",
       "         [0.0000e+00, 0.0000e+00, 0.0000e+00, 0.0000e+00, 0.0000e+00],\n",
       "         [0.0000e+00, 0.0000e+00, 0.0000e+00, 0.0000e+00, 0.0000e+00],\n",
       "         [0.0000e+00, 0.0000e+00, 0.0000e+00, 0.0000e+00, 0.0000e+00]]])"
      ]
     },
     "execution_count": 102,
     "metadata": {},
     "output_type": "execute_result"
    }
   ],
   "source": [
    "torch.linalg.norm((hits - new_hits)*good_hits.unsqueeze(-1), dim=-1)"
   ]
  },
  {
   "cell_type": "code",
   "execution_count": null,
   "id": "176a0cd9",
   "metadata": {},
   "outputs": [],
   "source": []
  },
  {
   "cell_type": "code",
   "execution_count": 82,
   "id": "f9d2f534",
   "metadata": {},
   "outputs": [],
   "source": [
    "INDEX = 0"
   ]
  },
  {
   "cell_type": "code",
   "execution_count": 83,
   "id": "7ffddffa",
   "metadata": {},
   "outputs": [
    {
     "data": {
      "text/plain": [
       "<matplotlib.collections.PathCollection at 0x7f8c8e08a1d0>"
      ]
     },
     "execution_count": 83,
     "metadata": {},
     "output_type": "execute_result"
    },
    {
     "data": {
      "image/png": "[encoded data removed]",
      "text/plain": [
       "<Figure size 640x480 with 1 Axes>"
      ]
     },
     "metadata": {},
     "output_type": "display_data"
    }
   ],
   "source": [
    "plt.scatter(hits[INDEX][good_hits[INDEX]][:, 0], hits[INDEX][good_hits[INDEX]][:, 1])\n",
    "new_hits = new_tracks[..., :15].reshape(*new_tracks.shape[:-1], 5, 3)\n",
    "plt.scatter(new_hits[INDEX][good_hits[INDEX]][:, 0], new_hits[INDEX][good_hits[INDEX]][:, 1])"
   ]
  },
  {
   "cell_type": "code",
   "execution_count": 87,
   "id": "5afd3a0e",
   "metadata": {},
   "outputs": [],
   "source": [
    "p = 1\n",
    "track_vector = batch.track_vector\n",
    "centers = track_vector[..., -3:-1]\n",
    "hits = track_vector[..., :15].reshape(*track_vector.shape[:-1], 5, 3)\n",
    "perp = hits[..., :2] - centers.unsqueeze(-2)\n",
    "perp = torch.cat([perp, torch.zeros(*perp.shape[:-1], 1, device=perp.device)], dim=-1)\n",
    "z = torch.zeros_like(perp)\n",
    "z[..., -1] = 1\n",
    "tangents = torch.cross(perp, z, dim=-1)\n",
    "norms = torch.linalg.norm(tangents, dim=-1)\n",
    "tangents = tangents/(norms + (norms == 0)).unsqueeze(-1)\n",
    "delta = (p*tangents)\n",
    "hits = track_vector[..., :15].reshape(*track_vector.shape[:-1], 5, 3)\n",
    "good_hits = torch.any(hits, dim=-1)\n",
    "new_hits = hits + delta"
   ]
  },
  {
   "cell_type": "code",
   "execution_count": 88,
   "id": "1c0f88f8",
   "metadata": {},
   "outputs": [
    {
     "data": {
      "text/plain": [
       "<matplotlib.collections.PathCollection at 0x7f8c66dd0130>"
      ]
     },
     "execution_count": 88,
     "metadata": {},
     "output_type": "execute_result"
    },
    {
     "data": {
      "image/png": "[encoded data removed]",
      "text/plain": [
       "<Figure size 640x480 with 1 Axes>"
      ]
     },
     "metadata": {},
     "output_type": "display_data"
    }
   ],
   "source": [
    "plt.scatter(hits[INDEX][good_hits[INDEX]][:, 0], hits[INDEX][good_hits[INDEX]][:, 1])\n",
    "plt.scatter(new_hits[INDEX][good_hits[INDEX]][:, 0], new_hits[INDEX][good_hits[INDEX]][:, 1])"
   ]
  },
  {
   "cell_type": "code",
   "execution_count": 89,
   "id": "bf5a7bbe",
   "metadata": {},
   "outputs": [
    {
     "data": {
      "text/plain": [
       "<matplotlib.collections.PathCollection at 0x7f8c66e42cb0>"
      ]
     },
     "execution_count": 89,
     "metadata": {},
     "output_type": "execute_result"
    },
    {
     "data": {
      "image/png": "[encoded data removed]",
      "text/plain": [
       "<Figure size 640x480 with 1 Axes>"
      ]
     },
     "metadata": {},
     "output_type": "display_data"
    }
   ],
   "source": [
    "norms = torch.linalg.norm(perp, dim=-1)\n",
    "perp = perp / ((norms + (norms == 0)).unsqueeze(-1))\n",
    "delta = (p*perp)\n",
    "new_hits = hits + delta\n",
    "plt.scatter(hits[INDEX][good_hits[INDEX]][:, 0], hits[INDEX][good_hits[INDEX]][:, 1])\n",
    "plt.scatter(new_hits[INDEX][good_hits[INDEX]][:, 0], new_hits[INDEX][good_hits[INDEX]][:, 1])"
   ]
  },
  {
   "cell_type": "code",
   "execution_count": null,
   "id": "ea5c9b42",
   "metadata": {},
   "outputs": [],
   "source": []
  },
  {
   "cell_type": "code",
   "execution_count": null,
   "id": "97e5e348",
   "metadata": {},
   "outputs": [],
   "source": []
  }
 ],
 "metadata": {
  "kernelspec": {
   "display_name": "Python 3 (ipykernel)",
   "language": "python",
   "name": "python3"
  },
  "language_info": {
   "codemirror_mode": {
    "name": "ipython",
    "version": 3
   },
   "file_extension": ".py",
   "mimetype": "text/x-python",
   "name": "python",
   "nbconvert_exporter": "python",
   "pygments_lexer": "ipython3",
   "version": "3.10.9"
  }
 },
 "nbformat": 4,
 "nbformat_minor": 5
}
