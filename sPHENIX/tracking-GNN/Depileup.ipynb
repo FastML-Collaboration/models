{
 "cells": [
  {
   "cell_type": "code",
   "execution_count": 1,
   "id": "fd3c1658",
   "metadata": {},
   "outputs": [],
   "source": [
    "from dataclasses import replace\n",
    "import numpy as np\n",
    "import os\n",
    "import torch\n",
    "import matplotlib.pyplot as plt\n",
    "import os.path\n",
    "import sys\n",
    "import logging\n",
    "import pickle\n",
    "from collections import defaultdict\n",
    "from sklearn.linear_model import LinearRegression\n",
    "from models.agnn import GNNSegmentClassifier\n",
    "from icecream import ic\n",
    "from numpy.linalg import inv\n",
    "import sklearn.metrics as metrics\n",
    "from datasets import get_data_loaders\n",
    "from tqdm.notebook import tqdm"
   ]
  },
  {
   "cell_type": "code",
   "execution_count": 2,
   "id": "a1a9e077",
   "metadata": {},
   "outputs": [],
   "source": [
    "DEVICE = \"cuda:0\""
   ]
  },
  {
   "cell_type": "code",
   "execution_count": 3,
   "id": "eb5ddd62",
   "metadata": {},
   "outputs": [
    {
     "name": "stdout",
     "output_type": "stream",
     "text": [
      "/home1/giorgian/projects/trigger-detection-pipeline/sPHENIX/tracking_results/agnn/agnn-lr0.003402877625756795-b32-d8-ReLU-gi1-ln-False-n1000000/experiment_2024-05-12_10:28:01/checkpoints/model_checkpoint_011.pth.tar\n",
      "Successfully reloaded!\n"
     ]
    }
   ],
   "source": [
    "# create model and load checkpoint\n",
    "#model_result_folder = '/home1/giorgian/projects/trigger-detection-pipeline/sPHENIX/trigger_results/agnn/agnn-lr8.19806576478371e-05-b12-d71-PReLU-gi1-ln-True-n1600000/experiment_2024-04-26_13:41:37'\n",
    "model_result_folder = '/home1/giorgian/projects/trigger-detection-pipeline/sPHENIX/tracking_results/agnn/agnn-lr0.003402877625756795-b32-d8-ReLU-gi1-ln-False-n1000000/experiment_2024-05-12_10:28:01/'\n",
    "config_file = model_result_folder + '/config.pkl'\n",
    "config = pickle.load(open(config_file, 'rb'))\n",
    "data_config = config.get('data')\n",
    "dphi_max, dz_max = data_config['phi_slope_max'], data_config['z0_max']\n",
    "\n",
    "model_config = config.get('model', {})\n",
    "model_config.pop('loss_func')\n",
    "model_config.pop('name')\n",
    "model = GNNSegmentClassifier(**model_config).to(DEVICE)\n",
    "\n",
    "def load_checkpoint(checkpoint_file, model, optimizer=None):\n",
    "    checkpoint = torch.load(checkpoint_file, map_location=torch.device('cpu'))\n",
    "    model.load_state_dict(checkpoint['model'])\n",
    "    if optimizer != None:\n",
    "        optimizer.load_state_dict(checkpoint['optimizer'])\n",
    "        return model, optimizer\n",
    "    return model\n",
    "\n",
    "# load_checkpoint\n",
    "checkpoint_dir = os.path.join(model_result_folder, 'checkpoints')\n",
    "checkpoint_file = sorted([os.path.join(checkpoint_dir, f) for f in os.listdir(checkpoint_dir) if f.startswith('model_checkpoint')])\n",
    "checkpoint_file = checkpoint_file[-1]\n",
    "print(checkpoint_file)\n",
    "model = load_checkpoint(checkpoint_file, model)\n",
    "print('Successfully reloaded!')"
   ]
  },
  {
   "cell_type": "code",
   "execution_count": 4,
   "id": "daf41004",
   "metadata": {},
   "outputs": [
    {
     "data": {
      "text/plain": [
       "{'batch_size': 32,\n",
       " 'input_dir': '/ssd3/giorgian/hits-data-march-2024/trigger/1/',\n",
       " 'input_dir2': '/ssd2/giorgian/hits-data-august-2022/nontrigger/0/',\n",
       " 'n_folders': 2,\n",
       " 'n_mix': 12,\n",
       " 'n_train': 500000,\n",
       " 'n_valid': 100000,\n",
       " 'n_workers': 16,\n",
       " 'name': 'hit_graph',\n",
       " 'phi_slope_max': 0.012193355583173944,\n",
       " 'real_weight': 1.9483161321292215,\n",
       " 'use_intt': True,\n",
       " 'z0_max': 14.220353082111805}"
      ]
     },
     "execution_count": 4,
     "metadata": {},
     "output_type": "execute_result"
    }
   ],
   "source": [
    "data_config"
   ]
  },
  {
   "cell_type": "code",
   "execution_count": 5,
   "id": "9e059db7",
   "metadata": {},
   "outputs": [],
   "source": [
    "#data_config['n_train'] = 1\n",
    "data_config['n_valid'] = 100000\n",
    "#data_config['input_dir2'] = '/ssd1/giorgian/hits-data-august-2022-ctypes/trigger/1'\n",
    "#data_config['force_inputdir2_nontrigger'] = True"
   ]
  },
  {
   "cell_type": "code",
   "execution_count": 6,
   "id": "c13f7fab",
   "metadata": {},
   "outputs": [],
   "source": [
    "train_data_loader, valid_data_loader = get_data_loaders(distributed=False, rank=0, n_ranks=0, **data_config)\n"
   ]
  },
  {
   "cell_type": "code",
   "execution_count": 7,
   "id": "151292e5",
   "metadata": {},
   "outputs": [],
   "source": [
    "batch = next(iter(valid_data_loader))"
   ]
  },
  {
   "cell_type": "code",
   "execution_count": 8,
   "id": "247427ad",
   "metadata": {
    "scrolled": true
   },
   "outputs": [
    {
     "data": {
      "text/plain": [
       "DataBatch(x=[24589, 5], edge_index=[2, 19269], y=[19269], w=[19269], i=[32], active_node=[24589], filename=[32], batch=[24589], ptr=[33])"
      ]
     },
     "execution_count": 8,
     "metadata": {},
     "output_type": "execute_result"
    }
   ],
   "source": [
    "batch"
   ]
  },
  {
   "cell_type": "code",
   "execution_count": null,
   "id": "263c6ea8",
   "metadata": {},
   "outputs": [],
   "source": [
    "model."
   ]
  },
  {
   "cell_type": "code",
   "execution_count": 17,
   "id": "bdf8df09",
   "metadata": {},
   "outputs": [
    {
     "ename": "RuntimeError",
     "evalue": "indices should be either on cpu or on the same device as the indexed tensor (cpu)",
     "output_type": "error",
     "traceback": [
      "\u001b[0;31m---------------------------------------------------------------------------\u001b[0m",
      "\u001b[0;31mRuntimeError\u001b[0m                              Traceback (most recent call last)",
      "Cell \u001b[0;32mIn[17], line 1\u001b[0m\n\u001b[0;32m----> 1\u001b[0m \u001b[43mpp\u001b[49m\u001b[43m[\u001b[49m\u001b[43mbatch\u001b[49m\u001b[38;5;241;43m.\u001b[39;49m\u001b[43medge_index\u001b[49m\u001b[43m[\u001b[49m\u001b[38;5;241;43m0\u001b[39;49m\u001b[43m]\u001b[49m\u001b[43m]\u001b[49m\n",
      "\u001b[0;31mRuntimeError\u001b[0m: indices should be either on cpu or on the same device as the indexed tensor (cpu)"
     ]
    }
   ],
   "source": [
    "pp[batch.edge_index[0]"
   ]
  },
  {
   "cell_type": "code",
   "execution_count": 19,
   "id": "13152db5",
   "metadata": {},
   "outputs": [
    {
     "data": {
      "application/vnd.jupyter.widget-view+json": {
       "model_id": "cce55adc39764d39ac7cd62be8089130",
       "version_major": 2,
       "version_minor": 0
      },
      "text/plain": [
       "  0%|          | 0/6250 [00:00<?, ?it/s]"
      ]
     },
     "metadata": {},
     "output_type": "display_data"
    }
   ],
   "source": [
    "pred_edges, target_edges = [], []\n",
    "pred_nodes, target_nodes, target_nodes_1 = [], [], []\n",
    "sigmoid = torch.nn.Sigmoid()\n",
    "model.eval()\n",
    "for batch in tqdm(valid_data_loader):\n",
    "    true_keep = batch.y.to(torch.bool)\n",
    "    pred_keep = (model(batch.to(DEVICE)) > 0)\n",
    "    pred_edges.extend(pred_keep.detach().cpu().numpy())\n",
    "    target_edges.extend(true_keep.detach().cpu().numpy())\n",
    "    pp = torch.zeros(batch.x.shape[0], dtype=bool)\n",
    "    vv = torch.zeros(batch.x.shape[0], dtype=bool)\n",
    "    pp[batch.edge_index[0][pred_keep]] = 1\n",
    "    pp[batch.edge_index[1][pred_keep]] = 1\n",
    "    vv[batch.edge_index[0][true_keep]] = 1\n",
    "    vv[batch.edge_index[1][true_keep]] = 1\n",
    "    pred_nodes.extend(pp.detach().cpu().numpy())\n",
    "    target_nodes_1.extend(vv.detach().cpu().numpy())\n",
    "    target_nodes.extend(batch.active_node.detach().cpu().numpy())"
   ]
  },
  {
   "cell_type": "code",
   "execution_count": 36,
   "id": "a2cdfd8c",
   "metadata": {},
   "outputs": [],
   "source": [
    "pred_edges = np.array(pred_edges)\n",
    "target_edges = np.array(target_edges)\n",
    "pred_nodes = np.array(pred_nodes)\n",
    "target_nodes = np.array(target_nodes, dtype=bool)\n",
    "target_nodes_1 = np.array(target_nodes_1, dtype=bool)"
   ]
  },
  {
   "cell_type": "code",
   "execution_count": 37,
   "id": "beb504ce",
   "metadata": {},
   "outputs": [],
   "source": [
    "tp_e = np.sum(pred_edges*target_edges)\n",
    "tn_e = np.sum(~pred_edges*~target_edges)\n",
    "fn_e = np.sum(~pred_edges*target_edges)\n",
    "fp_e = np.sum(pred_edges*~target_edges)"
   ]
  },
  {
   "cell_type": "code",
   "execution_count": 39,
   "id": "a50a11e1",
   "metadata": {},
   "outputs": [],
   "source": [
    "tp_n = np.sum(pred_nodes*target_nodes)\n",
    "tn_n = np.sum(~pred_nodes*~target_nodes)\n",
    "fn_n = np.sum(~pred_nodes*target_nodes)\n",
    "fp_n = np.sum(pred_nodes*~target_nodes)"
   ]
  },
  {
   "cell_type": "code",
   "execution_count": 40,
   "id": "7d520bd5",
   "metadata": {},
   "outputs": [],
   "source": [
    "tp_n1 = np.sum(pred_nodes*target_nodes_1)\n",
    "tn_n1 = np.sum(~pred_nodes*~target_nodes_1)\n",
    "fn_n1 = np.sum(~pred_nodes*target_nodes_1)\n",
    "fp_n1 = np.sum(pred_nodes*~target_nodes_1)"
   ]
  },
  {
   "cell_type": "code",
   "execution_count": 30,
   "id": "2ca49f09",
   "metadata": {},
   "outputs": [],
   "source": [
    "acc_e = (tp_e + tn_e)/(tp_e + tn_e + fp_e + fn_e)\n",
    "prec_e = tp_e/(tp_e + fp_e)\n",
    "recall_e = tp_e/(tp_e + fn_e)"
   ]
  },
  {
   "cell_type": "code",
   "execution_count": 43,
   "id": "015c75b6",
   "metadata": {},
   "outputs": [
    {
     "data": {
      "text/plain": [
       "(0.9481090201418167, 0.7383537713173866, 0.8346001612381303)"
      ]
     },
     "execution_count": 43,
     "metadata": {},
     "output_type": "execute_result"
    }
   ],
   "source": [
    "acc_e, prec_e, recall_e"
   ]
  },
  {
   "cell_type": "code",
   "execution_count": 47,
   "id": "ac524aba",
   "metadata": {},
   "outputs": [],
   "source": [
    "acc_n = (tp_n + tn_n)/(tp_n + tn_n + fp_n + fn_n)\n",
    "prec_n = tp_n/(tp_n + fp_n)\n",
    "recall_n = tp_n/(tp_n + fn_n)"
   ]
  },
  {
   "cell_type": "code",
   "execution_count": 48,
   "id": "3fe12898",
   "metadata": {},
   "outputs": [
    {
     "data": {
      "text/plain": [
       "(0.9299118820420145, 0.8033930948246946, 0.6189553260821183)"
      ]
     },
     "execution_count": 48,
     "metadata": {},
     "output_type": "execute_result"
    }
   ],
   "source": [
    "acc_n, prec_n, recall_n"
   ]
  },
  {
   "cell_type": "code",
   "execution_count": 49,
   "id": "c7ac7373",
   "metadata": {},
   "outputs": [],
   "source": [
    "acc_n1 = (tp_n1 + tn_n1)/(tp_n1 + tn_n1 + fp_n1 + fn_n1)\n",
    "prec_n1 = tp_n1/(tp_n1 + fp_n1)\n",
    "recall_n1 = tp_n1/(tp_n1 + fn_n1)"
   ]
  },
  {
   "cell_type": "code",
   "execution_count": 50,
   "id": "06e68899",
   "metadata": {},
   "outputs": [
    {
     "data": {
      "text/plain": [
       "(0.9679490989245305, 0.7646659547412282, 0.9044890971115359)"
      ]
     },
     "execution_count": 50,
     "metadata": {},
     "output_type": "execute_result"
    }
   ],
   "source": [
    "acc_n1, prec_n1, recall_n1"
   ]
  },
  {
   "cell_type": "code",
   "execution_count": null,
   "id": "e8d04ef2",
   "metadata": {},
   "outputs": [],
   "source": []
  }
 ],
 "metadata": {
  "kernelspec": {
   "display_name": "Python 3 (ipykernel)",
   "language": "python",
   "name": "python3"
  },
  "language_info": {
   "codemirror_mode": {
    "name": "ipython",
    "version": 3
   },
   "file_extension": ".py",
   "mimetype": "text/x-python",
   "name": "python",
   "nbconvert_exporter": "python",
   "pygments_lexer": "ipython3",
   "version": "3.10.9"
  }
 },
 "nbformat": 4,
 "nbformat_minor": 5
}
