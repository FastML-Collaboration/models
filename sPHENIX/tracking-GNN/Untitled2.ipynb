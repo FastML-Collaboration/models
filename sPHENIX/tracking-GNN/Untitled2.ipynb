{
 "cells": [
  {
   "cell_type": "code",
   "execution_count": 6,
   "id": "92820d1a-8168-4568-9e8e-a86158b44dd1",
   "metadata": {},
   "outputs": [],
   "source": [
    "import numpy as np\n",
    "import glob\n",
    "import matplotlib.pyplot as plt"
   ]
  },
  {
   "cell_type": "code",
   "execution_count": 10,
   "id": "fb346101-9f32-48af-8b87-08b5753ddd99",
   "metadata": {},
   "outputs": [],
   "source": [
    "files = glob.glob('/ssd3/giorgian/shuyang-hits-2024/trigger/1/*.npz')"
   ]
  },
  {
   "cell_type": "code",
   "execution_count": 11,
   "id": "2a60bb0b-51cb-4ed9-86f8-feb22681d1e1",
   "metadata": {},
   "outputs": [],
   "source": [
    "f = np.load(files[0])"
   ]
  },
  {
   "cell_type": "code",
   "execution_count": 12,
   "id": "efa58215-60b0-4408-9669-004c6d679130",
   "metadata": {},
   "outputs": [],
   "source": [
    "x = f['hit_cartesian']"
   ]
  },
  {
   "cell_type": "code",
   "execution_count": 14,
   "id": "36b231b3-9c11-436a-b5a1-ee46071a31a9",
   "metadata": {},
   "outputs": [
    {
     "data": {
      "text/plain": [
       "(250, 3)"
      ]
     },
     "execution_count": 14,
     "metadata": {},
     "output_type": "execute_result"
    }
   ],
   "source": [
    "x.shape"
   ]
  },
  {
   "cell_type": "code",
   "execution_count": 15,
   "id": "e4e936ad-cc53-428a-816b-e8bf06380aa4",
   "metadata": {},
   "outputs": [],
   "source": [
    "f =  np.load('/ssd3/giorgian/shuyang-hits-2024/trigger/1/event100044085.npz')"
   ]
  },
  {
   "cell_type": "code",
   "execution_count": 16,
   "id": "747fe863-f1a2-4f71-b02a-9974f9ff274a",
   "metadata": {},
   "outputs": [],
   "source": [
    "x = f['hit_cartesian']"
   ]
  },
  {
   "cell_type": "code",
   "execution_count": 17,
   "id": "a6b66439-74ec-420b-ad61-3b770a676052",
   "metadata": {},
   "outputs": [
    {
     "data": {
      "text/plain": [
       "(348, 3)"
      ]
     },
     "execution_count": 17,
     "metadata": {},
     "output_type": "execute_result"
    }
   ],
   "source": [
    "x.shape"
   ]
  },
  {
   "cell_type": "code",
   "execution_count": 18,
   "id": "e5bd4180-20c8-48b4-acfb-a7122a909443",
   "metadata": {},
   "outputs": [
    {
     "data": {
      "text/plain": [
       "(4004, 5)"
      ]
     },
     "execution_count": 18,
     "metadata": {},
     "output_type": "execute_result"
    }
   ],
   "source": [
    "f['x'].shape"
   ]
  },
  {
   "cell_type": "code",
   "execution_count": null,
   "id": "bbab33d2-8915-449c-ae92-fd30cef80496",
   "metadata": {},
   "outputs": [],
   "source": []
  }
 ],
 "metadata": {
  "kernelspec": {
   "display_name": "Python 3 (ipykernel)",
   "language": "python",
   "name": "python3"
  },
  "language_info": {
   "codemirror_mode": {
    "name": "ipython",
    "version": 3
   },
   "file_extension": ".py",
   "mimetype": "text/x-python",
   "name": "python",
   "nbconvert_exporter": "python",
   "pygments_lexer": "ipython3",
   "version": "3.12.4"
  }
 },
 "nbformat": 4,
 "nbformat_minor": 5
}
