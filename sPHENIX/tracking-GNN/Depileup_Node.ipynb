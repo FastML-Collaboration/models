{
 "cells": [
  {
   "cell_type": "code",
   "execution_count": 30,
   "id": "7c90adbd",
   "metadata": {},
   "outputs": [],
   "source": [
    "from dataclasses import replace\n",
    "import numpy as np\n",
    "import os\n",
    "import torch\n",
    "import matplotlib.pyplot as plt\n",
    "import os.path\n",
    "import sys\n",
    "import logging\n",
    "import pickle\n",
    "from collections import defaultdict\n",
    "from sklearn.linear_model import LinearRegression\n",
    "from models.agat_active import GNNGraphClassifier\n",
    "from icecream import ic\n",
    "from numpy.linalg import inv\n",
    "import sklearn.metrics as metrics\n",
    "from datasets import get_data_loaders\n",
    "from tqdm.notebook import tqdm\n",
    "from itertools import islice"
   ]
  },
  {
   "cell_type": "code",
   "execution_count": 7,
   "id": "6fee4e36",
   "metadata": {},
   "outputs": [],
   "source": [
    "DEVICE = \"cuda:0\""
   ]
  },
  {
   "cell_type": "code",
   "execution_count": 23,
   "id": "e124172c",
   "metadata": {},
   "outputs": [
    {
     "name": "stdout",
     "output_type": "stream",
     "text": [
      "/home1/giorgian/projects/trigger-detection-pipeline/sPHENIX/trigger_results/agnn/agnn-lr6.510991469352465e-05-b12-d195-PReLU-gi1-ln-True-n1600000/experiment_2024-06-14_21:00:31/checkpoints/model_checkpoint_009.pth.tar\n",
      "Successfully reloaded!\n"
     ]
    }
   ],
   "source": [
    "# create model and load checkpoint\n",
    "model_result_folder = '/home1/giorgian/projects/trigger-detection-pipeline/sPHENIX/trigger_results/agnn/agnn-lr0.0003069749633622793-b12-d162-PReLU-gi1-ln-True-n1600000/experiment_2024-06-07_06:17:01/'\n",
    "model_result_folder = '/home1/giorgian/projects/trigger-detection-pipeline/sPHENIX/trigger_results/agnn/agnn-lr0.00036853851933573274-b12-d158-PReLU-gi1-ln-True-n1600000/experiment_2024-06-12_23:34:07'\n",
    "model_result_folder = 'tracking_results/train/trigger-gnn-lr0.0001-b12-d16-ReLU-gi1-ln-True-n160000/experiment_2024-06-14_09:29:48'\n",
    "model_result_folder = '/home1/giorgian/projects/trigger-detection-pipeline/sPHENIX/trigger_results/agnn/agnn-lr6.510991469352465e-05-b12-d195-PReLU-gi1-ln-True-n1600000/experiment_2024-06-14_21:00:31'\n",
    "#model_results_folder = '/home/giorgian/projects/trigger-detection-pipeline/sPHENIX/tracking_results/train/trigger-gnn-lr0.0001-b12-d16-ReLU-gi1-ln-True-n160000/experiment_2024-06-09_13:38:00/'\n",
    "#model_results_folder = '/home1/giorgian/projects/trigger-detection-pipeline/sPHENIX/trigger_results/agnn/agnn-lr0.0004952229901612476-b12-d77-PReLU-gi1-ln-True-n1600000/experiment_2024-06-09_08:06:20'\n",
    "config_file = model_result_folder + '/config.pkl'\n",
    "config = pickle.load(open(config_file, 'rb'))\n",
    "data_config = config.get('data')\n",
    "dphi_max, dz_max = data_config['phi_slope_max'], data_config['z0_max']\n",
    "\n",
    "model_config = config.get('model', {})\n",
    "model_config.pop('loss_func')\n",
    "model_config.pop('name')\n",
    "model = GNNGraphClassifier(**model_config).to(DEVICE)\n",
    "\n",
    "def load_checkpoint(checkpoint_file, model, optimizer=None):\n",
    "    checkpoint = torch.load(checkpoint_file, map_location=torch.device('cpu'))\n",
    "    model.load_state_dict(checkpoint['model'])\n",
    "    if optimizer != None:\n",
    "        optimizer.load_state_dict(checkpoint['optimizer'])\n",
    "        return model, optimizer\n",
    "    return model\n",
    "\n",
    "# load_checkpoint\n",
    "checkpoint_dir = os.path.join(model_result_folder, 'checkpoints')\n",
    "checkpoint_file = sorted([os.path.join(checkpoint_dir, f) for f in os.listdir(checkpoint_dir) if f.startswith('model_checkpoint')])\n",
    "checkpoint_file = checkpoint_file[-1]\n",
    "print(checkpoint_file)\n",
    "model = load_checkpoint(checkpoint_file, model)\n",
    "print('Successfully reloaded!')"
   ]
  },
  {
   "cell_type": "code",
   "execution_count": 24,
   "id": "371d99c7",
   "metadata": {},
   "outputs": [],
   "source": [
    "train_data_loader, valid_data_loader = get_data_loaders(distributed=False, rank=0, n_ranks=0, **data_config)\n"
   ]
  },
  {
   "cell_type": "code",
   "execution_count": 15,
   "id": "1c696706",
   "metadata": {},
   "outputs": [
    {
     "ename": "NameError",
     "evalue": "name 'batch' is not defined",
     "output_type": "error",
     "traceback": [
      "\u001b[0;31m---------------------------------------------------------------------------\u001b[0m",
      "\u001b[0;31mNameError\u001b[0m                                 Traceback (most recent call last)",
      "Cell \u001b[0;32mIn[15], line 1\u001b[0m\n\u001b[0;32m----> 1\u001b[0m \u001b[43mbatch\u001b[49m\n",
      "\u001b[0;31mNameError\u001b[0m: name 'batch' is not defined"
     ]
    }
   ],
   "source": [
    "batch"
   ]
  },
  {
   "cell_type": "code",
   "execution_count": 41,
   "id": "4235ca67",
   "metadata": {},
   "outputs": [
    {
     "data": {
      "application/vnd.jupyter.widget-view+json": {
       "model_id": "aba30297b3d24ba2b15be0001c734e7b",
       "version_major": 2,
       "version_minor": 0
      },
      "text/plain": [
       "0it [00:00, ?it/s]"
      ]
     },
     "metadata": {},
     "output_type": "display_data"
    }
   ],
   "source": [
    "pred_nodes = []\n",
    "target_nodes = []\n",
    "target_node_layers = []\n",
    "for batch in tqdm(islice(train_data_loader, 0, 1000)):\n",
    "    b = 0\n",
    "    preds = model(batch.to(DEVICE)).squeeze(0) > 0\n",
    "    pred_nodes.extend(preds.detach().cpu().numpy())\n",
    "    target_nodes.extend(batch.active_node.detach().cpu().numpy())\n",
    "    target_node_layers.extend(batch.x[:, 4].detach().cpu().numpy())\n",
    "\n",
    "pred_nodes = np.array(pred_nodes)\n",
    "target_nodes = np.array(target_nodes, dtype=bool)\n",
    "target_node_layers = np.array(target_node_layers)"
   ]
  },
  {
   "cell_type": "code",
   "execution_count": 38,
   "id": "b084fe47",
   "metadata": {},
   "outputs": [
    {
     "data": {
      "text/plain": [
       "array([-2, -2, -2, ..., -1, -1, -1])"
      ]
     },
     "execution_count": 38,
     "metadata": {},
     "output_type": "execute_result"
    }
   ],
   "source": [
    "~target_nodes"
   ]
  },
  {
   "cell_type": "code",
   "execution_count": 43,
   "id": "bfa5621f",
   "metadata": {},
   "outputs": [
    {
     "name": "stdout",
     "output_type": "stream",
     "text": [
      "layer 0 recall: 0.0\n",
      "layer 0 precision: nan\n",
      "layer 1 recall: 0.5157048605311508\n",
      "layer 1 precision: 0.8266355202741597\n",
      "layer 2 recall: 0.5753988496244569\n",
      "layer 2 precision: 0.8566882942574491\n",
      "layer 3 recall: 1.0\n",
      "layer 3 precision: 0.9851321753414657\n"
     ]
    },
    {
     "name": "stderr",
     "output_type": "stream",
     "text": [
      "/tmp/ipykernel_414749/3483693012.py:8: RuntimeWarning: invalid value encountered in long_scalars\n",
      "  print(f'layer {i} precision: {tp_n/(tp_n + fp_n)}')\n"
     ]
    },
    {
     "name": "stdout",
     "output_type": "stream",
     "text": [
      "layer 4 recall: 1.0\n",
      "layer 4 precision: 0.9854211927669514\n",
      "layer 5 recall: 1.0\n",
      "layer 5 precision: 0.9860496964097148\n"
     ]
    }
   ],
   "source": [
    "for i in range(6):\n",
    "    mask = target_node_layers == i\n",
    "    tp_n = np.sum(pred_nodes[mask]*target_nodes[mask])\n",
    "    tn_n = np.sum(~pred_nodes[mask]*~target_nodes[mask])\n",
    "    fn_n = np.sum(~pred_nodes[mask]*target_nodes[mask])\n",
    "    fp_n = np.sum(pred_nodes[mask]*~target_nodes[mask])\n",
    "    print(f'layer {i} recall: {tp_n/(tp_n + fn_n)}')\n",
    "    print(f'layer {i} precision: {tp_n/(tp_n + fp_n)}')\n",
    "    "
   ]
  },
  {
   "cell_type": "code",
   "execution_count": 29,
   "id": "89dc495e",
   "metadata": {},
   "outputs": [
    {
     "data": {
      "application/vnd.jupyter.widget-view+json": {
       "model_id": "504c18c1adf04e5fb22132a3d2ae803d",
       "version_major": 2,
       "version_minor": 0
      },
      "text/plain": [
       "  0%|          | 0/133334 [00:01<?, ?it/s]"
      ]
     },
     "metadata": {},
     "output_type": "display_data"
    },
    {
     "name": "stdout",
     "output_type": "stream",
     "text": [
      "torch.sum(preds)/preds.shape[0]=tensor(0.1286)\n"
     ]
    },
    {
     "data": {
      "image/png": "[encoded data removed]",
      "text/plain": [
       "<Figure size 640x480 with 1 Axes>"
      ]
     },
     "metadata": {},
     "output_type": "display_data"
    }
   ],
   "source": [
    "for batch in tqdm(train_data_loader):\n",
    "    b = 0\n",
    "    coords = batch.x[batch.batch == b]\n",
    "    gt = batch.active_node[batch.batch == b].to(torch.bool)\n",
    "    x = coords[:, 0]*np.cos(coords[:, 1])\n",
    "    y = coords[:, 0]*np.sin(coords[:, 1])\n",
    "    preds = model(batch.to(DEVICE))[batch.batch == b].squeeze(0).cpu() > 0\n",
    "    print(f'{torch.sum(preds)/preds.shape[0]=}')\n",
    "    plt.scatter(x[~gt & ~preds], y[~gt & ~preds], color='blue', label='TN')\n",
    "    plt.scatter(x[gt & preds], y[gt & preds], color='green', label='TP')\n",
    "    plt.scatter(x[gt & ~preds], y[gt & ~preds], color='yellow', label='FN')\n",
    "    plt.scatter(x[~gt & preds], y[~gt & preds], color='orange', label='FP')\n",
    "    plt.legend()\n",
    "\n",
    "\n",
    "\n",
    "    break"
   ]
  },
  {
   "cell_type": "code",
   "execution_count": 77,
   "id": "4396163e",
   "metadata": {},
   "outputs": [
    {
     "data": {
      "text/plain": [
       "tensor([4., 4., 4., 4., 4., 4., 4., 4., 4., 4., 4., 4., 4., 4., 4., 4., 4., 5.,\n",
       "        5., 5., 5., 5., 5., 5., 5., 5., 5., 5., 5., 5., 5., 5., 6., 6., 6., 6.,\n",
       "        6., 6., 6., 6., 6., 6., 6., 6.])"
      ]
     },
     "execution_count": 77,
     "metadata": {},
     "output_type": "execute_result"
    }
   ],
   "source": [
    "coords[:, 4][coords[:, 4] > 3]"
   ]
  },
  {
   "cell_type": "code",
   "execution_count": 41,
   "id": "356afa68",
   "metadata": {},
   "outputs": [
    {
     "ename": "TypeError",
     "evalue": "can't convert cuda:0 device type tensor to numpy. Use Tensor.cpu() to copy the tensor to host memory first.",
     "output_type": "error",
     "traceback": [
      "\u001b[0;31m---------------------------------------------------------------------------\u001b[0m",
      "\u001b[0;31mTypeError\u001b[0m                                 Traceback (most recent call last)",
      "Cell \u001b[0;32mIn[41], line 3\u001b[0m\n\u001b[1;32m      1\u001b[0m coords \u001b[38;5;241m=\u001b[39m batch\u001b[38;5;241m.\u001b[39mx[batch\u001b[38;5;241m.\u001b[39mbatch \u001b[38;5;241m==\u001b[39m \u001b[38;5;241m0\u001b[39m]\n\u001b[1;32m      2\u001b[0m gt \u001b[38;5;241m=\u001b[39m batch\u001b[38;5;241m.\u001b[39mactive_node[batch\u001b[38;5;241m.\u001b[39mbatch \u001b[38;5;241m==\u001b[39m \u001b[38;5;241m0\u001b[39m]\u001b[38;5;241m.\u001b[39mto(torch\u001b[38;5;241m.\u001b[39mbool)\n\u001b[0;32m----> 3\u001b[0m x \u001b[38;5;241m=\u001b[39m coords[:, \u001b[38;5;241m0\u001b[39m]\u001b[38;5;241m*\u001b[39m\u001b[43mnp\u001b[49m\u001b[38;5;241;43m.\u001b[39;49m\u001b[43mcos\u001b[49m\u001b[43m(\u001b[49m\u001b[43mcoords\u001b[49m\u001b[43m[\u001b[49m\u001b[43m:\u001b[49m\u001b[43m,\u001b[49m\u001b[43m \u001b[49m\u001b[38;5;241;43m1\u001b[39;49m\u001b[43m]\u001b[49m\u001b[43m)\u001b[49m\n\u001b[1;32m      4\u001b[0m y \u001b[38;5;241m=\u001b[39m coords[:, \u001b[38;5;241m0\u001b[39m]\u001b[38;5;241m*\u001b[39mnp\u001b[38;5;241m.\u001b[39msin(coords[:, \u001b[38;5;241m1\u001b[39m])\n\u001b[1;32m      5\u001b[0m preds \u001b[38;5;241m=\u001b[39m model(batch\u001b[38;5;241m.\u001b[39mto(DEVICE))[batch\u001b[38;5;241m.\u001b[39mbatch \u001b[38;5;241m==\u001b[39m \u001b[38;5;241m0\u001b[39m]\u001b[38;5;241m.\u001b[39msqueeze(\u001b[38;5;241m0\u001b[39m)\u001b[38;5;241m.\u001b[39mcpu() \u001b[38;5;241m>\u001b[39m \u001b[38;5;241m0\u001b[39m\n",
      "File \u001b[0;32m~/anaconda3/envs/trigger/lib/python3.10/site-packages/torch/_tensor.py:956\u001b[0m, in \u001b[0;36mTensor.__array__\u001b[0;34m(self, dtype)\u001b[0m\n\u001b[1;32m    954\u001b[0m     \u001b[38;5;28;01mreturn\u001b[39;00m handle_torch_function(Tensor\u001b[38;5;241m.\u001b[39m__array__, (\u001b[38;5;28mself\u001b[39m,), \u001b[38;5;28mself\u001b[39m, dtype\u001b[38;5;241m=\u001b[39mdtype)\n\u001b[1;32m    955\u001b[0m \u001b[38;5;28;01mif\u001b[39;00m dtype \u001b[38;5;129;01mis\u001b[39;00m \u001b[38;5;28;01mNone\u001b[39;00m:\n\u001b[0;32m--> 956\u001b[0m     \u001b[38;5;28;01mreturn\u001b[39;00m \u001b[38;5;28;43mself\u001b[39;49m\u001b[38;5;241;43m.\u001b[39;49m\u001b[43mnumpy\u001b[49m\u001b[43m(\u001b[49m\u001b[43m)\u001b[49m\n\u001b[1;32m    957\u001b[0m \u001b[38;5;28;01melse\u001b[39;00m:\n\u001b[1;32m    958\u001b[0m     \u001b[38;5;28;01mreturn\u001b[39;00m \u001b[38;5;28mself\u001b[39m\u001b[38;5;241m.\u001b[39mnumpy()\u001b[38;5;241m.\u001b[39mastype(dtype, copy\u001b[38;5;241m=\u001b[39m\u001b[38;5;28;01mFalse\u001b[39;00m)\n",
      "\u001b[0;31mTypeError\u001b[0m: can't convert cuda:0 device type tensor to numpy. Use Tensor.cpu() to copy the tensor to host memory first."
     ]
    }
   ],
   "source": [
    "coords = batch.x[batch.batch == 0]\n",
    "gt = batch.active_node[batch.batch == 0].to(torch.bool)\n",
    "x = coords[:, 0]*np.cos(coords[:, 1])\n",
    "y = coords[:, 0]*np.sin(coords[:, 1])\n",
    "preds = model(batch.to(DEVICE))[batch.batch == 0].squeeze(0).cpu() > 0\n",
    "plt.scatter(x[~gt & ~preds], y[~gt & ~preds], color='blue')\n",
    "plt.scatter(x[gt & preds], y[gt & preds], color='red')\n"
   ]
  },
  {
   "cell_type": "code",
   "execution_count": 26,
   "id": "ef4b4475",
   "metadata": {},
   "outputs": [
    {
     "data": {
      "text/plain": [
       "811"
      ]
     },
     "execution_count": 26,
     "metadata": {},
     "output_type": "execute_result"
    }
   ],
   "source": [
    "(preds <= 0).sum()"
   ]
  },
  {
   "cell_type": "code",
   "execution_count": 19,
   "id": "6e23ed9e",
   "metadata": {},
   "outputs": [
    {
     "data": {
      "text/plain": [
       "torch.Size([873])"
      ]
     },
     "execution_count": 19,
     "metadata": {},
     "output_type": "execute_result"
    }
   ],
   "source": [
    "x[gt].shape"
   ]
  },
  {
   "cell_type": "code",
   "execution_count": 15,
   "id": "eef5e2de",
   "metadata": {},
   "outputs": [
    {
     "data": {
      "text/plain": [
       "torch.Size([873])"
      ]
     },
     "execution_count": 15,
     "metadata": {},
     "output_type": "execute_result"
    }
   ],
   "source": [
    "x.shape"
   ]
  },
  {
   "cell_type": "code",
   "execution_count": null,
   "id": "99ab2cf3",
   "metadata": {},
   "outputs": [],
   "source": []
  }
 ],
 "metadata": {
  "kernelspec": {
   "display_name": "Python 3 (ipykernel)",
   "language": "python",
   "name": "python3"
  },
  "language_info": {
   "codemirror_mode": {
    "name": "ipython",
    "version": 3
   },
   "file_extension": ".py",
   "mimetype": "text/x-python",
   "name": "python",
   "nbconvert_exporter": "python",
   "pygments_lexer": "ipython3",
   "version": "3.10.9"
  }
 },
 "nbformat": 4,
 "nbformat_minor": 5
}
