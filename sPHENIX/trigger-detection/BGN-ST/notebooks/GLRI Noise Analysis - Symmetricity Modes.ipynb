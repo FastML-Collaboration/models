{
 "cells": [
  {
   "cell_type": "code",
   "execution_count": 69,
   "id": "e5e07f95",
   "metadata": {},
   "outputs": [
    {
     "name": "stdout",
     "output_type": "stream",
     "text": [
      "/home1/giorgian/projects/trigger-detection-pipeline/sPHENIX/trigger-detection/BGN-ST\n"
     ]
    }
   ],
   "source": [
    "%cd /home1/giorgian/projects/trigger-detection-pipeline/sPHENIX/trigger-detection/BGN-ST"
   ]
  },
  {
   "cell_type": "code",
   "execution_count": 70,
   "id": "ac12ae7b",
   "metadata": {},
   "outputs": [],
   "source": [
    "import torch\n",
    "import pickle\n",
    "from dataloaders import get_data_loaders\n",
    "import matplotlib.pyplot as plt\n",
    "from utils.log import load_checkpoint\n",
    "from collections import defaultdict\n",
    "from itertools import islice\n",
    "from tqdm.notebook import tqdm\n",
    "from models.Bipartite_Attention_gLRI import Bipartite_Attention as Model\n",
    "import numpy as np\n",
    "import matplotlib.colors as colors"
   ]
  },
  {
   "cell_type": "code",
   "execution_count": 71,
   "id": "8f3d0ff6",
   "metadata": {},
   "outputs": [
    {
     "ename": "FileNotFoundError",
     "evalue": "[Errno 2] No such file or directory: 'train_results/biatt-glri/experiment_2023-02-11_03:56:54/config.pkl'",
     "output_type": "error",
     "traceback": [
      "\u001b[0;31m---------------------------------------------------------------------------\u001b[0m",
      "\u001b[0;31mFileNotFoundError\u001b[0m                         Traceback (most recent call last)",
      "Cell \u001b[0;32mIn[71], line 4\u001b[0m\n\u001b[1;32m      2\u001b[0m config_file_path \u001b[38;5;241m=\u001b[39m \u001b[38;5;124m'\u001b[39m\u001b[38;5;124mtrain_results/biatt-glri/experiment_2023-02-11_03:56:54/config.pkl\u001b[39m\u001b[38;5;124m'\u001b[39m\n\u001b[1;32m      3\u001b[0m \u001b[38;5;66;03m#config_file_path = 'train_results/biatt-glri/experiment_2023-02-12_08:24:52/config.pkl'\u001b[39;00m\n\u001b[0;32m----> 4\u001b[0m \u001b[38;5;28;01mwith\u001b[39;00m \u001b[38;5;28;43mopen\u001b[39;49m\u001b[43m(\u001b[49m\u001b[43mconfig_file_path\u001b[49m\u001b[43m,\u001b[49m\u001b[43m \u001b[49m\u001b[38;5;124;43m'\u001b[39;49m\u001b[38;5;124;43mrb\u001b[39;49m\u001b[38;5;124;43m'\u001b[39;49m\u001b[43m)\u001b[49m \u001b[38;5;28;01mas\u001b[39;00m f:\n\u001b[1;32m      5\u001b[0m     config \u001b[38;5;241m=\u001b[39m pickle\u001b[38;5;241m.\u001b[39mload(f)\n",
      "File \u001b[0;32m~/anaconda3/envs/trigger/lib/python3.10/site-packages/IPython/core/interactiveshell.py:282\u001b[0m, in \u001b[0;36m_modified_open\u001b[0;34m(file, *args, **kwargs)\u001b[0m\n\u001b[1;32m    275\u001b[0m \u001b[38;5;28;01mif\u001b[39;00m file \u001b[38;5;129;01min\u001b[39;00m {\u001b[38;5;241m0\u001b[39m, \u001b[38;5;241m1\u001b[39m, \u001b[38;5;241m2\u001b[39m}:\n\u001b[1;32m    276\u001b[0m     \u001b[38;5;28;01mraise\u001b[39;00m \u001b[38;5;167;01mValueError\u001b[39;00m(\n\u001b[1;32m    277\u001b[0m         \u001b[38;5;124mf\u001b[39m\u001b[38;5;124m\"\u001b[39m\u001b[38;5;124mIPython won\u001b[39m\u001b[38;5;124m'\u001b[39m\u001b[38;5;124mt let you open fd=\u001b[39m\u001b[38;5;132;01m{\u001b[39;00mfile\u001b[38;5;132;01m}\u001b[39;00m\u001b[38;5;124m by default \u001b[39m\u001b[38;5;124m\"\u001b[39m\n\u001b[1;32m    278\u001b[0m         \u001b[38;5;124m\"\u001b[39m\u001b[38;5;124mas it is likely to crash IPython. If you know what you are doing, \u001b[39m\u001b[38;5;124m\"\u001b[39m\n\u001b[1;32m    279\u001b[0m         \u001b[38;5;124m\"\u001b[39m\u001b[38;5;124myou can use builtins\u001b[39m\u001b[38;5;124m'\u001b[39m\u001b[38;5;124m open.\u001b[39m\u001b[38;5;124m\"\u001b[39m\n\u001b[1;32m    280\u001b[0m     )\n\u001b[0;32m--> 282\u001b[0m \u001b[38;5;28;01mreturn\u001b[39;00m \u001b[43mio_open\u001b[49m\u001b[43m(\u001b[49m\u001b[43mfile\u001b[49m\u001b[43m,\u001b[49m\u001b[43m \u001b[49m\u001b[38;5;241;43m*\u001b[39;49m\u001b[43margs\u001b[49m\u001b[43m,\u001b[49m\u001b[43m \u001b[49m\u001b[38;5;241;43m*\u001b[39;49m\u001b[38;5;241;43m*\u001b[39;49m\u001b[43mkwargs\u001b[49m\u001b[43m)\u001b[49m\n",
      "\u001b[0;31mFileNotFoundError\u001b[0m: [Errno 2] No such file or directory: 'train_results/biatt-glri/experiment_2023-02-11_03:56:54/config.pkl'"
     ]
    }
   ],
   "source": [
    "# α=0.3\n",
    "config_file_path = 'train_results/biatt-glri/experiment_2023-02-11_03:56:54/config.pkl'\n",
    "#config_file_path = 'train_results/biatt-glri/experiment_2023-02-12_08:24:52/config.pkl'\n",
    "with open(config_file_path, 'rb') as f:\n",
    "    config = pickle.load(f)"
   ]
  },
  {
   "cell_type": "code",
   "execution_count": null,
   "id": "2aa07472",
   "metadata": {},
   "outputs": [],
   "source": [
    "config['lri']['sigma']"
   ]
  },
  {
   "cell_type": "code",
   "execution_count": null,
   "id": "7a21d63f",
   "metadata": {},
   "outputs": [],
   "source": [
    "config['lri']['beta']"
   ]
  },
  {
   "cell_type": "code",
   "execution_count": null,
   "id": "fb2f8101",
   "metadata": {},
   "outputs": [],
   "source": [
    "dconfig = config['data']\n",
    "dconfig['use_trigger'] = True\n",
    "dconfig['use_nontrigger'] = False\n",
    "train_data, val_data, test_data = get_data_loaders(**dconfig)"
   ]
  },
  {
   "cell_type": "code",
   "execution_count": null,
   "id": "a46c9954",
   "metadata": {},
   "outputs": [],
   "source": [
    "DEVICE = 'cuda:0'\n",
    "# α=0.3\n",
    "checkpoint_file = 'train_results/biatt-glri/experiment_2023-02-11_03:56:54/checkpoints/model_checkpoint_012.pth.tar'\n",
    "#checkpoint_file = 'train_results/biatt-glri/experiment_2023-02-12_08:24:52/checkpoints/model_checkpoint_011.pth.tar'\n",
    "mconfig = config['model']\n",
    "model = Model(**mconfig)\n",
    "model = load_checkpoint(checkpoint_file, model)\n",
    "model = model.to(DEVICE)\n",
    "model.eval()"
   ]
  },
  {
   "cell_type": "markdown",
   "id": "b157114b",
   "metadata": {},
   "source": [
    "# Radius Change Analysis"
   ]
  },
  {
   "cell_type": "code",
   "execution_count": null,
   "id": "d499601d",
   "metadata": {},
   "outputs": [],
   "source": [
    "tracks = []\n",
    "sigmas = []\n",
    "good_hits = []\n",
    "tt_tracks = []\n",
    "n_tracks = []\n",
    "momentums = []"
   ]
  },
  {
   "cell_type": "code",
   "execution_count": null,
   "id": "bc970d13",
   "metadata": {},
   "outputs": [],
   "source": [
    "N_BATCHES = len(val_data)\n",
    "for batch in tqdm(islice(val_data, 0, N_BATCHES), total=N_BATCHES):\n",
    "    mask = torch.zeros(batch.track_vector.shape[:-1])\n",
    "    for i, n in enumerate(batch.n_tracks):\n",
    "        mask[i, :n] = 1\n",
    "        \n",
    "    mask = mask.to(DEVICE)\n",
    "    track_vector = batch.track_vector.to(DEVICE)\n",
    "    is_trigger_track = batch.is_trigger_track.to(DEVICE, torch.bool)\n",
    "    trigger = (batch.trigger.to(DEVICE) == 1).unsqueeze(-1)\n",
    "    \n",
    "    _, pred_sigmas, valid_hits = model(track_vector, mask)\n",
    "    tracks.extend(track_vector.detach().cpu().numpy())\n",
    "    sigmas.extend(pred_sigmas.detach().cpu().numpy())\n",
    "    good_hits.extend(valid_hits.detach().cpu().numpy())\n",
    "    tt_tracks.extend(is_trigger_track.unsqueeze(-1).repeat(1, 1, 5).detach().cpu().numpy())\n",
    "    n_tracks.extend(batch.n_tracks.detach().cpu().numpy())\n",
    "    momentums.extend(batch.momentums.detach().cpu().numpy())"
   ]
  },
  {
   "cell_type": "code",
   "execution_count": null,
   "id": "23498a83",
   "metadata": {},
   "outputs": [],
   "source": [
    "tracks[3].shape"
   ]
  },
  {
   "cell_type": "code",
   "execution_count": null,
   "id": "f1dd52f5",
   "metadata": {},
   "outputs": [],
   "source": [
    "N_BATCHES = len(val_data)\n",
    "orig_radii = []\n",
    "new_radii = []\n",
    "is_trigger = []\n",
    "for batch in tqdm(islice(val_data, 0, N_BATCHES), total=N_BATCHES):\n",
    "    mask = torch.zeros(batch.track_vector.shape[:-1])\n",
    "    for i, n in enumerate(batch.n_tracks):\n",
    "        mask[i, :n] = 1\n",
    "        \n",
    "    mask = mask.to(DEVICE)\n",
    "    track_vector = batch.track_vector.to(DEVICE)\n",
    "    is_trigger_track = batch.is_trigger_track.to(DEVICE, torch.bool)\n",
    "    trigger = (batch.trigger.to(DEVICE) == 1).unsqueeze(-1)\n",
    "    \n",
    "    r_orig, r_new = model.get_radii(track_vector, mask)\n",
    "    mask = mask.to(torch.bool)\n",
    "    orig_radii.append(r_orig[mask].detach().cpu().numpy())\n",
    "    new_radii.append(r_new[mask].detach().cpu().numpy())\n",
    "    is_trigger.append(is_trigger_track[mask].detach().cpu().numpy())\n",
    "orig_radii = np.concatenate(orig_radii, axis=0)\n",
    "new_radii = np.concatenate(new_radii, axis=0)\n",
    "is_trigger = np.concatenate(is_trigger, axis=0)"
   ]
  },
  {
   "cell_type": "code",
   "execution_count": null,
   "id": "ea9cfc2b",
   "metadata": {},
   "outputs": [],
   "source": [
    "_ = plt.hist(new_radii[new_radii < 25], bins=500)"
   ]
  },
  {
   "cell_type": "code",
   "execution_count": null,
   "id": "d4d01dad",
   "metadata": {},
   "outputs": [],
   "source": [
    "mask = (orig_radii > 0) & (orig_radii < 25) & is_trigger\n",
    "diff = (new_radii[mask] - orig_radii[mask]) / orig_radii[mask]\n",
    "_ = plt.hist(100*diff[np.abs(diff) < 4], bins=500)\n",
    "plt.xlabel('% Difference')\n",
    "plt.ylabel('Count')\n",
    "plt.title('Trigger Tracks % Radius Change (Cutoff = 400%)')"
   ]
  },
  {
   "cell_type": "code",
   "execution_count": null,
   "id": "a09d41e3",
   "metadata": {},
   "outputs": [],
   "source": [
    "mask = (orig_radii > 0) & (orig_radii < 25)\n",
    "diff = (new_radii[mask] - orig_radii[mask]) / orig_radii[mask]\n",
    "_ = plt.hist(100*diff[np.abs(diff) < 4], bins=500)\n",
    "plt.xlabel('% Difference')\n",
    "plt.ylabel('Count')\n",
    "plt.title('All Tracks % Radius Change (Cutoff = 400%)')"
   ]
  },
  {
   "cell_type": "code",
   "execution_count": 72,
   "id": "4636f53a",
   "metadata": {},
   "outputs": [
    {
     "ename": "NameError",
     "evalue": "name 'orig_radii' is not defined",
     "output_type": "error",
     "traceback": [
      "\u001b[0;31m---------------------------------------------------------------------------\u001b[0m",
      "\u001b[0;31mNameError\u001b[0m                                 Traceback (most recent call last)",
      "Cell \u001b[0;32mIn[72], line 1\u001b[0m\n\u001b[0;32m----> 1\u001b[0m mask \u001b[38;5;241m=\u001b[39m (\u001b[43morig_radii\u001b[49m \u001b[38;5;241m>\u001b[39m \u001b[38;5;241m0\u001b[39m) \u001b[38;5;241m&\u001b[39m (orig_radii \u001b[38;5;241m<\u001b[39m \u001b[38;5;241m25\u001b[39m)\n\u001b[1;32m      2\u001b[0m diff \u001b[38;5;241m=\u001b[39m (new_radii[mask] \u001b[38;5;241m-\u001b[39m orig_radii[mask]) \u001b[38;5;241m/\u001b[39m orig_radii[mask]\n\u001b[1;32m      3\u001b[0m _ \u001b[38;5;241m=\u001b[39m plt\u001b[38;5;241m.\u001b[39mhist(diff, bins\u001b[38;5;241m=\u001b[39m\u001b[38;5;241m500\u001b[39m)\n",
      "\u001b[0;31mNameError\u001b[0m: name 'orig_radii' is not defined"
     ]
    }
   ],
   "source": [
    "mask = (orig_radii > 0) & (orig_radii < 25)\n",
    "diff = (new_radii[mask] - orig_radii[mask]) / orig_radii[mask]\n",
    "_ = plt.hist(diff, bins=500)\n",
    "plt.yscale('log')\n",
    "plt.xlabel('% Difference')\n",
    "plt.xscale('log')\n",
    "plt.ylabel('Count')\n",
    "plt.title('All Tracks % Radius Change')"
   ]
  },
  {
   "cell_type": "code",
   "execution_count": 73,
   "id": "fec2fdde",
   "metadata": {},
   "outputs": [
    {
     "ename": "NameError",
     "evalue": "name 'orig_radii' is not defined",
     "output_type": "error",
     "traceback": [
      "\u001b[0;31m---------------------------------------------------------------------------\u001b[0m",
      "\u001b[0;31mNameError\u001b[0m                                 Traceback (most recent call last)",
      "Cell \u001b[0;32mIn[73], line 1\u001b[0m\n\u001b[0;32m----> 1\u001b[0m mask \u001b[38;5;241m=\u001b[39m (\u001b[43morig_radii\u001b[49m \u001b[38;5;241m>\u001b[39m \u001b[38;5;241m0\u001b[39m) \u001b[38;5;241m&\u001b[39m (orig_radii \u001b[38;5;241m<\u001b[39m \u001b[38;5;241m25\u001b[39m) \u001b[38;5;241m&\u001b[39m is_trigger\n\u001b[1;32m      2\u001b[0m diff \u001b[38;5;241m=\u001b[39m (new_radii[mask] \u001b[38;5;241m-\u001b[39m orig_radii[mask]) \u001b[38;5;241m/\u001b[39m orig_radii[mask]\n\u001b[1;32m      3\u001b[0m _ \u001b[38;5;241m=\u001b[39m plt\u001b[38;5;241m.\u001b[39mhist(diff, bins\u001b[38;5;241m=\u001b[39m\u001b[38;5;241m500\u001b[39m)\n",
      "\u001b[0;31mNameError\u001b[0m: name 'orig_radii' is not defined"
     ]
    }
   ],
   "source": [
    "mask = (orig_radii > 0) & (orig_radii < 25) & is_trigger\n",
    "diff = (new_radii[mask] - orig_radii[mask]) / orig_radii[mask]\n",
    "_ = plt.hist(diff, bins=500)\n",
    "plt.xscale('log')\n",
    "plt.yscale('log')\n",
    "plt.xlabel('% Difference')\n",
    "plt.ylabel('Count')\n",
    "plt.title('Trigger Tracks % Radius Change')"
   ]
  },
  {
   "cell_type": "code",
   "execution_count": 10,
   "id": "b72cd086",
   "metadata": {},
   "outputs": [],
   "source": [
    "plt.hist(orig_radii[orig_radii < 25], bins=500)\n",
    "plt.title('All Tracks Radius Distribution (Cutoff = 25)')\n",
    "plt.xlabel('Radius')\n",
    "plt.ylabel('Count')"
   ]
  },
  {
   "cell_type": "code",
   "execution_count": 11,
   "id": "5fd34a71",
   "metadata": {},
   "outputs": [],
   "source": [
    "plt.hist(orig_radii[(orig_radii < 25) & is_trigger], bins=500)\n",
    "plt.title('Trigger Tracks Radius Distribution (Cutoff = 25)')\n",
    "plt.xlabel('Radius')\n",
    "plt.ylabel('Count')"
   ]
  },
  {
   "cell_type": "code",
   "execution_count": 12,
   "id": "b9c3db7c",
   "metadata": {},
   "outputs": [],
   "source": [
    "plt.hist(orig_radii, bins=500)\n",
    "plt.title('All Tracks Radius Distribution')\n",
    "plt.xlabel('Radius')\n",
    "plt.ylabel('Count')\n",
    "plt.xscale('log')\n",
    "plt.yscale('log')"
   ]
  },
  {
   "cell_type": "code",
   "execution_count": 13,
   "id": "b82a61bf",
   "metadata": {},
   "outputs": [],
   "source": [
    "plt.hist(orig_radii[is_trigger], bins=500)\n",
    "plt.title('Trigger Tracks Radius Distribution')\n",
    "plt.xlabel('Radius')\n",
    "plt.ylabel('Count')\n",
    "plt.xscale('log')\n",
    "plt.yscale('log')"
   ]
  },
  {
   "cell_type": "markdown",
   "id": "b26bc764",
   "metadata": {},
   "source": [
    "# Determinant Analysis"
   ]
  },
  {
   "cell_type": "code",
   "execution_count": 14,
   "id": "0e06e3df",
   "metadata": {},
   "outputs": [],
   "source": [
    "ranks = []\n",
    "for track, sigma, hits_mask, trigger_mask in zip(tracks, sigmas, good_hits, tt_tracks):\n",
    "    hits_mask = hits_mask.reshape(-1)\n",
    "    trigger_mask = trigger_mask.reshape(-1)\n",
    "    mask = hits_mask*trigger_mask\n",
    "    all_hits = track[..., :15].reshape(-1, 3)\n",
    "    sigma = sigma.reshape(-1, 3, 3)\n",
    "    dets = np.linalg.det(sigma)\n",
    "    ranks.append(np.argsort(dets[mask])/np.sum(hits_mask))\n",
    "ranks = np.concatenate(ranks, axis=0)"
   ]
  },
  {
   "cell_type": "code",
   "execution_count": 15,
   "id": "c485d42b",
   "metadata": {},
   "outputs": [],
   "source": [
    "trigger_determinants = []\n",
    "for track, sigma, hits_mask, trigger_mask in zip(tracks, sigmas, good_hits, tt_tracks):\n",
    "    hits_mask = hits_mask.reshape(-1)\n",
    "    trigger_mask = trigger_mask.reshape(-1)\n",
    "    mask = hits_mask * trigger_mask\n",
    "    all_hits = track[..., :15].reshape(-1, 3)\n",
    "    hits = all_hits[mask]\n",
    "    sigma = sigma.reshape(-1, 3, 3)[mask]\n",
    "    trigger_determinants.append(np.linalg.det(sigma))\n",
    "trigger_determinants = np.concatenate(trigger_determinants, axis=0)"
   ]
  },
  {
   "cell_type": "code",
   "execution_count": 16,
   "id": "88a8c465",
   "metadata": {},
   "outputs": [],
   "source": [
    "nontrigger_determinants = []\n",
    "for track, sigma, hits_mask, trigger_mask in zip(tracks, sigmas, good_hits, tt_tracks):\n",
    "    hits_mask = hits_mask.reshape(-1)\n",
    "    trigger_mask = trigger_mask.reshape(-1)\n",
    "    mask = hits_mask * (1-trigger_mask)\n",
    "    all_hits = track[..., :15].reshape(-1, 3)\n",
    "    hits = all_hits[mask]\n",
    "    sigma = sigma.reshape(-1, 3, 3)[mask]\n",
    "    nontrigger_determinants.append(np.linalg.det(sigma))\n",
    "nontrigger_determinants = np.concatenate(nontrigger_determinants, axis=0)"
   ]
  },
  {
   "cell_type": "code",
   "execution_count": 17,
   "id": "9d658189",
   "metadata": {},
   "outputs": [],
   "source": [
    "_ = plt.hist(ranks, bins=100)\n",
    "plt.xlabel('Hit Determinant Rank')\n",
    "plt.ylabel('Count')\n",
    "plt.title('Rank of Trigger Track Hit Determinant')\n",
    "plt.yscale('log')"
   ]
  },
  {
   "cell_type": "code",
   "execution_count": 18,
   "id": "cfec3c47",
   "metadata": {},
   "outputs": [],
   "source": [
    "_ = plt.hist(ranks, bins=100, cumulative=True)\n",
    "plt.xlabel('Hit Determinant Rank')\n",
    "plt.ylabel('Count')\n",
    "plt.title('Rank of Trigger Track Hit Determinant (Cumulative)')"
   ]
  },
  {
   "cell_type": "code",
   "execution_count": 19,
   "id": "67a3b07e",
   "metadata": {},
   "outputs": [],
   "source": [
    "_ = plt.hist(nontrigger_determinants, bins=100, label='Non Trigger')\n",
    "_ = plt.hist(trigger_determinants, bins=100, label='Trigger')\n",
    "plt.xlabel('Hit Determinant')\n",
    "plt.ylabel('Count')\n",
    "plt.title('Track Hit Determinant')\n",
    "plt.legend()\n",
    "plt.yscale('log')"
   ]
  },
  {
   "cell_type": "code",
   "execution_count": 20,
   "id": "d453c378",
   "metadata": {},
   "outputs": [],
   "source": [
    "_ = plt.hist(nontrigger_determinants, bins=100, label='Non Trigger', cumulative=True)\n",
    "_ = plt.hist(trigger_determinants, bins=100, label='Trigger', cumulative=True)\n",
    "plt.xlabel('Hit Determinant')\n",
    "plt.ylabel('Count')\n",
    "plt.title('Track Hit Determinant')\n",
    "plt.legend()"
   ]
  },
  {
   "cell_type": "code",
   "execution_count": 21,
   "id": "1ca6cb7d",
   "metadata": {},
   "outputs": [],
   "source": [
    "def f(x, sigma):\n",
    "    #sigma = sigma[:2, :2]\n",
    "    coeff = 1/np.sqrt(2*np.pi*np.linalg.det(sigma))\n",
    "    sigma_i = np.linalg.inv(sigma)\n",
    "    xp = np.sum(x * np.einsum('...ij,...j->...i', sigma_i, x), axis=-1)\n",
    "    return coeff*np.exp(-1/2*xp)\n",
    "\n",
    "def f(x, sigma):\n",
    "    #sigma = sigma[:2, :2]\n",
    "    coeff = 1/np.sqrt(2*np.pi*np.linalg.det(sigma))\n",
    "    sigma_i = np.linalg.inv(sigma)\n",
    "    xp = np.sum(x * np.einsum('...ij,...j->...i', sigma_i, x), axis=-1)\n",
    "    return -1/2 * xp"
   ]
  },
  {
   "cell_type": "code",
   "execution_count": 22,
   "id": "4e6410eb",
   "metadata": {},
   "outputs": [],
   "source": [
    "x = np.linspace(-1, 1, 100)\n",
    "y = np.linspace(-1, 1, 100)\n",
    "X, Y = np.meshgrid(x, y)\n",
    "p = np.stack([X, Y, np.zeros(X.shape)], axis=-1)\n",
    "levels = np.linspace(-1, 0, 100)"
   ]
  },
  {
   "cell_type": "code",
   "execution_count": 23,
   "id": "77df5d54",
   "metadata": {
    "scrolled": false
   },
   "outputs": [],
   "source": [
    "for track, sigma, hits_mask, trigger_mask in islice(zip(tracks, sigmas, good_hits, tt_tracks), 2, 10):\n",
    "    hits_mask = hits_mask.reshape(-1)\n",
    "    trigger_mask = trigger_mask.reshape(-1)\n",
    "    mask = hits_mask #* trigger_mask\n",
    "    all_hits = track[..., :15].reshape(-1, 3)\n",
    "    hits = all_hits[mask]\n",
    "    sigma = sigma.reshape(-1, 3, 3)[mask]\n",
    "    plt.figure(figsize=(15, 15))\n",
    "    plt.scatter(all_hits[:, 0], all_hits[:, 1])\n",
    "    plt.xlim(-10, 10)\n",
    "    plt.ylim(-10, 10)\n",
    "    for hit, s in zip(hits, sigma):\n",
    "        prob = f(p, 10*s)\n",
    "        #X_t = X[prob > 0.01]\n",
    "        #Y_t = Y[prob > 0.01]\n",
    "        #prob = prob[prob > 0.01]\n",
    "        plt.contour(X + hit[0], Y + hit[1], prob, levels=levels)\n",
    "        \n",
    "        \n",
    "        \n",
    "        \n",
    "    #plt.figure()\n",
    "    #plt.scatter(hits[:, 0], hits[:, 1])\n",
    "    #print(sigma)"
   ]
  },
  {
   "cell_type": "code",
   "execution_count": 24,
   "id": "a03da683",
   "metadata": {
    "scrolled": false
   },
   "outputs": [],
   "source": [
    "for track, sigma, hits_mask, trigger_mask in islice(zip(tracks, sigmas, good_hits, tt_tracks), 2, 3):\n",
    "    hits_mask = hits_mask.reshape(-1)\n",
    "    trigger_mask = trigger_mask.reshape(-1)\n",
    "    mask = hits_mask * trigger_mask\n",
    "    all_hits = track[..., :15].reshape(-1, 3)\n",
    "    hits = all_hits[mask]\n",
    "    sigma = sigma.reshape(-1, 3, 3)[mask]\n",
    "    plt.figure(figsize=(15, 15))\n",
    "    plt.scatter(all_hits[:, 0], all_hits[:, 1])\n",
    "    plt.xlim(-10, 10)\n",
    "    plt.ylim(-10, 10)\n",
    "    for hit, s in zip(hits, sigma):\n",
    "        prob = f(p, s*100)\n",
    "        #X_t = X[prob > 0.01]\n",
    "        #Y_t = Y[prob > 0.01]\n",
    "        #prob = prob[prob > 0.01]\n",
    "        plt.contour(X + hit[0], Y + hit[1], prob, levels)\n",
    "        \n",
    "        \n",
    "        \n",
    "        \n",
    "    #plt.figure()\n",
    "    #plt.scatter(hits[:, 0], hits[:, 1])\n",
    "    #print(sigma)"
   ]
  },
  {
   "cell_type": "markdown",
   "id": "5e0d0e5f",
   "metadata": {},
   "source": [
    "# Covariance Matrix Eigenvalue Analysis"
   ]
  },
  {
   "cell_type": "code",
   "execution_count": 25,
   "id": "a4d66344",
   "metadata": {},
   "outputs": [],
   "source": [
    "alignments = []\n",
    "symmetricities = []\n",
    "for track, sigma, momentum, hits_mask, trigger_mask in zip(tracks, sigmas, momentums, good_hits, tt_tracks):\n",
    "    #print(sigma.shape)\n",
    "    m = np.repeat(np.expand_dims(momentum, 1), 5, axis=1).reshape(-1, 3)\n",
    "    hits_mask = hits_mask.reshape(-1)\n",
    "    trigger_mask = trigger_mask.reshape(-1)\n",
    "    mask = hits_mask * trigger_mask\n",
    "    all_hits = track[..., :15].reshape(-1, 3)\n",
    "    hits = all_hits[mask]\n",
    "    m = m[mask]\n",
    "    sigma = sigma.reshape(-1, 3, 3)[mask]\n",
    "    eigenvalues, eigenvectors = np.linalg.eig(sigma)\n",
    "    m /= np.expand_dims(np.linalg.norm(m, axis=-1), -1)\n",
    "    alignment = np.einsum('hf,hfi->hi', m, eigenvectors)\n",
    "    preferred_direction = np.expand_dims(np.argmax(eigenvalues, axis=-1), -1)\n",
    "    alignments.append(np.abs(np.take_along_axis(alignment, preferred_direction, -1)))\n",
    "    symmetricities.append(np.prod(eigenvalues/np.expand_dims(np.max(eigenvalues, axis=-1), -1), -1))\n",
    "trigger_alignments = np.concatenate(alignments, axis=0)\n",
    "trigger_symmetricities = np.concatenate(symmetricities, axis=0)\n",
    "plt.figure(figsize=(10, 10))\n",
    "h = plt.hist2d(np.squeeze(trigger_symmetricities), np.squeeze(trigger_alignments), bins=50)#, norm=colors.LogNorm())\n",
    "plt.colorbar(h[3])\n",
    "plt.xlabel('Symmetricity')\n",
    "plt.ylabel('Alignment')\n",
    "plt.title('Histogram of Trigger Symmetricites and Alignments')"
   ]
  },
  {
   "cell_type": "code",
   "execution_count": 26,
   "id": "e9d71e2f",
   "metadata": {},
   "outputs": [],
   "source": [
    "alignments = []\n",
    "symmetricities = []\n",
    "for track, sigma, momentum, hits_mask, trigger_mask in zip(tracks, sigmas, momentums, good_hits, tt_tracks):\n",
    "    m = np.repeat(np.expand_dims(momentum, 1), 5, axis=1).reshape(-1, 3)\n",
    "    hits_mask = hits_mask.reshape(-1)\n",
    "    trigger_mask = trigger_mask.reshape(-1)\n",
    "    mask = hits_mask\n",
    "    all_hits = track[..., :15].reshape(-1, 3)\n",
    "    hits = all_hits[mask]\n",
    "    m = m[mask]\n",
    "    sigma = sigma.reshape(-1, 3, 3)[mask]\n",
    "    eigenvalues, eigenvectors = np.linalg.eig(sigma)\n",
    "    m /= np.expand_dims(np.linalg.norm(m, axis=-1), -1)\n",
    "    alignment = np.einsum('hf,hfi->hi', m, eigenvectors)\n",
    "    preferred_direction = np.expand_dims(np.argmax(eigenvalues, axis=-1), -1)\n",
    "    alignments.append(np.abs(np.take_along_axis(alignment, preferred_direction, -1)))\n",
    "    symmetricities.append(np.prod(eigenvalues/np.expand_dims(np.max(eigenvalues, axis=-1), -1), -1))\n",
    "all_alignments = np.concatenate(alignments, axis=0)\n",
    "all_symmetricities = np.concatenate(symmetricities, axis=0)\n",
    "plt.figure(figsize=(10, 10))\n",
    "h = plt.hist2d(np.squeeze(all_symmetricities), np.squeeze(all_alignments), bins=50)#, norm=colors.LogNorm())\n",
    "plt.colorbar(h[3])\n",
    "plt.xlabel('Symmetricity')\n",
    "plt.ylabel('Alignment')\n",
    "plt.title('Histogram of All Symmetricites and Alignments')"
   ]
  },
  {
   "cell_type": "markdown",
   "id": "a5fe558b",
   "metadata": {},
   "source": [
    "## First Mode"
   ]
  },
  {
   "cell_type": "markdown",
   "id": "b7393d85",
   "metadata": {},
   "source": [
    "### All Tracks"
   ]
  },
  {
   "cell_type": "code",
   "execution_count": 27,
   "id": "23f90b23",
   "metadata": {},
   "outputs": [],
   "source": [
    "all_eigenvalues = []\n",
    "for track, sigma, momentum, hits_mask, trigger_mask in zip(tracks, sigmas, momentums, good_hits, tt_tracks):\n",
    "    hits_mask = hits_mask.reshape(-1)\n",
    "    trigger_mask = trigger_mask.reshape(-1)\n",
    "    mask = hits_mask\n",
    "    sigma = sigma.reshape(-1, 3, 3)[mask]\n",
    "    eigenvalues, eigenvectors = np.linalg.eig(sigma)\n",
    "    eigenvalues = np.sort(eigenvalues, axis=-1)\n",
    "    all_eigenvalues.append(eigenvalues)\n",
    "all_eigenvalues = np.concatenate(all_eigenvalues, axis=0)"
   ]
  },
  {
   "cell_type": "code",
   "execution_count": 28,
   "id": "f0b3ea0d",
   "metadata": {},
   "outputs": [],
   "source": [
    "layer_eigenvalues = defaultdict(list)\n",
    "layer_symmetricities = defaultdict(list)\n",
    "for track, sigma, momentum, hits_mask, trigger_mask in zip(tracks, sigmas, momentums, good_hits, tt_tracks):\n",
    "    for layer in range(5):\n",
    "        layer_hits_mask = hits_mask[:, layer:layer+1]\n",
    "        layer_sigma = sigma[:, layer:layer+1, :, :]\n",
    "        \n",
    "        layer_hits_mask = layer_hits_mask.reshape(-1)\n",
    "        mask = layer_hits_mask #* trigger_mask[..., ::5].reshape(-1)\n",
    "        layer_sigma = layer_sigma.reshape(-1, 3, 3)[mask]\n",
    "        eigenvalues, eigenvectors = np.linalg.eig(layer_sigma)\n",
    "        eigenvalues = np.sort(eigenvalues, axis=-1)\n",
    "        layer_eigenvalues[layer].append(eigenvalues)\n",
    "        layer_symmetricities[layer].append(np.prod(eigenvalues/np.expand_dims(np.max(eigenvalues, axis=-1), -1), -1))\n",
    "        \n",
    "for k in layer_eigenvalues.keys():\n",
    "    layer_eigenvalues[k] = np.concatenate(layer_eigenvalues[k], axis=0)\n",
    "    layer_symmetricities[k] = np.concatenate(layer_symmetricities[k], axis=0)"
   ]
  },
  {
   "cell_type": "code",
   "execution_count": 29,
   "id": "e8edbef5",
   "metadata": {},
   "outputs": [],
   "source": [
    "plt.title(\"All Tracks Distribution of Symmetricity\")\n",
    "plt.xlabel('Symmetricity')\n",
    "plt.ylabel('Count')\n",
    "s = plt.hist(all_symmetricities[:N], bins=50)\n",
    "s_bins = s[1]"
   ]
  },
  {
   "cell_type": "code",
   "execution_count": 30,
   "id": "8ff76a3a",
   "metadata": {},
   "outputs": [],
   "source": [
    "N = all_eigenvalues.shape[0]\n",
    "plt.xlabel('Symmetricity')\n",
    "plt.ylabel('$\\lambda_1/\\lambda_2$')\n",
    "plt.scatter(all_symmetricities[:N], all_eigenvalues[:N, 2]/all_eigenvalues[:N, 1])\n",
    "plt.xscale('log')\n",
    "plt.yscale('log')\n",
    "l1 = all_eigenvalues[:N, 2]\n",
    "l2 = all_eigenvalues[:N, 1]\n",
    "l3 = all_eigenvalues[:N, 0]\n",
    "#all_indices = np.arange(N)\n",
    "#cutoff_index = np.argmax(l2[all_symmetricities[:N] <= s_bins[1]]/l3[all_symmetricities[:N] <= s_bins[1]])\n",
    "MODE_1_CUTOFF = np.min(l1[all_symmetricities[:N] <= s_bins[1]]/l2[all_symmetricities[:N] <= s_bins[1]])\n",
    "plt.plot([s_bins[1], s_bins[1]], [plt.ylim()[0], MODE_1_CUTOFF], color='black')\n",
    "plt.plot([plt.xlim()[0], s_bins[1]], [MODE_1_CUTOFF, MODE_1_CUTOFF], color='black')\n",
    "plt.title(f'All Tracks Symmetricity vs $\\lambda_1/\\lambda_2$ (Cutoff={MODE_1_CUTOFF})')"
   ]
  },
  {
   "cell_type": "code",
   "execution_count": 31,
   "id": "c7df4971",
   "metadata": {},
   "outputs": [],
   "source": [
    "for i in range(5):\n",
    "    N = layer_eigenvalues[i].shape[0]\n",
    "    l1 = layer_eigenvalues[i][:N, 2]\n",
    "    l2 = layer_eigenvalues[i][:N, 1]\n",
    "    l3 = layer_eigenvalues[i][:N, 0]\n",
    "    plt.scatter((l1/l2)[layer_symmetricities[i][:N] <= s_bins[1]], (l2/l3)[layer_symmetricities[i][:N] <= s_bins[1]], label=f'Layer {i}')\n",
    "\n",
    "plt.legend()\n",
    "plt.title(f'All Tracks $\\lambda_1/\\lambda_2$ vs $\\lambda_2/\\lambda_3$')\n",
    "plt.xlabel('$\\lambda_1/\\lambda_2$')\n",
    "plt.ylabel('$\\lambda_2/\\lambda_3$')\n",
    "plt.xscale('log')"
   ]
  },
  {
   "cell_type": "code",
   "execution_count": 32,
   "id": "39e2181e",
   "metadata": {},
   "outputs": [],
   "source": [
    "N = all_eigenvalues.shape[0]\n",
    "l1 = all_eigenvalues[:N, 2]\n",
    "l2 = all_eigenvalues[:N, 1]\n",
    "l3 = all_eigenvalues[:N, 0]\n",
    "plt.title('All Tracks \\lambda_1/\\lambda_2$ vs $\\lambda_2/\\lambda_3$ for First Mode')\n",
    "plt.xlabel('$\\lambda_1/\\lambda_2$')\n",
    "plt.ylabel('$\\lambda_2/\\lambda_3$')\n",
    "plt.scatter((l1/l2)[all_symmetricities[:N] <= s_bins[1]], (l2/l3)[all_symmetricities[:N] <= s_bins[1]])\n",
    "plt.xscale('log')\n",
    "#plt.plot((MODE_1_CUTOFF, MODE_1_CUTOFF), plt.ylim())"
   ]
  },
  {
   "cell_type": "code",
   "execution_count": 33,
   "id": "a90003ed",
   "metadata": {},
   "outputs": [],
   "source": [
    "tt_tracks[0].shape"
   ]
  },
  {
   "cell_type": "code",
   "execution_count": 34,
   "id": "f9d6cdb5",
   "metadata": {},
   "outputs": [],
   "source": [
    "N = all_eigenvalues.shape[0]\n",
    "l1 = all_eigenvalues[:N, 2]\n",
    "l2 = all_eigenvalues[:N, 1]\n",
    "l3 = all_eigenvalues[:N, 0]\n",
    "plt.title('All Tracks Distribution of ($\\lambda_1/\\lambda_2$, $\\lambda_2/\\lambda_3$) for First Mode')\n",
    "plt.xlabel('$\\lambda_1/\\lambda_2$')\n",
    "plt.ylabel('$\\lambda_2/\\lambda_3$')\n",
    "h = plt.hist2d((l1/l2)[all_symmetricities[:N] <= s_bins[1]], (l2/l3)[all_symmetricities[:N] <= s_bins[1]], bins=20)\n",
    "plt.colorbar(h[3])\n",
    "#plt.xscale('log')\n",
    "#plt.plot((MODE_1_CUTOFF, MODE_1_CUTOFF), plt.ylim())"
   ]
  },
  {
   "cell_type": "markdown",
   "id": "7d4399fa",
   "metadata": {},
   "source": [
    "### Trigger Tracks"
   ]
  },
  {
   "cell_type": "code",
   "execution_count": 35,
   "id": "d0a18d27",
   "metadata": {},
   "outputs": [],
   "source": [
    "trigger_eigenvalues = []\n",
    "for track, sigma, momentum, hits_mask, trigger_mask in zip(tracks, sigmas, momentums, good_hits, tt_tracks):\n",
    "    hits_mask = hits_mask.reshape(-1)\n",
    "    trigger_mask = trigger_mask.reshape(-1)\n",
    "    mask = hits_mask * trigger_mask\n",
    "    sigma = sigma.reshape(-1, 3, 3)[mask]\n",
    "    eigenvalues, eigenvectors = np.linalg.eig(sigma)\n",
    "    eigenvalues = np.sort(eigenvalues, axis=-1)\n",
    "    trigger_eigenvalues.append(eigenvalues)\n",
    "trigger_eigenvalues = np.concatenate(trigger_eigenvalues, axis=0)"
   ]
  },
  {
   "cell_type": "code",
   "execution_count": 36,
   "id": "a9cc4750",
   "metadata": {},
   "outputs": [],
   "source": [
    "plt.title(\"Trigger Tracks Distribution of Symmetricity\")\n",
    "plt.xlabel('Symmetricity')\n",
    "plt.ylabel('Count')\n",
    "st = plt.hist(trigger_symmetricities[:N], bins=50)\n",
    "st_bins = s[1]"
   ]
  },
  {
   "cell_type": "code",
   "execution_count": 37,
   "id": "274cfde7",
   "metadata": {},
   "outputs": [],
   "source": [
    "N = trigger_eigenvalues.shape[0]\n",
    "plt.xlabel('Symmetricity')\n",
    "plt.ylabel('$\\lambda_1/\\lambda_2$')\n",
    "plt.scatter(trigger_symmetricities[:N], trigger_eigenvalues[:N, 2]/trigger_eigenvalues[:N, 1])\n",
    "plt.xscale('log')\n",
    "plt.yscale('log')\n",
    "l1 = trigger_eigenvalues[:N, 2]\n",
    "l2 = trigger_eigenvalues[:N, 1]\n",
    "l3 = trigger_eigenvalues[:N, 0]\n",
    "#trigger_indices = np.arange(N)\n",
    "#cutoff_index = np.argmax(l2[trigger_symmetricities[:N] <= s_bins[1]]/l3[trigger_symmetricities[:N] <= s_bins[1]])\n",
    "plt.plot([s_bins[1], s_bins[1]], [plt.ylim()[0], MODE_1_CUTOFF], color='black')\n",
    "plt.plot([plt.xlim()[0], s_bins[1]], [MODE_1_CUTOFF, MODE_1_CUTOFF], color='black')\n",
    "plt.title(f'Trigger Tracks Symmetricity vs $\\lambda_1/\\lambda_2$ (Cutoff={MODE_1_CUTOFF})')"
   ]
  },
  {
   "cell_type": "code",
   "execution_count": null,
   "id": "dd532308",
   "metadata": {},
   "outputs": [],
   "source": []
  },
  {
   "cell_type": "code",
   "execution_count": 38,
   "id": "492ee8f5",
   "metadata": {},
   "outputs": [],
   "source": [
    "N = trigger_eigenvalues.shape[0]\n",
    "l1 = trigger_eigenvalues[:N, 2]\n",
    "l2 = trigger_eigenvalues[:N, 1]\n",
    "l3 = trigger_eigenvalues[:N, 0]\n",
    "plt.title('Trigger Tracks $\\lambda_1/\\lambda_2$ vs $\\lambda_2/\\lambda_3$ for First Mode')\n",
    "plt.xlabel('$\\lambda_1/\\lambda_2$')\n",
    "plt.ylabel('$\\lambda_2/\\lambda_3$')\n",
    "plt.scatter((l1/l2)[trigger_symmetricities[:N] <= s_bins[1]], (l2/l3)[trigger_symmetricities[:N] <= s_bins[1]])\n",
    "plt.xscale('log')\n",
    "#plt.plot((MODE_1_CUTOFF, MODE_1_CUTOFF), plt.ylim())"
   ]
  },
  {
   "cell_type": "markdown",
   "id": "6b697920",
   "metadata": {},
   "source": [
    "## Second Mode"
   ]
  },
  {
   "cell_type": "code",
   "execution_count": 39,
   "id": "1b9b3b7b",
   "metadata": {},
   "outputs": [],
   "source": [
    "SECOND_MODE_START, SECOND_MODE_END = s[1][15], s[1][20]"
   ]
  },
  {
   "cell_type": "code",
   "execution_count": 40,
   "id": "0bd9f8b1",
   "metadata": {},
   "outputs": [],
   "source": [
    "FIRST_MODE_END"
   ]
  },
  {
   "cell_type": "code",
   "execution_count": 41,
   "id": "f54c7039",
   "metadata": {},
   "outputs": [],
   "source": [
    "SECOND_MODE_START, SECOND_MODE_END"
   ]
  },
  {
   "cell_type": "code",
   "execution_count": 42,
   "id": "e5ab85c2",
   "metadata": {},
   "outputs": [],
   "source": [
    "THIRD_MODE_START, THIRD_MODE_END"
   ]
  },
  {
   "cell_type": "code",
   "execution_count": 43,
   "id": "1a1c3e40",
   "metadata": {},
   "outputs": [],
   "source": [
    "N = all_eigenvalues.shape[0]\n",
    "mask = (all_symmetricities[:N] >= SECOND_MODE_START) & (all_symmetricities[:N] < SECOND_MODE_END)\n",
    "\n",
    "plt.xlabel('Symmetricity')\n",
    "plt.ylabel('$\\lambda_1/\\lambda_2$')\n",
    "plt.scatter(all_symmetricities[:N][mask], all_eigenvalues[:N, 2][mask]/all_eigenvalues[:N, 1][mask])\n",
    "plt.title(f'All Tracks Symmetricity vs $\\lambda_1/\\lambda_2$')"
   ]
  },
  {
   "cell_type": "code",
   "execution_count": 44,
   "id": "1a816d14",
   "metadata": {
    "scrolled": false
   },
   "outputs": [],
   "source": [
    "for i in range(5):\n",
    "    N = layer_eigenvalues[i].shape[0]\n",
    "    mask = (layer_symmetricities[i][:N] >= SECOND_MODE_START) & (layer_symmetricities[i][:N] < SECOND_MODE_END)\n",
    "\n",
    "\n",
    "    plt.scatter(layer_symmetricities[i][:N][mask], layer_eigenvalues[i][:N, 2][mask]/layer_eigenvalues[i][:N, 1][mask], label=f'Layer {i}')\n",
    "\n",
    "plt.legend(loc='upper right')\n",
    "plt.title(f'All Tracks Symmetricity vs $\\lambda_1/\\lambda_2$')\n",
    "plt.xlabel('Symmetricity')\n",
    "plt.ylabel('$\\lambda_1/\\lambda_2$')"
   ]
  },
  {
   "cell_type": "code",
   "execution_count": 45,
   "id": "c8537a47",
   "metadata": {
    "scrolled": true
   },
   "outputs": [],
   "source": [
    "N = all_eigenvalues.shape[0]\n",
    "mask = (all_symmetricities[:N] >= SECOND_MODE_START) & (all_symmetricities[:N] < SECOND_MODE_END)\n",
    "\n",
    "plt.xlabel('Symmetricity')\n",
    "plt.ylabel('$\\lambda_1/\\lambda_2$')\n",
    "h = plt.hist2d(all_symmetricities[:N][mask], all_eigenvalues[:N, 2][mask]/all_eigenvalues[:N, 1][mask], bins=20)\n",
    "plt.colorbar(h[3])\n",
    "plt.title(f'All Tracks Distribution of (Symmetricity, $\\lambda_1/\\lambda_2$)')"
   ]
  },
  {
   "cell_type": "code",
   "execution_count": 46,
   "id": "f8d6e064",
   "metadata": {},
   "outputs": [],
   "source": [
    "N = all_eigenvalues.shape[0] // 10\n",
    "mask = (all_symmetricities[:N] >= SECOND_MODE_START) & (all_symmetricities[:N] < SECOND_MODE_END)\n",
    "\n",
    "plt.xlabel('Symmetricity')\n",
    "plt.ylabel('$\\lambda_2/\\lambda_3$')\n",
    "plt.scatter(all_symmetricities[:N][mask], all_eigenvalues[:N, 1][mask]/all_eigenvalues[:N, 0][mask])\n",
    "plt.title(f'All Tracks Symmetricity vs $\\lambda_2/\\lambda_3$')"
   ]
  },
  {
   "cell_type": "code",
   "execution_count": 47,
   "id": "3fa76e8a",
   "metadata": {},
   "outputs": [],
   "source": [
    "for i in range(5):\n",
    "    N = layer_eigenvalues[i].shape[0]\n",
    "    mask = (layer_symmetricities[i][:N] >= SECOND_MODE_START) & (layer_symmetricities[i][:N] < SECOND_MODE_END)\n",
    "\n",
    "\n",
    "    plt.scatter(layer_symmetricities[i][:N][mask], layer_eigenvalues[i][:N, 1][mask]/layer_eigenvalues[i][:N, 0][mask], label=f'Layer {i}')\n",
    "\n",
    "plt.legend(loc='upper right')\n",
    "plt.title(f'All Tracks Symmetricity vs $\\lambda_2/\\lambda_3$')\n",
    "plt.xlabel('Symmetricity')\n",
    "plt.ylabel('$\\lambda_1/\\lambda_2$')"
   ]
  },
  {
   "cell_type": "code",
   "execution_count": 48,
   "id": "0923017b",
   "metadata": {},
   "outputs": [],
   "source": [
    "N = all_eigenvalues.shape[0]\n",
    "mask = (all_symmetricities[:N] >= SECOND_MODE_START) & (all_symmetricities[:N] < SECOND_MODE_END)\n",
    "\n",
    "plt.xlabel('Symmetricity')\n",
    "plt.ylabel('$\\lambda_1/\\lambda_2$')\n",
    "h = plt.hist2d(all_symmetricities[:N][mask], all_eigenvalues[:N, 1][mask]/all_eigenvalues[:N, 0][mask], bins=20)\n",
    "plt.colorbar(h[3])\n",
    "plt.title(f'All Tracks Distribution of (Symmetricity, $\\lambda_2/\\lambda_3$)')"
   ]
  },
  {
   "cell_type": "code",
   "execution_count": 49,
   "id": "83e6dd1f",
   "metadata": {},
   "outputs": [],
   "source": [
    "N = all_eigenvalues.shape[0]\n",
    "mask = (all_symmetricities[:N] >= SECOND_MODE_START) & (all_symmetricities[:N] < SECOND_MODE_END)\n",
    "\n",
    "l1 = all_eigenvalues[:N, 2][mask]\n",
    "l2 = all_eigenvalues[:N, 1][mask]\n",
    "l3 = all_eigenvalues[:N, 0][mask]\n",
    "plt.title('All Tracks Distribution of ($\\lambda_1/\\lambda_2$, $\\lambda_2/\\lambda_3$) for Second Mode')\n",
    "plt.xlabel('$\\lambda_1/\\lambda_2$')\n",
    "plt.ylabel('$\\lambda_2/\\lambda_3$')\n",
    "h = plt.hist2d((l1/l2), (l2/l3), bins=20)\n",
    "plt.colorbar(h[3])\n",
    "#plt.xscale('log')\n",
    "#plt.plot((MODE_1_CUTOFF, MODE_1_CUTOFF), plt.ylim())"
   ]
  },
  {
   "cell_type": "markdown",
   "id": "85d5185a",
   "metadata": {},
   "source": [
    "## Trigger Tracks"
   ]
  },
  {
   "cell_type": "code",
   "execution_count": 50,
   "id": "3c96f5d0",
   "metadata": {},
   "outputs": [],
   "source": [
    "N = trigger_eigenvalues.shape[0]\n",
    "mask = (trigger_symmetricities[:N] >= SECOND_MODE_START) & (trigger_symmetricities[:N] < SECOND_MODE_END)\n",
    "\n",
    "plt.xlabel('Symmetricity')\n",
    "plt.ylabel('$\\lambda_1/\\lambda_2$')\n",
    "plt.scatter(trigger_symmetricities[:N][mask], trigger_eigenvalues[:N, 2][mask]/trigger_eigenvalues[:N, 1][mask])\n",
    "plt.title(f'Trigger Tracks Symmetricity vs $\\lambda_1/\\lambda_2$')"
   ]
  },
  {
   "cell_type": "code",
   "execution_count": 51,
   "id": "25cb8534",
   "metadata": {},
   "outputs": [],
   "source": [
    "N = trigger_eigenvalues.shape[0]\n",
    "mask = (trigger_symmetricities[:N] >= SECOND_MODE_START) & (trigger_symmetricities[:N] < SECOND_MODE_END)\n",
    "\n",
    "plt.xlabel('Symmetricity')\n",
    "plt.ylabel('$\\lambda_2/\\lambda_3$')\n",
    "plt.scatter(trigger_symmetricities[:N][mask], trigger_eigenvalues[:N, 1][mask]/trigger_eigenvalues[:N, 0][mask])\n",
    "plt.title(f'Trigger Tracks Symmetricity vs $\\lambda_2/\\lambda_3$')"
   ]
  },
  {
   "cell_type": "code",
   "execution_count": 52,
   "id": "8ac0f1da",
   "metadata": {},
   "outputs": [],
   "source": [
    "N = trigger_eigenvalues.shape[0]\n",
    "mask = (trigger_symmetricities[:N] >= SECOND_MODE_START) & (trigger_symmetricities[:N] < SECOND_MODE_END)\n",
    "\n",
    "l1 = trigger_eigenvalues[:N, 2][mask]\n",
    "l2 = trigger_eigenvalues[:N, 1][mask]\n",
    "l3 = trigger_eigenvalues[:N, 0][mask]\n",
    "plt.title('Trigger Tracks Distribution of ($\\lambda_1/\\lambda_2$, $\\lambda_2/\\lambda_3$) for Second Mode')\n",
    "plt.xlabel('$\\lambda_1/\\lambda_2$')\n",
    "plt.ylabel('$\\lambda_2/\\lambda_3$')\n",
    "h = plt.hist2d((l1/l2), (l2/l3), bins=20)\n",
    "plt.colorbar(h[3])\n",
    "#plt.xscale('log')\n",
    "#plt.plot((MODE_1_CUTOFF, MODE_1_CUTOFF), plt.ylim())"
   ]
  },
  {
   "cell_type": "markdown",
   "id": "63a5628a",
   "metadata": {},
   "source": [
    "## Third Mode"
   ]
  },
  {
   "cell_type": "code",
   "execution_count": 53,
   "id": "d3fa5784",
   "metadata": {},
   "outputs": [],
   "source": [
    "THIRD_MODE_START, THIRD_MODE_END = s[1][35], s[1][40]"
   ]
  },
  {
   "cell_type": "code",
   "execution_count": 54,
   "id": "1068c279",
   "metadata": {},
   "outputs": [],
   "source": [
    "N = all_eigenvalues.shape[0]\n",
    "mask = (all_symmetricities[:N] >= THIRD_MODE_START) & (all_symmetricities[:N] < THIRD_MODE_END)\n",
    "\n",
    "plt.xlabel('Symmetricity')\n",
    "plt.ylabel('$\\lambda_1/\\lambda_2$')\n",
    "plt.scatter(all_symmetricities[:N][mask], all_eigenvalues[:N, 2][mask]/all_eigenvalues[:N, 1][mask])\n",
    "plt.title(f'All Tracks Symmetricity vs $\\lambda_1/\\lambda_2$')"
   ]
  },
  {
   "cell_type": "code",
   "execution_count": 55,
   "id": "630f329c",
   "metadata": {},
   "outputs": [],
   "source": [
    "for i in range(5):\n",
    "    N = layer_eigenvalues[i].shape[0]\n",
    "    mask = (layer_symmetricities[i][:N] >= THIRD_MODE_START) & (layer_symmetricities[i][:N] < THIRD_MODE_END)\n",
    "\n",
    "\n",
    "    plt.scatter(layer_symmetricities[i][:N][mask], layer_eigenvalues[i][:N, 2][mask]/layer_eigenvalues[i][:N, 1][mask], label=f'Layer {i}')\n",
    "\n",
    "plt.legend(loc='upper right')\n",
    "plt.title(f'All Tracks Symmetricity vs $\\lambda_1/\\lambda_2$')\n",
    "plt.xlabel('Symmetricity')\n",
    "plt.ylabel('$\\lambda_1/\\lambda_2$')"
   ]
  },
  {
   "cell_type": "code",
   "execution_count": 56,
   "id": "4159514e",
   "metadata": {},
   "outputs": [],
   "source": [
    "N = all_eigenvalues.shape[0]\n",
    "mask = (all_symmetricities[:N] >= THIRD_MODE_START) & (all_symmetricities[:N] < THIRD_MODE_END)\n",
    "\n",
    "plt.xlabel('Symmetricity')\n",
    "plt.ylabel('$\\lambda_1/\\lambda_2$')\n",
    "h = plt.hist2d(all_symmetricities[:N][mask], all_eigenvalues[:N, 2][mask]/all_eigenvalues[:N, 1][mask], bins=20)\n",
    "plt.colorbar(h[3])\n",
    "plt.title(f'All Tracks Distribution of (Symmetricity, $\\lambda_1/\\lambda_2$)')"
   ]
  },
  {
   "cell_type": "code",
   "execution_count": 57,
   "id": "5c79cbbe",
   "metadata": {},
   "outputs": [],
   "source": [
    "N = all_eigenvalues.shape[0]\n",
    "mask = (all_symmetricities[:N] >= THIRD_MODE_START) & (all_symmetricities[:N] < THIRD_MODE_END)\n",
    "\n",
    "plt.xlabel('Symmetricity')\n",
    "plt.ylabel('$\\lambda_2/\\lambda_3$')\n",
    "plt.scatter(all_symmetricities[:N][mask], all_eigenvalues[:N, 1][mask]/all_eigenvalues[:N, 0][mask])\n",
    "plt.title(f'All Tracks Symmetricity vs $\\lambda_2/\\lambda_3$')"
   ]
  },
  {
   "cell_type": "code",
   "execution_count": 58,
   "id": "1929fbe7",
   "metadata": {},
   "outputs": [],
   "source": [
    "for i in range(5):\n",
    "    N = layer_eigenvalues[i].shape[0]\n",
    "    mask = (layer_symmetricities[i][:N] >= THIRD_MODE_START) & (layer_symmetricities[i][:N] < THIRD_MODE_END)\n",
    "\n",
    "\n",
    "    plt.scatter(layer_symmetricities[i][:N][mask], layer_eigenvalues[i][:N, 1][mask]/layer_eigenvalues[i][:N, 0][mask], label=f'Layer {i}')\n",
    "\n",
    "plt.legend(loc='center left')\n",
    "plt.title(f'All Tracks Symmetricity vs $\\lambda_3/\\lambda_3$')\n",
    "plt.xlabel('Symmetricity')\n",
    "plt.ylabel('$\\lambda_3/\\lambda_2$')"
   ]
  },
  {
   "cell_type": "code",
   "execution_count": 59,
   "id": "4ff27f1e",
   "metadata": {},
   "outputs": [],
   "source": [
    "N = all_eigenvalues.shape[0]\n",
    "mask = (all_symmetricities[:N] >= THIRD_MODE_START) & (all_symmetricities[:N] < THIRD_MODE_END)\n",
    "\n",
    "plt.xlabel('Symmetricity')\n",
    "plt.ylabel('$\\lambda_1/\\lambda_2$')\n",
    "h = plt.hist2d(all_symmetricities[:N][mask], all_eigenvalues[:N, 1][mask]/all_eigenvalues[:N, 0][mask], bins=20)\n",
    "plt.colorbar(h[3])\n",
    "plt.title(f'All Tracks Distribution of (Symmetricity, $\\lambda_2/\\lambda_3$)')"
   ]
  },
  {
   "cell_type": "code",
   "execution_count": 60,
   "id": "b196de68",
   "metadata": {},
   "outputs": [],
   "source": [
    "N = all_eigenvalues.shape[0]\n",
    "mask = (all_symmetricities[:N] >= THIRD_MODE_START) & (all_symmetricities[:N] < THIRD_MODE_END)\n",
    "\n",
    "l1 = all_eigenvalues[:N, 2][mask]\n",
    "l2 = all_eigenvalues[:N, 1][mask]\n",
    "l3 = all_eigenvalues[:N, 0][mask]\n",
    "plt.title('All Tracks Distribution of ($\\lambda_1/\\lambda_2$, $\\lambda_2/\\lambda_3$) for Third Mode')\n",
    "plt.xlabel('$\\lambda_1/\\lambda_2$')\n",
    "plt.ylabel('$\\lambda_2/\\lambda_3$')\n",
    "h = plt.hist2d((l1/l2), (l2/l3), bins=20)\n",
    "plt.colorbar(h[3])\n",
    "#plt.xscale('log')\n",
    "#plt.plot((MODE_1_CUTOFF, MODE_1_CUTOFF), plt.ylim())"
   ]
  },
  {
   "cell_type": "markdown",
   "id": "0799226e",
   "metadata": {},
   "source": [
    "## Fourth Mode"
   ]
  },
  {
   "cell_type": "code",
   "execution_count": 61,
   "id": "eb2f1ce5",
   "metadata": {},
   "outputs": [],
   "source": [
    "FOURTH_MODE_START, FOURTH_MODE_END = s[1][48], s[1][50]"
   ]
  },
  {
   "cell_type": "code",
   "execution_count": 62,
   "id": "19c95e94",
   "metadata": {},
   "outputs": [],
   "source": [
    "N = all_eigenvalues.shape[0] // 10\n",
    "mask = (all_symmetricities[:N] >= FOURTH_MODE_START) & (all_symmetricities[:N] <= FOURTH_MODE_END)\n",
    "\n",
    "plt.xlabel('Symmetricity')\n",
    "plt.ylabel('$\\lambda_1/\\lambda_2$')\n",
    "plt.scatter(all_symmetricities[:N][mask], all_eigenvalues[:N, 2][mask]/all_eigenvalues[:N, 1][mask])\n",
    "plt.title(f'All Tracks Symmetricity vs $\\lambda_1/\\lambda_2$')"
   ]
  },
  {
   "cell_type": "code",
   "execution_count": 63,
   "id": "6245ea8e",
   "metadata": {},
   "outputs": [],
   "source": [
    "N = all_eigenvalues.shape[0]\n",
    "mask = (all_symmetricities[:N] >= FOURTH_MODE_START) & (all_symmetricities[:N] <= FOURTH_MODE_END)\n",
    "\n",
    "plt.xlabel('Symmetricity')\n",
    "plt.ylabel('$\\lambda_1/\\lambda_2$')\n",
    "h = plt.hist2d(all_symmetricities[:N][mask], all_eigenvalues[:N, 1][mask]/all_eigenvalues[:N, 0][mask], bins=20)\n",
    "plt.colorbar(h[3])\n",
    "plt.title(f'All Tracks Distribution of (Symmetricity, $\\lambda_2/\\lambda_3$)')"
   ]
  },
  {
   "cell_type": "code",
   "execution_count": 64,
   "id": "e20f4557",
   "metadata": {},
   "outputs": [],
   "source": [
    "N = all_eigenvalues.shape[0]\n",
    "mask = (all_symmetricities[:N] >= FOURTH_MODE_START) & (all_symmetricities[:N] <= FOURTH_MODE_END)\n",
    "\n",
    "l1 = all_eigenvalues[:N, 2][mask]\n",
    "l2 = all_eigenvalues[:N, 1][mask]\n",
    "l3 = all_eigenvalues[:N, 0][mask]\n",
    "plt.title('All Tracks Distribution of ($\\lambda_1/\\lambda_2$, $\\lambda_2/\\lambda_3$) for Fourth Mode')\n",
    "plt.xlabel('$\\lambda_1/\\lambda_2$')\n",
    "plt.ylabel('$\\lambda_2/\\lambda_3$')\n",
    "h = plt.hist2d((l1/l2), (l2/l3), bins=20)\n",
    "plt.colorbar(h[3])\n",
    "#plt.xscale('log')\n",
    "#plt.plot((MODE_1_CUTOFF, MODE_1_CUTOFF), plt.ylim())"
   ]
  },
  {
   "cell_type": "markdown",
   "id": "ccd92a45",
   "metadata": {},
   "source": [
    "## Momentum Analysis"
   ]
  },
  {
   "cell_type": "code",
   "execution_count": 65,
   "id": "d9e663d6",
   "metadata": {},
   "outputs": [],
   "source": [
    "all_momentums = []\n",
    "for track, sigma, momentum, hits_mask, trigger_mask in zip(tracks, sigmas, momentums, good_hits, tt_tracks):\n",
    "    hits_mask = hits_mask.reshape(-1)\n",
    "    trigger_mask = trigger_mask.reshape(-1)\n",
    "    mask = hits_mask[::5]\n",
    "    all_momentums.append(momentum[mask])\n",
    "all_momentums = np.concatenate(all_momentums, axis=0)"
   ]
  },
  {
   "cell_type": "code",
   "execution_count": 66,
   "id": "8b71a894",
   "metadata": {},
   "outputs": [],
   "source": [
    "p_t = np.sqrt(all_momentums[:, 0]**2 + all_momentums[:, 1]**2)\n",
    "p_z = all_momentums[:, 1]"
   ]
  },
  {
   "cell_type": "code",
   "execution_count": 67,
   "id": "379a7e75",
   "metadata": {},
   "outputs": [],
   "source": [
    "#plt.hist(p_t/p_z)"
   ]
  },
  {
   "cell_type": "code",
   "execution_count": 68,
   "id": "f9591f86",
   "metadata": {},
   "outputs": [],
   "source": [
    "plt.hist2d(p_t, p_z, norm=colors.LogNorm())"
   ]
  },
  {
   "cell_type": "code",
   "execution_count": null,
   "id": "18282c2b",
   "metadata": {},
   "outputs": [],
   "source": []
  },
  {
   "cell_type": "code",
   "execution_count": null,
   "id": "f987b73f",
   "metadata": {},
   "outputs": [],
   "source": []
  },
  {
   "cell_type": "code",
   "execution_count": null,
   "id": "1f1856f7",
   "metadata": {},
   "outputs": [],
   "source": [
    "e_v.shape"
   ]
  },
  {
   "cell_type": "code",
   "execution_count": null,
   "id": "1cdcf943",
   "metadata": {},
   "outputs": [],
   "source": [
    "N_SAMPLES = 10000\n",
    "U = np.random.uniform(size=(3, 3))\n",
    "a1, a2 = np.random.uniform(size=(2, 1))\n",
    "s1, s2 = np.random.normal(size=(2, 3, N_SAMPLES))\n",
    "e_v = np.sqrt(a1) * U @ s1 + np.sqrt(a2) * np.identity(3) @ s2\n",
    "e_v = e_v.T\n",
    "fig, axs = plt.subplots(3, 1, figsize=(20, 60))\n",
    "\n",
    "_ = axs[0].hist2d(e_v[:, 0], e_v[:, 1])\n",
    "_ = axs[1].hist2d(e_v[:, 0], e_v[:, 2])\n",
    "_ = axs[2].hist2d(e_v[:, 1], e_v[:, 2])"
   ]
  },
  {
   "cell_type": "code",
   "execution_count": null,
   "id": "df28a084",
   "metadata": {},
   "outputs": [],
   "source": [
    "N_SAMPLES = 10000\n",
    "U = np.random.uniform(size=(3, 3))\n",
    "a1, a2 = np.random.uniform(size=(2, 1))\n",
    "a1 = 10\n",
    "s1, s2 = np.random.normal(size=(2, 3, N_SAMPLES))\n",
    "e_v = np.sqrt(a1) * U @ s1 + np.sqrt(a2) * np.identity(3) @ s2\n",
    "e_v = e_v.T\n",
    "fig, axs = plt.subplots(3, 1, figsize=(20, 60))\n",
    "\n",
    "_ = axs[0].hist2d(e_v[:, 0], e_v[:, 1])\n",
    "_ = axs[1].hist2d(e_v[:, 0], e_v[:, 2])\n",
    "_ = axs[2].hist2d(e_v[:, 1], e_v[:, 2])"
   ]
  },
  {
   "cell_type": "code",
   "execution_count": null,
   "id": "389465f4",
   "metadata": {},
   "outputs": [],
   "source": [
    "U = np.linalg.inv(U)\n",
    "e_v = np.sqrt(a1) * U @ s1 + np.sqrt(a2) * np.identity(3) @ s2\n",
    "e_v = e_v.T\n",
    "fig, axs = plt.subplots(3, 1, figsize=(20, 60))\n",
    "_ = axs[0].hist2d(e_v[:, 0], e_v[:, 1])\n",
    "_ = axs[1].hist2d(e_v[:, 0], e_v[:, 2])\n",
    "_ = axs[2].hist2d(e_v[:, 1], e_v[:, 2])"
   ]
  },
  {
   "cell_type": "code",
   "execution_count": null,
   "id": "2f24bde0",
   "metadata": {},
   "outputs": [],
   "source": [
    "e_vs, e_vs_sigmas, e_vs_valid_hits = [], [], []\n",
    "for batch in islice(val_data, 0, 1):\n",
    "    mask = torch.zeros(batch.track_vector.shape[:-1])\n",
    "    for i, n in enumerate(batch.n_tracks):\n",
    "        mask[i, :n] = 1\n",
    "        \n",
    "    mask = mask.to(DEVICE)\n",
    "    track_vector = batch.track_vector.to(DEVICE)\n",
    "    for i in tqdm(range(10000)):\n",
    "        noise, pred_sigmas, valid_hits = model.get_noise(track_vector, mask)\n",
    "        noise = np.array(noise.detach().cpu().numpy())\n",
    "        pred_sigmas = np.array(pred_sigmas.detach().cpu().numpy())\n",
    "        valid_hits = np.array(valid_hits.detach().cpu().numpy())\n",
    "        e_vs.append(noise)\n",
    "        e_vs_sigmas.append(pred_sigmas)\n",
    "        e_vs_valid_hits.append(valid_hits)"
   ]
  },
  {
   "cell_type": "code",
   "execution_count": null,
   "id": "51520d03",
   "metadata": {},
   "outputs": [],
   "source": [
    "e_vs_valid_hits = np.stack(e_vs_valid_hits, axis=0)\n",
    "e_vs_sigmas = np.stack(e_vs_sigmas, axis=0)\n",
    "e_vs = np.stack(e_vs, axis=0)"
   ]
  },
  {
   "cell_type": "code",
   "execution_count": null,
   "id": "e01dbaa8",
   "metadata": {},
   "outputs": [],
   "source": [
    "e_vs.shape"
   ]
  },
  {
   "cell_type": "code",
   "execution_count": null,
   "id": "65d50a07",
   "metadata": {},
   "outputs": [],
   "source": [
    "e_vs.shape"
   ]
  },
  {
   "cell_type": "code",
   "execution_count": null,
   "id": "19dee761",
   "metadata": {},
   "outputs": [],
   "source": [
    "_ = plt.hist2d(e_vs[:, BATCH_INDEX, TRACK_INDEX, 3*HIT_INDEX+0], e_vs[:, BATCH_INDEX, TRACK_INDEX, 3*HIT_INDEX+2])"
   ]
  },
  {
   "cell_type": "code",
   "execution_count": null,
   "id": "455034de",
   "metadata": {},
   "outputs": [],
   "source": [
    "_ = plt.hist2d(e_vs[:, BATCH_INDEX, TRACK_INDEX, 3*HIT_INDEX+1], e_vs[:, BATCH_INDEX, TRACK_INDEX, 3*HIT_INDEX+2])"
   ]
  },
  {
   "cell_type": "code",
   "execution_count": null,
   "id": "a1266efd",
   "metadata": {},
   "outputs": [],
   "source": [
    "HIT_INDEX = 1\n",
    "BATCH_INDEX = 0\n",
    "TRACK_INDEX = 0"
   ]
  },
  {
   "cell_type": "code",
   "execution_count": null,
   "id": "9ec28957",
   "metadata": {},
   "outputs": [],
   "source": [
    "_ = plt.hist2d(e_vs[:, BATCH_INDEX, TRACK_INDEX, 3*HIT_INDEX+0], e_vs[:, BATCH_INDEX, TRACK_INDEX, 3*HIT_INDEX+1])"
   ]
  },
  {
   "cell_type": "code",
   "execution_count": null,
   "id": "b880de61",
   "metadata": {},
   "outputs": [],
   "source": [
    "prob = f(p, e_vs_sigmas[0, BATCH_INDEX, TRACK_INDEX, HIT_INDEX])\n",
    "plt.contour(X, Y, prob, levels=100)"
   ]
  },
  {
   "cell_type": "code",
   "execution_count": null,
   "id": "b0cb9f63",
   "metadata": {},
   "outputs": [],
   "source": []
  }
 ],
 "metadata": {
  "kernelspec": {
   "display_name": "Python 3 (ipykernel)",
   "language": "python",
   "name": "python3"
  },
  "language_info": {
   "codemirror_mode": {
    "name": "ipython",
    "version": 3
   },
   "file_extension": ".py",
   "mimetype": "text/x-python",
   "name": "python",
   "nbconvert_exporter": "python",
   "pygments_lexer": "ipython3",
   "version": "3.10.9"
  }
 },
 "nbformat": 4,
 "nbformat_minor": 5
}
