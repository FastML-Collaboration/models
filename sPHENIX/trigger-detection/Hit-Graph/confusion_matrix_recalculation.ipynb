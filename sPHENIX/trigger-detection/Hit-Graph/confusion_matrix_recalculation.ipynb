{
 "cells": [
  {
   "cell_type": "code",
   "execution_count": 9,
   "metadata": {},
   "outputs": [],
   "source": [
    "import numpy as np\n",
    "import re\n",
    "from icecream import ic"
   ]
  },
  {
   "cell_type": "code",
   "execution_count": 68,
   "metadata": {},
   "outputs": [],
   "source": [
    "matrix = \"[[129352  70648] [ 55559 144441]]\"\n",
    "n0, n1, p0, p1 = np.array(re.findall(r'\\d+', matrix), int)"
   ]
  },
  {
   "cell_type": "code",
   "execution_count": 69,
   "metadata": {},
   "outputs": [
    {
     "name": "stdout",
     "output_type": "stream",
     "text": [
      "68.45\\% &  72.22\\% & 67.15\\%  \\\\\n"
     ]
    }
   ],
   "source": [
    "recall = p1 / (p0 + p1)\n",
    "precision = p1 / (p1 + n1)\n",
    "acc = (p1 + n0) / (n0 + n1 + p0 + p1)\n",
    "print(f'{np.round(acc*100, 2)}\\% &  {np.round(recall*100, 2)}\\% & {np.round(precision*100, 2)}\\%  \\\\\\\\')"
   ]
  },
  {
   "cell_type": "code",
   "execution_count": null,
   "metadata": {},
   "outputs": [],
   "source": []
  }
 ],
 "metadata": {
  "interpreter": {
   "hash": "03ca6a50b752edba9a34d5783ddc5b2d6b7cf0ebaad7b34aec90b5ffba5acaaf"
  },
  "kernelspec": {
   "display_name": "Python 3.8.12 ('pytorch-cuda')",
   "language": "python",
   "name": "python3"
  },
  "language_info": {
   "codemirror_mode": {
    "name": "ipython",
    "version": 3
   },
   "file_extension": ".py",
   "mimetype": "text/x-python",
   "name": "python",
   "nbconvert_exporter": "python",
   "pygments_lexer": "ipython3",
   "version": "3.8.12"
  },
  "orig_nbformat": 4
 },
 "nbformat": 4,
 "nbformat_minor": 2
}
