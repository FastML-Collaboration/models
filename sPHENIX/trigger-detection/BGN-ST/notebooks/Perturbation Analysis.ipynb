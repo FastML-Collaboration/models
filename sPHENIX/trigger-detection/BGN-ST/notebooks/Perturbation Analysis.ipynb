{
 "cells": [
  {
   "cell_type": "code",
   "execution_count": 1,
   "id": "e5e07f95",
   "metadata": {},
   "outputs": [],
   "source": [
    "%cd /home1/giorgian/projects/trigger-detection-pipeline/sPHENIX/trigger-detection/BGN-ST"
   ]
  },
  {
   "cell_type": "code",
   "execution_count": 2,
   "id": "ac12ae7b",
   "metadata": {},
   "outputs": [],
   "source": [
    "import torch\n",
    "import pickle\n",
    "from dataloaders import get_data_loaders\n",
    "import matplotlib.pyplot as plt\n",
    "from utils.log import load_checkpoint\n",
    "from collections import defaultdict\n",
    "from itertools import islice\n",
    "from tqdm.notebook import tqdm\n",
    "from models.Bipartite_Attention_Masked import Bipartite_Attention as Model\n",
    "import matplotlib as mpl\n",
    "import torch.nn as nn\n",
    "\n",
    "import numpy as np"
   ]
  },
  {
   "cell_type": "code",
   "execution_count": 3,
   "id": "8f3d0ff6",
   "metadata": {},
   "outputs": [],
   "source": [
    "config_file_path = 'train_results/biatt-augment-adj/experiment_2023-06-13_10:12:01/config.pkl'\n",
    "with open(config_file_path, 'rb') as f:\n",
    "    config = pickle.load(f)"
   ]
  },
  {
   "cell_type": "code",
   "execution_count": 4,
   "id": "fb2f8101",
   "metadata": {},
   "outputs": [],
   "source": [
    "dconfig = config['data']\n",
    "train_data, val_data, test_data = get_data_loaders(**dconfig)"
   ]
  },
  {
   "cell_type": "code",
   "execution_count": 5,
   "id": "a46c9954",
   "metadata": {
    "scrolled": true
   },
   "outputs": [
    {
     "data": {
      "text/plain": [
       "Bipartite_Attention(\n",
       "  (_layers): ModuleList(\n",
       "    (0): Bipartite_Layers(\n",
       "      (enc): ModuleList(\n",
       "        (0): Masked_SAB(\n",
       "          (mab): Masked_MAB(\n",
       "            (fc_q): Linear(in_features=37, out_features=128, bias=True)\n",
       "            (fc_k): Linear(in_features=37, out_features=128, bias=True)\n",
       "            (fc_v): Linear(in_features=37, out_features=128, bias=True)\n",
       "            (fc_o): Linear(in_features=128, out_features=128, bias=True)\n",
       "            (ln0): Masked_LayerNorm(\n",
       "              (ln): LayerNorm((128,), eps=1e-05, elementwise_affine=True)\n",
       "            )\n",
       "            (ln1): Masked_LayerNorm(\n",
       "              (ln): LayerNorm((128,), eps=1e-05, elementwise_affine=True)\n",
       "            )\n",
       "          )\n",
       "        )\n",
       "        (1): Masked_SAB(\n",
       "          (mab): Masked_MAB(\n",
       "            (fc_q): Linear(in_features=128, out_features=128, bias=True)\n",
       "            (fc_k): Linear(in_features=128, out_features=128, bias=True)\n",
       "            (fc_v): Linear(in_features=128, out_features=128, bias=True)\n",
       "            (fc_o): Linear(in_features=128, out_features=128, bias=True)\n",
       "            (ln0): Masked_LayerNorm(\n",
       "              (ln): LayerNorm((128,), eps=1e-05, elementwise_affine=True)\n",
       "            )\n",
       "            (ln1): Masked_LayerNorm(\n",
       "              (ln): LayerNorm((128,), eps=1e-05, elementwise_affine=True)\n",
       "            )\n",
       "          )\n",
       "        )\n",
       "      )\n",
       "      (transform_in): Linear(in_features=128, out_features=128, bias=True)\n",
       "      (aggregator_score): Linear(in_features=128, out_features=8, bias=True)\n",
       "      (transform_out): Sequential(\n",
       "        (0): Linear(in_features=2213, out_features=128, bias=True)\n",
       "        (1): LayerNorm((128,), eps=1e-05, elementwise_affine=True)\n",
       "        (2): PReLU(num_parameters=1)\n",
       "      )\n",
       "    )\n",
       "    (1): Bipartite_Layers(\n",
       "      (enc): ModuleList(\n",
       "        (0): Masked_SAB(\n",
       "          (mab): Masked_MAB(\n",
       "            (fc_q): Linear(in_features=128, out_features=128, bias=True)\n",
       "            (fc_k): Linear(in_features=128, out_features=128, bias=True)\n",
       "            (fc_v): Linear(in_features=128, out_features=128, bias=True)\n",
       "            (fc_o): Linear(in_features=128, out_features=128, bias=True)\n",
       "            (ln0): Masked_LayerNorm(\n",
       "              (ln): LayerNorm((128,), eps=1e-05, elementwise_affine=True)\n",
       "            )\n",
       "            (ln1): Masked_LayerNorm(\n",
       "              (ln): LayerNorm((128,), eps=1e-05, elementwise_affine=True)\n",
       "            )\n",
       "          )\n",
       "        )\n",
       "        (1): Masked_SAB(\n",
       "          (mab): Masked_MAB(\n",
       "            (fc_q): Linear(in_features=128, out_features=128, bias=True)\n",
       "            (fc_k): Linear(in_features=128, out_features=128, bias=True)\n",
       "            (fc_v): Linear(in_features=128, out_features=128, bias=True)\n",
       "            (fc_o): Linear(in_features=128, out_features=128, bias=True)\n",
       "            (ln0): Masked_LayerNorm(\n",
       "              (ln): LayerNorm((128,), eps=1e-05, elementwise_affine=True)\n",
       "            )\n",
       "            (ln1): Masked_LayerNorm(\n",
       "              (ln): LayerNorm((128,), eps=1e-05, elementwise_affine=True)\n",
       "            )\n",
       "          )\n",
       "        )\n",
       "      )\n",
       "      (transform_in): Linear(in_features=128, out_features=128, bias=True)\n",
       "      (aggregator_score): Linear(in_features=128, out_features=8, bias=True)\n",
       "      (transform_out): Sequential(\n",
       "        (0): Linear(in_features=2304, out_features=128, bias=True)\n",
       "        (1): LayerNorm((128,), eps=1e-05, elementwise_affine=True)\n",
       "        (2): PReLU(num_parameters=1)\n",
       "      )\n",
       "    )\n",
       "    (2): Bipartite_Layers(\n",
       "      (enc): ModuleList(\n",
       "        (0): Masked_SAB(\n",
       "          (mab): Masked_MAB(\n",
       "            (fc_q): Linear(in_features=128, out_features=128, bias=True)\n",
       "            (fc_k): Linear(in_features=128, out_features=128, bias=True)\n",
       "            (fc_v): Linear(in_features=128, out_features=128, bias=True)\n",
       "            (fc_o): Linear(in_features=128, out_features=128, bias=True)\n",
       "            (ln0): Masked_LayerNorm(\n",
       "              (ln): LayerNorm((128,), eps=1e-05, elementwise_affine=True)\n",
       "            )\n",
       "            (ln1): Masked_LayerNorm(\n",
       "              (ln): LayerNorm((128,), eps=1e-05, elementwise_affine=True)\n",
       "            )\n",
       "          )\n",
       "        )\n",
       "        (1): Masked_SAB(\n",
       "          (mab): Masked_MAB(\n",
       "            (fc_q): Linear(in_features=128, out_features=128, bias=True)\n",
       "            (fc_k): Linear(in_features=128, out_features=128, bias=True)\n",
       "            (fc_v): Linear(in_features=128, out_features=128, bias=True)\n",
       "            (fc_o): Linear(in_features=128, out_features=128, bias=True)\n",
       "            (ln0): Masked_LayerNorm(\n",
       "              (ln): LayerNorm((128,), eps=1e-05, elementwise_affine=True)\n",
       "            )\n",
       "            (ln1): Masked_LayerNorm(\n",
       "              (ln): LayerNorm((128,), eps=1e-05, elementwise_affine=True)\n",
       "            )\n",
       "          )\n",
       "        )\n",
       "      )\n",
       "      (transform_in): Linear(in_features=128, out_features=128, bias=True)\n",
       "      (aggregator_score): Linear(in_features=128, out_features=8, bias=True)\n",
       "      (transform_out): Sequential(\n",
       "        (0): Linear(in_features=2304, out_features=128, bias=True)\n",
       "        (1): LayerNorm((128,), eps=1e-05, elementwise_affine=True)\n",
       "        (2): PReLU(num_parameters=1)\n",
       "      )\n",
       "    )\n",
       "    (3): Bipartite_Layers(\n",
       "      (enc): ModuleList(\n",
       "        (0): Masked_SAB(\n",
       "          (mab): Masked_MAB(\n",
       "            (fc_q): Linear(in_features=128, out_features=128, bias=True)\n",
       "            (fc_k): Linear(in_features=128, out_features=128, bias=True)\n",
       "            (fc_v): Linear(in_features=128, out_features=128, bias=True)\n",
       "            (fc_o): Linear(in_features=128, out_features=128, bias=True)\n",
       "            (ln0): Masked_LayerNorm(\n",
       "              (ln): LayerNorm((128,), eps=1e-05, elementwise_affine=True)\n",
       "            )\n",
       "            (ln1): Masked_LayerNorm(\n",
       "              (ln): LayerNorm((128,), eps=1e-05, elementwise_affine=True)\n",
       "            )\n",
       "          )\n",
       "        )\n",
       "        (1): Masked_SAB(\n",
       "          (mab): Masked_MAB(\n",
       "            (fc_q): Linear(in_features=128, out_features=128, bias=True)\n",
       "            (fc_k): Linear(in_features=128, out_features=128, bias=True)\n",
       "            (fc_v): Linear(in_features=128, out_features=128, bias=True)\n",
       "            (fc_o): Linear(in_features=128, out_features=128, bias=True)\n",
       "            (ln0): Masked_LayerNorm(\n",
       "              (ln): LayerNorm((128,), eps=1e-05, elementwise_affine=True)\n",
       "            )\n",
       "            (ln1): Masked_LayerNorm(\n",
       "              (ln): LayerNorm((128,), eps=1e-05, elementwise_affine=True)\n",
       "            )\n",
       "          )\n",
       "        )\n",
       "      )\n",
       "      (transform_in): Linear(in_features=128, out_features=128, bias=True)\n",
       "      (aggregator_score): Linear(in_features=128, out_features=8, bias=True)\n",
       "      (transform_out): Sequential(\n",
       "        (0): Linear(in_features=2304, out_features=128, bias=True)\n",
       "        (1): LayerNorm((128,), eps=1e-05, elementwise_affine=True)\n",
       "        (2): PReLU(num_parameters=1)\n",
       "      )\n",
       "    )\n",
       "    (4): Bipartite_Layers(\n",
       "      (enc): ModuleList(\n",
       "        (0): Masked_SAB(\n",
       "          (mab): Masked_MAB(\n",
       "            (fc_q): Linear(in_features=128, out_features=128, bias=True)\n",
       "            (fc_k): Linear(in_features=128, out_features=128, bias=True)\n",
       "            (fc_v): Linear(in_features=128, out_features=128, bias=True)\n",
       "            (fc_o): Linear(in_features=128, out_features=128, bias=True)\n",
       "            (ln0): Masked_LayerNorm(\n",
       "              (ln): LayerNorm((128,), eps=1e-05, elementwise_affine=True)\n",
       "            )\n",
       "            (ln1): Masked_LayerNorm(\n",
       "              (ln): LayerNorm((128,), eps=1e-05, elementwise_affine=True)\n",
       "            )\n",
       "          )\n",
       "        )\n",
       "        (1): Masked_SAB(\n",
       "          (mab): Masked_MAB(\n",
       "            (fc_q): Linear(in_features=128, out_features=128, bias=True)\n",
       "            (fc_k): Linear(in_features=128, out_features=128, bias=True)\n",
       "            (fc_v): Linear(in_features=128, out_features=128, bias=True)\n",
       "            (fc_o): Linear(in_features=128, out_features=128, bias=True)\n",
       "            (ln0): Masked_LayerNorm(\n",
       "              (ln): LayerNorm((128,), eps=1e-05, elementwise_affine=True)\n",
       "            )\n",
       "            (ln1): Masked_LayerNorm(\n",
       "              (ln): LayerNorm((128,), eps=1e-05, elementwise_affine=True)\n",
       "            )\n",
       "          )\n",
       "        )\n",
       "      )\n",
       "      (transform_in): Linear(in_features=128, out_features=128, bias=True)\n",
       "      (aggregator_score): Linear(in_features=128, out_features=8, bias=True)\n",
       "      (transform_out): Sequential(\n",
       "        (0): Linear(in_features=2304, out_features=128, bias=True)\n",
       "        (1): LayerNorm((128,), eps=1e-05, elementwise_affine=True)\n",
       "        (2): PReLU(num_parameters=1)\n",
       "      )\n",
       "    )\n",
       "  )\n",
       "  (score): Sequential(\n",
       "    (0): Linear(in_features=128, out_features=1, bias=True)\n",
       "  )\n",
       "  (_pred_layers): ModuleList(\n",
       "    (0): Linear(in_features=256, out_features=256, bias=True)\n",
       "    (1): PReLU(num_parameters=1)\n",
       "    (2): Linear(in_features=256, out_features=2, bias=True)\n",
       "  )\n",
       "  (_track_project): Sequential(\n",
       "    (0): Linear(in_features=128, out_features=256, bias=True)\n",
       "    (1): LayerNorm((256,), eps=1e-05, elementwise_affine=True)\n",
       "    (2): PReLU(num_parameters=1)\n",
       "    (3): Linear(in_features=256, out_features=128, bias=True)\n",
       "  )\n",
       ")"
      ]
     },
     "execution_count": 5,
     "metadata": {},
     "output_type": "execute_result"
    }
   ],
   "source": [
    "DEVICE = 'cuda:1'\n",
    "# α=0.7\n",
    "checkpoint_file = 'train_results/biatt-augment-adj/experiment_2023-06-13_10:12:01/checkpoints/model_checkpoint_016.pth.tar'\n",
    "mconfig = config['model']\n",
    "model = Model(**mconfig)\n",
    "model = load_checkpoint(checkpoint_file, model)\n",
    "model = model.to(DEVICE)\n",
    "model.eval()"
   ]
  },
  {
   "cell_type": "code",
   "execution_count": 6,
   "id": "d0f8eacf",
   "metadata": {},
   "outputs": [
    {
     "data": {
      "text/plain": [
       "'gt-trkvec-masked'"
      ]
     },
     "execution_count": 6,
     "metadata": {},
     "output_type": "execute_result"
    }
   ],
   "source": [
    "dconfig['name']"
   ]
  },
  {
   "cell_type": "code",
   "execution_count": 7,
   "id": "24c35721",
   "metadata": {},
   "outputs": [
    {
     "data": {
      "text/plain": [
       "False"
      ]
     },
     "execution_count": 7,
     "metadata": {},
     "output_type": "execute_result"
    }
   ],
   "source": [
    "dconfig['load_complete_graph']"
   ]
  },
  {
   "cell_type": "code",
   "execution_count": 8,
   "id": "db888a39",
   "metadata": {},
   "outputs": [],
   "source": [
    "val_data.dataset.dataset.phi = 1\n",
    "val_data.dataset.dataset.z = 0"
   ]
  },
  {
   "cell_type": "code",
   "execution_count": 9,
   "id": "2381e93d",
   "metadata": {},
   "outputs": [
    {
     "data": {
      "text/plain": [
       "BatchInfo(track_vector=tensor([[[ -2.0810,  -1.6294,  -5.4184,  ...,   1.0000,   1.0000,   2.0000],\n",
       "         [ -2.4503,   1.2079,  -3.3634,  ...,   1.0000,   1.0000,   1.0000],\n",
       "         [  0.1748,  -2.7284,  -7.1221,  ...,   1.0000,   1.0000,   1.0000],\n",
       "         ...,\n",
       "         [  0.0000,   0.0000,   0.0000,  ...,   0.0000,   0.0000,   0.0000],\n",
       "         [  0.0000,   0.0000,   0.0000,  ...,   0.0000,   0.0000,   0.0000],\n",
       "         [  0.0000,   0.0000,   0.0000,  ...,   0.0000,   0.0000,   0.0000]],\n",
       "\n",
       "        [[ -1.5425,  -1.9447, -12.7866,  ...,   1.0000,   1.0000,   1.0000],\n",
       "         [  2.1985,  -1.1091,  -2.6193,  ...,   1.0000,   0.0000,   0.0000],\n",
       "         [ -2.3931,  -0.7638,   6.1299,  ...,   1.0000,   1.0000,   1.0000],\n",
       "         ...,\n",
       "         [  0.0000,   0.0000,   0.0000,  ...,   0.0000,   0.0000,   0.0000],\n",
       "         [  0.0000,   0.0000,   0.0000,  ...,   0.0000,   0.0000,   0.0000],\n",
       "         [  0.0000,   0.0000,   0.0000,  ...,   0.0000,   0.0000,   0.0000]],\n",
       "\n",
       "        [[ -2.4917,  -0.5906,  -1.7401,  ...,   1.0000,   1.0000,   1.0000],\n",
       "         [ -2.4570,   0.0987,  -3.5092,  ...,   1.0000,   1.0000,   1.0000],\n",
       "         [ -0.7371,  -2.4532,  -2.9010,  ...,   2.0000,   1.0000,   1.0000],\n",
       "         ...,\n",
       "         [  0.0000,   0.0000,   0.0000,  ...,   0.0000,   0.0000,   0.0000],\n",
       "         [  0.0000,   0.0000,   0.0000,  ...,   0.0000,   0.0000,   0.0000],\n",
       "         [  0.0000,   0.0000,   0.0000,  ...,   0.0000,   0.0000,   0.0000]],\n",
       "\n",
       "        ...,\n",
       "\n",
       "        [[ -0.2655,   2.6768,   0.9937,  ...,   1.0000,   1.0000,   1.0000],\n",
       "         [ -2.6023,  -0.3964,  -6.9193,  ...,   1.0000,   0.0000,   0.0000],\n",
       "         [  1.8123,   1.7868,  -5.1379,  ...,   1.0000,   1.0000,   1.0000],\n",
       "         ...,\n",
       "         [  0.0000,   0.0000,   0.0000,  ...,   0.0000,   0.0000,   0.0000],\n",
       "         [  0.0000,   0.0000,   0.0000,  ...,   0.0000,   0.0000,   0.0000],\n",
       "         [  0.0000,   0.0000,   0.0000,  ...,   0.0000,   0.0000,   0.0000]],\n",
       "\n",
       "        [[  0.0000,   0.0000,   0.0000,  ...,   0.0000,   0.0000,   0.0000],\n",
       "         [  0.0000,   0.0000,   0.0000,  ...,   0.0000,   0.0000,   0.0000],\n",
       "         [  0.0000,   0.0000,   0.0000,  ...,   0.0000,   0.0000,   0.0000],\n",
       "         ...,\n",
       "         [  0.0000,   0.0000,   0.0000,  ...,   0.0000,   0.0000,   0.0000],\n",
       "         [  0.0000,   0.0000,   0.0000,  ...,   0.0000,   0.0000,   0.0000],\n",
       "         [  0.0000,   0.0000,   0.0000,  ...,   0.0000,   0.0000,   0.0000]],\n",
       "\n",
       "        [[  0.5533,   2.4543,  12.7055,  ...,   0.0000,   1.0000,   0.0000],\n",
       "         [ -2.2493,   1.2194,  12.4491,  ...,   0.0000,   1.0000,   1.0000],\n",
       "         [ -1.8318,   1.7354,  -0.4703,  ...,   1.0000,   1.0000,   1.0000],\n",
       "         ...,\n",
       "         [  0.0000,   0.0000,   0.0000,  ...,   0.0000,   0.0000,   0.0000],\n",
       "         [  0.0000,   0.0000,   0.0000,  ...,   0.0000,   0.0000,   0.0000],\n",
       "         [  0.0000,   0.0000,   0.0000,  ...,   0.0000,   0.0000,   0.0000]]]), trigger=tensor([1, 1, 0, 0, 1, 1, 1, 1, 1, 0, 0, 0, 0, 0, 0, 1, 0, 0, 1, 0, 1, 1, 1, 0,\n",
       "        1, 0, 0, 0, 0, 0, 0, 1, 0, 0, 1, 1, 0, 0, 0, 0, 1, 0, 0, 1, 0, 1, 0, 1,\n",
       "        0, 0, 0, 1, 0, 0, 0, 0, 1, 1, 0, 1, 0, 1, 1, 1, 0, 0, 1, 1, 0, 0, 0, 0,\n",
       "        0, 0, 1, 1, 0, 0, 0, 1, 1, 1, 0, 0, 0, 1, 1, 1, 0, 0, 0, 0, 1, 1, 0, 1,\n",
       "        1, 1, 0, 0, 1, 0, 0, 0, 1, 0, 1, 1, 0, 0, 1, 1, 1, 0, 0, 0, 0, 0, 1, 1,\n",
       "        0, 0, 1, 1, 0, 0, 1, 0, 1, 0, 1, 1, 1, 1, 0, 1, 1, 1, 0, 1, 1, 0, 1, 1,\n",
       "        1, 1, 1, 0, 1, 0, 0, 0, 0, 0, 1, 1, 0, 1, 0, 0, 1, 0, 1, 0, 1, 0, 0, 1,\n",
       "        0, 1, 1, 0, 0, 0, 1, 0, 1, 0, 1, 1, 1, 1, 1, 1, 1, 0, 0, 0, 1, 1, 0, 1,\n",
       "        0, 0, 0, 1, 0, 0, 1, 1, 1, 0, 1, 1, 1, 1, 1, 0, 1, 0, 0, 1, 0, 1, 1, 0,\n",
       "        0, 0, 0, 1, 1, 1, 0, 0, 0, 1, 0, 0, 0, 0, 0, 1, 0, 1, 0, 0, 0, 1, 0, 1,\n",
       "        0, 1, 1, 1, 1, 1, 0, 0, 1, 1, 0, 0, 1, 0, 1, 0, 1, 0, 1, 0, 1, 1, 1, 1,\n",
       "        0, 1, 1, 0, 1, 0, 0, 1, 1, 0, 0, 0, 0, 0, 0, 0, 1, 1, 0, 1, 1, 0, 1, 1,\n",
       "        1, 0, 1, 1, 0, 0, 0, 1, 0, 0, 1, 1, 0, 0, 1, 1, 0, 0, 0, 1, 1, 1, 0, 0,\n",
       "        1, 1, 1, 0, 0, 1, 1, 0, 0, 1, 0, 1, 1, 1, 0, 1, 1, 0, 0, 1, 0, 1, 1, 1,\n",
       "        1, 0, 0, 0, 1, 1, 0, 0, 0, 1, 0, 1, 0, 0, 0, 0, 1, 0, 0, 1, 0, 0, 0, 1,\n",
       "        0, 0, 0, 0, 1, 0, 0, 1, 1, 0, 0, 0, 0, 0, 0, 0, 0, 1, 0, 0, 1, 0, 0, 1,\n",
       "        1, 1, 1, 1, 0, 1, 0, 0, 0, 0, 0, 1, 0, 1, 1, 0, 0, 0, 0, 0, 1, 0, 1, 0,\n",
       "        1, 1, 1, 1, 1, 0, 1, 1, 0, 1, 0, 1, 1, 0, 0, 1, 1, 1, 1, 1, 1, 0, 1, 0,\n",
       "        0, 1, 0, 0, 0, 1, 1, 0, 1, 0, 1, 1, 1, 1, 1, 0, 1, 0, 1, 0, 0, 0, 0, 1,\n",
       "        1, 1, 0, 0, 1, 1, 0, 1, 0, 0, 1, 0, 1, 0, 1, 0, 0, 0, 1, 1, 1, 1, 0, 0,\n",
       "        1, 0, 1, 1, 0, 0, 0, 1, 0, 1, 1, 0, 1, 1, 0, 0, 1, 0, 1, 0, 1, 1, 0, 1,\n",
       "        0, 0, 1, 1, 0, 0, 0, 1]), n_tracks=tensor([ 5, 18,  8,  7, 11,  8,  5, 10,  9,  8,  8,  9,  5,  7,  7, 14,  6,  8,\n",
       "        11,  0, 10, 10, 22,  0, 10,  0,  8,  4,  8,  3,  4,  2, 16,  8,  6, 34,\n",
       "         7,  8,  6,  7, 10,  7,  7, 14,  0, 14,  2,  9,  3,  0, 16, 33,  6, 14,\n",
       "         8,  2, 13, 16,  1,  4,  7,  5, 19, 19,  0, 10,  5,  6,  7, 14,  0,  5,\n",
       "         6, 22, 13,  9,  6, 11, 11, 14, 12,  4,  2,  4,  2,  9, 20, 14,  1,  0,\n",
       "         7,  8, 13, 10,  7, 14, 15,  8,  9,  0, 21,  0,  4,  5, 12,  9, 13,  9,\n",
       "        10, 10,  6, 16,  7,  0,  0,  0,  4,  7, 11, 12,  5,  0,  9,  7,  0,  0,\n",
       "        13,  1, 15, 12, 11, 15,  9, 22,  4,  4, 10,  9,  2, 16,  7,  1, 10,  7,\n",
       "        10, 11, 16,  6, 11,  8,  0,  4, 20,  6,  9,  8, 11,  5, 11,  6, 19,  9,\n",
       "         3, 13, 10,  7, 13, 12,  1, 19, 15,  5, 17,  5,  8, 11,  9,  3, 16,  6,\n",
       "        12, 11,  4,  8, 12,  6,  0,  0, 14, 10,  0, 36,  2,  4,  0, 14,  6,  9,\n",
       "         9, 17, 14, 16, 15, 11, 12,  4, 17, 11,  8, 22, 30, 21,  1, 12,  5, 14,\n",
       "         5,  0, 22, 11, 14,  5,  4, 11, 10, 13,  0,  2,  5,  0,  4,  6,  4, 14,\n",
       "        14,  4,  4, 18,  5, 30, 15, 13,  8, 19, 11,  9, 14,  0, 14, 19,  8, 14,\n",
       "        19,  9,  8,  0, 11,  0,  7,  0,  5,  7,  9,  9,  0, 26, 14,  3,  8,  5,\n",
       "         7, 22,  8,  5,  2,  6,  3,  2,  1,  1, 15,  8,  7,  7, 28,  8,  6, 19,\n",
       "        18,  9,  8,  6,  8,  7, 10, 10,  0,  7,  9, 10, 15,  3,  3, 13,  0, 24,\n",
       "         9, 11,  4,  5,  2,  2, 23, 15, 10, 15, 11, 13,  6, 12,  0,  5,  6,  7,\n",
       "        22,  9,  7, 23, 21,  3,  0,  8,  2, 12, 10, 14, 13, 11, 11, 14,  8, 14,\n",
       "        14,  3, 14, 18,  3, 13,  7, 13,  7,  7, 15,  0, 16, 11,  5, 11,  8, 13,\n",
       "         7, 12,  5,  7, 14,  8,  0, 12,  7, 19,  0,  0,  9,  2,  2,  7,  6, 16,\n",
       "         7, 13, 13, 10,  6, 12,  7, 17,  6, 12,  4, 19,  0,  5,  5,  7,  5, 14,\n",
       "         6, 15,  8, 20,  4, 10,  3,  5, 16,  2, 17,  1,  7, 13,  9, 22, 16, 29,\n",
       "        13, 16,  5, 21,  7, 24, 10,  8,  0,  9,  9,  9,  6, 18, 14,  8, 12,  3,\n",
       "         7, 11,  3,  0,  2, 11,  8,  3, 12, 10, 10,  9, 14, 13, 12,  4,  7, 13,\n",
       "         8,  5,  9,  5,  5,  7,  3,  8,  8,  4,  9,  4,  0, 27,  4,  4, 14,  7,\n",
       "         8, 17,  7, 13,  1, 16, 14, 14,  6,  6, 11,  4, 16,  0, 15, 16, 11,  7,\n",
       "         1, 10, 10, 15,  7,  1,  8, 11, 15,  2, 21,  7, 12, 22,  7, 17,  4,  8,\n",
       "         4,  5, 18,  9,  7, 16,  0, 12]), is_trigger_track=tensor([[ True,  True, False,  ..., False, False, False],\n",
       "        [False, False,  True,  ..., False, False, False],\n",
       "        [False, False, False,  ..., False, False, False],\n",
       "        ...,\n",
       "        [False, False, False,  ..., False, False, False],\n",
       "        [False, False, False,  ..., False, False, False],\n",
       "        [False, False, False,  ..., False, False, False]]), ptypes=tensor([[-211,  321, -211,  ...,    0,    0,    0],\n",
       "        [ 211,  211, -211,  ...,    0,    0,    0],\n",
       "        [-211,  211, -321,  ...,    0,    0,    0],\n",
       "        ...,\n",
       "        [ 211, -211,  211,  ...,    0,    0,    0],\n",
       "        [   0,    0,    0,  ...,    0,    0,    0],\n",
       "        [-211,  211,  211,  ...,    0,    0,    0]]), momentums=tensor([[[-0.5818, -0.4487,  0.0672],\n",
       "         [-2.3466,  1.1641,  2.2065],\n",
       "         [ 0.0093, -0.2443, -0.1304],\n",
       "         ...,\n",
       "         [ 0.0000,  0.0000,  0.0000],\n",
       "         [ 0.0000,  0.0000,  0.0000],\n",
       "         [ 0.0000,  0.0000,  0.0000]],\n",
       "\n",
       "        [[-0.0786, -0.2995,  0.0414],\n",
       "         [ 0.3747, -0.1838, -1.2524],\n",
       "         [-0.5809, -0.1815,  0.3255],\n",
       "         ...,\n",
       "         [ 0.0000,  0.0000,  0.0000],\n",
       "         [ 0.0000,  0.0000,  0.0000],\n",
       "         [ 0.0000,  0.0000,  0.0000]],\n",
       "\n",
       "        [[-0.3540, -0.0778,  0.0041],\n",
       "         [-0.3295,  0.0088, -0.2335],\n",
       "         [-0.2084, -0.6754, -0.3132],\n",
       "         ...,\n",
       "         [ 0.0000,  0.0000,  0.0000],\n",
       "         [ 0.0000,  0.0000,  0.0000],\n",
       "         [ 0.0000,  0.0000,  0.0000]],\n",
       "\n",
       "        ...,\n",
       "\n",
       "        [[-0.0295,  0.2528, -0.1886],\n",
       "         [-0.4500, -0.0613, -1.4196],\n",
       "         [ 0.2119,  0.2170, -0.7617],\n",
       "         ...,\n",
       "         [ 0.0000,  0.0000,  0.0000],\n",
       "         [ 0.0000,  0.0000,  0.0000],\n",
       "         [ 0.0000,  0.0000,  0.0000]],\n",
       "\n",
       "        [[ 0.0000,  0.0000,  0.0000],\n",
       "         [ 0.0000,  0.0000,  0.0000],\n",
       "         [ 0.0000,  0.0000,  0.0000],\n",
       "         ...,\n",
       "         [ 0.0000,  0.0000,  0.0000],\n",
       "         [ 0.0000,  0.0000,  0.0000],\n",
       "         [ 0.0000,  0.0000,  0.0000]],\n",
       "\n",
       "        [[ 0.4335,  0.2076,  0.6672],\n",
       "         [-0.3559, -0.1531,  0.2326],\n",
       "         [-0.9521,  0.8950,  1.0678],\n",
       "         ...,\n",
       "         [ 0.0000,  0.0000,  0.0000],\n",
       "         [ 0.0000,  0.0000,  0.0000],\n",
       "         [ 0.0000,  0.0000,  0.0000]]], dtype=torch.float64), energies=tensor([[[0.7509],\n",
       "         [3.4603],\n",
       "         [0.3103],\n",
       "         ...,\n",
       "         [0.0000],\n",
       "         [0.0000],\n",
       "         [0.0000]],\n",
       "\n",
       "        [[0.3422],\n",
       "         [1.3275],\n",
       "         [0.7041],\n",
       "         ...,\n",
       "         [0.0000],\n",
       "         [0.0000],\n",
       "         [0.0000]],\n",
       "\n",
       "        [[0.3884],\n",
       "         [0.4274],\n",
       "         [0.9173],\n",
       "         ...,\n",
       "         [0.0000],\n",
       "         [0.0000],\n",
       "         [0.0000]],\n",
       "\n",
       "        ...,\n",
       "\n",
       "        [[0.3462],\n",
       "         [1.4970],\n",
       "         [0.8317],\n",
       "         ...,\n",
       "         [0.0000],\n",
       "         [0.0000],\n",
       "         [0.0000]],\n",
       "\n",
       "        [[0.0000],\n",
       "         [0.0000],\n",
       "         [0.0000],\n",
       "         ...,\n",
       "         [0.0000],\n",
       "         [0.0000],\n",
       "         [0.0000]],\n",
       "\n",
       "        [[0.8340],\n",
       "         [0.4729],\n",
       "         [1.6933],\n",
       "         ...,\n",
       "         [0.0000],\n",
       "         [0.0000],\n",
       "         [0.0000]]], dtype=torch.float64), ip=tensor([[ 5.8682e-03, -1.3169e-02, -5.6726e+00],\n",
       "        [ 1.4410e-02,  2.0542e-03,  4.7821e+00],\n",
       "        [-2.0517e-03, -4.4453e-03, -1.7678e+00],\n",
       "        ...,\n",
       "        [-6.9835e-03, -1.1263e-02,  1.2826e+00],\n",
       "        [-1.2183e-02, -8.7438e-03, -4.8482e+00],\n",
       "        [-8.3057e-03,  7.0830e-03, -2.5243e+00]], dtype=torch.float64), origin_vertices=tensor([[[-1.1918e-02, -8.8245e-03, -5.6588e+00],\n",
       "         [-1.1918e-02, -8.8245e-03, -5.6588e+00],\n",
       "         [ 5.8682e-03, -1.3169e-02, -5.6726e+00],\n",
       "         ...,\n",
       "         [ 0.0000e+00,  0.0000e+00,  0.0000e+00],\n",
       "         [ 0.0000e+00,  0.0000e+00,  0.0000e+00],\n",
       "         [ 0.0000e+00,  0.0000e+00,  0.0000e+00]],\n",
       "\n",
       "        [[-1.4117e-01,  2.7464e+00, -1.3441e+01],\n",
       "         [ 1.6428e-02, -5.4360e-03,  4.7215e+00],\n",
       "         [ 1.0482e-02,  9.2697e-03,  4.7784e+00],\n",
       "         ...,\n",
       "         [ 0.0000e+00,  0.0000e+00,  0.0000e+00],\n",
       "         [ 0.0000e+00,  0.0000e+00,  0.0000e+00],\n",
       "         [ 0.0000e+00,  0.0000e+00,  0.0000e+00]],\n",
       "\n",
       "        [[-2.0517e-03, -4.4453e-03, -1.7678e+00],\n",
       "         [-2.0517e-03, -4.4453e-03, -1.7678e+00],\n",
       "         [-2.0517e-03, -4.4453e-03, -1.7678e+00],\n",
       "         ...,\n",
       "         [ 0.0000e+00,  0.0000e+00,  0.0000e+00],\n",
       "         [ 0.0000e+00,  0.0000e+00,  0.0000e+00],\n",
       "         [ 0.0000e+00,  0.0000e+00,  0.0000e+00]],\n",
       "\n",
       "        ...,\n",
       "\n",
       "        [[-2.1126e-01,  2.1946e+00,  1.3531e+00],\n",
       "         [-6.9835e-03, -1.1263e-02,  1.2826e+00],\n",
       "         [-6.9835e-03, -1.1263e-02,  1.2826e+00],\n",
       "         ...,\n",
       "         [ 0.0000e+00,  0.0000e+00,  0.0000e+00],\n",
       "         [ 0.0000e+00,  0.0000e+00,  0.0000e+00],\n",
       "         [ 0.0000e+00,  0.0000e+00,  0.0000e+00]],\n",
       "\n",
       "        [[ 0.0000e+00,  0.0000e+00,  0.0000e+00],\n",
       "         [ 0.0000e+00,  0.0000e+00,  0.0000e+00],\n",
       "         [ 0.0000e+00,  0.0000e+00,  0.0000e+00],\n",
       "         ...,\n",
       "         [ 0.0000e+00,  0.0000e+00,  0.0000e+00],\n",
       "         [ 0.0000e+00,  0.0000e+00,  0.0000e+00],\n",
       "         [ 0.0000e+00,  0.0000e+00,  0.0000e+00]],\n",
       "\n",
       "        [[-3.9291e-01,  1.9948e+00,  1.1242e+01],\n",
       "         [-3.9291e-01,  1.9948e+00,  1.1242e+01],\n",
       "         [-8.6138e-03,  7.3572e-03, -2.5232e+00],\n",
       "         ...,\n",
       "         [ 0.0000e+00,  0.0000e+00,  0.0000e+00],\n",
       "         [ 0.0000e+00,  0.0000e+00,  0.0000e+00],\n",
       "         [ 0.0000e+00,  0.0000e+00,  0.0000e+00]]], dtype=torch.float64))"
      ]
     },
     "execution_count": 9,
     "metadata": {},
     "output_type": "execute_result"
    }
   ],
   "source": [
    "next(iter(val_data))"
   ]
  },
  {
   "cell_type": "code",
   "execution_count": 16,
   "id": "bc970d13",
   "metadata": {},
   "outputs": [
    {
     "data": {
      "application/vnd.jupyter.widget-view+json": {
       "model_id": "d9001e1565e841c593294989acd92c4c",
       "version_major": 2,
       "version_minor": 0
      },
      "text/plain": [
       "  0%|          | 0/40 [00:00<?, ?it/s]"
      ]
     },
     "metadata": {},
     "output_type": "display_data"
    },
    {
     "data": {
      "application/vnd.jupyter.widget-view+json": {
       "model_id": "8649218477d24080abf14d0b385369d5",
       "version_major": 2,
       "version_minor": 0
      },
      "text/plain": [
       "  0%|          | 0/40 [00:00<?, ?it/s]"
      ]
     },
     "metadata": {},
     "output_type": "display_data"
    },
    {
     "data": {
      "application/vnd.jupyter.widget-view+json": {
       "model_id": "58e801a6ce104c44997bac24a80145f9",
       "version_major": 2,
       "version_minor": 0
      },
      "text/plain": [
       "  0%|          | 0/40 [00:00<?, ?it/s]"
      ]
     },
     "metadata": {},
     "output_type": "display_data"
    },
    {
     "data": {
      "application/vnd.jupyter.widget-view+json": {
       "model_id": "2b9a53f96a2445a3b8c23cfe1cab01b0",
       "version_major": 2,
       "version_minor": 0
      },
      "text/plain": [
       "  0%|          | 0/40 [00:00<?, ?it/s]"
      ]
     },
     "metadata": {},
     "output_type": "display_data"
    },
    {
     "data": {
      "application/vnd.jupyter.widget-view+json": {
       "model_id": "3c762e568237459b86f09f134442454d",
       "version_major": 2,
       "version_minor": 0
      },
      "text/plain": [
       "  0%|          | 0/40 [00:00<?, ?it/s]"
      ]
     },
     "metadata": {},
     "output_type": "display_data"
    },
    {
     "data": {
      "application/vnd.jupyter.widget-view+json": {
       "model_id": "210a773d602e446b8530827264234882",
       "version_major": 2,
       "version_minor": 0
      },
      "text/plain": [
       "  0%|          | 0/40 [00:00<?, ?it/s]"
      ]
     },
     "metadata": {},
     "output_type": "display_data"
    },
    {
     "data": {
      "application/vnd.jupyter.widget-view+json": {
       "model_id": "57ddf767c68e4ffcbe35f5902472fa40",
       "version_major": 2,
       "version_minor": 0
      },
      "text/plain": [
       "  0%|          | 0/40 [00:00<?, ?it/s]"
      ]
     },
     "metadata": {},
     "output_type": "display_data"
    },
    {
     "data": {
      "application/vnd.jupyter.widget-view+json": {
       "model_id": "ba44daf3c2874b6694f54b8105f2e1ce",
       "version_major": 2,
       "version_minor": 0
      },
      "text/plain": [
       "  0%|          | 0/40 [00:00<?, ?it/s]"
      ]
     },
     "metadata": {},
     "output_type": "display_data"
    },
    {
     "data": {
      "application/vnd.jupyter.widget-view+json": {
       "model_id": "4037d12fb9f2481bba7cd108c77690c7",
       "version_major": 2,
       "version_minor": 0
      },
      "text/plain": [
       "  0%|          | 0/40 [00:00<?, ?it/s]"
      ]
     },
     "metadata": {},
     "output_type": "display_data"
    },
    {
     "data": {
      "application/vnd.jupyter.widget-view+json": {
       "model_id": "fd49ecd5515342958f685e829bd878c2",
       "version_major": 2,
       "version_minor": 0
      },
      "text/plain": [
       "  0%|          | 0/40 [00:00<?, ?it/s]"
      ]
     },
     "metadata": {},
     "output_type": "display_data"
    },
    {
     "data": {
      "application/vnd.jupyter.widget-view+json": {
       "model_id": "3e13e240d5c14f508c5dca21fcab7555",
       "version_major": 2,
       "version_minor": 0
      },
      "text/plain": [
       "  0%|          | 0/40 [00:00<?, ?it/s]"
      ]
     },
     "metadata": {},
     "output_type": "display_data"
    },
    {
     "data": {
      "application/vnd.jupyter.widget-view+json": {
       "model_id": "b72bce8040724c1f80e51ad773936d5f",
       "version_major": 2,
       "version_minor": 0
      },
      "text/plain": [
       "  0%|          | 0/40 [00:00<?, ?it/s]"
      ]
     },
     "metadata": {},
     "output_type": "display_data"
    },
    {
     "data": {
      "application/vnd.jupyter.widget-view+json": {
       "model_id": "01debb27bad144808f8ad0c1f9c39e49",
       "version_major": 2,
       "version_minor": 0
      },
      "text/plain": [
       "  0%|          | 0/40 [00:00<?, ?it/s]"
      ]
     },
     "metadata": {},
     "output_type": "display_data"
    },
    {
     "data": {
      "application/vnd.jupyter.widget-view+json": {
       "model_id": "b2ea9a95b58641269eed5ed20bd5b9e5",
       "version_major": 2,
       "version_minor": 0
      },
      "text/plain": [
       "  0%|          | 0/40 [00:00<?, ?it/s]"
      ]
     },
     "metadata": {},
     "output_type": "display_data"
    },
    {
     "data": {
      "application/vnd.jupyter.widget-view+json": {
       "model_id": "63915391efdd43d983214dc69fe07d72",
       "version_major": 2,
       "version_minor": 0
      },
      "text/plain": [
       "  0%|          | 0/40 [00:00<?, ?it/s]"
      ]
     },
     "metadata": {},
     "output_type": "display_data"
    },
    {
     "data": {
      "application/vnd.jupyter.widget-view+json": {
       "model_id": "0a541ce6ab3048738c7532fe82a7c1dd",
       "version_major": 2,
       "version_minor": 0
      },
      "text/plain": [
       "  0%|          | 0/40 [00:00<?, ?it/s]"
      ]
     },
     "metadata": {},
     "output_type": "display_data"
    },
    {
     "data": {
      "application/vnd.jupyter.widget-view+json": {
       "model_id": "57756acf50a74b25a3d85276bfade10c",
       "version_major": 2,
       "version_minor": 0
      },
      "text/plain": [
       "  0%|          | 0/40 [00:00<?, ?it/s]"
      ]
     },
     "metadata": {},
     "output_type": "display_data"
    },
    {
     "data": {
      "application/vnd.jupyter.widget-view+json": {
       "model_id": "ddaa439eb71f476097a41e359d05286b",
       "version_major": 2,
       "version_minor": 0
      },
      "text/plain": [
       "  0%|          | 0/40 [00:00<?, ?it/s]"
      ]
     },
     "metadata": {},
     "output_type": "display_data"
    },
    {
     "data": {
      "application/vnd.jupyter.widget-view+json": {
       "model_id": "2ba374a9daa94f75b1be9a301d65ebe6",
       "version_major": 2,
       "version_minor": 0
      },
      "text/plain": [
       "  0%|          | 0/40 [00:00<?, ?it/s]"
      ]
     },
     "metadata": {},
     "output_type": "display_data"
    },
    {
     "data": {
      "application/vnd.jupyter.widget-view+json": {
       "model_id": "8fc87ecb54ab43579ba27121ae8edb09",
       "version_major": 2,
       "version_minor": 0
      },
      "text/plain": [
       "  0%|          | 0/40 [00:00<?, ?it/s]"
      ]
     },
     "metadata": {},
     "output_type": "display_data"
    },
    {
     "data": {
      "application/vnd.jupyter.widget-view+json": {
       "model_id": "dcad30e363814195bfa557c15068acc8",
       "version_major": 2,
       "version_minor": 0
      },
      "text/plain": [
       "  0%|          | 0/40 [00:00<?, ?it/s]"
      ]
     },
     "metadata": {},
     "output_type": "display_data"
    },
    {
     "data": {
      "application/vnd.jupyter.widget-view+json": {
       "model_id": "8b64d0aa95b047f6b0110f79845fcf0e",
       "version_major": 2,
       "version_minor": 0
      },
      "text/plain": [
       "  0%|          | 0/40 [00:00<?, ?it/s]"
      ]
     },
     "metadata": {},
     "output_type": "display_data"
    },
    {
     "data": {
      "application/vnd.jupyter.widget-view+json": {
       "model_id": "4450a2c447f240f78881b6d836fcf3ee",
       "version_major": 2,
       "version_minor": 0
      },
      "text/plain": [
       "  0%|          | 0/40 [00:00<?, ?it/s]"
      ]
     },
     "metadata": {},
     "output_type": "display_data"
    },
    {
     "data": {
      "application/vnd.jupyter.widget-view+json": {
       "model_id": "f132980567b4413ba61fbc6369b99d9a",
       "version_major": 2,
       "version_minor": 0
      },
      "text/plain": [
       "  0%|          | 0/40 [00:00<?, ?it/s]"
      ]
     },
     "metadata": {},
     "output_type": "display_data"
    },
    {
     "data": {
      "application/vnd.jupyter.widget-view+json": {
       "model_id": "a8499428aebb4a599de7c0b0cd40a7fa",
       "version_major": 2,
       "version_minor": 0
      },
      "text/plain": [
       "  0%|          | 0/40 [00:00<?, ?it/s]"
      ]
     },
     "metadata": {},
     "output_type": "display_data"
    },
    {
     "data": {
      "application/vnd.jupyter.widget-view+json": {
       "model_id": "b688766ed04f4154b446ee8f70d9bd20",
       "version_major": 2,
       "version_minor": 0
      },
      "text/plain": [
       "  0%|          | 0/40 [00:00<?, ?it/s]"
      ]
     },
     "metadata": {},
     "output_type": "display_data"
    },
    {
     "data": {
      "application/vnd.jupyter.widget-view+json": {
       "model_id": "df5b585eea264162b59fd3cdff3ed7b1",
       "version_major": 2,
       "version_minor": 0
      },
      "text/plain": [
       "  0%|          | 0/40 [00:00<?, ?it/s]"
      ]
     },
     "metadata": {},
     "output_type": "display_data"
    },
    {
     "data": {
      "application/vnd.jupyter.widget-view+json": {
       "model_id": "b34cafcf76b441c99357f31289e87891",
       "version_major": 2,
       "version_minor": 0
      },
      "text/plain": [
       "  0%|          | 0/40 [00:00<?, ?it/s]"
      ]
     },
     "metadata": {},
     "output_type": "display_data"
    },
    {
     "data": {
      "application/vnd.jupyter.widget-view+json": {
       "model_id": "00f7dd9d2d954d9caeeaf32e83cffa4e",
       "version_major": 2,
       "version_minor": 0
      },
      "text/plain": [
       "  0%|          | 0/40 [00:00<?, ?it/s]"
      ]
     },
     "metadata": {},
     "output_type": "display_data"
    },
    {
     "data": {
      "application/vnd.jupyter.widget-view+json": {
       "model_id": "767e785bb47143f6ae4e3482b9de7f58",
       "version_major": 2,
       "version_minor": 0
      },
      "text/plain": [
       "  0%|          | 0/40 [00:00<?, ?it/s]"
      ]
     },
     "metadata": {},
     "output_type": "display_data"
    },
    {
     "data": {
      "application/vnd.jupyter.widget-view+json": {
       "model_id": "26d40239203b492db5204f8c890718f5",
       "version_major": 2,
       "version_minor": 0
      },
      "text/plain": [
       "  0%|          | 0/40 [00:00<?, ?it/s]"
      ]
     },
     "metadata": {},
     "output_type": "display_data"
    },
    {
     "data": {
      "application/vnd.jupyter.widget-view+json": {
       "model_id": "9947f400423b4d1ca7a0f44f4338e0eb",
       "version_major": 2,
       "version_minor": 0
      },
      "text/plain": [
       "  0%|          | 0/40 [00:00<?, ?it/s]"
      ]
     },
     "metadata": {},
     "output_type": "display_data"
    },
    {
     "data": {
      "application/vnd.jupyter.widget-view+json": {
       "model_id": "07fff3f0bbab45a4a92d1ea8a8e20d9f",
       "version_major": 2,
       "version_minor": 0
      },
      "text/plain": [
       "  0%|          | 0/40 [00:00<?, ?it/s]"
      ]
     },
     "metadata": {},
     "output_type": "display_data"
    },
    {
     "data": {
      "application/vnd.jupyter.widget-view+json": {
       "model_id": "6d350969e7a34cb0b1bae78297a12afc",
       "version_major": 2,
       "version_minor": 0
      },
      "text/plain": [
       "  0%|          | 0/40 [00:00<?, ?it/s]"
      ]
     },
     "metadata": {},
     "output_type": "display_data"
    },
    {
     "data": {
      "application/vnd.jupyter.widget-view+json": {
       "model_id": "c27b88c6aa7a42279579730b5a1cd45a",
       "version_major": 2,
       "version_minor": 0
      },
      "text/plain": [
       "  0%|          | 0/40 [00:00<?, ?it/s]"
      ]
     },
     "metadata": {},
     "output_type": "display_data"
    },
    {
     "data": {
      "application/vnd.jupyter.widget-view+json": {
       "model_id": "4c561f13b7a142479f71b1933690d652",
       "version_major": 2,
       "version_minor": 0
      },
      "text/plain": [
       "  0%|          | 0/40 [00:00<?, ?it/s]"
      ]
     },
     "metadata": {},
     "output_type": "display_data"
    },
    {
     "data": {
      "application/vnd.jupyter.widget-view+json": {
       "model_id": "f8524aa9a356433ebd661dd3fc2e6351",
       "version_major": 2,
       "version_minor": 0
      },
      "text/plain": [
       "  0%|          | 0/40 [00:00<?, ?it/s]"
      ]
     },
     "metadata": {},
     "output_type": "display_data"
    },
    {
     "data": {
      "application/vnd.jupyter.widget-view+json": {
       "model_id": "035028165bc74778bc0805e33e862fa6",
       "version_major": 2,
       "version_minor": 0
      },
      "text/plain": [
       "  0%|          | 0/40 [00:00<?, ?it/s]"
      ]
     },
     "metadata": {},
     "output_type": "display_data"
    },
    {
     "data": {
      "application/vnd.jupyter.widget-view+json": {
       "model_id": "90e1b006d81a4ce3b108b30c6925b2a6",
       "version_major": 2,
       "version_minor": 0
      },
      "text/plain": [
       "  0%|          | 0/40 [00:00<?, ?it/s]"
      ]
     },
     "metadata": {},
     "output_type": "display_data"
    },
    {
     "data": {
      "application/vnd.jupyter.widget-view+json": {
       "model_id": "b6481af2b8254437bad35c33a032c8e0",
       "version_major": 2,
       "version_minor": 0
      },
      "text/plain": [
       "  0%|          | 0/40 [00:00<?, ?it/s]"
      ]
     },
     "metadata": {},
     "output_type": "display_data"
    }
   ],
   "source": [
    "N_BATCHES = 40\n",
    "all_preds = []\n",
    "all_preds_prob = []\n",
    "all_correct = []\n",
    "for phi in np.linspace(0, 2*np.pi, 40):\n",
    "    preds = []\n",
    "    preds_prob = []\n",
    "    correct = []\n",
    "    val_data.dataset.dataset.phi = phi\n",
    "    for batch in tqdm(islice(val_data, 0, N_BATCHES), total=N_BATCHES):\n",
    "        mask = torch.zeros(batch.track_vector.shape[:-1])\n",
    "        for i, n in enumerate(batch.n_tracks):\n",
    "            mask[i, :n] = 1\n",
    "\n",
    "        mask = mask.to(DEVICE)\n",
    "        track_vector = batch.track_vector.to(DEVICE)\n",
    "        n_batches, n_tracks = track_vector.shape[:2]\n",
    "        hits = track_vector[:, :, :15].reshape(n_batches, n_tracks, 5, 3)\n",
    "        \n",
    "        \n",
    "        is_trigger_track = batch.is_trigger_track.to(DEVICE, torch.bool)\n",
    "        trigger = (batch.trigger.to(DEVICE) == 1).unsqueeze(-1)\n",
    "\n",
    "        mask_logits = model(track_vector, mask)\n",
    "        pred = mask_logits.max(dim=1)[1]\n",
    "        preds.extend(pred.cpu().data.numpy())\n",
    "        preds_prob.extend(nn.Softmax(dim=1)(mask_logits)[:, 1].detach().cpu().numpy().flatten())\n",
    "        correct.extend(trigger.detach().cpu().numpy().flatten())\n",
    "    all_correct.append(correct)\n",
    "    all_preds.append(preds)\n",
    "    all_preds_prob.append(preds_prob)"
   ]
  },
  {
   "cell_type": "code",
   "execution_count": 17,
   "id": "c48f6791",
   "metadata": {},
   "outputs": [],
   "source": [
    "all_preds = np.array(all_preds)\n",
    "all_correct = np.array(all_correct)"
   ]
  },
  {
   "cell_type": "code",
   "execution_count": 18,
   "id": "c73eafc1",
   "metadata": {},
   "outputs": [],
   "source": [
    "accs_gt = np.sum(all_preds == all_correct, axis=-1)/all_correct.shape[1]"
   ]
  },
  {
   "cell_type": "code",
   "execution_count": 19,
   "id": "f628197d",
   "metadata": {},
   "outputs": [
    {
     "data": {
      "text/plain": [
       "array([0.90356445, 0.90332031, 0.90175781, 0.90180664, 0.90166016,\n",
       "       0.90043945, 0.896875  , 0.89086914, 0.88061523, 0.8690918 ,\n",
       "       0.86728516, 0.87675781, 0.88793945, 0.89296875, 0.89643555,\n",
       "       0.89799805, 0.89941406, 0.89975586, 0.90014648, 0.90029297,\n",
       "       0.90087891, 0.90136719, 0.90068359, 0.89941406, 0.89873047,\n",
       "       0.89658203, 0.89414063, 0.88710937, 0.87299805, 0.86313477,\n",
       "       0.86879883, 0.8824707 , 0.89223633, 0.89663086, 0.89902344,\n",
       "       0.90175781, 0.90292969, 0.9027832 , 0.90322266, 0.90356445])"
      ]
     },
     "execution_count": 19,
     "metadata": {},
     "output_type": "execute_result"
    }
   ],
   "source": [
    "accs_gt"
   ]
  },
  {
   "cell_type": "code",
   "execution_count": 21,
   "id": "82f7bafd",
   "metadata": {},
   "outputs": [
    {
     "data": {
      "text/plain": [
       "Text(0.5, 1.0, 'Effects of Rotation on Accuracy')"
      ]
     },
     "execution_count": 21,
     "metadata": {},
     "output_type": "execute_result"
    },
    {
     "data": {
      "image/png": "[encoded data removed]",
      "text/plain": [
       "<Figure size 640x480 with 1 Axes>"
      ]
     },
     "metadata": {},
     "output_type": "display_data"
    }
   ],
   "source": [
    "plt.plot(np.linspace(0, 2*np.pi, 40), accs_gt)\n",
    "plt.xlabel('Rotation Angle Applied')\n",
    "plt.ylabel('Accuracy')\n",
    "plt.title(\"Effects of Rotation on Accuracy\")"
   ]
  },
  {
   "cell_type": "code",
   "execution_count": 13,
   "id": "282ebc2c",
   "metadata": {},
   "outputs": [
    {
     "data": {
      "application/vnd.jupyter.widget-view+json": {
       "model_id": "78d86bd99ced4252ba7db3be4027dfaa",
       "version_major": 2,
       "version_minor": 0
      },
      "text/plain": [
       "  0%|          | 0/40 [00:00<?, ?it/s]"
      ]
     },
     "metadata": {},
     "output_type": "display_data"
    },
    {
     "data": {
      "application/vnd.jupyter.widget-view+json": {
       "model_id": "a2ba46750a6540f9b075f3daea7a2a30",
       "version_major": 2,
       "version_minor": 0
      },
      "text/plain": [
       "  0%|          | 0/40 [00:00<?, ?it/s]"
      ]
     },
     "metadata": {},
     "output_type": "display_data"
    },
    {
     "data": {
      "application/vnd.jupyter.widget-view+json": {
       "model_id": "8af6855486054eef886c0b0b5647d8f2",
       "version_major": 2,
       "version_minor": 0
      },
      "text/plain": [
       "  0%|          | 0/40 [00:00<?, ?it/s]"
      ]
     },
     "metadata": {},
     "output_type": "display_data"
    },
    {
     "data": {
      "application/vnd.jupyter.widget-view+json": {
       "model_id": "71fa100e460e418c86b9fb3208cbb596",
       "version_major": 2,
       "version_minor": 0
      },
      "text/plain": [
       "  0%|          | 0/40 [00:00<?, ?it/s]"
      ]
     },
     "metadata": {},
     "output_type": "display_data"
    },
    {
     "data": {
      "application/vnd.jupyter.widget-view+json": {
       "model_id": "b52d041330224cb685cc62806a07a88f",
       "version_major": 2,
       "version_minor": 0
      },
      "text/plain": [
       "  0%|          | 0/40 [00:00<?, ?it/s]"
      ]
     },
     "metadata": {},
     "output_type": "display_data"
    },
    {
     "data": {
      "application/vnd.jupyter.widget-view+json": {
       "model_id": "4c743c2704dc46a683e910a910584f97",
       "version_major": 2,
       "version_minor": 0
      },
      "text/plain": [
       "  0%|          | 0/40 [00:00<?, ?it/s]"
      ]
     },
     "metadata": {},
     "output_type": "display_data"
    },
    {
     "data": {
      "application/vnd.jupyter.widget-view+json": {
       "model_id": "090e8ae6aed348c59fa2b97a476893cf",
       "version_major": 2,
       "version_minor": 0
      },
      "text/plain": [
       "  0%|          | 0/40 [00:00<?, ?it/s]"
      ]
     },
     "metadata": {},
     "output_type": "display_data"
    },
    {
     "data": {
      "application/vnd.jupyter.widget-view+json": {
       "model_id": "f5a1f7884fc143bbb87bdd6386d266c8",
       "version_major": 2,
       "version_minor": 0
      },
      "text/plain": [
       "  0%|          | 0/40 [00:00<?, ?it/s]"
      ]
     },
     "metadata": {},
     "output_type": "display_data"
    },
    {
     "data": {
      "application/vnd.jupyter.widget-view+json": {
       "model_id": "51433b322c9448519a71d7ff0eaceb80",
       "version_major": 2,
       "version_minor": 0
      },
      "text/plain": [
       "  0%|          | 0/40 [00:00<?, ?it/s]"
      ]
     },
     "metadata": {},
     "output_type": "display_data"
    },
    {
     "data": {
      "application/vnd.jupyter.widget-view+json": {
       "model_id": "c84b8e4ee53a4292893eb3bebd58dc74",
       "version_major": 2,
       "version_minor": 0
      },
      "text/plain": [
       "  0%|          | 0/40 [00:00<?, ?it/s]"
      ]
     },
     "metadata": {},
     "output_type": "display_data"
    },
    {
     "data": {
      "application/vnd.jupyter.widget-view+json": {
       "model_id": "a5ee10a597ad4d45b721668e89cb7be9",
       "version_major": 2,
       "version_minor": 0
      },
      "text/plain": [
       "  0%|          | 0/40 [00:00<?, ?it/s]"
      ]
     },
     "metadata": {},
     "output_type": "display_data"
    },
    {
     "data": {
      "application/vnd.jupyter.widget-view+json": {
       "model_id": "3dd4954c2f0a439cb0f5f69e5e483706",
       "version_major": 2,
       "version_minor": 0
      },
      "text/plain": [
       "  0%|          | 0/40 [00:00<?, ?it/s]"
      ]
     },
     "metadata": {},
     "output_type": "display_data"
    },
    {
     "data": {
      "application/vnd.jupyter.widget-view+json": {
       "model_id": "770600aaa76a4d48870dbc470743a021",
       "version_major": 2,
       "version_minor": 0
      },
      "text/plain": [
       "  0%|          | 0/40 [00:00<?, ?it/s]"
      ]
     },
     "metadata": {},
     "output_type": "display_data"
    },
    {
     "data": {
      "application/vnd.jupyter.widget-view+json": {
       "model_id": "27c577c7426149669d16824f118099d9",
       "version_major": 2,
       "version_minor": 0
      },
      "text/plain": [
       "  0%|          | 0/40 [00:00<?, ?it/s]"
      ]
     },
     "metadata": {},
     "output_type": "display_data"
    },
    {
     "data": {
      "application/vnd.jupyter.widget-view+json": {
       "model_id": "2ceaf180cdde4ad28fddf0b6f8cdf4f7",
       "version_major": 2,
       "version_minor": 0
      },
      "text/plain": [
       "  0%|          | 0/40 [00:00<?, ?it/s]"
      ]
     },
     "metadata": {},
     "output_type": "display_data"
    },
    {
     "data": {
      "application/vnd.jupyter.widget-view+json": {
       "model_id": "e719e7361b1b4c8ea54e5499e849e835",
       "version_major": 2,
       "version_minor": 0
      },
      "text/plain": [
       "  0%|          | 0/40 [00:00<?, ?it/s]"
      ]
     },
     "metadata": {},
     "output_type": "display_data"
    },
    {
     "data": {
      "application/vnd.jupyter.widget-view+json": {
       "model_id": "9caee5597cf84502b839942a8770ab61",
       "version_major": 2,
       "version_minor": 0
      },
      "text/plain": [
       "  0%|          | 0/40 [00:00<?, ?it/s]"
      ]
     },
     "metadata": {},
     "output_type": "display_data"
    },
    {
     "data": {
      "application/vnd.jupyter.widget-view+json": {
       "model_id": "4779fc00508b4a0581c3cf126f453d12",
       "version_major": 2,
       "version_minor": 0
      },
      "text/plain": [
       "  0%|          | 0/40 [00:00<?, ?it/s]"
      ]
     },
     "metadata": {},
     "output_type": "display_data"
    },
    {
     "data": {
      "application/vnd.jupyter.widget-view+json": {
       "model_id": "78b428d376244a19b7f36f43d7b6e98b",
       "version_major": 2,
       "version_minor": 0
      },
      "text/plain": [
       "  0%|          | 0/40 [00:00<?, ?it/s]"
      ]
     },
     "metadata": {},
     "output_type": "display_data"
    },
    {
     "data": {
      "application/vnd.jupyter.widget-view+json": {
       "model_id": "f8afea6778604884b99f24b7d244fde4",
       "version_major": 2,
       "version_minor": 0
      },
      "text/plain": [
       "  0%|          | 0/40 [00:00<?, ?it/s]"
      ]
     },
     "metadata": {},
     "output_type": "display_data"
    },
    {
     "data": {
      "application/vnd.jupyter.widget-view+json": {
       "model_id": "56afdfd0f45442aeab4473c75aa35f98",
       "version_major": 2,
       "version_minor": 0
      },
      "text/plain": [
       "  0%|          | 0/40 [00:00<?, ?it/s]"
      ]
     },
     "metadata": {},
     "output_type": "display_data"
    },
    {
     "data": {
      "application/vnd.jupyter.widget-view+json": {
       "model_id": "e4fc74d958fd47f592f0a8511d7e8156",
       "version_major": 2,
       "version_minor": 0
      },
      "text/plain": [
       "  0%|          | 0/40 [00:00<?, ?it/s]"
      ]
     },
     "metadata": {},
     "output_type": "display_data"
    },
    {
     "data": {
      "application/vnd.jupyter.widget-view+json": {
       "model_id": "30f67f74e0f74affad71c22398fd3c87",
       "version_major": 2,
       "version_minor": 0
      },
      "text/plain": [
       "  0%|          | 0/40 [00:00<?, ?it/s]"
      ]
     },
     "metadata": {},
     "output_type": "display_data"
    },
    {
     "data": {
      "application/vnd.jupyter.widget-view+json": {
       "model_id": "a235cdaa5dd341a0ac0bf05dc2ce1bae",
       "version_major": 2,
       "version_minor": 0
      },
      "text/plain": [
       "  0%|          | 0/40 [00:00<?, ?it/s]"
      ]
     },
     "metadata": {},
     "output_type": "display_data"
    },
    {
     "data": {
      "application/vnd.jupyter.widget-view+json": {
       "model_id": "5cbbfcc32d1448659eac3ef48f0c491b",
       "version_major": 2,
       "version_minor": 0
      },
      "text/plain": [
       "  0%|          | 0/40 [00:00<?, ?it/s]"
      ]
     },
     "metadata": {},
     "output_type": "display_data"
    },
    {
     "data": {
      "application/vnd.jupyter.widget-view+json": {
       "model_id": "69ab84182d6b4d14863e348ce3745eae",
       "version_major": 2,
       "version_minor": 0
      },
      "text/plain": [
       "  0%|          | 0/40 [00:00<?, ?it/s]"
      ]
     },
     "metadata": {},
     "output_type": "display_data"
    },
    {
     "data": {
      "application/vnd.jupyter.widget-view+json": {
       "model_id": "98db5388d01c4d329b56d20dafd1a04a",
       "version_major": 2,
       "version_minor": 0
      },
      "text/plain": [
       "  0%|          | 0/40 [00:00<?, ?it/s]"
      ]
     },
     "metadata": {},
     "output_type": "display_data"
    },
    {
     "data": {
      "application/vnd.jupyter.widget-view+json": {
       "model_id": "0f45197abdef405f8ccfb709c0c51b2b",
       "version_major": 2,
       "version_minor": 0
      },
      "text/plain": [
       "  0%|          | 0/40 [00:00<?, ?it/s]"
      ]
     },
     "metadata": {},
     "output_type": "display_data"
    },
    {
     "data": {
      "application/vnd.jupyter.widget-view+json": {
       "model_id": "4b8116ec8a5546998609528ac18d0f17",
       "version_major": 2,
       "version_minor": 0
      },
      "text/plain": [
       "  0%|          | 0/40 [00:00<?, ?it/s]"
      ]
     },
     "metadata": {},
     "output_type": "display_data"
    },
    {
     "data": {
      "application/vnd.jupyter.widget-view+json": {
       "model_id": "28b3df8257a74e2fb8b5930ef0f31b6c",
       "version_major": 2,
       "version_minor": 0
      },
      "text/plain": [
       "  0%|          | 0/40 [00:00<?, ?it/s]"
      ]
     },
     "metadata": {},
     "output_type": "display_data"
    },
    {
     "data": {
      "application/vnd.jupyter.widget-view+json": {
       "model_id": "c618d297c1514cda8a74f7ddc06e3305",
       "version_major": 2,
       "version_minor": 0
      },
      "text/plain": [
       "  0%|          | 0/40 [00:00<?, ?it/s]"
      ]
     },
     "metadata": {},
     "output_type": "display_data"
    },
    {
     "data": {
      "application/vnd.jupyter.widget-view+json": {
       "model_id": "e7298cc736cf44359df3a7b49d7d76c2",
       "version_major": 2,
       "version_minor": 0
      },
      "text/plain": [
       "  0%|          | 0/40 [00:00<?, ?it/s]"
      ]
     },
     "metadata": {},
     "output_type": "display_data"
    },
    {
     "data": {
      "application/vnd.jupyter.widget-view+json": {
       "model_id": "7107475e2c6d44e9a3882e5eecfee6f0",
       "version_major": 2,
       "version_minor": 0
      },
      "text/plain": [
       "  0%|          | 0/40 [00:00<?, ?it/s]"
      ]
     },
     "metadata": {},
     "output_type": "display_data"
    },
    {
     "data": {
      "application/vnd.jupyter.widget-view+json": {
       "model_id": "fcad723cc6d14e1486fe519c5e21f876",
       "version_major": 2,
       "version_minor": 0
      },
      "text/plain": [
       "  0%|          | 0/40 [00:00<?, ?it/s]"
      ]
     },
     "metadata": {},
     "output_type": "display_data"
    },
    {
     "data": {
      "application/vnd.jupyter.widget-view+json": {
       "model_id": "b5dde94318e34a5bb1a2411bb2887fce",
       "version_major": 2,
       "version_minor": 0
      },
      "text/plain": [
       "  0%|          | 0/40 [00:00<?, ?it/s]"
      ]
     },
     "metadata": {},
     "output_type": "display_data"
    },
    {
     "data": {
      "application/vnd.jupyter.widget-view+json": {
       "model_id": "8b1c9038a6a14bc295f0119dc22631a5",
       "version_major": 2,
       "version_minor": 0
      },
      "text/plain": [
       "  0%|          | 0/40 [00:00<?, ?it/s]"
      ]
     },
     "metadata": {},
     "output_type": "display_data"
    },
    {
     "data": {
      "application/vnd.jupyter.widget-view+json": {
       "model_id": "ea18429352224e7c84e56ed79b4be030",
       "version_major": 2,
       "version_minor": 0
      },
      "text/plain": [
       "  0%|          | 0/40 [00:00<?, ?it/s]"
      ]
     },
     "metadata": {},
     "output_type": "display_data"
    },
    {
     "data": {
      "application/vnd.jupyter.widget-view+json": {
       "model_id": "583a774cca6849d3b73ebe0c960767e3",
       "version_major": 2,
       "version_minor": 0
      },
      "text/plain": [
       "  0%|          | 0/40 [00:00<?, ?it/s]"
      ]
     },
     "metadata": {},
     "output_type": "display_data"
    },
    {
     "data": {
      "application/vnd.jupyter.widget-view+json": {
       "model_id": "3bc4220b0ba446d8b1fd6d984f9be61e",
       "version_major": 2,
       "version_minor": 0
      },
      "text/plain": [
       "  0%|          | 0/40 [00:00<?, ?it/s]"
      ]
     },
     "metadata": {},
     "output_type": "display_data"
    },
    {
     "data": {
      "application/vnd.jupyter.widget-view+json": {
       "model_id": "3b3022e166b94f8da62797341a5da247",
       "version_major": 2,
       "version_minor": 0
      },
      "text/plain": [
       "  0%|          | 0/40 [00:00<?, ?it/s]"
      ]
     },
     "metadata": {},
     "output_type": "display_data"
    }
   ],
   "source": [
    "N_BATCHES = 40\n",
    "all_preds = []\n",
    "all_preds_prob = []\n",
    "all_correct = []\n",
    "val_data.dataset.dataset.phi = 0\n",
    "for z in np.linspace(-20, 20, 40):\n",
    "    preds = []\n",
    "    preds_prob = []\n",
    "    correct = []\n",
    "    val_data.dataset.dataset.z = z\n",
    "    for batch in tqdm(islice(val_data, 0, N_BATCHES), total=N_BATCHES):\n",
    "        mask = torch.zeros(batch.track_vector.shape[:-1])\n",
    "        for i, n in enumerate(batch.n_tracks):\n",
    "            mask[i, :n] = 1\n",
    "\n",
    "        mask = mask.to(DEVICE)\n",
    "        track_vector = batch.track_vector.to(DEVICE)\n",
    "        n_batches, n_tracks = track_vector.shape[:2]\n",
    "        hits = track_vector[:, :, :15].reshape(n_batches, n_tracks, 5, 3)\n",
    "        \n",
    "        \n",
    "        is_trigger_track = batch.is_trigger_track.to(DEVICE, torch.bool)\n",
    "        trigger = (batch.trigger.to(DEVICE) == 1).unsqueeze(-1)\n",
    "\n",
    "        mask_logits = model(track_vector, mask)\n",
    "        pred = mask_logits.max(dim=1)[1]\n",
    "        preds.extend(pred.cpu().data.numpy())\n",
    "        preds_prob.extend(nn.Softmax(dim=1)(mask_logits)[:, 1].detach().cpu().numpy().flatten())\n",
    "        correct.extend(trigger.detach().cpu().numpy().flatten())\n",
    "    all_correct.append(correct)\n",
    "    all_preds.append(preds)\n",
    "    all_preds_prob.append(preds_prob)"
   ]
  },
  {
   "cell_type": "code",
   "execution_count": 14,
   "id": "0deacfce",
   "metadata": {},
   "outputs": [],
   "source": [
    "all_preds = np.array(all_preds)\n",
    "all_correct = np.array(all_correct)\n",
    "accs_gt = np.sum(all_preds == all_correct, axis=-1)/all_correct.shape[1]"
   ]
  },
  {
   "cell_type": "code",
   "execution_count": 17,
   "id": "72618af4",
   "metadata": {},
   "outputs": [
    {
     "data": {
      "text/plain": [
       "Text(0.5, 1.0, 'Effects of Z Translation on Accuracy')"
      ]
     },
     "execution_count": 17,
     "metadata": {},
     "output_type": "execute_result"
    },
    {
     "data": {
      "image/png": "[encoded data removed]",
      "text/plain": [
       "<Figure size 640x480 with 1 Axes>"
      ]
     },
     "metadata": {},
     "output_type": "display_data"
    }
   ],
   "source": [
    "plt.plot(np.linspace(-20, 20, 40), accs_gt)\n",
    "plt.xlabel('Z Translation Applied')\n",
    "plt.ylabel('Accuracy')\n",
    "plt.title(\"Effects of Z Translation on Accuracy\")"
   ]
  },
  {
   "cell_type": "code",
   "execution_count": null,
   "id": "74098a28",
   "metadata": {},
   "outputs": [],
   "source": []
  }
 ],
 "metadata": {
  "kernelspec": {
   "display_name": "Python 3 (ipykernel)",
   "language": "python",
   "name": "python3"
  },
  "language_info": {
   "codemirror_mode": {
    "name": "ipython",
    "version": 3
   },
   "file_extension": ".py",
   "mimetype": "text/x-python",
   "name": "python",
   "nbconvert_exporter": "python",
   "pygments_lexer": "ipython3",
   "version": "3.10.9"
  }
 },
 "nbformat": 4,
 "nbformat_minor": 5
}
