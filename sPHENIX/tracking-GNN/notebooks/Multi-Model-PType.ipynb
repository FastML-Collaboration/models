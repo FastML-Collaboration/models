{
 "cells": [
  {
   "cell_type": "markdown",
   "id": "d3548522-2722-43a0-83e4-a4e3f413b694",
   "metadata": {},
   "source": [
    "# "
   ]
  },
  {
   "cell_type": "code",
   "execution_count": 1,
   "id": "fd3c1658",
   "metadata": {},
   "outputs": [
    {
     "name": "stdout",
     "output_type": "stream",
     "text": [
      "/home1/giorgian/projects/trigger-detection-pipeline/sPHENIX/tracking-GNN\n"
     ]
    },
    {
     "name": "stderr",
     "output_type": "stream",
     "text": [
      "/home1/giorgian/anaconda3/envs/jupyter/lib/python3.12/site-packages/IPython/core/magics/osm.py:417: UserWarning: This is now an optional IPython functionality, setting dhist requires you to install the `pickleshare` library.\n",
      "  self.shell.db['dhist'] = compress_dhist(dhist)[-100:]\n"
     ]
    }
   ],
   "source": [
    "%cd .."
   ]
  },
  {
   "cell_type": "code",
   "execution_count": 2,
   "id": "32d4c8fa-7a57-4e7a-805d-0310fb0869fc",
   "metadata": {},
   "outputs": [],
   "source": [
    "from dataclasses import replace\n",
    "import numpy as np\n",
    "import os\n",
    "import torch\n",
    "import matplotlib.pyplot as plt\n",
    "import os.path\n",
    "import sys\n",
    "import logging\n",
    "import pickle\n",
    "from collections import defaultdict\n",
    "from sklearn.linear_model import LinearRegression\n",
    "from models.bgn_st_tracking import GNNSegmentClassifier\n",
    "from icecream import ic\n",
    "from numpy.linalg import inv\n",
    "import sklearn.metrics as metrics\n",
    "from datasets import get_data_loaders\n",
    "from tqdm.notebook import tqdm\n",
    "from itertools import islice"
   ]
  },
  {
   "cell_type": "code",
   "execution_count": 3,
   "id": "cbdfbf66-78e0-4bbf-b5bf-c1e69d8873c8",
   "metadata": {},
   "outputs": [],
   "source": [
    "def get_track_endpoints(hits, good_layers):\n",
    "    # Assumption: all tracks have at least 1 hit\n",
    "    # If it has one hit, first_hit == last_hit for that track\n",
    "    # hits shape: (n_tracks, 5, 3)\n",
    "    # good_layers shape: (n_tracks, 5)\n",
    "    min_indices = good_layers * np.arange(5) + (1 - good_layers) * np.arange(5, 10)\n",
    "    indices = np.expand_dims(np.argmin(min_indices, axis=-1), -1)\n",
    "    indices = np.expand_dims(indices, axis=-2)\n",
    "    first_hits = np.take_along_axis(hits, indices, axis=-2)\n",
    "    max_indices = good_layers * np.arange(5, 10) + (1 - good_layers) * np.arange(5)\n",
    "    indices = np.expand_dims(np.argmax(max_indices, axis=-1), -1)\n",
    "    indices = np.expand_dims(indices, axis=-2)\n",
    "    last_hits = np.take_along_axis(hits, indices, axis=-2)\n",
    "    return first_hits.squeeze(1), last_hits.squeeze(1)\n",
    "\n",
    "def get_predicted_pz(track_hits, good_layers, radius):\n",
    "    hits = track_hits.reshape(-1, 5, 3)\n",
    "    first_hit, last_hit = get_track_endpoints(hits, good_layers)\n",
    "    dz = (last_hit[:, -1] - first_hit[:, -1])/100\n",
    "    chord2 = ((last_hit[:, 0] - first_hit[:, 0]) ** 2 + (last_hit[:, 1] - first_hit[:, 1]) ** 2) / 10000\n",
    "    r2 = 2*radius**2\n",
    "    with np.errstate(invalid='ignore'):\n",
    "        dtheta = np.arccos((r2 - chord2) / (r2 + (r2 == 0)))\n",
    "    dtheta += (dtheta == 0)\n",
    "    return np.nan_to_num(dz / dtheta)\n",
    "\n",
    "def matmul_3D(A, B):\n",
    "    return np.einsum('lij,ljk->lik', A, B)\n",
    "\n",
    "\n",
    "def get_approximate_radii(track_hits, good_layers, n_layers):\n",
    "    x_indices = [3*j for j in range(5)]\n",
    "    y_indices = [3*j+1 for j in range(5)]\n",
    "    r = np.zeros(track_hits.shape[0])\n",
    "    centers = np.zeros((track_hits.shape[0], 2))\n",
    "    for n_layer in range(3, 5 + 1):\n",
    "        complete_tracks = track_hits[n_layers == n_layer]\n",
    "        hit_indices = good_layers[n_layers == n_layer]\n",
    "        if complete_tracks.shape[0] == 0:\n",
    "            continue\n",
    "\n",
    "        A = np.ones((complete_tracks.shape[0], n_layer, 3))\n",
    "        x_values = complete_tracks[:, x_indices]\n",
    "        x_values = x_values[hit_indices].reshape(complete_tracks.shape[0], n_layer)\n",
    "\n",
    "        y_values = complete_tracks[:, y_indices]\n",
    "        y_values = y_values[hit_indices].reshape(complete_tracks.shape[0], n_layer)\n",
    "        A[:, :, 0] = x_values\n",
    "        A[:, :, 1] = y_values\n",
    "\n",
    "        y = - x_values**2 - y_values**2\n",
    "        y = y.reshape((y.shape[0], y.shape[1], 1))\n",
    "        AT = np.transpose(A, axes=(0, 2, 1))\n",
    "        c = matmul_3D(matmul_3D(inv(matmul_3D(AT, A)), AT), y)[..., 0]\n",
    "        r[n_layers == n_layer] = np.sqrt(c[:, 0]**2 + c[:, 1]**2 - 4*c[:, 2])/200\n",
    "        centers[n_layers == n_layer] = np.stack([-c[:, 0]/2, -c[:, 1]/2], axis=-1)\n",
    "\n",
    "    #test = get_approximate_radius(track_hits, n_layers == 5)\n",
    "    #assert np.allclose(test, r[n_layers == 5])\n",
    "\n",
    "    return r, centers\n",
    "\n",
    "def get_length(start, end):\n",
    "    return np.sqrt(np.sum((start - end)**2, axis=1))\n",
    "\n",
    "\n",
    "def port_event(batch, batch_output, ip_output, trigger_output, output_file):\n",
    "    \"\"\"\n",
    "    Ported function to construct track_hits from batch.x_intt, batch.x_mvtx, and batch.edge_index.\n",
    "    \n",
    "    Parameters:\n",
    "      batch: an object with attributes:\n",
    "            - x_intt: shape (N, 10) [each row has two hits, each hit with (r, phi, z, layer_id, n_pixels)]\n",
    "            - x_mvtx: shape (M, 5) [each row is (r, phi, z, layer_id, n_pixels)]\n",
    "            - edge_index: shape (2, num_edges) linking x_intt indices (first row) to x_mvtx indices (second row)\n",
    "            - interaction_point: an iterable giving the true interaction point (e.g. [x, y, z])\n",
    "            - trigger: a boolean flag for trigger\n",
    "      batch_output: predictions for the edges (use batch_output > 0 to decide if an edge is “true”)\n",
    "      ip_output: model’s predicted interaction point (to be saved as interaction_point_pred)\n",
    "      trigger_output: model’s predicted trigger output (to be saved as trigger_pred)\n",
    "      output_file: destination path for the npz output file.\n",
    "    \"\"\"\n",
    "    # Mapping from raw layer_id to track layer (0-indexed):\n",
    "    # 0 -> 0, 1 -> 1, 2 -> 2, 3 -> 3, 4 -> 3, 5 -> 4, 6 -> 4.\n",
    "    layer_map = {0: 0, 1: 1, 2: 2, 3: 3, 4: 3, 5: 4, 6: 4}\n",
    "    \n",
    "    x_intt = batch.x_intt.detach().cpu().numpy()   # shape (N, 10)\n",
    "    x_mvtx = batch.x_mvtx.detach().cpu().numpy()    # shape (M, 5)\n",
    "    edge_index = batch.edge_index  # shape (2, num_edges)\n",
    "    \n",
    "    num_tracks = x_intt.shape[0]\n",
    "    # Prepare an array to hold the track vectors: 5 layers x 3 coordinates = 15 per track.\n",
    "    track_hits = np.zeros((num_tracks, 15), dtype=np.float32)\n",
    "    \n",
    "    # Create a mapping from each x_intt hit (track candidate) to the list of associated x_mvtx indices.\n",
    "    # We assume edge_index[0] contains indices into x_intt and edge_index[1] indices into x_mvtx.\n",
    "    track_to_mvtx = {i: [] for i in range(num_tracks)}\n",
    "    \n",
    "    # Filter edge_index based on the mask (true edges: batch_output > 0)\n",
    "    true_mask = batch_output > 0\n",
    "    true_edges = edge_index[:, true_mask]  # shape (2, num_true_edges)\n",
    "    \n",
    "    # Group associated mvtx indices by their corresponding intt index.\n",
    "    for intt_idx, mvtx_idx in zip(true_edges[0], true_edges[1]):\n",
    "        intt_idx = int(intt_idx)\n",
    "        mvtx_idx = int(mvtx_idx)\n",
    "        track_to_mvtx[intt_idx].append(mvtx_idx)\n",
    "    \n",
    "    # Process each track (each row in x_intt)\n",
    "    for i in range(num_tracks):\n",
    "        # Dictionary to collect (x,y,z) hits for each track layer (0 through 4).\n",
    "        hits_per_layer = {layer: [] for layer in range(5)}\n",
    "        \n",
    "        # --- Process the two hits from x_intt ---\n",
    "        # First hit: entries 0 to 4.\n",
    "        hit1 = x_intt[i,  [0, 1, 2, 6, 8]]  # (r, phi, z, layer_id, n_pixels)\n",
    "        r, phi, z, _, layer_id = hit1\n",
    "        r *= 3\n",
    "        z *= 3\n",
    "        x_coord = r * np.cos(phi)\n",
    "        y_coord = r * np.sin(phi)\n",
    "        mapped_layer = layer_map[int(layer_id)]\n",
    "        hits_per_layer[mapped_layer].append([x_coord, y_coord, z])\n",
    "        \n",
    "        # Second hit: entries 5 to 10.\n",
    "        hit2 = x_intt[i, [3, 4, 5, 7, 9]]\n",
    "        r, phi, z, _, layer_id = hit2\n",
    "        r *= 3\n",
    "        z *= 3\n",
    "        x_coord = r * np.cos(phi)\n",
    "        y_coord = r * np.sin(phi)\n",
    "        mapped_layer = layer_map[int(layer_id)]\n",
    "        hits_per_layer[mapped_layer].append([x_coord, y_coord, z])\n",
    "        \n",
    "        # --- Process associated x_mvtx hits ---\n",
    "        for mvtx_idx in track_to_mvtx[i]:\n",
    "            hit = x_mvtx[mvtx_idx]  # shape (5,)\n",
    "            r, phi, z, _, layer_id = hit\n",
    "            r *= 3\n",
    "            z *= 3\n",
    "            x_coord = r * np.cos(phi)\n",
    "            y_coord = r * np.sin(phi)\n",
    "            mapped_layer = layer_map[int(layer_id)]\n",
    "            hits_per_layer[mapped_layer].append([x_coord, y_coord, z])\n",
    "        \n",
    "        # --- Average hits per layer ---\n",
    "        # The track vector is arranged as:\n",
    "        # [layer0_x, layer0_y, layer0_z, layer1_x, layer1_y, layer1_z, ..., layer4_x, layer4_y, layer4_z]\n",
    "        for layer in range(5):\n",
    "            if hits_per_layer[layer]:\n",
    "                # Compute the mean coordinate for this layer.\n",
    "                avg_coord = np.mean(np.array(hits_per_layer[layer]), axis=0)\n",
    "                track_hits[i, 3*layer:3*layer+3] = avg_coord\n",
    "            # If no hits exist for a layer, the corresponding entries remain 0.\n",
    "    \n",
    "    # --- Compute helper variables ---\n",
    "    # Reshape to (num_tracks, 5, 3) and create a boolean mask indicating which layers have at least one hit.\n",
    "    good_layers = np.any(track_hits.reshape(num_tracks, 5, 3) != 0, axis=-1)\n",
    "    n_layers = np.sum(good_layers, axis=-1)\n",
    "    \n",
    "    # Use batch.interaction_point (the true collision vertex) for output.\n",
    "    ip = tuple(float(x) for x in batch.interaction_point[0])\n",
    "    \n",
    "    # Call the helper functions (assumed to be implemented elsewhere)\n",
    "    radii, centers = get_approximate_radii(track_hits, good_layers, n_layers)\n",
    "    p_z = get_predicted_pz(track_hits, good_layers, radii)\n",
    "    \n",
    "    # --- Save output ---\n",
    "    # Save the numpy file with the required keys. Note that we are not shuffling the tracks.\n",
    "    np.savez(\n",
    "        output_file,\n",
    "        collision_vertex=ip,\n",
    "        tracks=track_hits,\n",
    "        radii=radii,\n",
    "        p_z=p_z,\n",
    "        centers=centers,\n",
    "        trigger=batch.trigger.cpu().numpy()[0],\n",
    "        trigger_pred=trigger_output.detach().cpu().numpy(),\n",
    "        interaction_point_pred=ip_output.detach().cpu().numpy()\n",
    "    )\n"
   ]
  },
  {
   "cell_type": "code",
   "execution_count": 4,
   "id": "a1a9e077",
   "metadata": {},
   "outputs": [],
   "source": [
    "DEVICE = \"cuda:0\""
   ]
  },
  {
   "cell_type": "code",
   "execution_count": 5,
   "id": "eb5ddd62",
   "metadata": {},
   "outputs": [
    {
     "name": "stdout",
     "output_type": "stream",
     "text": [
      "/disks/disk1/giorgian/old-trainings//tracking_results/agnn/agnn-lr0.0008127498598898657-b24-d64-PReLU-gi1-ln-False-n50000/experiment_2025-03-25_09:52:45/checkpoints/model_checkpoint_017.pth.tar\n",
      "Successfully reloaded!\n"
     ]
    },
    {
     "name": "stderr",
     "output_type": "stream",
     "text": [
      "/tmp/ipykernel_1003450/3142262820.py:13: FutureWarning: You are using `torch.load` with `weights_only=False` (the current default value), which uses the default pickle module implicitly. It is possible to construct malicious pickle data which will execute arbitrary code during unpickling (See https://github.com/pytorch/pytorch/blob/main/SECURITY.md#untrusted-models for more details). In a future release, the default value for `weights_only` will be flipped to `True`. This limits the functions that could be executed during unpickling. Arbitrary objects will no longer be allowed to be loaded via this mode unless they are explicitly allowlisted by the user via `torch.serialization.add_safe_globals`. We recommend you start setting `weights_only=True` for any use case where you don't have full control of the loaded file. Please open an issue on GitHub for any issues related to this experimental feature.\n",
      "  checkpoint = torch.load(checkpoint_file, map_location=torch.device('cpu'))\n"
     ]
    }
   ],
   "source": [
    "# create model and load checkpoint\n",
    "model_result_folder = '/disks/disk1/giorgian/old-trainings//tracking_results/agnn/agnn-lr0.0008127498598898657-b24-d64-PReLU-gi1-ln-False-n50000/experiment_2025-03-25_09:52:45/'\n",
    "config_file = model_result_folder + '/config.pkl'\n",
    "config = pickle.load(open(config_file, 'rb'))\n",
    "data_config = config.get('data')\n",
    "\n",
    "model_config = config.get('model', {})\n",
    "model_config.pop('loss_func')\n",
    "model_config.pop('name')\n",
    "model = GNNSegmentClassifier(**model_config).to(DEVICE)\n",
    "\n",
    "def load_checkpoint(checkpoint_file, model, optimizer=None):\n",
    "    checkpoint = torch.load(checkpoint_file, map_location=torch.device('cpu'))\n",
    "    model.load_state_dict(checkpoint['model'])\n",
    "    if optimizer != None:\n",
    "        optimizer.load_state_dict(checkpoint['optimizer'])\n",
    "        return model, optimizer\n",
    "    return model\n",
    "\n",
    "# load_checkpoint\n",
    "checkpoint_dir = os.path.join(model_result_folder, 'checkpoints')\n",
    "checkpoint_file = sorted([os.path.join(checkpoint_dir, f) for f in os.listdir(checkpoint_dir) if f.startswith('model_checkpoint')])\n",
    "checkpoint_file = checkpoint_file[-1]\n",
    "print(checkpoint_file)\n",
    "model = load_checkpoint(checkpoint_file, model)\n",
    "print('Successfully reloaded!')"
   ]
  },
  {
   "cell_type": "code",
   "execution_count": 6,
   "id": "9e059db7",
   "metadata": {},
   "outputs": [],
   "source": [
    "data_config['batch_size'] = 1\n",
    "data_config['n_train'] = 1\n",
    "data_config['n_valid'] = 34000\n",
    "data_config['load_full_event'] = True\n",
    "data_config['n_workers'] = 1\n",
    "data_config['apply_constraints'] = True\n",
    "#data_config['input_dir2'] = '/ssd1/giorgian/hits-data-august-2022-ctypes/trigger/1'\n",
    "#data_config['force_inputdir2_nontrigger'] = True"
   ]
  },
  {
   "cell_type": "code",
   "execution_count": 7,
   "id": "c13f7fab",
   "metadata": {},
   "outputs": [],
   "source": [
    "train_data_loader, valid_data_loader = get_data_loaders(distributed=False, rank=0, n_ranks=0, **data_config)\n"
   ]
  },
  {
   "cell_type": "code",
   "execution_count": null,
   "id": "0db2a65c-0b24-4937-84f0-a9dd9e9a4a5b",
   "metadata": {},
   "outputs": [],
   "source": []
  },
  {
   "cell_type": "code",
   "execution_count": null,
   "id": "b8b94e1e-300e-48bb-a13b-6d89c0acb418",
   "metadata": {},
   "outputs": [],
   "source": []
  },
  {
   "cell_type": "code",
   "execution_count": 8,
   "id": "a67dcf54-980b-4dc8-b279-1860e87141c1",
   "metadata": {},
   "outputs": [
    {
     "ename": "NameError",
     "evalue": "name 'batch' is not defined",
     "output_type": "error",
     "traceback": [
      "\u001b[0;31m---------------------------------------------------------------------------\u001b[0m",
      "\u001b[0;31mNameError\u001b[0m                                 Traceback (most recent call last)",
      "Cell \u001b[0;32mIn[8], line 1\u001b[0m\n\u001b[0;32m----> 1\u001b[0m batch\u001b[38;5;241m.\u001b[39mparticle_id\n",
      "\u001b[0;31mNameError\u001b[0m: name 'batch' is not defined"
     ]
    }
   ],
   "source": [
    "batch.particle_id"
   ]
  },
  {
   "cell_type": "code",
   "execution_count": 8,
   "id": "13152db5",
   "metadata": {},
   "outputs": [
    {
     "data": {
      "application/vnd.jupyter.widget-view+json": {
       "model_id": "3e0e6e066f254d22a3f990dad1d6f7ad",
       "version_major": 2,
       "version_minor": 0
      },
      "text/plain": [
       "  0%|          | 0/68000 [00:00<?, ?it/s]"
      ]
     },
     "metadata": {},
     "output_type": "display_data"
    },
    {
     "name": "stdout",
     "output_type": "stream",
     "text": [
      "np.sum(good_seg_mask)=np.int64(55) edges.shape=(2461, 2) edges[good_seg_mask.reshape(-1)].shape=(55, 2) phi_slope_max=0.012193355583173944 z0_max=14.220353082111805\n",
      "np.sum(good_seg_mask)=np.int64(40) edges.shape=(3564, 2) edges[good_seg_mask.reshape(-1)].shape=(40, 2) phi_slope_max=0.012193355583173944 z0_max=14.220353082111805\n",
      "np.sum(good_seg_mask)=np.int64(21) edges.shape=(1470, 2) edges[good_seg_mask.reshape(-1)].shape=(21, 2) phi_slope_max=0.012193355583173944 z0_max=14.220353082111805\n"
     ]
    }
   ],
   "source": [
    "for batch in tqdm(valid_data_loader):\n",
    "    # Run the model to get predictions\n",
    "    batch = batch.to(DEVICE)\n",
    "    batch_output, ip_output, trigger_output = model(batch)\n",
    "    \n",
    "    for particle_id  in torch.unique(batch.particle_id_intt):\n",
    "        new_batch = batch.clone()\n",
    "        intt_mask = batch.particle_id_intt != particle_id\n",
    "        mvtx_mask = batch.particle_id_mvtx != particle_id\n",
    "        new_batch.x_intt = new_batch.x_intt[intt_mask]\n",
    "        new_batch.x_mvtx = new_batch.x_mvtx[mvtx_mask]\n",
    "        new_batch.batch_intt = new_batch.batch_intt[intt_mask]\n",
    "        new_batch.batch_mvtx = new_batch.batch_mvtx[mvtx_mask]\n",
    "        keep_intt = (torch.isin(new_batch.edge_index_intt[0], torch.where(intt_mask)[0])) & (torch.isin(new_batch.edge_index_intt[1], torch.where(intt_mask)[0]))\n",
    "        keep_mvtx = (torch.isin(new_batch.edge_index[0], torch.where(intt_mask)[0])) & (torch.isin(new_batch.edge_index[1], torch.where(mvtx_mask)[0]))\n",
    "\n",
    "    break\n",
    "\n"
   ]
  },
  {
   "cell_type": "code",
   "execution_count": 10,
   "id": "a2107ec7-68eb-4678-bdd7-77c6ef285937",
   "metadata": {},
   "outputs": [],
   "source": [
    "r1, phi1, z1 = batch.x_mvtx[:, :3].T.cpu().numpy()\n",
    "r2, phi2, z2 = batch.x_intt[:, :3].T.cpu().numpy()\n",
    "r3, phi3, z3 = batch.x_intt[:, 3:6].T.cpu().numpy()"
   ]
  },
  {
   "cell_type": "code",
   "execution_count": 11,
   "id": "83a01f79-2790-434a-9195-b321d62c399c",
   "metadata": {},
   "outputs": [],
   "source": [
    "r1 *= 3\n",
    "r2 *= 3\n",
    "r3 *= 3\n",
    "z1 *= 3\n",
    "z2 *= 3\n",
    "z3 *= 3"
   ]
  },
  {
   "cell_type": "code",
   "execution_count": 12,
   "id": "59e898c6-767d-4cca-b7c8-5011e386b738",
   "metadata": {},
   "outputs": [
    {
     "data": {
      "text/plain": [
       "<matplotlib.collections.PathCollection at 0x7fb4e07ce030>"
      ]
     },
     "execution_count": 12,
     "metadata": {},
     "output_type": "execute_result"
    },
    {
     "data": {
      "image/png": "[encoded data removed]",
      "text/plain": [
       "<Figure size 640x480 with 1 Axes>"
      ]
     },
     "metadata": {},
     "output_type": "display_data"
    }
   ],
   "source": [
    "plt.scatter(r1*np.cos(phi1), r1*np.sin(phi1))\n",
    "plt.scatter(r2*np.cos(phi2), r2*np.sin(phi2))\n",
    "plt.scatter(r3*np.cos(phi3), r3*np.sin(phi3))"
   ]
  },
  {
   "cell_type": "code",
   "execution_count": 9,
   "id": "1e4c0790-c86f-4ec4-b1bc-302f313c373d",
   "metadata": {},
   "outputs": [
    {
     "data": {
      "text/plain": [
       "0.012193355583173944"
      ]
     },
     "execution_count": 9,
     "metadata": {},
     "output_type": "execute_result"
    }
   ],
   "source": [
    "data_config['phi_slope_max']"
   ]
  },
  {
   "cell_type": "code",
   "execution_count": 48,
   "id": "e5cd2259-5a18-4f18-8a1d-e896241a62d8",
   "metadata": {},
   "outputs": [
    {
     "data": {
      "text/plain": [
       "torch.Size([2, 678])"
      ]
     },
     "execution_count": 48,
     "metadata": {},
     "output_type": "execute_result"
    }
   ],
   "source": [
    "batch.edge_index.shape"
   ]
  },
  {
   "cell_type": "code",
   "execution_count": 43,
   "id": "7360c000-078a-4cfe-ab14-41d411c3e645",
   "metadata": {},
   "outputs": [
    {
     "data": {
      "text/plain": [
       "tensor([[  1,   4],\n",
       "        [  5, 110]], device='cuda:0')"
      ]
     },
     "execution_count": 43,
     "metadata": {},
     "output_type": "execute_result"
    }
   ],
   "source": [
    "batch.edge_index"
   ]
  },
  {
   "cell_type": "code",
   "execution_count": 35,
   "id": "4dfa6a07-909a-48b7-a81a-aad8d860e7b4",
   "metadata": {},
   "outputs": [
    {
     "data": {
      "text/plain": [
       "(tensor([False, False, False, False, False, False,  True,  True,  True,  True,\n",
       "         False,  True,  True,  True,  True, False,  True,  True,  True,  True,\n",
       "         False,  True,  True,  True,  True], device='cuda:0'),\n",
       " tensor([], device='cuda:0', dtype=torch.bool))"
      ]
     },
     "execution_count": 35,
     "metadata": {},
     "output_type": "execute_result"
    }
   ],
   "source": [
    "keep_intt, keep_mvtx"
   ]
  },
  {
   "cell_type": "code",
   "execution_count": 41,
   "id": "fe6c11b9-3e90-40f7-83b4-4f95bd007911",
   "metadata": {},
   "outputs": [
    {
     "data": {
      "text/plain": [
       "Data(edge_index=[2, 2], y=[2], x_intt=[4, 10], x_mvtx=[124, 5], trigger=[1], w=[2], trigger_node=[128], active_node=[131], i=0, filename=[1], interaction_point=[1, 3], event_info=[1], edge_index_intt=[2, 16], batch_intt=[4], batch_mvtx=[124], particle_id_intt=[4], particle_id_mvtx=[124])"
      ]
     },
     "execution_count": 41,
     "metadata": {},
     "output_type": "execute_result"
    }
   ],
   "source": [
    "batch"
   ]
  },
  {
   "cell_type": "code",
   "execution_count": 31,
   "id": "047e9e6e-654d-4717-aa4a-b946c1a26e2a",
   "metadata": {},
   "outputs": [],
   "source": [
    "keep = (torch.isin(new_batch.edge_index_intt[0], torch.where(intt_mask)[0])) & (torch.isin(new_batch.edge_index_intt[1], torch.where(intt_mask)[0]))"
   ]
  },
  {
   "cell_type": "code",
   "execution_count": 32,
   "id": "8d8c1f41-a6ab-4d59-8a59-d3c1c2fb65ca",
   "metadata": {},
   "outputs": [
    {
     "data": {
      "text/plain": [
       "tensor([False, False, False, False, False,  True,  True,  True, False,  True,\n",
       "         True,  True, False,  True,  True,  True], device='cuda:0')"
      ]
     },
     "execution_count": 32,
     "metadata": {},
     "output_type": "execute_result"
    }
   ],
   "source": [
    "keep"
   ]
  },
  {
   "cell_type": "code",
   "execution_count": 33,
   "id": "52a0c373-2f13-4882-84d0-03d664e0567c",
   "metadata": {},
   "outputs": [
    {
     "data": {
      "text/plain": [
       "tensor([[0, 1, 2, 3, 0, 1, 2, 3, 0, 1, 2, 3, 0, 1, 2, 3],\n",
       "        [0, 0, 0, 0, 1, 1, 1, 1, 2, 2, 2, 2, 3, 3, 3, 3]], device='cuda:0')"
      ]
     },
     "execution_count": 33,
     "metadata": {},
     "output_type": "execute_result"
    }
   ],
   "source": [
    "batch.edge_index_intt"
   ]
  },
  {
   "cell_type": "code",
   "execution_count": 30,
   "id": "bd568fad-656a-4327-8d22-100d35f77225",
   "metadata": {},
   "outputs": [
    {
     "data": {
      "text/plain": [
       "tensor([[0, 1, 2, 3, 0, 1, 2, 3, 0, 1, 2, 3, 0, 1, 2, 3],\n",
       "        [0, 0, 0, 0, 1, 1, 1, 1, 2, 2, 2, 2, 3, 3, 3, 3]], device='cuda:0')"
      ]
     },
     "execution_count": 30,
     "metadata": {},
     "output_type": "execute_result"
    }
   ],
   "source": [
    "batch.edge_index_intt"
   ]
  },
  {
   "cell_type": "code",
   "execution_count": 26,
   "id": "21e2ce7b-e8aa-40ca-9193-4f2d4d94925a",
   "metadata": {},
   "outputs": [
    {
     "data": {
      "text/plain": [
       "(tensor([1, 2, 3], device='cuda:0'),)"
      ]
     },
     "execution_count": 26,
     "metadata": {},
     "output_type": "execute_result"
    }
   ],
   "source": [
    "torch.where(intt_mask)"
   ]
  },
  {
   "cell_type": "code",
   "execution_count": 27,
   "id": "9815f4a8-bd58-40ac-9a96-54adbf441447",
   "metadata": {},
   "outputs": [
    {
     "data": {
      "text/plain": [
       "tensor([False,  True,  True,  True], device='cuda:0')"
      ]
     },
     "execution_count": 27,
     "metadata": {},
     "output_type": "execute_result"
    }
   ],
   "source": [
    "intt_mask"
   ]
  },
  {
   "cell_type": "code",
   "execution_count": 21,
   "id": "c30727e1-10e2-43bf-8846-a39fe21dc16e",
   "metadata": {},
   "outputs": [
    {
     "data": {
      "text/plain": [
       "tensor([[0, 1, 2, 3, 0, 1, 2, 3, 0, 1, 2, 3, 0, 1, 2, 3],\n",
       "        [0, 0, 0, 0, 1, 1, 1, 1, 2, 2, 2, 2, 3, 3, 3, 3]], device='cuda:0')"
      ]
     },
     "execution_count": 21,
     "metadata": {},
     "output_type": "execute_result"
    }
   ],
   "source": [
    "new_batch.edge_index_intt"
   ]
  },
  {
   "cell_type": "code",
   "execution_count": 24,
   "id": "cacc2725-9c60-4010-afed-cb09027dc695",
   "metadata": {},
   "outputs": [
    {
     "data": {
      "text/plain": [
       "Data(edge_index=[2, 1], y=[1], x_intt=[3, 10], x_mvtx=[104, 5], trigger=[1], w=[1], trigger_node=[108], active_node=[112], i=0, filename=[1], interaction_point=[1, 3], event_info=[1], edge_index_intt=[2, 16], batch_intt=[4], batch_mvtx=[104], particle_id_intt=[4], particle_id_mvtx=[104])"
      ]
     },
     "execution_count": 24,
     "metadata": {},
     "output_type": "execute_result"
    }
   ],
   "source": [
    "new_batch"
   ]
  },
  {
   "cell_type": "code",
   "execution_count": 15,
   "id": "db275e94-3ea1-4c28-a5f6-422ae32c1ac8",
   "metadata": {},
   "outputs": [
    {
     "ename": "AttributeError",
     "evalue": "'GlobalStorage' object has no attribute 'copy'",
     "output_type": "error",
     "traceback": [
      "\u001b[0;31m---------------------------------------------------------------------------\u001b[0m",
      "\u001b[0;31mAttributeError\u001b[0m                            Traceback (most recent call last)",
      "Cell \u001b[0;32mIn[15], line 1\u001b[0m\n\u001b[0;32m----> 1\u001b[0m batch\u001b[38;5;241m.\u001b[39mcopy()\n",
      "File \u001b[0;32m~/anaconda3/envs/jupyter/lib/python3.12/site-packages/torch_geometric/data/data.py:559\u001b[0m, in \u001b[0;36mData.__getattr__\u001b[0;34m(self, key)\u001b[0m\n\u001b[1;32m    553\u001b[0m \u001b[38;5;28;01mif\u001b[39;00m \u001b[38;5;124m'\u001b[39m\u001b[38;5;124m_store\u001b[39m\u001b[38;5;124m'\u001b[39m \u001b[38;5;129;01mnot\u001b[39;00m \u001b[38;5;129;01min\u001b[39;00m \u001b[38;5;28mself\u001b[39m\u001b[38;5;241m.\u001b[39m\u001b[38;5;18m__dict__\u001b[39m:\n\u001b[1;32m    554\u001b[0m     \u001b[38;5;28;01mraise\u001b[39;00m \u001b[38;5;167;01mRuntimeError\u001b[39;00m(\n\u001b[1;32m    555\u001b[0m         \u001b[38;5;124m\"\u001b[39m\u001b[38;5;124mThe \u001b[39m\u001b[38;5;124m'\u001b[39m\u001b[38;5;124mdata\u001b[39m\u001b[38;5;124m'\u001b[39m\u001b[38;5;124m object was created by an older version of PyG. \u001b[39m\u001b[38;5;124m\"\u001b[39m\n\u001b[1;32m    556\u001b[0m         \u001b[38;5;124m\"\u001b[39m\u001b[38;5;124mIf this error occurred while loading an already existing \u001b[39m\u001b[38;5;124m\"\u001b[39m\n\u001b[1;32m    557\u001b[0m         \u001b[38;5;124m\"\u001b[39m\u001b[38;5;124mdataset, remove the \u001b[39m\u001b[38;5;124m'\u001b[39m\u001b[38;5;124mprocessed/\u001b[39m\u001b[38;5;124m'\u001b[39m\u001b[38;5;124m directory in the dataset\u001b[39m\u001b[38;5;124m'\u001b[39m\u001b[38;5;124ms \u001b[39m\u001b[38;5;124m\"\u001b[39m\n\u001b[1;32m    558\u001b[0m         \u001b[38;5;124m\"\u001b[39m\u001b[38;5;124mroot folder and try again.\u001b[39m\u001b[38;5;124m\"\u001b[39m)\n\u001b[0;32m--> 559\u001b[0m \u001b[38;5;28;01mreturn\u001b[39;00m \u001b[38;5;28mgetattr\u001b[39m(\u001b[38;5;28mself\u001b[39m\u001b[38;5;241m.\u001b[39m_store, key)\n",
      "File \u001b[0;32m~/anaconda3/envs/jupyter/lib/python3.12/site-packages/torch_geometric/data/storage.py:96\u001b[0m, in \u001b[0;36mBaseStorage.__getattr__\u001b[0;34m(self, key)\u001b[0m\n\u001b[1;32m     94\u001b[0m     \u001b[38;5;28;01mreturn\u001b[39;00m \u001b[38;5;28mself\u001b[39m[key]\n\u001b[1;32m     95\u001b[0m \u001b[38;5;28;01mexcept\u001b[39;00m \u001b[38;5;167;01mKeyError\u001b[39;00m:\n\u001b[0;32m---> 96\u001b[0m     \u001b[38;5;28;01mraise\u001b[39;00m \u001b[38;5;167;01mAttributeError\u001b[39;00m(\n\u001b[1;32m     97\u001b[0m         \u001b[38;5;124mf\u001b[39m\u001b[38;5;124m\"\u001b[39m\u001b[38;5;124m'\u001b[39m\u001b[38;5;132;01m{\u001b[39;00m\u001b[38;5;28mself\u001b[39m\u001b[38;5;241m.\u001b[39m\u001b[38;5;18m__class__\u001b[39m\u001b[38;5;241m.\u001b[39m\u001b[38;5;18m__name__\u001b[39m\u001b[38;5;132;01m}\u001b[39;00m\u001b[38;5;124m'\u001b[39m\u001b[38;5;124m object has no attribute \u001b[39m\u001b[38;5;124m'\u001b[39m\u001b[38;5;132;01m{\u001b[39;00mkey\u001b[38;5;132;01m}\u001b[39;00m\u001b[38;5;124m'\u001b[39m\u001b[38;5;124m\"\u001b[39m\n\u001b[1;32m     98\u001b[0m     ) \u001b[38;5;28;01mfrom\u001b[39;00m \u001b[38;5;28;01mNone\u001b[39;00m\n",
      "\u001b[0;31mAttributeError\u001b[0m: 'GlobalStorage' object has no attribute 'copy'"
     ]
    }
   ],
   "source": [
    "batch.copy()"
   ]
  },
  {
   "cell_type": "code",
   "execution_count": 14,
   "id": "7efde149-2028-4aeb-a01d-9ff51be73d0d",
   "metadata": {
    "scrolled": true
   },
   "outputs": [
    {
     "data": {
      "text/plain": [
       "tensor([-2147483648,        -593,        -522], device='cuda:0',\n",
       "       dtype=torch.int32)"
      ]
     },
     "execution_count": 14,
     "metadata": {},
     "output_type": "execute_result"
    }
   ],
   "source": [
    "torch.unique(batch.particle_id_intt)"
   ]
  },
  {
   "cell_type": "code",
   "execution_count": 16,
   "id": "07e5f2be-1d49-4ecc-b361-7ed83c3d91dc",
   "metadata": {},
   "outputs": [
    {
     "data": {
      "text/plain": [
       "Data(edge_index=[2, 15], y=[15], x_intt=[9, 10], x_mvtx=[78, 5], trigger=[1], w=[15], trigger_node=[87], active_node=[93], i=0, filename=[1], interaction_point=[1, 3], event_info=[1], edge_index_intt=[2, 81], batch_intt=[9], batch_mvtx=[78], particle_id_intt=[9], particle_id_mvtx=[78])"
      ]
     },
     "execution_count": 16,
     "metadata": {},
     "output_type": "execute_result"
    }
   ],
   "source": [
    "batch.clone()"
   ]
  },
  {
   "cell_type": "code",
   "execution_count": 11,
   "id": "c51751df-6fbb-4a0d-b707-46d991022d5b",
   "metadata": {},
   "outputs": [],
   "source": [
    "mask = batch.event_info[0].particle_id == 55"
   ]
  },
  {
   "cell_type": "code",
   "execution_count": 12,
   "id": "d7549a00-522d-4ddb-8b30-621a97e685ab",
   "metadata": {},
   "outputs": [
    {
     "data": {
      "text/plain": [
       "array([211., 211., 211.])"
      ]
     },
     "execution_count": 12,
     "metadata": {},
     "output_type": "execute_result"
    }
   ],
   "source": [
    "batch.event_info[0].particle_type[mask]"
   ]
  },
  {
   "cell_type": "code",
   "execution_count": 18,
   "id": "f7870ad0-320e-49cd-b00b-5bcb34ed93d7",
   "metadata": {},
   "outputs": [
    {
     "data": {
      "text/plain": [
       "(206,)"
      ]
     },
     "execution_count": 18,
     "metadata": {},
     "output_type": "execute_result"
    }
   ],
   "source": [
    "batch.event_info[0].particle_id.shape"
   ]
  },
  {
   "cell_type": "code",
   "execution_count": 19,
   "id": "79a9e278-8167-4c78-bb78-818ae307bb59",
   "metadata": {},
   "outputs": [
    {
     "data": {
      "text/plain": [
       "(307,)"
      ]
     },
     "execution_count": 19,
     "metadata": {},
     "output_type": "execute_result"
    }
   ],
   "source": [
    "batch.event_info[0].particle_type.shape"
   ]
  },
  {
   "cell_type": "code",
   "execution_count": null,
   "id": "933a0b05-24bd-4827-b0af-ee25254de22c",
   "metadata": {},
   "outputs": [],
   "source": [
    "batch.event_info[0].particle_type"
   ]
  },
  {
   "cell_type": "code",
   "execution_count": 12,
   "id": "882b1386-9f56-40f7-ad89-811c34783e6c",
   "metadata": {},
   "outputs": [
    {
     "data": {
      "text/plain": [
       "Data(edge_index=[2, 9], y=[9], x_intt=[5, 10], x_mvtx=[68, 5], trigger=[1], w=[9], trigger_node=[73], active_node=[79], i=0, filename=[1], interaction_point=[1, 3], edge_index_intt=[2, 25], batch_intt=[5], batch_mvtx=[68])"
      ]
     },
     "execution_count": 12,
     "metadata": {},
     "output_type": "execute_result"
    }
   ],
   "source": [
    "batch.event_info"
   ]
  },
  {
   "cell_type": "code",
   "execution_count": null,
   "id": "21bdf3a5-330b-4a64-8f20-23ca271c27db",
   "metadata": {},
   "outputs": [],
   "source": [
    "trigger_output"
   ]
  },
  {
   "cell_type": "code",
   "execution_count": 61,
   "id": "15c9c7c9-2ab5-4927-aa25-238383431211",
   "metadata": {},
   "outputs": [
    {
     "data": {
      "text/plain": [
       "tensor([[1.5534e-02, 1.2005e-03, 4.0199e+01]], device='cuda:0')"
      ]
     },
     "execution_count": 61,
     "metadata": {},
     "output_type": "execute_result"
    }
   ],
   "source": [
    "batch.interaction_point"
   ]
  },
  {
   "cell_type": "code",
   "execution_count": null,
   "id": "8bae1fb3",
   "metadata": {},
   "outputs": [],
   "source": []
  },
  {
   "cell_type": "code",
   "execution_count": null,
   "id": "98650014-fd49-4103-86a4-79468a126aaf",
   "metadata": {},
   "outputs": [],
   "source": []
  }
 ],
 "metadata": {
  "kernelspec": {
   "display_name": "Python 3 (ipykernel)",
   "language": "python",
   "name": "python3"
  },
  "language_info": {
   "codemirror_mode": {
    "name": "ipython",
    "version": 3
   },
   "file_extension": ".py",
   "mimetype": "text/x-python",
   "name": "python",
   "nbconvert_exporter": "python",
   "pygments_lexer": "ipython3",
   "version": "3.12.4"
  }
 },
 "nbformat": 4,
 "nbformat_minor": 5
}
