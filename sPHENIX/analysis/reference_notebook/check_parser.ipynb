{
 "cells": [
  {
   "cell_type": "code",
   "execution_count": 1,
   "metadata": {},
   "outputs": [],
   "source": [
    "import numpy as np\n",
    "import ujson\n",
    "import bz2\n",
    "import numpy as np\n",
    "import pprint\n",
    "import glob"
   ]
  },
  {
   "cell_type": "code",
   "execution_count": 2,
   "metadata": {},
   "outputs": [],
   "source": [
    "DATA_DIR = '/disks/disk1/tingtingxuan/HFMLNewFiles-old/Signal'\n",
    "data_dir = sorted(glob.glob(DATA_DIR + '/*.json'))"
   ]
  },
  {
   "cell_type": "code",
   "execution_count": 3,
   "metadata": {},
   "outputs": [],
   "source": [
    "filename = data_dir[3]\n",
    "event_index = 1"
   ]
  },
  {
   "cell_type": "code",
   "execution_count": 4,
   "metadata": {},
   "outputs": [],
   "source": [
    "with open(filename,'rb') as z:\n",
    "    raw_data = ujson.loads(z.read())"
   ]
  },
  {
   "cell_type": "code",
   "execution_count": 5,
   "metadata": {},
   "outputs": [],
   "source": [
    "event = raw_data['Events'][event_index]"
   ]
  },
  {
   "cell_type": "code",
   "execution_count": 6,
   "metadata": {},
   "outputs": [],
   "source": [
    "import sys\n",
    "sys.path.append('..')"
   ]
  },
  {
   "cell_type": "code",
   "execution_count": 7,
   "metadata": {},
   "outputs": [],
   "source": [
    "from parsers.parser_INTT_clustered import cluster_hits_by_event, pair"
   ]
  },
  {
   "cell_type": "code",
   "execution_count": 8,
   "metadata": {},
   "outputs": [],
   "source": [
    "event_ID = event['MetaData']['EventID']\n",
    "trigger = int(event['TruthTriggerFlag']['Flags']['D0toPiKInAcceptance'])\n",
    "ip = np.array(event[\"MetaData\"]['CollisionVertex'])\n",
    "# the output event filename is consist of three part: \n",
    "# the first number represent whether this is a trgger event or not (1: trigger, 0: non-trigger)\n",
    "# the second part is the self-defined file_number (to make they different)\n",
    "# the thrid part is the eventID in json files. (0-999)\n",
    "evtid = 'event%01i%05i%03i'%(trigger, 1, event_ID)\n",
    "\n",
    "# precessing MVTX hits\n",
    "n_MVTXHits = len(event['RawHit']['MVTXHits'])\n",
    "n_INTTHits = len(event['RawHit']['INTTHITS'])\n",
    "if n_MVTXHits == 0:\n",
    "    empty_event += 1\n",
    "    print('no MVTX hits here!')\n",
    "elif n_INTTHits == 0:\n",
    "    empty_event += 1\n",
    "    print('no INTT hits here!')\n",
    "\n",
    "\n",
    "pid_dic = {}\n",
    "p_dic = {-1: {'OriginVertexPoint': None, 'TrackMomentum': None, 'TrackEnergy':None, 'ParticleTypeID':None, 'TriggerTrackFlag':None, 'is_complete_trk':None}}\n",
    "pid_dic['MVTX'] = {}\n",
    "pid_dic['INTT'] = {}\n",
    "truth_tracks = event['TruthHit']['TruthTracks']\n",
    "\n",
    "pos321 = []\n",
    "neg321 = []\n",
    "pos211 = []\n",
    "neg211 = []\n",
    "for track in truth_tracks:\n",
    "    track['trigger_track_flag'] = False\n",
    "    if track['ParticleTypeID'] == 321:\n",
    "        pos321.append(track)\n",
    "    elif track['ParticleTypeID'] == -321:\n",
    "        neg321.append(track)\n",
    "    elif track['ParticleTypeID'] == 211:\n",
    "        pos211.append(track)\n",
    "    elif track['ParticleTypeID'] == -211:\n",
    "        neg211.append(track)\n",
    "valid_trigger_flag = pair(pos321, neg211, ip) or pair(neg321, pos211, ip)\n",
    "\n",
    "for truth_track in truth_tracks:\n",
    "    is_complete_trk = True\n",
    "    pid = truth_track['TrackSequenceInEvent']\n",
    "    p_dic[pid] = {'OriginVertexPoint': truth_track['OriginVertexPoint'], 'TrackMomentum': truth_track['TrackMomentum'], 'TrackEnergy': truth_track['TrackEnergy'], 'ParticleTypeID': truth_track['ParticleTypeID'], 'TriggerTrackFlag': truth_track['trigger_track_flag']}\n",
    "    for hit_id in truth_track['MVTXHitID'][0]:\n",
    "        pid_dic['MVTX'][hit_id] = pid\n",
    "    for hit_id in truth_track['INTTHitID'][0]:\n",
    "        pid_dic['INTT'][hit_id + n_MVTXHits] = pid\n",
    "    if len(truth_track['MVTXHitID'][0])==0 or len(truth_track['INTTHitID'][0])==0:\n",
    "        is_complete_trk = False\n",
    "    p_dic[pid]['is_complete_trk'] = is_complete_trk\n",
    "hits_df = cluster_hits_by_event(event, pid_dic, p_dic)"
   ]
  },
  {
   "cell_type": "code",
   "execution_count": 9,
   "metadata": {},
   "outputs": [
    {
     "data": {
      "text/plain": [
       "array([  0,   1,   2,   3,   4,   5,   6,   7,   8,   9,  10,  11,  12,\n",
       "        13,  29,  30,  31,  32,  33,  38,  39,  40,  50,  51,  52,  53,\n",
       "        54,  55,  56,  57,  58,  59,  60,  61,  62,  63,  64,  65,  77,\n",
       "        78,  79,  80,  92,  93,  94,  95,  96,  97,  98,  99, 100, 101,\n",
       "       114, 115, 116, 117, 118, 119, 120, 121, 122, 123, 124, 125, 126,\n",
       "       136, 137, 138, 139, 140, 141, 142, 143, 144, 145, 146, 147, 148,\n",
       "       149, 150, 151, 152, 153, 154, 155, 156, 157, 169, 170, 171, 172,\n",
       "       173, 174, 175])"
      ]
     },
     "execution_count": 9,
     "metadata": {},
     "output_type": "execute_result"
    }
   ],
   "source": [
    "np.array(sorted(pid_dic['MVTX'].keys()))"
   ]
  },
  {
   "cell_type": "code",
   "execution_count": 10,
   "metadata": {},
   "outputs": [],
   "source": [
    "MVTXHits = event['RawHit']['MVTXHits']\n",
    "INTTHits = event['RawHit']['INTTHITS']\n",
    "tracks = event['TruthHit']['TruthTracks']"
   ]
  },
  {
   "cell_type": "code",
   "execution_count": 11,
   "metadata": {},
   "outputs": [],
   "source": [
    "hits = []\n",
    "track_id = []\n",
    "for hit in MVTXHits:\n",
    "    hits.append(hit['Coordinate'])\n",
    "for hit in INTTHits:\n",
    "    hits.append(hit['Coordinate'])\n",
    "hits = np.array(hits)\n",
    "\n",
    "mvtx_track_id = (-1) * np.ones(len(MVTXHits))\n",
    "intt_track_id = (-1) * np.ones(len(INTTHits))\n",
    "for track in tracks:\n",
    "    # track['MVTXHitID'][0] = [i for i in track['MVTXHitID'][0] if i < len(MVTXHits)]\n",
    "    # track['INTTHitID'][0] = [i for i in track['INTTHitID'][0] if i < len(INTTHits)]\n",
    "    mvtx_track_id[track['MVTXHitID'][0]] = track['TrackID']\n",
    "    intt_track_id[track['INTTHitID'][0]] = track['TrackID']"
   ]
  },
  {
   "cell_type": "code",
   "execution_count": 12,
   "metadata": {},
   "outputs": [
    {
     "name": "stdout",
     "output_type": "stream",
     "text": [
      "[30. 30. 50. 50. 50. 50. 50. 54. 54. 54. 54. 54. 54. 54. -1. -1. -1. -1.\n",
      " -1. -1. -1. -1. -1. -1. -1. -1. -1. -1. -1. 49. 49. 49. 22. 22. -1. -1.\n",
      " -1. -1.  4.  4.  4. -1. -1. -1. -1. -1. -1. -1. -1. -1. 31. 31. 30. 30.\n",
      " 30. 50. 50. 50. 50. 54. 54. 54. 54. 54. 54. 54. -1. -1. -1. -1. -1. -1.\n",
      " -1. -1. -1. -1. -1. 23. 23. 23. 23. -1. -1. -1. -1. -1. -1. -1. -1. -1.\n",
      " -1. -1. 49. 49. 49. 22. 22. 22. 22. 22. 22.  4. -1. -1. -1. -1. -1. -1.\n",
      " -1. -1. -1. -1. -1. -1. 48. 48. 48. 31. 31. 31. 31. 54. 54. 54. 54. 54.\n",
      " 54. -1. -1. -1. -1. -1. -1. -1. -1. -1. 30. 30. 30. 50. 50. 50. 50. 23.\n",
      " 23. 23. 23. 49. 49. 22. 22. 22. 22. 22.  4.  4.  4.  4. -1. -1. -1. -1.\n",
      " -1. -1. -1. -1. -1. -1. -1. 48. 48. 48. 31. 31. 31. 31.] [50. 23. 23.  4.  4. -1. -1. -1. -1. 48. 48. 31. 31. -1. -1. -1. -1. -1.\n",
      " -1. 30. 49. 22. -1. -1. -1. -1. -1. 30. 30. 50. 50.  4. -1. -1. 48. 54.\n",
      " 54. 23. 23. 49. -1. -1. -1.]\n"
     ]
    }
   ],
   "source": [
    "print(mvtx_track_id, intt_track_id)"
   ]
  },
  {
   "cell_type": "code",
   "execution_count": null,
   "metadata": {},
   "outputs": [],
   "source": []
  },
  {
   "cell_type": "code",
   "execution_count": null,
   "metadata": {},
   "outputs": [],
   "source": []
  }
 ],
 "metadata": {
  "interpreter": {
   "hash": "31f2aee4e71d21fbe5cf8b01ff0e069b9275f58929596ceb00d14d90e3e16cd6"
  },
  "kernelspec": {
   "display_name": "Python 3.8.10 64-bit",
   "language": "python",
   "name": "python3"
  },
  "language_info": {
   "codemirror_mode": {
    "name": "ipython",
    "version": 3
   },
   "file_extension": ".py",
   "mimetype": "text/x-python",
   "name": "python",
   "nbconvert_exporter": "python",
   "pygments_lexer": "ipython3",
   "version": "3.8.12"
  },
  "orig_nbformat": 4
 },
 "nbformat": 4,
 "nbformat_minor": 2
}
