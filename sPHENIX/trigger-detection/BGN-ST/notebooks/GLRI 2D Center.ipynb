{
 "cells": [
  {
   "cell_type": "code",
   "execution_count": 1,
   "id": "e5e07f95",
   "metadata": {},
   "outputs": [
    {
     "name": "stdout",
     "output_type": "stream",
     "text": [
      "/home1/giorgian/projects/trigger-detection-pipeline/sPHENIX/trigger-detection/BGN-ST\n"
     ]
    }
   ],
   "source": [
    "%cd /home1/giorgian/projects/trigger-detection-pipeline/sPHENIX/trigger-detection/BGN-ST"
   ]
  },
  {
   "cell_type": "code",
   "execution_count": 2,
   "id": "ac12ae7b",
   "metadata": {},
   "outputs": [],
   "source": [
    "import torch\n",
    "import pickle\n",
    "from dataloaders import get_data_loaders\n",
    "import matplotlib.pyplot as plt\n",
    "from utils.log import load_checkpoint\n",
    "from collections import defaultdict\n",
    "from itertools import islice\n",
    "from tqdm.notebook import tqdm\n",
    "from models.Bipartite_Attention_gLRI2d import Bipartite_Attention as Model\n",
    "from models.Bipartite_Attention_gLRI2d import get_approximate_radii\n",
    "import numpy as np\n",
    "import matplotlib.colors as colors\n",
    "from sklearn.cluster import KMeans, OPTICS\n",
    "from scipy.stats import iqr\n",
    "from numpy.linalg import inv"
   ]
  },
  {
   "cell_type": "code",
   "execution_count": 3,
   "id": "8f3d0ff6",
   "metadata": {},
   "outputs": [],
   "source": [
    "# α=0.3\n",
    "config_file_path = 'train_results/biatt-glri-2d/experiment_2023-05-05_01:17:41/config.pkl'\n",
    "with open(config_file_path, 'rb') as f:\n",
    "    config = pickle.load(f)"
   ]
  },
  {
   "cell_type": "code",
   "execution_count": 4,
   "id": "2aa07472",
   "metadata": {},
   "outputs": [
    {
     "data": {
      "text/plain": [
       "0.0008725235536466964"
      ]
     },
     "execution_count": 4,
     "metadata": {},
     "output_type": "execute_result"
    }
   ],
   "source": [
    "config['lri']['sigma']"
   ]
  },
  {
   "cell_type": "code",
   "execution_count": 5,
   "id": "7a21d63f",
   "metadata": {},
   "outputs": [
    {
     "data": {
      "text/plain": [
       "0.007643936757938985"
      ]
     },
     "execution_count": 5,
     "metadata": {},
     "output_type": "execute_result"
    }
   ],
   "source": [
    "config['lri']['beta']"
   ]
  },
  {
   "cell_type": "code",
   "execution_count": 6,
   "id": "4806d13a",
   "metadata": {},
   "outputs": [
    {
     "data": {
      "text/plain": [
       "{'aggregator_activation': 'softmax',\n",
       " 'bn': True,\n",
       " 'hidden_activation': 'PReLU',\n",
       " 'ln': True,\n",
       " 'num_classes': 2,\n",
       " 'num_features': 32,\n",
       " 'recalculate_hits_mean': True,\n",
       " 'self_split': False,\n",
       " 'use_cholesky': False,\n",
       " 'layers_spec': [[64, 8], [64, 8], [64, 8], [64, 8]]}"
      ]
     },
     "execution_count": 6,
     "metadata": {},
     "output_type": "execute_result"
    }
   ],
   "source": [
    "config['model']"
   ]
  },
  {
   "cell_type": "code",
   "execution_count": 7,
   "id": "2ecea8a0",
   "metadata": {},
   "outputs": [],
   "source": [
    "config['data']['use_center'] = True"
   ]
  },
  {
   "cell_type": "code",
   "execution_count": 8,
   "id": "fb2f8101",
   "metadata": {},
   "outputs": [],
   "source": [
    "dconfig = config['data']\n",
    "dconfig['use_trigger'] = True\n",
    "dconfig['use_nontrigger'] = False\n",
    "train_data, val_data, test_data = get_data_loaders(**dconfig)"
   ]
  },
  {
   "cell_type": "code",
   "execution_count": 9,
   "id": "a46c9954",
   "metadata": {
    "scrolled": true
   },
   "outputs": [],
   "source": [
    "DEVICE = 'cuda:1'\n",
    "mconfig = config['model']\n",
    "model = Model(**mconfig)\n",
    "model = model.to(DEVICE)"
   ]
  },
  {
   "cell_type": "code",
   "execution_count": 10,
   "id": "3c79326f",
   "metadata": {},
   "outputs": [],
   "source": [
    "def get_n_hits(X):\n",
    "    hits = X[..., :15].reshape(X.shape[0], X.shape[1], 5, 3)\n",
    "    good_hits_mask = torch.any(hits != 0, dim=-1)\n",
    "    return good_hits_mask, torch.sum(good_hits_mask, dim=-1)"
   ]
  },
  {
   "cell_type": "code",
   "execution_count": 11,
   "id": "06b5880b",
   "metadata": {},
   "outputs": [
    {
     "data": {
      "application/vnd.jupyter.widget-view+json": {
       "model_id": "750baf0451a84451ba03526d335d9e12",
       "version_major": 2,
       "version_minor": 0
      },
      "text/plain": [
       "  0%|          | 0/100 [00:00<?, ?it/s]"
      ]
     },
     "metadata": {},
     "output_type": "display_data"
    },
    {
     "name": "stdout",
     "output_type": "stream",
     "text": [
      "torch.Size([512, 47, 32])\n",
      "tensor([1.7865, 3.0729, 3.2968, 1.3612, 0.7063, 0.9043, 3.2469, 1.9044, 2.2479],\n",
      "       device='cuda:1')\n",
      "tensor([1.7865, 3.0729, 3.2968, 1.3612, 0.7063, 0.9043, 3.2469, 1.9044, 2.2479],\n",
      "       device='cuda:1')\n",
      "tensor([[-177.0583,   27.2268],\n",
      "        [-301.9870,  -56.8310],\n",
      "        [-178.8676,  276.9480],\n",
      "        [-135.3499,   14.3419],\n",
      "        [  34.3570,   61.6838],\n",
      "        [  18.0757,   88.6076],\n",
      "        [ 281.0312, -162.6324],\n",
      "        [   3.2940, -190.4112],\n",
      "        [-173.0253, -143.4913]], device='cuda:1')\n",
      "tensor([[-177.0584,   27.2268],\n",
      "        [-301.9881,  -56.8312],\n",
      "        [-178.8660,  276.9455],\n",
      "        [-135.3499,   14.3419],\n",
      "        [  34.3569,   61.6836],\n",
      "        [  18.0757,   88.6076],\n",
      "        [ 281.0330, -162.6335],\n",
      "        [   3.2940, -190.4112],\n",
      "        [-173.0255, -143.4915]], device='cuda:1')\n"
     ]
    }
   ],
   "source": [
    "N_BATCHES = 100\n",
    "for batch in tqdm(islice(val_data, 0, N_BATCHES), total=N_BATCHES):\n",
    "    mask = torch.zeros(batch.track_vector.shape[:-1])\n",
    "    n = batch.n_tracks[0]\n",
    "    for i, n in enumerate(batch.n_tracks):\n",
    "        mask[i, :n] = 1\n",
    "        \n",
    "    mask = mask.to(DEVICE)\n",
    "    track_vector = batch.track_vector.to(DEVICE)\n",
    "    print(track_vector.shape)\n",
    "    good_hits_mask, n_hits = get_n_hits(track_vector)\n",
    "    e_v = torch.zeros((batch.track_vector.shape[0], batch.track_vector.shape[1], 15)).to(DEVICE)\n",
    "    radii, center = get_approximate_radii(track_vector[..., :15], n_hits, good_hits_mask, False)\n",
    "    print(track_vector[0, :n, 28])\n",
    "    print(radii[0, :n])\n",
    "    print(track_vector[0, :n, 29:31])\n",
    "    print(center[0, :n])\n",
    "    break"
   ]
  },
  {
   "cell_type": "code",
   "execution_count": null,
   "id": "7074c959",
   "metadata": {},
   "outputs": [],
   "source": []
  }
 ],
 "metadata": {
  "kernelspec": {
   "display_name": "Python 3 (ipykernel)",
   "language": "python",
   "name": "python3"
  },
  "language_info": {
   "codemirror_mode": {
    "name": "ipython",
    "version": 3
   },
   "file_extension": ".py",
   "mimetype": "text/x-python",
   "name": "python",
   "nbconvert_exporter": "python",
   "pygments_lexer": "ipython3",
   "version": "3.10.9"
  }
 },
 "nbformat": 4,
 "nbformat_minor": 5
}
